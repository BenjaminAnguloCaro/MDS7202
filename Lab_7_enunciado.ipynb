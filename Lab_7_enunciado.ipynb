{
  "cells": [
    {
      "cell_type": "markdown",
      "metadata": {
        "id": "_Tgm8mCA9Dp3"
      },
      "source": [
        "# Laboratorio 7: Clasificación 🤗\n",
        "\n",
        "<center><strong>MDS7202: Laboratorio de Programación Científica para Ciencia de Datos</strong></center>\n"
      ]
    },
    {
      "cell_type": "markdown",
      "metadata": {
        "id": "11Kc_ibM9GXH"
      },
      "source": [
        "### Cuerpo Docente:\n",
        "\n",
        "- Profesores: Ignacio Meza, Sebastián Tinoco\n",
        "- Auxiliares: Catherine Benavides y Consuelo Rojas\n",
        "- Ayudante: Nicolás Ojeda, Eduardo Moya"
      ]
    },
    {
      "cell_type": "markdown",
      "metadata": {
        "id": "u9dUSltr9JrN"
      },
      "source": [
        "### Equipo: SUPER IMPORTANTE - notebooks sin nombre no serán revisados\n",
        "\n",
        "- Nombre de alumno 1: Vanessa González\n",
        "- Nombre de alumno 2: Benjamín Angulo"
      ]
    },
    {
      "cell_type": "markdown",
      "metadata": {
        "id": "YBa48PDF9OHw"
      },
      "source": [
        "### Temas a tratar\n",
        "- Clasificación en problemas desbalanceados\n",
        "- Lightgbm y xgboost\n",
        "- Pipelines"
      ]
    },
    {
      "cell_type": "markdown",
      "metadata": {
        "id": "mkhnnMx49Qrh"
      },
      "source": [
        "### Reglas:\n",
        "\n",
        "- **Grupos de 2 personas**\n",
        "- Cualquier duda fuera del horario de clases al foro. Mensajes al equipo docente serán respondidos por este medio.\n",
        "- Prohibidas las copias.\n",
        "- Pueden usar cualquer matrial del curso que estimen conveniente.\n",
        "- Código que no se pueda ejecutar, no será revisado."
      ]
    },
    {
      "cell_type": "markdown",
      "metadata": {
        "id": "sxzJ48Vv8quO"
      },
      "source": [
        "\n",
        "\n",
        "### Objetivos principales del laboratorio\n",
        "- Comprender cómo trabajar con problemas de clasificación con clases desbalanceadas.\n",
        "- Aplicar los modelos lightgbm y xgboost.\n",
        "- Practicar Pipelines"
      ]
    },
    {
      "cell_type": "markdown",
      "metadata": {
        "id": "k-ao0mOU64Ru"
      },
      "source": [
        "# Parte Teórica [12 puntos]\n",
        "\n",
        "\n"
      ]
    },
    {
      "cell_type": "markdown",
      "metadata": {
        "id": "ApXKwPDmxcEV"
      },
      "source": [
        "1. Explique cuál es la diferencia entre los datos de entrenamiento y validación. [1 punto]\n",
        "\n",
        "2. Explique cuál es el principal desafío al trabajar problemas de clasificación con data no supervisada. [1 punto]\n",
        "\n",
        "3. Explique en **sus palabras** qué es la matriz de confusión y para qué se utiliza. [1 puntos]\n",
        "\n",
        "4. Escriba la fórmula de las siguientes métricas y explique con **sus palabras** cómo se interpretan. [1 punto cada uno]\n",
        "\n",
        "  * Accuracy\n",
        "  * Precision\n",
        "  * Recall\n",
        "  * F1 score\n",
        "\n",
        "5. Explique qué métrica recomendaría para los siguientes contextos de clasificación. [1 punto cada uno]\n",
        "\n",
        "  * Mantenimiento predictivo de fallas de maquinaria pesada en la industria minera.  \n",
        "  * Detección de enfermedades altamente contagiosas.\n",
        "  * Aprobación de créditos de alto riesgo.\n",
        "  * Detección de crímenes.\n",
        "\n",
        "6. Explique qué es la calibración de modelos y para qué se usa. [1 punto]\n"
      ]
    },
    {
      "cell_type": "markdown",
      "metadata": {
        "id": "Yy4QMWD8-FPk"
      },
      "source": [
        "**Respuesta:**"
      ]
    },
    {
      "cell_type": "markdown",
      "metadata": {
        "id": "QYFdD1aK-ICa"
      },
      "source": [
        "1.- La diferencia entre estos radica en que los datos de entrenamiento son datos tomados a partir de una partición de un dataset original, siendo este conjunto el más grande en comparación al de validación, ya que se usará para entrenar el modelo de Machine Learning. En cambio los datos de validación son utilizados para poder comprobar si el modelo está funcionando correctamente, ya que con estos se realizarán predicciones y se comprobará que los resultados predichos sean coherentes con los resultados reales.\n",
        "\n",
        "2.- Los desafíos más importantes para este tipo de problemas son las evaluaciones de rendimiento, ya que al no haber clases definidas formalmente al momento de entrenar no se pueden usar las métricas que se usan en el entrenamiento con datos supervisados como podrían ser el accuracy, precision o recall.\n",
        "\n",
        "3.- La matriz de confusión es una herramienta que permite visualizar las etiquetas predichas por un modelo de aprendizaje automático vs las etiquetas reales de la data. De este modo se puede tener una mejor perspectiva de como funciona el modelo al ver su funcionamiento con la data de validación sin necesariamente usar las métricas clásicas como puede ser el recall o precision.\n",
        "\n",
        "4.- **Accuracy**:   $accuracy = \\frac{TP + TN}{TP + TN + FP + FN}$   El accuracy entrega la proporción de datos predecidos correctamente con respecto al total de los datos.\n",
        "\n",
        "**Precision**:   $precision = \\frac{TP}{TP + FP}$   La precision entrega la proporción de datos con etiqueta positiva predecidos correctamente de todos los datos predecidos como positivos.\n",
        "\n",
        "**Recall**:    $recall = \\frac{TP}{TP + FN}$    El recall entrega la proporción de datos con etiqueta positiva predichos correctamente de todos los datos con etiqueta positiva real.\n",
        "\n",
        "**F1 score**:    $F1 score = \\frac{2 \\cdot precision \\cdot recall}{precision + recall}$     El F1 score mide el balance entre precision y recall, por lo que un valor alto de este implica una buena predicción del modelo de las clases positivas.\n",
        "\n",
        "5.-\n",
        "\n",
        "**Mantenimiento predictivo de fallas de maquinaria pesada en la industria minera**: Cómo se espera poder predecir de manera correcta los mantenimientos la mejor métrica sería le recall, ya que lo más perjudicial para este modelo son los falsos negativos, ya que implicaría que la maquinaría podría fallar antes del mantenimiento. Así mismo, los falsos positivos podrían significar un problema por gastos innecesarios en mantención, pero el peso que tiene esto es menor al que tiene los falsos negativos. De todos modos la precision sería una métrica importante aunque menos que el recall.\n",
        "\n",
        "**Detección de enfermedades altamente contagiosas**: Para este caso es importante poder predecir todos los casos positivos, por lo que la prioridad sería poder tener la menor cantidad de falsos negativos para así poder evitar posibles contagios futuros. De este modo la métrica que tendría que tener un mejor valor para este modelo es el recall para así tener menos falsos negativos.\n",
        "\n",
        "**Aprobación de créditos de alto riesgo**: Para este caso el principal peligro es el aprobar créditos que no debiesen ser aprobados. De este modo lo que se busca es un modelo con la menor cantidad de falsos positivos, por lo que la métrica más importante para este caso es la precision.\n",
        "\n",
        "**Detección de crímenes**: En este caso es importante detectar la mayor cantidad de crímenes reales, por lo que el mayor interés es disminuir la cantidad de falsos negativos. De este modo la métrica más importante para este modelo sería el recall.\n",
        "\n",
        "6.- La calibración consiste en el reajuste de probabilidades predichas para que correspondan con la proporción de casos reales observados. De este modo se busca realizar correcciones para ciertas predicciones cuando un modelo las subestima o las sobrestima. La calibración se usa para cuando se quiere emplear las probabilidades asociadas a la predicción en algún aspecto. Más allá de esto la calibración no tiene mucho valor, ya que no aporta a mejorar las predicciones de un modelo, sino que al contrario puede llegar a reducir el accuracy del mismo.\n",
        "*Escriba su respuesta aquí*"
      ]
    },
    {
      "cell_type": "markdown",
      "metadata": {
        "id": "Jg_9jBqtgRDO"
      },
      "source": [
        "# Parte práctica [48 puntos]"
      ]
    },
    {
      "cell_type": "markdown",
      "metadata": {
        "id": "slm6yRfdfZwS"
      },
      "source": [
        "<p align=\"center\">\n",
        "  <img src=\"https://drive.google.com/uc?export=view&id=1BnO4tyh3vM2P199Ec9s3JjngQ4qQ9seP\"\n",
        "\" width=\"300\">\n",
        "</p>\n",
        "\n",
        "\n",
        "Tras el trágico despido de la mítica mascota de Maipú, Renacín decide adentrarse como consultor en el mercado futbolero, el cuál (para variar...) está cargado en especulaciones.\n",
        "\n",
        "Como su principal tarea será asesorar a los directivos de los clubes sobre cuál jugador comprar y cuál no, Renacín desea generar modelos predictivos que evaluén distintas características de los jugadores; todo con el fin de tomar decisiones concretas basadas en los datos.\n",
        "\n",
        "Sin embargo, su condición de corporeo le impidió tomar la versión anterior de MDS7202, por lo que este motivo Renacín contrata a su equipo para lograr su objetivo final. Dado que aún tiene fuertes vínculos con la dirección de deportes de la municipalidad, el corporeo le entrega base de datos con las estadísticas de cada jugador para que su equipo empieze a trabajar ya con un dataset listo para ser usado.\n"
      ]
    },
    {
      "cell_type": "markdown",
      "metadata": {
        "id": "jnbx7RwHfkue"
      },
      "source": [
        "**Los Datos**\n",
        "\n",
        "Para este laboratorio deberán trabajar con el csv `statsplayers.csv`, donde deberán aplicar algoritmos de aprendizaje supervisado de clasificación en base a características que describen de jugadores de fútbol.\n",
        "\n",
        "Para comenzar cargue el dataset señalado y a continuación vea el reporte **`Player_Stats_Report.html`** (adjunto en la carpeta del enunciado) que describe las características principales del `DataFrame`."
      ]
    },
    {
      "cell_type": "code",
      "execution_count": 1,
      "metadata": {
        "colab": {
          "base_uri": "https://localhost:8080/"
        },
        "id": "mX6iwOWUfrp_",
        "outputId": "66aa9bec-9e19-44c5-aed5-44a1cc23666b"
      },
      "outputs": [
        {
          "name": "stdout",
          "output_type": "stream",
          "text": [
            "Ignorando conexión drive-colab\n"
          ]
        }
      ],
      "source": [
        "# Si usted está utilizando Colabolatory le puede ser útil este código para cargar los archivos.\n",
        "try:\n",
        "    from google.colab import drive\n",
        "    drive.mount(\"/content/drive\")\n",
        "    path = 'Dirección donde tiene los archivos en el Drive'\n",
        "except:\n",
        "    print('Ignorando conexión drive-colab')"
      ]
    },
    {
      "cell_type": "code",
      "execution_count": 6,
      "metadata": {
        "id": "qJDTr1H1fAy2"
      },
      "outputs": [],
      "source": [
        "import pandas as pd\n",
        "\n",
        "df = pd.read_csv(\"stats_players.csv\")"
      ]
    },
    {
      "cell_type": "markdown",
      "metadata": {
        "id": "JdcucZhp-M_0"
      },
      "source": [
        "## 1. Predicción de Seleccionados Nacionales [14 puntos]"
      ]
    },
    {
      "cell_type": "markdown",
      "metadata": {
        "id": "HXrewqxjjzvA"
      },
      "source": [
        "<p align=\"center\">\n",
        "  <img src=\"https://www.futuro.cl/wp-content/uploads/2016/06/chile-argentina-meme-12.jpg\" width=\"300\">\n",
        "</p>\n",
        "\n"
      ]
    },
    {
      "cell_type": "markdown",
      "metadata": {
        "id": "Qfre1YsSDqla"
      },
      "source": [
        "### 1.1 Preprocesamiento [5 puntos]"
      ]
    },
    {
      "cell_type": "markdown",
      "metadata": {
        "id": "IR00u4HTDtxv"
      },
      "source": [
        "Tareas:\n",
        "\n",
        "1. Genere los labels para la clasificación binaria en una variable llamada `label`. Para esto, trabaje sobre el atributo `National_Position` suponiendo que los valores nulos son jugadores no seleccionados para representar a su país. [Sin puntaje]\n",
        "\n",
        "2. Hecho esto, ¿cuántos se tienen ejemplos por cada clase? Comente lo que observa. [1 punto]\n",
        "\n",
        "3. Genere un `ColumnTransformer` en donde especifique las transformaciones que hay que realizar para cada columna (por ejemplo StandarScaler, MinMaxScaler, OneHotEncoder, etc...) para que puedan ser utilizadas correctamente por el modelo predictivo y guárdelo una variable llamada `col_transformer`. [2 puntos]\n",
        "\n",
        "4. Comente y justifique las transformaciones elegidas sobre cada una de las variables (para esto utilice el material `Player_Stats_Report.html` que viene en el zip del lab), al igual que las transformaciones aplicadas. [2 puntos]"
      ]
    },
    {
      "cell_type": "markdown",
      "metadata": {
        "id": "tgAk0kbPjEsx"
      },
      "source": [
        "**Respuesta:**"
      ]
    },
    {
      "cell_type": "code",
      "execution_count": 7,
      "metadata": {
        "colab": {
          "base_uri": "https://localhost:8080/"
        },
        "id": "JhC2sZj9dSI1",
        "outputId": "c11f0794-4c5b-4b97-d721-38ab82b9f1b1"
      },
      "outputs": [
        {
          "name": "stdout",
          "output_type": "stream",
          "text": [
            "label\n",
            "0    16513\n",
            "1     1075\n",
            "Name: count, dtype: int64\n"
          ]
        }
      ],
      "source": [
        "from sklearn.compose import ColumnTransformer\n",
        "from sklearn.preprocessing import OneHotEncoder, StandardScaler, MinMaxScaler\n",
        "\n",
        "df[\"label\"] = df[\"National_Position\"].notnull().astype(int) # Se crea el atributo binario \"label\"\n",
        "\n",
        "class_count = df[\"label\"].value_counts() # Se hace un conteo de la cantidad de datos por clase del atributo \"label\"\n",
        "print(class_count)\n",
        "\n",
        "categorical_data = [\"Club_Position\", \"Preffered_Foot\", \"Work_Rate\"] # Se crea una lista con las variables categoricas, eliminando las que no aportan información como el nombre, nacionalidad y national position.\n",
        "numerical_data_standard = [\"Height\", \"Weight\", \"Age\", \"Ball_Control\", \"Dribbling\", \"Marking\", \"Sliding_Tackle\", \"Standing_Tackle\", \"Aggression\", \"Reactions\", \"Interceptions\", \"Vision\", \"Composure\", \"Crossing\", \"Short_Pass\", \"Long_Pass\", \"Acceleration\", \"Speed\", \"Stamina\", \"Strength\", \"Balance\", \"Agility\", \"Jumping\", \"Heading\", \"Shot_Power\", \"Finishing\", \"Long_Shots\", \"Curve\", \"Freekick_Accuracy\", \"Penalties\", \"Volleys\"] # Se crea una lista con las variables numéricas con las que se usará la transformación StandardScaler\n",
        "numerical_data_minmax = [\"Weak_foot\", \"Skill_Moves\"] # Se crea una lista con las variables numéricas con las que se usará la transformación MinMaxScaler\n",
        "\n",
        "col_transformer = ColumnTransformer(\n",
        "    transformers=[(\"categorical\", OneHotEncoder(), categorical_data),\n",
        "                  (\"numerical_standard\", StandardScaler(), numerical_data_standard),\n",
        "                  (\"numerical_minmax\", MinMaxScaler(), numerical_data_minmax)]) # Se crea el ColumnTransformer con las transformaciones esperadas para cada conjunto de variables"
      ]
    },
    {
      "cell_type": "markdown",
      "metadata": {
        "id": "SyRlCe1TfAy4"
      },
      "source": [
        "2.- Se puede notar una gran disparidad entre ambas clases, lo que puede generar problemas a futuro en las predicciones de estas mismas que se buscan realizar.\n",
        "\n",
        "4.- Se decide usar OneHotEncoder para las variables categóricas debido a que este permite convertir estas variables en arrays numéricos que podrán ser entendidos por los modelos. Además se decide usar StandardScaler para todas las variables numéricas que tienen una distribución gaussiana, con el fin de normalizarlas y así tener valores más concretos para los modelos. Por último en el caso de las variables numéricas \"Weak_foot\" y \"Skill_Moves\" se decide usar MinMaxScaler dada su distribución, ya que es una buena forma de acotar los valores de estos a [0,1], ya que no hay presencia de outliers y así se simplifica el procesamiento para el modelo."
      ]
    },
    {
      "cell_type": "markdown",
      "metadata": {
        "id": "Bv1HOfcNEPF4"
      },
      "source": [
        "### 1.2 Entrenamiento [3 puntos]"
      ]
    },
    {
      "cell_type": "markdown",
      "metadata": {
        "id": "whPkuXTUBvB0"
      },
      "source": [
        "Ahora, vamos a entrenar los pipelines generados en los pasos anteriores. Para esto, debe realizar las siguientes tareas:\n",
        "\n",
        "1. Separe los datos de entrenamiento en un conjunto de entrenamiento y de prueba  (la proporción queda a su juicio). En este paso, seleccione los ejemplos de forma aleatoria e intente mantener la distribución original de labels de cada clase en los conjuntos de prueba/entrenamiento. (vea la documentación de `train_test_split`). [1 puntos]\n",
        "\n",
        "\n",
        "2. Defina un pipeline llamado `pipeline_xgboost` y otro llamado `pipeline_lightgbm`. Estos pipelines deben tener el mismo ColumnTransformer definido en la sección de preprocesamiento, pero deben variar los clasificadores de acuerdo al nombre de cada pipeline. [1 puntos]\n",
        "\n",
        "3. Entrene los pipelines. [1 punto]\n",
        "\n"
      ]
    },
    {
      "cell_type": "markdown",
      "metadata": {
        "id": "kbadONFtjGnE"
      },
      "source": [
        "**Respuesta:**"
      ]
    },
    {
      "cell_type": "code",
      "execution_count": 8,
      "metadata": {
        "colab": {
          "base_uri": "https://localhost:8080/",
          "height": 360
        },
        "id": "lLtlXGTPdWAV",
        "outputId": "af6f3108-acc2-4901-91b0-25fbf58d37bc"
      },
      "outputs": [
        {
          "name": "stdout",
          "output_type": "stream",
          "text": [
            "[LightGBM] [Info] Number of positive: 860, number of negative: 13210\n",
            "[LightGBM] [Info] Auto-choosing row-wise multi-threading, the overhead of testing was 0.002262 seconds.\n",
            "You can set `force_row_wise=true` to remove the overhead.\n",
            "And if memory is not enough, you can set `force_col_wise=true`.\n",
            "[LightGBM] [Info] Total Bins 2540\n",
            "[LightGBM] [Info] Number of data points in the train set: 14070, number of used features: 70\n",
            "[LightGBM] [Info] [binary:BoostFromScore]: pavg=0.061123 -> initscore=-2.731797\n",
            "[LightGBM] [Info] Start training from score -2.731797\n"
          ]
        },
        {
          "data": {
            "text/html": [
              "<style>#sk-container-id-2 {\n",
              "  /* Definition of color scheme common for light and dark mode */\n",
              "  --sklearn-color-text: black;\n",
              "  --sklearn-color-line: gray;\n",
              "  /* Definition of color scheme for unfitted estimators */\n",
              "  --sklearn-color-unfitted-level-0: #fff5e6;\n",
              "  --sklearn-color-unfitted-level-1: #f6e4d2;\n",
              "  --sklearn-color-unfitted-level-2: #ffe0b3;\n",
              "  --sklearn-color-unfitted-level-3: chocolate;\n",
              "  /* Definition of color scheme for fitted estimators */\n",
              "  --sklearn-color-fitted-level-0: #f0f8ff;\n",
              "  --sklearn-color-fitted-level-1: #d4ebff;\n",
              "  --sklearn-color-fitted-level-2: #b3dbfd;\n",
              "  --sklearn-color-fitted-level-3: cornflowerblue;\n",
              "\n",
              "  /* Specific color for light theme */\n",
              "  --sklearn-color-text-on-default-background: var(--sg-text-color, var(--theme-code-foreground, var(--jp-content-font-color1, black)));\n",
              "  --sklearn-color-background: var(--sg-background-color, var(--theme-background, var(--jp-layout-color0, white)));\n",
              "  --sklearn-color-border-box: var(--sg-text-color, var(--theme-code-foreground, var(--jp-content-font-color1, black)));\n",
              "  --sklearn-color-icon: #696969;\n",
              "\n",
              "  @media (prefers-color-scheme: dark) {\n",
              "    /* Redefinition of color scheme for dark theme */\n",
              "    --sklearn-color-text-on-default-background: var(--sg-text-color, var(--theme-code-foreground, var(--jp-content-font-color1, white)));\n",
              "    --sklearn-color-background: var(--sg-background-color, var(--theme-background, var(--jp-layout-color0, #111)));\n",
              "    --sklearn-color-border-box: var(--sg-text-color, var(--theme-code-foreground, var(--jp-content-font-color1, white)));\n",
              "    --sklearn-color-icon: #878787;\n",
              "  }\n",
              "}\n",
              "\n",
              "#sk-container-id-2 {\n",
              "  color: var(--sklearn-color-text);\n",
              "}\n",
              "\n",
              "#sk-container-id-2 pre {\n",
              "  padding: 0;\n",
              "}\n",
              "\n",
              "#sk-container-id-2 input.sk-hidden--visually {\n",
              "  border: 0;\n",
              "  clip: rect(1px 1px 1px 1px);\n",
              "  clip: rect(1px, 1px, 1px, 1px);\n",
              "  height: 1px;\n",
              "  margin: -1px;\n",
              "  overflow: hidden;\n",
              "  padding: 0;\n",
              "  position: absolute;\n",
              "  width: 1px;\n",
              "}\n",
              "\n",
              "#sk-container-id-2 div.sk-dashed-wrapped {\n",
              "  border: 1px dashed var(--sklearn-color-line);\n",
              "  margin: 0 0.4em 0.5em 0.4em;\n",
              "  box-sizing: border-box;\n",
              "  padding-bottom: 0.4em;\n",
              "  background-color: var(--sklearn-color-background);\n",
              "}\n",
              "\n",
              "#sk-container-id-2 div.sk-container {\n",
              "  /* jupyter's `normalize.less` sets `[hidden] { display: none; }`\n",
              "     but bootstrap.min.css set `[hidden] { display: none !important; }`\n",
              "     so we also need the `!important` here to be able to override the\n",
              "     default hidden behavior on the sphinx rendered scikit-learn.org.\n",
              "     See: https://github.com/scikit-learn/scikit-learn/issues/21755 */\n",
              "  display: inline-block !important;\n",
              "  position: relative;\n",
              "}\n",
              "\n",
              "#sk-container-id-2 div.sk-text-repr-fallback {\n",
              "  display: none;\n",
              "}\n",
              "\n",
              "div.sk-parallel-item,\n",
              "div.sk-serial,\n",
              "div.sk-item {\n",
              "  /* draw centered vertical line to link estimators */\n",
              "  background-image: linear-gradient(var(--sklearn-color-text-on-default-background), var(--sklearn-color-text-on-default-background));\n",
              "  background-size: 2px 100%;\n",
              "  background-repeat: no-repeat;\n",
              "  background-position: center center;\n",
              "}\n",
              "\n",
              "/* Parallel-specific style estimator block */\n",
              "\n",
              "#sk-container-id-2 div.sk-parallel-item::after {\n",
              "  content: \"\";\n",
              "  width: 100%;\n",
              "  border-bottom: 2px solid var(--sklearn-color-text-on-default-background);\n",
              "  flex-grow: 1;\n",
              "}\n",
              "\n",
              "#sk-container-id-2 div.sk-parallel {\n",
              "  display: flex;\n",
              "  align-items: stretch;\n",
              "  justify-content: center;\n",
              "  background-color: var(--sklearn-color-background);\n",
              "  position: relative;\n",
              "}\n",
              "\n",
              "#sk-container-id-2 div.sk-parallel-item {\n",
              "  display: flex;\n",
              "  flex-direction: column;\n",
              "}\n",
              "\n",
              "#sk-container-id-2 div.sk-parallel-item:first-child::after {\n",
              "  align-self: flex-end;\n",
              "  width: 50%;\n",
              "}\n",
              "\n",
              "#sk-container-id-2 div.sk-parallel-item:last-child::after {\n",
              "  align-self: flex-start;\n",
              "  width: 50%;\n",
              "}\n",
              "\n",
              "#sk-container-id-2 div.sk-parallel-item:only-child::after {\n",
              "  width: 0;\n",
              "}\n",
              "\n",
              "/* Serial-specific style estimator block */\n",
              "\n",
              "#sk-container-id-2 div.sk-serial {\n",
              "  display: flex;\n",
              "  flex-direction: column;\n",
              "  align-items: center;\n",
              "  background-color: var(--sklearn-color-background);\n",
              "  padding-right: 1em;\n",
              "  padding-left: 1em;\n",
              "}\n",
              "\n",
              "\n",
              "/* Toggleable style: style used for estimator/Pipeline/ColumnTransformer box that is\n",
              "clickable and can be expanded/collapsed.\n",
              "- Pipeline and ColumnTransformer use this feature and define the default style\n",
              "- Estimators will overwrite some part of the style using the `sk-estimator` class\n",
              "*/\n",
              "\n",
              "/* Pipeline and ColumnTransformer style (default) */\n",
              "\n",
              "#sk-container-id-2 div.sk-toggleable {\n",
              "  /* Default theme specific background. It is overwritten whether we have a\n",
              "  specific estimator or a Pipeline/ColumnTransformer */\n",
              "  background-color: var(--sklearn-color-background);\n",
              "}\n",
              "\n",
              "/* Toggleable label */\n",
              "#sk-container-id-2 label.sk-toggleable__label {\n",
              "  cursor: pointer;\n",
              "  display: block;\n",
              "  width: 100%;\n",
              "  margin-bottom: 0;\n",
              "  padding: 0.5em;\n",
              "  box-sizing: border-box;\n",
              "  text-align: center;\n",
              "}\n",
              "\n",
              "#sk-container-id-2 label.sk-toggleable__label-arrow:before {\n",
              "  /* Arrow on the left of the label */\n",
              "  content: \"▸\";\n",
              "  float: left;\n",
              "  margin-right: 0.25em;\n",
              "  color: var(--sklearn-color-icon);\n",
              "}\n",
              "\n",
              "#sk-container-id-2 label.sk-toggleable__label-arrow:hover:before {\n",
              "  color: var(--sklearn-color-text);\n",
              "}\n",
              "\n",
              "/* Toggleable content - dropdown */\n",
              "\n",
              "#sk-container-id-2 div.sk-toggleable__content {\n",
              "  max-height: 0;\n",
              "  max-width: 0;\n",
              "  overflow: hidden;\n",
              "  text-align: left;\n",
              "  /* unfitted */\n",
              "  background-color: var(--sklearn-color-unfitted-level-0);\n",
              "}\n",
              "\n",
              "#sk-container-id-2 div.sk-toggleable__content.fitted {\n",
              "  /* fitted */\n",
              "  background-color: var(--sklearn-color-fitted-level-0);\n",
              "}\n",
              "\n",
              "#sk-container-id-2 div.sk-toggleable__content pre {\n",
              "  margin: 0.2em;\n",
              "  border-radius: 0.25em;\n",
              "  color: var(--sklearn-color-text);\n",
              "  /* unfitted */\n",
              "  background-color: var(--sklearn-color-unfitted-level-0);\n",
              "}\n",
              "\n",
              "#sk-container-id-2 div.sk-toggleable__content.fitted pre {\n",
              "  /* unfitted */\n",
              "  background-color: var(--sklearn-color-fitted-level-0);\n",
              "}\n",
              "\n",
              "#sk-container-id-2 input.sk-toggleable__control:checked~div.sk-toggleable__content {\n",
              "  /* Expand drop-down */\n",
              "  max-height: 200px;\n",
              "  max-width: 100%;\n",
              "  overflow: auto;\n",
              "}\n",
              "\n",
              "#sk-container-id-2 input.sk-toggleable__control:checked~label.sk-toggleable__label-arrow:before {\n",
              "  content: \"▾\";\n",
              "}\n",
              "\n",
              "/* Pipeline/ColumnTransformer-specific style */\n",
              "\n",
              "#sk-container-id-2 div.sk-label input.sk-toggleable__control:checked~label.sk-toggleable__label {\n",
              "  color: var(--sklearn-color-text);\n",
              "  background-color: var(--sklearn-color-unfitted-level-2);\n",
              "}\n",
              "\n",
              "#sk-container-id-2 div.sk-label.fitted input.sk-toggleable__control:checked~label.sk-toggleable__label {\n",
              "  background-color: var(--sklearn-color-fitted-level-2);\n",
              "}\n",
              "\n",
              "/* Estimator-specific style */\n",
              "\n",
              "/* Colorize estimator box */\n",
              "#sk-container-id-2 div.sk-estimator input.sk-toggleable__control:checked~label.sk-toggleable__label {\n",
              "  /* unfitted */\n",
              "  background-color: var(--sklearn-color-unfitted-level-2);\n",
              "}\n",
              "\n",
              "#sk-container-id-2 div.sk-estimator.fitted input.sk-toggleable__control:checked~label.sk-toggleable__label {\n",
              "  /* fitted */\n",
              "  background-color: var(--sklearn-color-fitted-level-2);\n",
              "}\n",
              "\n",
              "#sk-container-id-2 div.sk-label label.sk-toggleable__label,\n",
              "#sk-container-id-2 div.sk-label label {\n",
              "  /* The background is the default theme color */\n",
              "  color: var(--sklearn-color-text-on-default-background);\n",
              "}\n",
              "\n",
              "/* On hover, darken the color of the background */\n",
              "#sk-container-id-2 div.sk-label:hover label.sk-toggleable__label {\n",
              "  color: var(--sklearn-color-text);\n",
              "  background-color: var(--sklearn-color-unfitted-level-2);\n",
              "}\n",
              "\n",
              "/* Label box, darken color on hover, fitted */\n",
              "#sk-container-id-2 div.sk-label.fitted:hover label.sk-toggleable__label.fitted {\n",
              "  color: var(--sklearn-color-text);\n",
              "  background-color: var(--sklearn-color-fitted-level-2);\n",
              "}\n",
              "\n",
              "/* Estimator label */\n",
              "\n",
              "#sk-container-id-2 div.sk-label label {\n",
              "  font-family: monospace;\n",
              "  font-weight: bold;\n",
              "  display: inline-block;\n",
              "  line-height: 1.2em;\n",
              "}\n",
              "\n",
              "#sk-container-id-2 div.sk-label-container {\n",
              "  text-align: center;\n",
              "}\n",
              "\n",
              "/* Estimator-specific */\n",
              "#sk-container-id-2 div.sk-estimator {\n",
              "  font-family: monospace;\n",
              "  border: 1px dotted var(--sklearn-color-border-box);\n",
              "  border-radius: 0.25em;\n",
              "  box-sizing: border-box;\n",
              "  margin-bottom: 0.5em;\n",
              "  /* unfitted */\n",
              "  background-color: var(--sklearn-color-unfitted-level-0);\n",
              "}\n",
              "\n",
              "#sk-container-id-2 div.sk-estimator.fitted {\n",
              "  /* fitted */\n",
              "  background-color: var(--sklearn-color-fitted-level-0);\n",
              "}\n",
              "\n",
              "/* on hover */\n",
              "#sk-container-id-2 div.sk-estimator:hover {\n",
              "  /* unfitted */\n",
              "  background-color: var(--sklearn-color-unfitted-level-2);\n",
              "}\n",
              "\n",
              "#sk-container-id-2 div.sk-estimator.fitted:hover {\n",
              "  /* fitted */\n",
              "  background-color: var(--sklearn-color-fitted-level-2);\n",
              "}\n",
              "\n",
              "/* Specification for estimator info (e.g. \"i\" and \"?\") */\n",
              "\n",
              "/* Common style for \"i\" and \"?\" */\n",
              "\n",
              ".sk-estimator-doc-link,\n",
              "a:link.sk-estimator-doc-link,\n",
              "a:visited.sk-estimator-doc-link {\n",
              "  float: right;\n",
              "  font-size: smaller;\n",
              "  line-height: 1em;\n",
              "  font-family: monospace;\n",
              "  background-color: var(--sklearn-color-background);\n",
              "  border-radius: 1em;\n",
              "  height: 1em;\n",
              "  width: 1em;\n",
              "  text-decoration: none !important;\n",
              "  margin-left: 1ex;\n",
              "  /* unfitted */\n",
              "  border: var(--sklearn-color-unfitted-level-1) 1pt solid;\n",
              "  color: var(--sklearn-color-unfitted-level-1);\n",
              "}\n",
              "\n",
              ".sk-estimator-doc-link.fitted,\n",
              "a:link.sk-estimator-doc-link.fitted,\n",
              "a:visited.sk-estimator-doc-link.fitted {\n",
              "  /* fitted */\n",
              "  border: var(--sklearn-color-fitted-level-1) 1pt solid;\n",
              "  color: var(--sklearn-color-fitted-level-1);\n",
              "}\n",
              "\n",
              "/* On hover */\n",
              "div.sk-estimator:hover .sk-estimator-doc-link:hover,\n",
              ".sk-estimator-doc-link:hover,\n",
              "div.sk-label-container:hover .sk-estimator-doc-link:hover,\n",
              ".sk-estimator-doc-link:hover {\n",
              "  /* unfitted */\n",
              "  background-color: var(--sklearn-color-unfitted-level-3);\n",
              "  color: var(--sklearn-color-background);\n",
              "  text-decoration: none;\n",
              "}\n",
              "\n",
              "div.sk-estimator.fitted:hover .sk-estimator-doc-link.fitted:hover,\n",
              ".sk-estimator-doc-link.fitted:hover,\n",
              "div.sk-label-container:hover .sk-estimator-doc-link.fitted:hover,\n",
              ".sk-estimator-doc-link.fitted:hover {\n",
              "  /* fitted */\n",
              "  background-color: var(--sklearn-color-fitted-level-3);\n",
              "  color: var(--sklearn-color-background);\n",
              "  text-decoration: none;\n",
              "}\n",
              "\n",
              "/* Span, style for the box shown on hovering the info icon */\n",
              ".sk-estimator-doc-link span {\n",
              "  display: none;\n",
              "  z-index: 9999;\n",
              "  position: relative;\n",
              "  font-weight: normal;\n",
              "  right: .2ex;\n",
              "  padding: .5ex;\n",
              "  margin: .5ex;\n",
              "  width: min-content;\n",
              "  min-width: 20ex;\n",
              "  max-width: 50ex;\n",
              "  color: var(--sklearn-color-text);\n",
              "  box-shadow: 2pt 2pt 4pt #999;\n",
              "  /* unfitted */\n",
              "  background: var(--sklearn-color-unfitted-level-0);\n",
              "  border: .5pt solid var(--sklearn-color-unfitted-level-3);\n",
              "}\n",
              "\n",
              ".sk-estimator-doc-link.fitted span {\n",
              "  /* fitted */\n",
              "  background: var(--sklearn-color-fitted-level-0);\n",
              "  border: var(--sklearn-color-fitted-level-3);\n",
              "}\n",
              "\n",
              ".sk-estimator-doc-link:hover span {\n",
              "  display: block;\n",
              "}\n",
              "\n",
              "/* \"?\"-specific style due to the `<a>` HTML tag */\n",
              "\n",
              "#sk-container-id-2 a.estimator_doc_link {\n",
              "  float: right;\n",
              "  font-size: 1rem;\n",
              "  line-height: 1em;\n",
              "  font-family: monospace;\n",
              "  background-color: var(--sklearn-color-background);\n",
              "  border-radius: 1rem;\n",
              "  height: 1rem;\n",
              "  width: 1rem;\n",
              "  text-decoration: none;\n",
              "  /* unfitted */\n",
              "  color: var(--sklearn-color-unfitted-level-1);\n",
              "  border: var(--sklearn-color-unfitted-level-1) 1pt solid;\n",
              "}\n",
              "\n",
              "#sk-container-id-2 a.estimator_doc_link.fitted {\n",
              "  /* fitted */\n",
              "  border: var(--sklearn-color-fitted-level-1) 1pt solid;\n",
              "  color: var(--sklearn-color-fitted-level-1);\n",
              "}\n",
              "\n",
              "/* On hover */\n",
              "#sk-container-id-2 a.estimator_doc_link:hover {\n",
              "  /* unfitted */\n",
              "  background-color: var(--sklearn-color-unfitted-level-3);\n",
              "  color: var(--sklearn-color-background);\n",
              "  text-decoration: none;\n",
              "}\n",
              "\n",
              "#sk-container-id-2 a.estimator_doc_link.fitted:hover {\n",
              "  /* fitted */\n",
              "  background-color: var(--sklearn-color-fitted-level-3);\n",
              "}\n",
              "</style><div id=\"sk-container-id-2\" class=\"sk-top-container\"><div class=\"sk-text-repr-fallback\"><pre>Pipeline(steps=[(&#x27;transform&#x27;,\n",
              "                 ColumnTransformer(transformers=[(&#x27;categorical&#x27;,\n",
              "                                                  OneHotEncoder(),\n",
              "                                                  [&#x27;Club_Position&#x27;,\n",
              "                                                   &#x27;Preffered_Foot&#x27;,\n",
              "                                                   &#x27;Work_Rate&#x27;]),\n",
              "                                                 (&#x27;numerical_standard&#x27;,\n",
              "                                                  StandardScaler(),\n",
              "                                                  [&#x27;Height&#x27;, &#x27;Weight&#x27;, &#x27;Age&#x27;,\n",
              "                                                   &#x27;Ball_Control&#x27;, &#x27;Dribbling&#x27;,\n",
              "                                                   &#x27;Marking&#x27;, &#x27;Sliding_Tackle&#x27;,\n",
              "                                                   &#x27;Standing_Tackle&#x27;,\n",
              "                                                   &#x27;Aggression&#x27;, &#x27;Reactions&#x27;,\n",
              "                                                   &#x27;Interceptions&#x27;, &#x27;Vision&#x27;,\n",
              "                                                   &#x27;Composure&#x27;, &#x27;Crossing&#x27;,\n",
              "                                                   &#x27;Short_Pass&#x27;, &#x27;Long_Pass&#x27;,\n",
              "                                                   &#x27;Acceleration&#x27;, &#x27;Speed&#x27;,\n",
              "                                                   &#x27;Stamina&#x27;, &#x27;Strength&#x27;,\n",
              "                                                   &#x27;Balance&#x27;, &#x27;Agility&#x27;,\n",
              "                                                   &#x27;Jumping&#x27;, &#x27;Heading&#x27;,\n",
              "                                                   &#x27;Shot_Power&#x27;, &#x27;Finishing&#x27;,\n",
              "                                                   &#x27;Long_Shots&#x27;, &#x27;Curve&#x27;,\n",
              "                                                   &#x27;Freekick_Accuracy&#x27;,\n",
              "                                                   &#x27;Penalties&#x27;, ...]),\n",
              "                                                 (&#x27;numerical_minmax&#x27;,\n",
              "                                                  MinMaxScaler(),\n",
              "                                                  [&#x27;Weak_foot&#x27;,\n",
              "                                                   &#x27;Skill_Moves&#x27;])])),\n",
              "                (&#x27;classifier&#x27;, LGBMClassifier())])</pre><b>In a Jupyter environment, please rerun this cell to show the HTML representation or trust the notebook. <br />On GitHub, the HTML representation is unable to render, please try loading this page with nbviewer.org.</b></div><div class=\"sk-container\" hidden><div class=\"sk-item sk-dashed-wrapped\"><div class=\"sk-label-container\"><div class=\"sk-label fitted sk-toggleable\"><input class=\"sk-toggleable__control sk-hidden--visually\" id=\"sk-estimator-id-10\" type=\"checkbox\" ><label for=\"sk-estimator-id-10\" class=\"sk-toggleable__label fitted sk-toggleable__label-arrow fitted\">&nbsp;&nbsp;Pipeline<a class=\"sk-estimator-doc-link fitted\" rel=\"noreferrer\" target=\"_blank\" href=\"https://scikit-learn.org/1.4/modules/generated/sklearn.pipeline.Pipeline.html\">?<span>Documentation for Pipeline</span></a><span class=\"sk-estimator-doc-link fitted\">i<span>Fitted</span></span></label><div class=\"sk-toggleable__content fitted\"><pre>Pipeline(steps=[(&#x27;transform&#x27;,\n",
              "                 ColumnTransformer(transformers=[(&#x27;categorical&#x27;,\n",
              "                                                  OneHotEncoder(),\n",
              "                                                  [&#x27;Club_Position&#x27;,\n",
              "                                                   &#x27;Preffered_Foot&#x27;,\n",
              "                                                   &#x27;Work_Rate&#x27;]),\n",
              "                                                 (&#x27;numerical_standard&#x27;,\n",
              "                                                  StandardScaler(),\n",
              "                                                  [&#x27;Height&#x27;, &#x27;Weight&#x27;, &#x27;Age&#x27;,\n",
              "                                                   &#x27;Ball_Control&#x27;, &#x27;Dribbling&#x27;,\n",
              "                                                   &#x27;Marking&#x27;, &#x27;Sliding_Tackle&#x27;,\n",
              "                                                   &#x27;Standing_Tackle&#x27;,\n",
              "                                                   &#x27;Aggression&#x27;, &#x27;Reactions&#x27;,\n",
              "                                                   &#x27;Interceptions&#x27;, &#x27;Vision&#x27;,\n",
              "                                                   &#x27;Composure&#x27;, &#x27;Crossing&#x27;,\n",
              "                                                   &#x27;Short_Pass&#x27;, &#x27;Long_Pass&#x27;,\n",
              "                                                   &#x27;Acceleration&#x27;, &#x27;Speed&#x27;,\n",
              "                                                   &#x27;Stamina&#x27;, &#x27;Strength&#x27;,\n",
              "                                                   &#x27;Balance&#x27;, &#x27;Agility&#x27;,\n",
              "                                                   &#x27;Jumping&#x27;, &#x27;Heading&#x27;,\n",
              "                                                   &#x27;Shot_Power&#x27;, &#x27;Finishing&#x27;,\n",
              "                                                   &#x27;Long_Shots&#x27;, &#x27;Curve&#x27;,\n",
              "                                                   &#x27;Freekick_Accuracy&#x27;,\n",
              "                                                   &#x27;Penalties&#x27;, ...]),\n",
              "                                                 (&#x27;numerical_minmax&#x27;,\n",
              "                                                  MinMaxScaler(),\n",
              "                                                  [&#x27;Weak_foot&#x27;,\n",
              "                                                   &#x27;Skill_Moves&#x27;])])),\n",
              "                (&#x27;classifier&#x27;, LGBMClassifier())])</pre></div> </div></div><div class=\"sk-serial\"><div class=\"sk-item sk-dashed-wrapped\"><div class=\"sk-label-container\"><div class=\"sk-label fitted sk-toggleable\"><input class=\"sk-toggleable__control sk-hidden--visually\" id=\"sk-estimator-id-11\" type=\"checkbox\" ><label for=\"sk-estimator-id-11\" class=\"sk-toggleable__label fitted sk-toggleable__label-arrow fitted\">&nbsp;transform: ColumnTransformer<a class=\"sk-estimator-doc-link fitted\" rel=\"noreferrer\" target=\"_blank\" href=\"https://scikit-learn.org/1.4/modules/generated/sklearn.compose.ColumnTransformer.html\">?<span>Documentation for transform: ColumnTransformer</span></a></label><div class=\"sk-toggleable__content fitted\"><pre>ColumnTransformer(transformers=[(&#x27;categorical&#x27;, OneHotEncoder(),\n",
              "                                 [&#x27;Club_Position&#x27;, &#x27;Preffered_Foot&#x27;,\n",
              "                                  &#x27;Work_Rate&#x27;]),\n",
              "                                (&#x27;numerical_standard&#x27;, StandardScaler(),\n",
              "                                 [&#x27;Height&#x27;, &#x27;Weight&#x27;, &#x27;Age&#x27;, &#x27;Ball_Control&#x27;,\n",
              "                                  &#x27;Dribbling&#x27;, &#x27;Marking&#x27;, &#x27;Sliding_Tackle&#x27;,\n",
              "                                  &#x27;Standing_Tackle&#x27;, &#x27;Aggression&#x27;, &#x27;Reactions&#x27;,\n",
              "                                  &#x27;Interceptions&#x27;, &#x27;Vision&#x27;, &#x27;Composure&#x27;,\n",
              "                                  &#x27;Crossing&#x27;, &#x27;Short_Pass&#x27;, &#x27;Long_Pass&#x27;,\n",
              "                                  &#x27;Acceleration&#x27;, &#x27;Speed&#x27;, &#x27;Stamina&#x27;,\n",
              "                                  &#x27;Strength&#x27;, &#x27;Balance&#x27;, &#x27;Agility&#x27;, &#x27;Jumping&#x27;,\n",
              "                                  &#x27;Heading&#x27;, &#x27;Shot_Power&#x27;, &#x27;Finishing&#x27;,\n",
              "                                  &#x27;Long_Shots&#x27;, &#x27;Curve&#x27;, &#x27;Freekick_Accuracy&#x27;,\n",
              "                                  &#x27;Penalties&#x27;, ...]),\n",
              "                                (&#x27;numerical_minmax&#x27;, MinMaxScaler(),\n",
              "                                 [&#x27;Weak_foot&#x27;, &#x27;Skill_Moves&#x27;])])</pre></div> </div></div><div class=\"sk-parallel\"><div class=\"sk-parallel-item\"><div class=\"sk-item\"><div class=\"sk-label-container\"><div class=\"sk-label fitted sk-toggleable\"><input class=\"sk-toggleable__control sk-hidden--visually\" id=\"sk-estimator-id-12\" type=\"checkbox\" ><label for=\"sk-estimator-id-12\" class=\"sk-toggleable__label fitted sk-toggleable__label-arrow fitted\">categorical</label><div class=\"sk-toggleable__content fitted\"><pre>[&#x27;Club_Position&#x27;, &#x27;Preffered_Foot&#x27;, &#x27;Work_Rate&#x27;]</pre></div> </div></div><div class=\"sk-serial\"><div class=\"sk-item\"><div class=\"sk-estimator fitted sk-toggleable\"><input class=\"sk-toggleable__control sk-hidden--visually\" id=\"sk-estimator-id-13\" type=\"checkbox\" ><label for=\"sk-estimator-id-13\" class=\"sk-toggleable__label fitted sk-toggleable__label-arrow fitted\">&nbsp;OneHotEncoder<a class=\"sk-estimator-doc-link fitted\" rel=\"noreferrer\" target=\"_blank\" href=\"https://scikit-learn.org/1.4/modules/generated/sklearn.preprocessing.OneHotEncoder.html\">?<span>Documentation for OneHotEncoder</span></a></label><div class=\"sk-toggleable__content fitted\"><pre>OneHotEncoder()</pre></div> </div></div></div></div></div><div class=\"sk-parallel-item\"><div class=\"sk-item\"><div class=\"sk-label-container\"><div class=\"sk-label fitted sk-toggleable\"><input class=\"sk-toggleable__control sk-hidden--visually\" id=\"sk-estimator-id-14\" type=\"checkbox\" ><label for=\"sk-estimator-id-14\" class=\"sk-toggleable__label fitted sk-toggleable__label-arrow fitted\">numerical_standard</label><div class=\"sk-toggleable__content fitted\"><pre>[&#x27;Height&#x27;, &#x27;Weight&#x27;, &#x27;Age&#x27;, &#x27;Ball_Control&#x27;, &#x27;Dribbling&#x27;, &#x27;Marking&#x27;, &#x27;Sliding_Tackle&#x27;, &#x27;Standing_Tackle&#x27;, &#x27;Aggression&#x27;, &#x27;Reactions&#x27;, &#x27;Interceptions&#x27;, &#x27;Vision&#x27;, &#x27;Composure&#x27;, &#x27;Crossing&#x27;, &#x27;Short_Pass&#x27;, &#x27;Long_Pass&#x27;, &#x27;Acceleration&#x27;, &#x27;Speed&#x27;, &#x27;Stamina&#x27;, &#x27;Strength&#x27;, &#x27;Balance&#x27;, &#x27;Agility&#x27;, &#x27;Jumping&#x27;, &#x27;Heading&#x27;, &#x27;Shot_Power&#x27;, &#x27;Finishing&#x27;, &#x27;Long_Shots&#x27;, &#x27;Curve&#x27;, &#x27;Freekick_Accuracy&#x27;, &#x27;Penalties&#x27;, &#x27;Volleys&#x27;]</pre></div> </div></div><div class=\"sk-serial\"><div class=\"sk-item\"><div class=\"sk-estimator fitted sk-toggleable\"><input class=\"sk-toggleable__control sk-hidden--visually\" id=\"sk-estimator-id-15\" type=\"checkbox\" ><label for=\"sk-estimator-id-15\" class=\"sk-toggleable__label fitted sk-toggleable__label-arrow fitted\">&nbsp;StandardScaler<a class=\"sk-estimator-doc-link fitted\" rel=\"noreferrer\" target=\"_blank\" href=\"https://scikit-learn.org/1.4/modules/generated/sklearn.preprocessing.StandardScaler.html\">?<span>Documentation for StandardScaler</span></a></label><div class=\"sk-toggleable__content fitted\"><pre>StandardScaler()</pre></div> </div></div></div></div></div><div class=\"sk-parallel-item\"><div class=\"sk-item\"><div class=\"sk-label-container\"><div class=\"sk-label fitted sk-toggleable\"><input class=\"sk-toggleable__control sk-hidden--visually\" id=\"sk-estimator-id-16\" type=\"checkbox\" ><label for=\"sk-estimator-id-16\" class=\"sk-toggleable__label fitted sk-toggleable__label-arrow fitted\">numerical_minmax</label><div class=\"sk-toggleable__content fitted\"><pre>[&#x27;Weak_foot&#x27;, &#x27;Skill_Moves&#x27;]</pre></div> </div></div><div class=\"sk-serial\"><div class=\"sk-item\"><div class=\"sk-estimator fitted sk-toggleable\"><input class=\"sk-toggleable__control sk-hidden--visually\" id=\"sk-estimator-id-17\" type=\"checkbox\" ><label for=\"sk-estimator-id-17\" class=\"sk-toggleable__label fitted sk-toggleable__label-arrow fitted\">&nbsp;MinMaxScaler<a class=\"sk-estimator-doc-link fitted\" rel=\"noreferrer\" target=\"_blank\" href=\"https://scikit-learn.org/1.4/modules/generated/sklearn.preprocessing.MinMaxScaler.html\">?<span>Documentation for MinMaxScaler</span></a></label><div class=\"sk-toggleable__content fitted\"><pre>MinMaxScaler()</pre></div> </div></div></div></div></div></div></div><div class=\"sk-item\"><div class=\"sk-estimator fitted sk-toggleable\"><input class=\"sk-toggleable__control sk-hidden--visually\" id=\"sk-estimator-id-18\" type=\"checkbox\" ><label for=\"sk-estimator-id-18\" class=\"sk-toggleable__label fitted sk-toggleable__label-arrow fitted\">LGBMClassifier</label><div class=\"sk-toggleable__content fitted\"><pre>LGBMClassifier()</pre></div> </div></div></div></div></div></div>"
            ],
            "text/plain": [
              "Pipeline(steps=[('transform',\n",
              "                 ColumnTransformer(transformers=[('categorical',\n",
              "                                                  OneHotEncoder(),\n",
              "                                                  ['Club_Position',\n",
              "                                                   'Preffered_Foot',\n",
              "                                                   'Work_Rate']),\n",
              "                                                 ('numerical_standard',\n",
              "                                                  StandardScaler(),\n",
              "                                                  ['Height', 'Weight', 'Age',\n",
              "                                                   'Ball_Control', 'Dribbling',\n",
              "                                                   'Marking', 'Sliding_Tackle',\n",
              "                                                   'Standing_Tackle',\n",
              "                                                   'Aggression', 'Reactions',\n",
              "                                                   'Interceptions', 'Vision',\n",
              "                                                   'Composure', 'Crossing',\n",
              "                                                   'Short_Pass', 'Long_Pass',\n",
              "                                                   'Acceleration', 'Speed',\n",
              "                                                   'Stamina', 'Strength',\n",
              "                                                   'Balance', 'Agility',\n",
              "                                                   'Jumping', 'Heading',\n",
              "                                                   'Shot_Power', 'Finishing',\n",
              "                                                   'Long_Shots', 'Curve',\n",
              "                                                   'Freekick_Accuracy',\n",
              "                                                   'Penalties', ...]),\n",
              "                                                 ('numerical_minmax',\n",
              "                                                  MinMaxScaler(),\n",
              "                                                  ['Weak_foot',\n",
              "                                                   'Skill_Moves'])])),\n",
              "                ('classifier', LGBMClassifier())])"
            ]
          },
          "execution_count": 8,
          "metadata": {},
          "output_type": "execute_result"
        }
      ],
      "source": [
        "from sklearn.model_selection import train_test_split\n",
        "from sklearn.pipeline import Pipeline\n",
        "from xgboost import XGBClassifier\n",
        "from lightgbm import LGBMClassifier\n",
        "\n",
        "# Se separan las variables de las clases\n",
        "X = df.drop(\"label\", axis=1)\n",
        "y = df[\"label\"]\n",
        "\n",
        "X_train, X_test, y_train, y_test = train_test_split(X, y, test_size=0.2, stratify=y) # Se crean los sets de entrenamiento y prueba considerando un 20% de los datos para prueba y manteniendo la proporción de clases\n",
        "\n",
        "\n",
        "pipeline_xgboost = Pipeline([(\"transform\", col_transformer),\n",
        "                             (\"classifier\", XGBClassifier())]) # Se crea la pipeline para el XGBClassifier\n",
        "\n",
        "pipeline_lightgbm = Pipeline([(\"transform\", col_transformer),\n",
        "                              (\"classifier\", LGBMClassifier())]) # Se crea la pipeline para le LGBMClassifier\n",
        "\n",
        "# Se entrenan los pipelines\n",
        "pipeline_xgboost.fit(X_train, y_train)\n",
        "pipeline_lightgbm.fit(X_train, y_train)"
      ]
    },
    {
      "cell_type": "markdown",
      "metadata": {
        "id": "poc9HSNBFeKO"
      },
      "source": [
        "### 1.3 Resultados [6 puntos]"
      ]
    },
    {
      "cell_type": "markdown",
      "metadata": {
        "id": "tGGCj8YtFil1"
      },
      "source": [
        "1. Calcule las métricas accuracy, precisión y recall de la clase positiva (la que indica que un jugador es seleccionado nacional) para evaluar el rendimiento de los distintos modelos. Verifique sus resultados usando `classification_report`. [2 puntos]\n",
        "\n",
        "2. Explique qué implican los valores de accuracy, precisión y recall de la clase positiva (la que indica que un jugador es seleccionado nacional) y cómo influye la cantidad de ejemplos por clase en los resultados obtenidos. [2 puntos]\n",
        "\n",
        "3. Explique qué métrica le parece más adecuada y concluya qué modelo tiene un mejor desempeño. [2 puntos]"
      ]
    },
    {
      "cell_type": "markdown",
      "metadata": {
        "id": "A1hkVFdujJTi"
      },
      "source": [
        "**Respuesta:**"
      ]
    },
    {
      "cell_type": "code",
      "execution_count": 9,
      "metadata": {
        "colab": {
          "base_uri": "https://localhost:8080/"
        },
        "id": "QNmI_tbbdQte",
        "outputId": "5cd80346-d5a9-4830-f741-d8cf7c99a181"
      },
      "outputs": [
        {
          "name": "stdout",
          "output_type": "stream",
          "text": [
            "Resultados para modelo xgboost:\n",
            "Accuracy: 0.9368959636156907\n",
            "Precision: 0.4444444444444444\n",
            "Recall: 0.13023255813953488 \n",
            "\n",
            "Resultados para modelo lightgbm:\n",
            "Accuracy: 0.938601478112564\n",
            "Precision: 0.4918032786885246\n",
            "Recall: 0.13953488372093023 \n",
            "\n",
            "Classification report para ambos modelos:\n",
            "Xgboost: \n",
            "               precision    recall  f1-score   support\n",
            "\n",
            "           0       0.95      0.99      0.97      3303\n",
            "           1       0.44      0.13      0.20       215\n",
            "\n",
            "    accuracy                           0.94      3518\n",
            "   macro avg       0.70      0.56      0.58      3518\n",
            "weighted avg       0.92      0.94      0.92      3518\n",
            "\n",
            "Lightgbm: \n",
            "               precision    recall  f1-score   support\n",
            "\n",
            "           0       0.95      0.99      0.97      3303\n",
            "           1       0.49      0.14      0.22       215\n",
            "\n",
            "    accuracy                           0.94      3518\n",
            "   macro avg       0.72      0.57      0.59      3518\n",
            "weighted avg       0.92      0.94      0.92      3518\n",
            "\n"
          ]
        }
      ],
      "source": [
        "from sklearn.metrics import accuracy_score, precision_score, recall_score, classification_report\n",
        "\n",
        "# Se realizan las predicciones para ambos modelos con el set de prueba\n",
        "pred_xgboost = pipeline_xgboost.predict(X_test)\n",
        "pred_lightgbm = pipeline_lightgbm.predict(X_test)\n",
        "\n",
        "# Se calculan el accuracy, precision y recall del modelo xgboost\n",
        "accuracy_xgboost = accuracy_score(y_test, pred_xgboost)\n",
        "precision_xgboost = precision_score(y_test, pred_xgboost)\n",
        "recall_xgboost = recall_score(y_test, pred_xgboost)\n",
        "\n",
        "# Se calculan el accuracy, precision y recall del modelo lightgbm\n",
        "accuracy_lightgbm = accuracy_score(y_test, pred_lightgbm)\n",
        "precision_lightgbm = precision_score(y_test, pred_lightgbm)\n",
        "recall_lightgbm = recall_score(y_test, pred_lightgbm)\n",
        "\n",
        "# Se realizan los classification report para ambos modelos\n",
        "report_xgboost = classification_report(y_test, pred_xgboost)\n",
        "report_lightgbm = classification_report(y_test, pred_lightgbm)\n",
        "\n",
        "print(\"Resultados para modelo xgboost:\")\n",
        "print(f'Accuracy: {accuracy_xgboost}')\n",
        "print(f'Precision: {precision_xgboost}')\n",
        "print(f'Recall: {recall_xgboost} \\n')\n",
        "\n",
        "print(\"Resultados para modelo lightgbm:\")\n",
        "print(f'Accuracy: {accuracy_lightgbm}')\n",
        "print(f'Precision: {precision_lightgbm}')\n",
        "print(f'Recall: {recall_lightgbm} \\n')\n",
        "\n",
        "print(\"Classification report para ambos modelos:\")\n",
        "print(f'Xgboost: \\n {report_xgboost}')\n",
        "print(f'Lightgbm: \\n {report_lightgbm}')"
      ]
    },
    {
      "cell_type": "markdown",
      "metadata": {
        "id": "vv_E808pfAy7"
      },
      "source": [
        "2.- El accuracy indica que en general hubo un buen desempeño en el total de predicciones realizadas por los modelos, ya que indica que aproximadamente un 94% de los valores predichos fueron correctos. En lo que respecta a la presición, esta nos indica que un 50% aproximado de las clases predichas como positivas son realmente positivas, lo que es similar a lanzar una moneda. En el caso del recall se tiene un resultado bastante malo, ya que lo que dice es que se predice un gran número de falsos negativos, es decir, la gran mayoría de las clases que realmente son positivas son predichas como negativas (un 15% aproximado en este caso). Esto claramente puede ser un problema ocasionado por la disparidad de datos, ya que por lo que se puede notar las predicciones de la clase 0 son mucho mejores que las de la clase 1, que tiene menos datos.\n",
        "\n",
        "3.- Para este caso y considerando el desbalance de los datos, la métrica que es más útil es la de recall, ya que de este modo se hace notar aún más el desbalance de los datos y el mal funcionamiento del modelo. En caso contrario, el accuracy en este caso es una métrica bastante mala, ya que al estar desbalanceados los datos se tiene una métrica muy buena cuando eso no se refleja en el funcionamiento clasificatorio del modelo.\n",
        "En cuanto a cual modelo es mejor, se podría decir que sería el que tuviese la mejor métrica de recall como se dijo anteriormente, por lo que sería el modelo de Xgboost el mejor aunque sigue siendo un resultado bastante malo el que entregó."
      ]
    },
    {
      "cell_type": "markdown",
      "metadata": {
        "id": "uy5VMU6ae_g6"
      },
      "source": [
        "## 2. Predicción de posiciones de jugadores [4 puntos]"
      ]
    },
    {
      "cell_type": "markdown",
      "metadata": {
        "id": "S0PGg_hLgr4H"
      },
      "source": [
        "<p align=\"center\">\n",
        "  <img src=\"https://pbs.twimg.com/media/E1rfA1aWEAYU6Ny.jpg\" width=\"300\">\n",
        "</p>"
      ]
    },
    {
      "cell_type": "markdown",
      "metadata": {
        "id": "I6rSnAesfOm3"
      },
      "source": [
        "En una nueva jornada de desmesuradas transacciones deportivas, Renacín escuchó a sus colegas discutir acerca de que el precio de cada jugador depende en gran medida de la posición en la cancha en la que juega. Y además, que hay bastantes jugadores nuevos que no tienen muy claro en que posición verdaderamente brillarían, por lo que actualmente puede que actualmente estén jugando en posiciones sub-optimas.\n",
        "\n",
        "Viendo que los resultados del primer análisis no son tan esperanzadores, el corporeo los comanda a cambiar su tarea: ahora, les solicita que construyan un clasificador enfocado en predecir la mejor posición de los jugadores en la cancha según sus características.\n",
        "\n",
        "Para lograr esto, primero, les pide que etiqueten de la siguiente manera los valores que aparecen en el atributo `Club_Position`, pidiendo que agrupen los valores en los siguientes grupos:\n",
        "\n",
        "**Nota**:  Renacín les recalca que **no deben utilizar los valores ```Sub``` y ```Res``` de esta columna**.\n",
        "\n",
        "```python\n",
        "ataque = ['ST', 'CF']\n",
        "central_ataque = ['RW', 'CAM', 'LW']\n",
        "central = ['RM', 'CM', 'LM']\n",
        "central_defensa = ['RWB', 'CDM', 'LWB']\n",
        "defensa = ['RB', 'CB', 'LB']\n",
        "arquero = ['GK']\n",
        "```\n",
        "\n",
        "La elección del clasificador se justificar en base a la siguiente [guía](https://scikit-learn.org/stable/tutorial/machine_learning_map/index.html) y se deben comentar los resultados obtenidos en la clasificación.\n",
        "\n",
        "**Tareas:** [1 punto por tarea]\n",
        "\n",
        "1. Aplique las etiquetas descritas anteriormente en cada uno de los valores señalados en esta sección.\n",
        "2. Cuente cuántos por clase quedan.\n",
        "3. Entrene el nuevo pipeline y ejecute una evaluación de este.  \n",
        "4. Comente los resultados obtenidos."
      ]
    },
    {
      "cell_type": "markdown",
      "metadata": {
        "id": "sBmSaWh8i2MI"
      },
      "source": [
        "**Respuesta:**"
      ]
    },
    {
      "cell_type": "code",
      "execution_count": 10,
      "metadata": {
        "colab": {
          "base_uri": "https://localhost:8080/"
        },
        "id": "Ir_7zMh2i1vg",
        "outputId": "d05e443a-7597-4e79-8abb-ef6f2a27e895"
      },
      "outputs": [
        {
          "name": "stdout",
          "output_type": "stream",
          "text": [
            "Club_Position\n",
            "defensa            1180\n",
            "central             907\n",
            "arquero             632\n",
            "central_ataque      581\n",
            "ataque              430\n",
            "central_defensa     209\n",
            "Name: count, dtype: int64\n"
          ]
        }
      ],
      "source": [
        "# Se crea un diccionario para mapear los nuevos valores de \"Club_Position\"\n",
        "mapa = {\n",
        "    \"ST\": \"ataque\", \"CF\": \"ataque\",\n",
        "    \"RW\": \"central_ataque\", \"CAM\": \"central_ataque\", \"LW\": \"central_ataque\",\n",
        "    \"RM\": \"central\", \"CM\": \"central\", \"LM\": \"central\",\n",
        "    \"RWB\": \"central_defensa\", \"CDM\": \"central_defensa\", \"LWB\": \"central_defensa\",\n",
        "    \"RB\": \"defensa\", \"CB\": \"defensa\", \"LB\": \"defensa\",\n",
        "    \"GK\": \"arquero\"\n",
        "}\n",
        "\n",
        "df[\"Club_Position\"] = df[\"Club_Position\"].map(mapa) # Se realiza el mapeo\n",
        "\n",
        "conteo = df['Club_Position'].value_counts() # Se realiza un conteo de cada clase en \"Club_Position\"\n",
        "print(conteo)"
      ]
    },
    {
      "cell_type": "code",
      "execution_count": 11,
      "metadata": {
        "colab": {
          "base_uri": "https://localhost:8080/"
        },
        "id": "SnVBQXhpfAy8",
        "outputId": "dbdf8fd8-bdbc-41bb-cc91-e33d540236ae"
      },
      "outputs": [
        {
          "name": "stderr",
          "output_type": "stream",
          "text": [
            "/usr/local/lib/python3.10/dist-packages/sklearn/svm/_classes.py:31: FutureWarning: The default value of `dual` will change from `True` to `'auto'` in 1.5. Set the value of `dual` explicitly to suppress the warning.\n",
            "  warnings.warn(\n"
          ]
        },
        {
          "name": "stdout",
          "output_type": "stream",
          "text": [
            "Classification report para modelo LinearSVC:\n",
            "                 precision    recall  f1-score   support\n",
            "\n",
            "        arquero       1.00      1.00      1.00       126\n",
            "         ataque       0.77      0.94      0.85        86\n",
            "        central       0.61      0.65      0.63       182\n",
            " central_ataque       0.62      0.30      0.41       116\n",
            "central_defensa       0.73      0.19      0.30        42\n",
            "        defensa       0.78      0.97      0.86       236\n",
            "\n",
            "       accuracy                           0.76       788\n",
            "      macro avg       0.75      0.68      0.67       788\n",
            "   weighted avg       0.75      0.76      0.73       788\n",
            "\n"
          ]
        },
        {
          "name": "stderr",
          "output_type": "stream",
          "text": [
            "/usr/local/lib/python3.10/dist-packages/sklearn/svm/_base.py:1237: ConvergenceWarning: Liblinear failed to converge, increase the number of iterations.\n",
            "  warnings.warn(\n"
          ]
        }
      ],
      "source": [
        "from sklearn.svm import LinearSVC\n",
        "\n",
        "df = df.dropna(subset=[\"Club_Position\"]) # Se eliminan los valores NaN de \"Club_Position\"\n",
        "\n",
        "# Se dividen los datos de la clase a predecir\n",
        "X = df.drop([\"Club_Position\"], axis=1)\n",
        "y = df[\"Club_Position\"]\n",
        "\n",
        "# Se crean los conjuntos de entrenamiento y prueba\n",
        "X_train, X_test, y_train, y_test = train_test_split(X, y, test_size=0.2, stratify=y)\n",
        "\n",
        "categorical_data = [\"Preffered_Foot\", \"Work_Rate\"] # Se crea una lista con las variables categoricas, eliminando las que no aportan información como el nombre, nacionalidad y national position. Además se elimina el objetivo a predecir \"Club_Position\"\n",
        "numerical_data_standard = [\"Height\", \"Weight\", \"Age\", \"Ball_Control\", \"Dribbling\", \"Marking\", \"Sliding_Tackle\", \"Standing_Tackle\", \"Aggression\", \"Reactions\", \"Interceptions\", \"Vision\", \"Composure\", \"Crossing\", \"Short_Pass\", \"Long_Pass\", \"Acceleration\", \"Speed\", \"Stamina\", \"Strength\", \"Balance\", \"Agility\", \"Jumping\", \"Heading\", \"Shot_Power\", \"Finishing\", \"Long_Shots\", \"Curve\", \"Freekick_Accuracy\", \"Penalties\", \"Volleys\"] # Se crea una lista con las variables numéricas con las que se usará la transformación StandardScaler\n",
        "numerical_data_minmax = [\"Weak_foot\", \"Skill_Moves\"] # Se crea una lista con las variables numéricas con las que se usará la transformación MinMaxScaler\n",
        "\n",
        "col_transformer = ColumnTransformer(\n",
        "    transformers=[(\"categorical\", OneHotEncoder(), categorical_data),\n",
        "                  (\"numerical_standard\", StandardScaler(), numerical_data_standard),\n",
        "                  (\"numerical_minmax\", MinMaxScaler(), numerical_data_minmax)]) # Se crea el ColumnTransformer con las transformaciones esperadas para cada conjunto de variables\n",
        "\n",
        "# Se crea la pipeline usando el columnTransformer creado anteriormente y el modelo LinearSVC, el cual fue elegido a partir de la guía entregada, ya que se trata de un modelo de clasificación con menos de 100k datos\n",
        "pipeline_linearsvc = Pipeline([(\"transform\", col_transformer),\n",
        "                              (\"classifier\", LinearSVC())])\n",
        "\n",
        "# Se entrena el modelo\n",
        "pipeline_linearsvc.fit(X_train, y_train)\n",
        "\n",
        "# Se realizan las predicciones\n",
        "pred_linearsvc = pipeline_linearsvc.predict(X_test)\n",
        "\n",
        "# Se hace un classification report con los datos predecidos\n",
        "report_linearsvc = classification_report(y_test, pred_linearsvc)\n",
        "\n",
        "print(\"Classification report para modelo LinearSVC:\")\n",
        "print(report_linearsvc)"
      ]
    },
    {
      "cell_type": "markdown",
      "metadata": {
        "id": "qtXYTo8bfAy8"
      },
      "source": [
        "Se puede notar que los resultados obtenidos no son muy buenos en general, aunque el modelo si logra clasificar de muy buena forma a los jugadores que tienen la posición de \"arquero\", así como a los jugadores con posición \"ataque\" y \"defensa\", aunque con peores resultados para estos últimos. Otra cosa destacable de estos resultados son los malos resultados que se tienen para todos los jugadores que estén ligados a una posición de centro como \"central\", \"central_ataque\" y \"central_defensa\". Una posible causa de los malos resultados es que estas últimas dos clases son las que menos datos tienen en el dataset, aunque también es posible que el modelo falle debido a que estas clases pueden tener una gran similitud entre ellas sin atributos en los que se puedan diferenciar de manera clara, ya que en el caso de \"ataque\" también se cuenta con pocos datos, pero los resultados obtenidos son decentes.  "
      ]
    },
    {
      "cell_type": "markdown",
      "metadata": {
        "id": "9bL2m8nNojXM"
      },
      "source": [
        "## 3. Predicciones de Seleccionados Nacionales para el Jere Klein [30 puntos]"
      ]
    },
    {
      "cell_type": "markdown",
      "metadata": {
        "id": "_2XmRsJdsEh_"
      },
      "source": [
        "<center>\n",
        "<img src='https://www.radioactiva.cl/wp-content/uploads/2024/04/Jere-Klein-1-768x432.webp' width=500 />"
      ]
    },
    {
      "cell_type": "markdown",
      "metadata": {
        "id": "AgmUoVDsqUPu"
      },
      "source": [
        "Después de alcanzar la fama como cantante urbano, Jere Klein decide explorar una nueva faceta. Con su amor por el fútbol y convencido de que los artistas urbanos poseen un talento y versatilidad excepcionales, Jere se embarca en un proyecto innovador: desarrollar un sistema de inteligencia artificial capaz de identificar a jugadores que tienen potencial para convertirse en futbolistas profesionales. Su teoría es que muchos artistas del género urbano chileno, con sus habilidades únicas y su disciplina, podrían destacarse también en el deporte. Con este sistema, Jere espera no solo abrir nuevas oportunidades para sus colegas artistas, sino también demostrar la amplia gama de talentos que pueden ofrecer."
      ]
    },
    {
      "cell_type": "markdown",
      "metadata": {
        "id": "rD8pQ5Zfq8dE"
      },
      "source": [
        "### 2.1 ¿Qué modelo de árbol es más de \"pana\"? [10 puntos]"
      ]
    },
    {
      "cell_type": "markdown",
      "metadata": {
        "id": "zB-KUA4g99eo"
      },
      "source": [
        "<center>\n",
        "<img src='https://64.media.tumblr.com/39189215a7d3d96823cb359f35b44e05/tumblr_psmrhrR3Xw1qf5hjqo4_540.gif' width=300 />"
      ]
    },
    {
      "cell_type": "markdown",
      "metadata": {
        "id": "uL-moVhB9vPH"
      },
      "source": [
        "\n",
        "**Tareas**\n",
        "\n",
        "\n",
        "1. Considerando el la variable llamada `label` creada en la sección 1.1. Para determinar cuál modelo de árbol sería más adecuado para la tarea en cuestión, utilice PyCaret. Este deberá centrarse exclusivamente en modelos de tipo árbol. Jere ha especificado que busca un modelo que tome decisiones rápidamente y que tenga una baja tasa de falsos positivos, ya que planea invertir en estos jugadores. [3 puntos] Para la comparación, utilice los siguientes modelos:\n",
        "\n",
        "```python\n",
        "['et', 'rf', 'dt', 'xgboost', 'lightgbm', 'catboost']\n",
        "```\n",
        "\n",
        "3. Explique en brevemente que son los modelos de la siguiente lista `['et', 'rf', 'dt']` y como funcionan. [3 punto]\n",
        "\n",
        "4. Tras realizar la comparación de modelos, seleccione aquel que muestre el mejor rendimiento en términos de velocidad y precisión, especialmente en la reducción de falsos positivos. Utilice la función `evaluate_model` de PyCaret para revisar y analizar los resultados obtenidos en los siguientes aspectos:\n",
        "\n",
        "  - **Confusión Matrix**: ¿Cómo se encuentran la tasa de verdaderos positivos y verdaderos negativos?\n",
        "  - **Threshold**: ¿Es acaso el umbral por defecto del modelo el mejor para las predicciones?\n",
        "  - **Feature Importance**: ¿Cuáles son las variables con mejor desempeño? ¿A qué podría deberse esto?\n",
        "  - **Learning Curve**: ¿El modelo presenta algún problema?\n",
        "\n",
        "  [4 puntos]"
      ]
    },
    {
      "cell_type": "markdown",
      "metadata": {
        "id": "quqz4yyMj6Uq"
      },
      "source": [
        "3.- El modelo 'et' es Extra Trees (ET), que corresponde a un algoritmo de ensamble que se basa en árboles de precisión. Lo que lo diferencia de los árboles estándar y Rnadom Forest, es que ET agrega aleatoriedad adicional a la construcción de los árboles, ya que en cada nodo de división, en vez de buscar el mejor umbral posible para dividir, ET selecciona aleatoriamente varios umbrales y elige el mejor entre ellos. Lo anterior hace que ET sea más rápido de entrenar que Random Forest, pero puede que necesite más árboles para alcanzar el mismo nivel de precisión.\n",
        "\n",
        "En cuanto a 'rf', este corresponde a Random Forest (RF), que al igual que ET es un algoritmo de ensamble basado en árboles de decisión. Este algoritmo construye múltiples árboles durante el entrenamiento y los combina para obtener predicciones más precisas. Los árboles son construidos en paralelo, lo que hace que RF sea adecuado para conjuntos de datos grandes y complejos. RF también introduce aleatoriedad al considerar un subconjunto aleatorio de características en cada nodo de división, lo que ayuda a reducir el sobreajuste y mejorar la generalización.\n",
        "\n",
        "Por último, 'dt' corresponde a Decision Tree (DT), que es un modelo de aprendizaje supervisado para clasificación y regresión.  Divide el conjunto de datos en subconjuntos más pequeños basados en características específicas, de modo que las decisiones se tomen de manera secuencial en función de estas divisiones. El objetivo es dividir el conjunto de datos de manera que las clases sean lo más homogéneas posible en los nodos hoja.\n",
        "\n",
        "4.- Luego de la prueba de los modelos, se concluye que el mejor es ET, pues es el que obtiene valores más altos en precision, recall y F1 score, que son métricas relevantes al reducir los falsos positivos. Particularmente precision es importante, ya que se calcula como el número de verdaderos positivos dividido por la suma de verdaderos positivos y falsos positivos.\n",
        "\n",
        "En cuanto a la velocidad, ET es el que más demora, pero considerando que los tiempos de los distintos modelos no presentan diferencias relevantes para este ejemplo, la elección se guía principalmente por las métricas.\n",
        "\n",
        "Pasando al análisis de los resultados tenemos lo siguiente:\n",
        "\n",
        "  - **Confusión Matrix**: De acuerdo a la matriz de confusión hay 57 verdaderos positivos, 1071 verdaderos negativos, 53 falsos negativos y 1 falso positivo. Es decir, efectivamente los falsos positivos son muy pocos, no obstante, de todos los positivos (reales), casi la mitad se clasifican como negativos. Esto tiene relación con que las clases están desbalanceadas, pues hay más negativos que positivos.\n",
        "  - **Threshold**: De acuerdo a lo observado en el gráfico, se puede decir que el umbral por defecto del modelo es el mejor, ya que maximiza precision, recall y f1 score.\n",
        "  - **Feature Importance**: El top de 4 variables con mejor desempeño es: 'Name', 'National_Position_Sub', 'National_Position_GK' y 'Nationality', donde 'Name' tiene una importancia particularmente alta. En el caso de 'Name', dado que es una variable categórica que tiene prácticamente un valor distinto por fila, corresponde a un caso que hay que analizar con detención. Si bien un problema como este podría darse por múltiples factores, existe la probabilidad de que existe overfitting y que el modelo le esté dando demasiada importancia a características irrelevantes. En los casos de 'National_Position_Sub' y 'National_Position_GK', que hacen referencia a si el jugador ocupa 2 posiciones (Sub o suplente, y GK o arquero) en su país, lo cual puede tener gran relevancia al ser indicadores sobre la habilidad y el estilo de juego de cada jugador. Por su parte, 'Nationality' puede tener relación con lo que se quiere predecir (si el jugador es seleccionado, o bien, si es bueno) ya que el nivel de desarrollo de un deporte varía de un país a otro.\n",
        "  - **Learning Curve**: De acuerdo al gráfico de Learning Curve podría haber un problema de overfitting, ya que en una zona del gráfico la curva para el cross validation score baja, mientras la del training score de mantiene.\n"
      ]
    },
    {
      "cell_type": "markdown",
      "metadata": {
        "id": "qY85nrViYROF"
      },
      "source": [
        "**Respuesta**"
      ]
    },
    {
      "cell_type": "code",
      "execution_count": null,
      "metadata": {
        "id": "ofNgeDqffjcK"
      },
      "outputs": [],
      "source": [
        "!pip install pycaret"
      ]
    },
    {
      "cell_type": "code",
      "execution_count": null,
      "metadata": {
        "id": "frLXBc6KgbeY"
      },
      "outputs": [],
      "source": [
        "pip install catboost"
      ]
    },
    {
      "cell_type": "code",
      "execution_count": 12,
      "metadata": {
        "colab": {
          "base_uri": "https://localhost:8080/",
          "height": 771
        },
        "id": "kUCjOjsEYUXL",
        "outputId": "c130db41-43f7-412e-fa23-39700f39b036"
      },
      "outputs": [
        {
          "data": {
            "text/html": [
              "<style type=\"text/css\">\n",
              "#T_bdb61_row10_col1 {\n",
              "  background-color: lightgreen;\n",
              "}\n",
              "</style>\n",
              "<table id=\"T_bdb61\" class=\"dataframe\">\n",
              "  <thead>\n",
              "    <tr>\n",
              "      <th class=\"blank level0\" >&nbsp;</th>\n",
              "      <th id=\"T_bdb61_level0_col0\" class=\"col_heading level0 col0\" >Description</th>\n",
              "      <th id=\"T_bdb61_level0_col1\" class=\"col_heading level0 col1\" >Value</th>\n",
              "    </tr>\n",
              "  </thead>\n",
              "  <tbody>\n",
              "    <tr>\n",
              "      <th id=\"T_bdb61_level0_row0\" class=\"row_heading level0 row0\" >0</th>\n",
              "      <td id=\"T_bdb61_row0_col0\" class=\"data row0 col0\" >Session id</td>\n",
              "      <td id=\"T_bdb61_row0_col1\" class=\"data row0 col1\" >123</td>\n",
              "    </tr>\n",
              "    <tr>\n",
              "      <th id=\"T_bdb61_level0_row1\" class=\"row_heading level0 row1\" >1</th>\n",
              "      <td id=\"T_bdb61_row1_col0\" class=\"data row1 col0\" >Target</td>\n",
              "      <td id=\"T_bdb61_row1_col1\" class=\"data row1 col1\" >label</td>\n",
              "    </tr>\n",
              "    <tr>\n",
              "      <th id=\"T_bdb61_level0_row2\" class=\"row_heading level0 row2\" >2</th>\n",
              "      <td id=\"T_bdb61_row2_col0\" class=\"data row2 col0\" >Target type</td>\n",
              "      <td id=\"T_bdb61_row2_col1\" class=\"data row2 col1\" >Binary</td>\n",
              "    </tr>\n",
              "    <tr>\n",
              "      <th id=\"T_bdb61_level0_row3\" class=\"row_heading level0 row3\" >3</th>\n",
              "      <td id=\"T_bdb61_row3_col0\" class=\"data row3 col0\" >Original data shape</td>\n",
              "      <td id=\"T_bdb61_row3_col1\" class=\"data row3 col1\" >(3939, 40)</td>\n",
              "    </tr>\n",
              "    <tr>\n",
              "      <th id=\"T_bdb61_level0_row4\" class=\"row_heading level0 row4\" >4</th>\n",
              "      <td id=\"T_bdb61_row4_col0\" class=\"data row4 col0\" >Transformed data shape</td>\n",
              "      <td id=\"T_bdb61_row4_col1\" class=\"data row4 col1\" >(3939, 76)</td>\n",
              "    </tr>\n",
              "    <tr>\n",
              "      <th id=\"T_bdb61_level0_row5\" class=\"row_heading level0 row5\" >5</th>\n",
              "      <td id=\"T_bdb61_row5_col0\" class=\"data row5 col0\" >Transformed train set shape</td>\n",
              "      <td id=\"T_bdb61_row5_col1\" class=\"data row5 col1\" >(2757, 76)</td>\n",
              "    </tr>\n",
              "    <tr>\n",
              "      <th id=\"T_bdb61_level0_row6\" class=\"row_heading level0 row6\" >6</th>\n",
              "      <td id=\"T_bdb61_row6_col0\" class=\"data row6 col0\" >Transformed test set shape</td>\n",
              "      <td id=\"T_bdb61_row6_col1\" class=\"data row6 col1\" >(1182, 76)</td>\n",
              "    </tr>\n",
              "    <tr>\n",
              "      <th id=\"T_bdb61_level0_row7\" class=\"row_heading level0 row7\" >7</th>\n",
              "      <td id=\"T_bdb61_row7_col0\" class=\"data row7 col0\" >Numeric features</td>\n",
              "      <td id=\"T_bdb61_row7_col1\" class=\"data row7 col1\" >33</td>\n",
              "    </tr>\n",
              "    <tr>\n",
              "      <th id=\"T_bdb61_level0_row8\" class=\"row_heading level0 row8\" >8</th>\n",
              "      <td id=\"T_bdb61_row8_col0\" class=\"data row8 col0\" >Categorical features</td>\n",
              "      <td id=\"T_bdb61_row8_col1\" class=\"data row8 col1\" >6</td>\n",
              "    </tr>\n",
              "    <tr>\n",
              "      <th id=\"T_bdb61_level0_row9\" class=\"row_heading level0 row9\" >9</th>\n",
              "      <td id=\"T_bdb61_row9_col0\" class=\"data row9 col0\" >Rows with missing values</td>\n",
              "      <td id=\"T_bdb61_row9_col1\" class=\"data row9 col1\" >90.7%</td>\n",
              "    </tr>\n",
              "    <tr>\n",
              "      <th id=\"T_bdb61_level0_row10\" class=\"row_heading level0 row10\" >10</th>\n",
              "      <td id=\"T_bdb61_row10_col0\" class=\"data row10 col0\" >Preprocess</td>\n",
              "      <td id=\"T_bdb61_row10_col1\" class=\"data row10 col1\" >True</td>\n",
              "    </tr>\n",
              "    <tr>\n",
              "      <th id=\"T_bdb61_level0_row11\" class=\"row_heading level0 row11\" >11</th>\n",
              "      <td id=\"T_bdb61_row11_col0\" class=\"data row11 col0\" >Imputation type</td>\n",
              "      <td id=\"T_bdb61_row11_col1\" class=\"data row11 col1\" >simple</td>\n",
              "    </tr>\n",
              "    <tr>\n",
              "      <th id=\"T_bdb61_level0_row12\" class=\"row_heading level0 row12\" >12</th>\n",
              "      <td id=\"T_bdb61_row12_col0\" class=\"data row12 col0\" >Numeric imputation</td>\n",
              "      <td id=\"T_bdb61_row12_col1\" class=\"data row12 col1\" >mean</td>\n",
              "    </tr>\n",
              "    <tr>\n",
              "      <th id=\"T_bdb61_level0_row13\" class=\"row_heading level0 row13\" >13</th>\n",
              "      <td id=\"T_bdb61_row13_col0\" class=\"data row13 col0\" >Categorical imputation</td>\n",
              "      <td id=\"T_bdb61_row13_col1\" class=\"data row13 col1\" >mode</td>\n",
              "    </tr>\n",
              "    <tr>\n",
              "      <th id=\"T_bdb61_level0_row14\" class=\"row_heading level0 row14\" >14</th>\n",
              "      <td id=\"T_bdb61_row14_col0\" class=\"data row14 col0\" >Maximum one-hot encoding</td>\n",
              "      <td id=\"T_bdb61_row14_col1\" class=\"data row14 col1\" >25</td>\n",
              "    </tr>\n",
              "    <tr>\n",
              "      <th id=\"T_bdb61_level0_row15\" class=\"row_heading level0 row15\" >15</th>\n",
              "      <td id=\"T_bdb61_row15_col0\" class=\"data row15 col0\" >Encoding method</td>\n",
              "      <td id=\"T_bdb61_row15_col1\" class=\"data row15 col1\" >None</td>\n",
              "    </tr>\n",
              "    <tr>\n",
              "      <th id=\"T_bdb61_level0_row16\" class=\"row_heading level0 row16\" >16</th>\n",
              "      <td id=\"T_bdb61_row16_col0\" class=\"data row16 col0\" >Fold Generator</td>\n",
              "      <td id=\"T_bdb61_row16_col1\" class=\"data row16 col1\" >StratifiedKFold</td>\n",
              "    </tr>\n",
              "    <tr>\n",
              "      <th id=\"T_bdb61_level0_row17\" class=\"row_heading level0 row17\" >17</th>\n",
              "      <td id=\"T_bdb61_row17_col0\" class=\"data row17 col0\" >Fold Number</td>\n",
              "      <td id=\"T_bdb61_row17_col1\" class=\"data row17 col1\" >10</td>\n",
              "    </tr>\n",
              "    <tr>\n",
              "      <th id=\"T_bdb61_level0_row18\" class=\"row_heading level0 row18\" >18</th>\n",
              "      <td id=\"T_bdb61_row18_col0\" class=\"data row18 col0\" >CPU Jobs</td>\n",
              "      <td id=\"T_bdb61_row18_col1\" class=\"data row18 col1\" >-1</td>\n",
              "    </tr>\n",
              "    <tr>\n",
              "      <th id=\"T_bdb61_level0_row19\" class=\"row_heading level0 row19\" >19</th>\n",
              "      <td id=\"T_bdb61_row19_col0\" class=\"data row19 col0\" >Use GPU</td>\n",
              "      <td id=\"T_bdb61_row19_col1\" class=\"data row19 col1\" >False</td>\n",
              "    </tr>\n",
              "    <tr>\n",
              "      <th id=\"T_bdb61_level0_row20\" class=\"row_heading level0 row20\" >20</th>\n",
              "      <td id=\"T_bdb61_row20_col0\" class=\"data row20 col0\" >Log Experiment</td>\n",
              "      <td id=\"T_bdb61_row20_col1\" class=\"data row20 col1\" >False</td>\n",
              "    </tr>\n",
              "    <tr>\n",
              "      <th id=\"T_bdb61_level0_row21\" class=\"row_heading level0 row21\" >21</th>\n",
              "      <td id=\"T_bdb61_row21_col0\" class=\"data row21 col0\" >Experiment Name</td>\n",
              "      <td id=\"T_bdb61_row21_col1\" class=\"data row21 col1\" >clf-default-name</td>\n",
              "    </tr>\n",
              "    <tr>\n",
              "      <th id=\"T_bdb61_level0_row22\" class=\"row_heading level0 row22\" >22</th>\n",
              "      <td id=\"T_bdb61_row22_col0\" class=\"data row22 col0\" >USI</td>\n",
              "      <td id=\"T_bdb61_row22_col1\" class=\"data row22 col1\" >db0f</td>\n",
              "    </tr>\n",
              "  </tbody>\n",
              "</table>\n"
            ],
            "text/plain": [
              "<pandas.io.formats.style.Styler at 0x7dd53ca99390>"
            ]
          },
          "metadata": {},
          "output_type": "display_data"
        }
      ],
      "source": [
        "from pycaret.classification import *\n",
        "clf1 = setup(data=df, target='label', session_id=123)"
      ]
    },
    {
      "cell_type": "code",
      "execution_count": 13,
      "metadata": {
        "colab": {
          "base_uri": "https://localhost:8080/",
          "height": 238,
          "referenced_widgets": [
            "266d41a2454c4484ab4424ade8dcf622",
            "0ae548654f1d4f4cbccaf596d1d38719",
            "247acb6fac604b958dcb5372a2f4e563",
            "5d69cae19c7f409ca1588ac1acff6913",
            "c74af442973342c4af2e9f9ecb8c305f",
            "d6fc0052dd434aaa8e8c1d40962de68d",
            "5c4b00c0664d4cc1bee6c774a6ffe10c",
            "2e7dc6638ca04a5e99e5ddc64674709b",
            "6e68fa31035644abbab842ab982b8330",
            "1eb7d0b686254478a29b993c683f93e1",
            "d9c0fd6aae6f45c58ff3b5eb86bd1cf5"
          ]
        },
        "id": "rldvfd3XgQvw",
        "outputId": "3a7d59a0-f160-41f3-cb35-f741c00425b9"
      },
      "outputs": [
        {
          "data": {
            "text/html": [],
            "text/plain": [
              "<IPython.core.display.HTML object>"
            ]
          },
          "metadata": {},
          "output_type": "display_data"
        },
        {
          "data": {
            "text/html": [
              "<style type=\"text/css\">\n",
              "#T_50fb0 th {\n",
              "  text-align: left;\n",
              "}\n",
              "#T_50fb0_row0_col0, #T_50fb0_row0_col2, #T_50fb0_row1_col0, #T_50fb0_row1_col1, #T_50fb0_row1_col3, #T_50fb0_row1_col4, #T_50fb0_row1_col5, #T_50fb0_row1_col6, #T_50fb0_row1_col7, #T_50fb0_row2_col0, #T_50fb0_row2_col1, #T_50fb0_row2_col2, #T_50fb0_row2_col3, #T_50fb0_row2_col4, #T_50fb0_row2_col5, #T_50fb0_row2_col6, #T_50fb0_row2_col7, #T_50fb0_row3_col0, #T_50fb0_row3_col1, #T_50fb0_row3_col2, #T_50fb0_row3_col3, #T_50fb0_row3_col4, #T_50fb0_row3_col5, #T_50fb0_row3_col6, #T_50fb0_row3_col7, #T_50fb0_row4_col0, #T_50fb0_row4_col1, #T_50fb0_row4_col2, #T_50fb0_row4_col3, #T_50fb0_row4_col4, #T_50fb0_row4_col5, #T_50fb0_row4_col6, #T_50fb0_row4_col7, #T_50fb0_row5_col0, #T_50fb0_row5_col1, #T_50fb0_row5_col2, #T_50fb0_row5_col3, #T_50fb0_row5_col4, #T_50fb0_row5_col5, #T_50fb0_row5_col6, #T_50fb0_row5_col7 {\n",
              "  text-align: left;\n",
              "}\n",
              "#T_50fb0_row0_col1, #T_50fb0_row0_col3, #T_50fb0_row0_col4, #T_50fb0_row0_col5, #T_50fb0_row0_col6, #T_50fb0_row0_col7, #T_50fb0_row1_col2 {\n",
              "  text-align: left;\n",
              "  background-color: yellow;\n",
              "}\n",
              "#T_50fb0_row0_col8, #T_50fb0_row1_col8, #T_50fb0_row2_col8, #T_50fb0_row4_col8, #T_50fb0_row5_col8 {\n",
              "  text-align: left;\n",
              "  background-color: lightgrey;\n",
              "}\n",
              "#T_50fb0_row3_col8 {\n",
              "  text-align: left;\n",
              "  background-color: yellow;\n",
              "  background-color: lightgrey;\n",
              "}\n",
              "</style>\n",
              "<table id=\"T_50fb0\" class=\"dataframe\">\n",
              "  <thead>\n",
              "    <tr>\n",
              "      <th class=\"blank level0\" >&nbsp;</th>\n",
              "      <th id=\"T_50fb0_level0_col0\" class=\"col_heading level0 col0\" >Model</th>\n",
              "      <th id=\"T_50fb0_level0_col1\" class=\"col_heading level0 col1\" >Accuracy</th>\n",
              "      <th id=\"T_50fb0_level0_col2\" class=\"col_heading level0 col2\" >AUC</th>\n",
              "      <th id=\"T_50fb0_level0_col3\" class=\"col_heading level0 col3\" >Recall</th>\n",
              "      <th id=\"T_50fb0_level0_col4\" class=\"col_heading level0 col4\" >Prec.</th>\n",
              "      <th id=\"T_50fb0_level0_col5\" class=\"col_heading level0 col5\" >F1</th>\n",
              "      <th id=\"T_50fb0_level0_col6\" class=\"col_heading level0 col6\" >Kappa</th>\n",
              "      <th id=\"T_50fb0_level0_col7\" class=\"col_heading level0 col7\" >MCC</th>\n",
              "      <th id=\"T_50fb0_level0_col8\" class=\"col_heading level0 col8\" >TT (Sec)</th>\n",
              "    </tr>\n",
              "  </thead>\n",
              "  <tbody>\n",
              "    <tr>\n",
              "      <th id=\"T_50fb0_level0_row0\" class=\"row_heading level0 row0\" >et</th>\n",
              "      <td id=\"T_50fb0_row0_col0\" class=\"data row0 col0\" >Extra Trees Classifier</td>\n",
              "      <td id=\"T_50fb0_row0_col1\" class=\"data row0 col1\" >0.9485</td>\n",
              "      <td id=\"T_50fb0_row0_col2\" class=\"data row0 col2\" >0.8602</td>\n",
              "      <td id=\"T_50fb0_row0_col3\" class=\"data row0 col3\" >0.4494</td>\n",
              "      <td id=\"T_50fb0_row0_col4\" class=\"data row0 col4\" >0.9889</td>\n",
              "      <td id=\"T_50fb0_row0_col5\" class=\"data row0 col5\" >0.6143</td>\n",
              "      <td id=\"T_50fb0_row0_col6\" class=\"data row0 col6\" >0.5913</td>\n",
              "      <td id=\"T_50fb0_row0_col7\" class=\"data row0 col7\" >0.6460</td>\n",
              "      <td id=\"T_50fb0_row0_col8\" class=\"data row0 col8\" >1.2830</td>\n",
              "    </tr>\n",
              "    <tr>\n",
              "      <th id=\"T_50fb0_level0_row1\" class=\"row_heading level0 row1\" >rf</th>\n",
              "      <td id=\"T_50fb0_row1_col0\" class=\"data row1 col0\" >Random Forest Classifier</td>\n",
              "      <td id=\"T_50fb0_row1_col1\" class=\"data row1 col1\" >0.9347</td>\n",
              "      <td id=\"T_50fb0_row1_col2\" class=\"data row1 col2\" >0.8796</td>\n",
              "      <td id=\"T_50fb0_row1_col3\" class=\"data row1 col3\" >0.3014</td>\n",
              "      <td id=\"T_50fb0_row1_col4\" class=\"data row1 col4\" >0.9750</td>\n",
              "      <td id=\"T_50fb0_row1_col5\" class=\"data row1 col5\" >0.4326</td>\n",
              "      <td id=\"T_50fb0_row1_col6\" class=\"data row1 col6\" >0.4127</td>\n",
              "      <td id=\"T_50fb0_row1_col7\" class=\"data row1 col7\" >0.4984</td>\n",
              "      <td id=\"T_50fb0_row1_col8\" class=\"data row1 col8\" >0.6610</td>\n",
              "    </tr>\n",
              "    <tr>\n",
              "      <th id=\"T_50fb0_level0_row2\" class=\"row_heading level0 row2\" >dt</th>\n",
              "      <td id=\"T_50fb0_row2_col0\" class=\"data row2 col0\" >Decision Tree Classifier</td>\n",
              "      <td id=\"T_50fb0_row2_col1\" class=\"data row2 col1\" >0.9068</td>\n",
              "      <td id=\"T_50fb0_row2_col2\" class=\"data row2 col2\" >0.4998</td>\n",
              "      <td id=\"T_50fb0_row2_col3\" class=\"data row2 col3\" >0.0000</td>\n",
              "      <td id=\"T_50fb0_row2_col4\" class=\"data row2 col4\" >0.0000</td>\n",
              "      <td id=\"T_50fb0_row2_col5\" class=\"data row2 col5\" >0.0000</td>\n",
              "      <td id=\"T_50fb0_row2_col6\" class=\"data row2 col6\" >-0.0007</td>\n",
              "      <td id=\"T_50fb0_row2_col7\" class=\"data row2 col7\" >-0.0019</td>\n",
              "      <td id=\"T_50fb0_row2_col8\" class=\"data row2 col8\" >0.3750</td>\n",
              "    </tr>\n",
              "    <tr>\n",
              "      <th id=\"T_50fb0_level0_row3\" class=\"row_heading level0 row3\" >xgboost</th>\n",
              "      <td id=\"T_50fb0_row3_col0\" class=\"data row3 col0\" >Extreme Gradient Boosting</td>\n",
              "      <td id=\"T_50fb0_row3_col1\" class=\"data row3 col1\" >0.9068</td>\n",
              "      <td id=\"T_50fb0_row3_col2\" class=\"data row3 col2\" >0.7884</td>\n",
              "      <td id=\"T_50fb0_row3_col3\" class=\"data row3 col3\" >0.0000</td>\n",
              "      <td id=\"T_50fb0_row3_col4\" class=\"data row3 col4\" >0.0000</td>\n",
              "      <td id=\"T_50fb0_row3_col5\" class=\"data row3 col5\" >0.0000</td>\n",
              "      <td id=\"T_50fb0_row3_col6\" class=\"data row3 col6\" >-0.0007</td>\n",
              "      <td id=\"T_50fb0_row3_col7\" class=\"data row3 col7\" >-0.0019</td>\n",
              "      <td id=\"T_50fb0_row3_col8\" class=\"data row3 col8\" >0.3060</td>\n",
              "    </tr>\n",
              "    <tr>\n",
              "      <th id=\"T_50fb0_level0_row4\" class=\"row_heading level0 row4\" >lightgbm</th>\n",
              "      <td id=\"T_50fb0_row4_col0\" class=\"data row4 col0\" >Light Gradient Boosting Machine</td>\n",
              "      <td id=\"T_50fb0_row4_col1\" class=\"data row4 col1\" >0.9068</td>\n",
              "      <td id=\"T_50fb0_row4_col2\" class=\"data row4 col2\" >0.6873</td>\n",
              "      <td id=\"T_50fb0_row4_col3\" class=\"data row4 col3\" >0.0000</td>\n",
              "      <td id=\"T_50fb0_row4_col4\" class=\"data row4 col4\" >0.0000</td>\n",
              "      <td id=\"T_50fb0_row4_col5\" class=\"data row4 col5\" >0.0000</td>\n",
              "      <td id=\"T_50fb0_row4_col6\" class=\"data row4 col6\" >-0.0007</td>\n",
              "      <td id=\"T_50fb0_row4_col7\" class=\"data row4 col7\" >-0.0019</td>\n",
              "      <td id=\"T_50fb0_row4_col8\" class=\"data row4 col8\" >0.5230</td>\n",
              "    </tr>\n",
              "    <tr>\n",
              "      <th id=\"T_50fb0_level0_row5\" class=\"row_heading level0 row5\" >catboost</th>\n",
              "      <td id=\"T_50fb0_row5_col0\" class=\"data row5 col0\" >CatBoost Classifier</td>\n",
              "      <td id=\"T_50fb0_row5_col1\" class=\"data row5 col1\" >0.9068</td>\n",
              "      <td id=\"T_50fb0_row5_col2\" class=\"data row5 col2\" >0.7798</td>\n",
              "      <td id=\"T_50fb0_row5_col3\" class=\"data row5 col3\" >0.0000</td>\n",
              "      <td id=\"T_50fb0_row5_col4\" class=\"data row5 col4\" >0.0000</td>\n",
              "      <td id=\"T_50fb0_row5_col5\" class=\"data row5 col5\" >0.0000</td>\n",
              "      <td id=\"T_50fb0_row5_col6\" class=\"data row5 col6\" >-0.0007</td>\n",
              "      <td id=\"T_50fb0_row5_col7\" class=\"data row5 col7\" >-0.0019</td>\n",
              "      <td id=\"T_50fb0_row5_col8\" class=\"data row5 col8\" >7.3760</td>\n",
              "    </tr>\n",
              "  </tbody>\n",
              "</table>\n"
            ],
            "text/plain": [
              "<pandas.io.formats.style.Styler at 0x7dd525148c10>"
            ]
          },
          "metadata": {},
          "output_type": "display_data"
        },
        {
          "data": {
            "application/vnd.jupyter.widget-view+json": {
              "model_id": "266d41a2454c4484ab4424ade8dcf622",
              "version_major": 2,
              "version_minor": 0
            },
            "text/plain": [
              "Processing:   0%|          | 0/29 [00:00<?, ?it/s]"
            ]
          },
          "metadata": {
            "application/vnd.jupyter.widget-view+json": {
              "colab": {
                "custom_widget_manager": {
                  "url": "https://ssl.gstatic.com/colaboratory-static/widgets/colab-cdn-widget-manager/2b70e893a8ba7c0f/manager.min.js"
                }
              }
            }
          },
          "output_type": "display_data"
        },
        {
          "data": {
            "text/html": [],
            "text/plain": [
              "<IPython.core.display.HTML object>"
            ]
          },
          "metadata": {},
          "output_type": "display_data"
        }
      ],
      "source": [
        "# et es el mejor\n",
        "best_model = compare_models(include = ['et', 'rf', 'dt', 'xgboost', 'lightgbm', 'catboost'], sort='F1')"
      ]
    },
    {
      "cell_type": "code",
      "execution_count": 14,
      "metadata": {
        "colab": {
          "base_uri": "https://localhost:8080/",
          "height": 635,
          "referenced_widgets": [
            "41bef4855dcb4971874b33a824053b24",
            "328dfc53682e49b8ab91372bcd0ae98e",
            "79fc5ebbb23543a18276c099290c6133",
            "d5604b3d791b4a6780dd8b7d1368fd4b",
            "af5ed7f3f343492fa7e21f81fd1c8376",
            "1d3ed629b9e6480dabb8029983b0dbc8",
            "7cd26105158740fcaa22efcb25e48ed2",
            "2bdd68b522654800a09d137e5540078a",
            "1626eca464cd4bff9ebef3200fff0085",
            "040efd1ce58b44fd95e1b7db3ade67ee",
            "f680f3ddf2044b70a0a6deeb9876b156",
            "c6b3bfe6332e478ca7667c138158c789",
            "b8c1e59b78fc47c5b96274aa8d7be341",
            "ef157d3348e248068a45fecbc192ad26",
            "9e9d98d471294a16952853fbe2ecfef0",
            "b388e20ce3f44a60a577ad0b75b7318c",
            "60e30ccecf484a649aa46a64fecaf3ad",
            "8088f4ee26e24eee9a4bf4932612b2af"
          ]
        },
        "id": "6jB4NWr1Ik5b",
        "outputId": "006d5fef-4d18-4e44-cd2f-ea5593db2642"
      },
      "outputs": [
        {
          "data": {
            "text/html": [],
            "text/plain": [
              "<IPython.core.display.HTML object>"
            ]
          },
          "metadata": {},
          "output_type": "display_data"
        },
        {
          "data": {
            "text/html": [
              "<style type=\"text/css\">\n",
              "#T_f6802_row10_col0, #T_f6802_row10_col1, #T_f6802_row10_col2, #T_f6802_row10_col3, #T_f6802_row10_col4, #T_f6802_row10_col5, #T_f6802_row10_col6 {\n",
              "  background: yellow;\n",
              "}\n",
              "</style>\n",
              "<table id=\"T_f6802\" class=\"dataframe\">\n",
              "  <thead>\n",
              "    <tr>\n",
              "      <th class=\"blank level0\" >&nbsp;</th>\n",
              "      <th id=\"T_f6802_level0_col0\" class=\"col_heading level0 col0\" >Accuracy</th>\n",
              "      <th id=\"T_f6802_level0_col1\" class=\"col_heading level0 col1\" >AUC</th>\n",
              "      <th id=\"T_f6802_level0_col2\" class=\"col_heading level0 col2\" >Recall</th>\n",
              "      <th id=\"T_f6802_level0_col3\" class=\"col_heading level0 col3\" >Prec.</th>\n",
              "      <th id=\"T_f6802_level0_col4\" class=\"col_heading level0 col4\" >F1</th>\n",
              "      <th id=\"T_f6802_level0_col5\" class=\"col_heading level0 col5\" >Kappa</th>\n",
              "      <th id=\"T_f6802_level0_col6\" class=\"col_heading level0 col6\" >MCC</th>\n",
              "    </tr>\n",
              "    <tr>\n",
              "      <th class=\"index_name level0\" >Fold</th>\n",
              "      <th class=\"blank col0\" >&nbsp;</th>\n",
              "      <th class=\"blank col1\" >&nbsp;</th>\n",
              "      <th class=\"blank col2\" >&nbsp;</th>\n",
              "      <th class=\"blank col3\" >&nbsp;</th>\n",
              "      <th class=\"blank col4\" >&nbsp;</th>\n",
              "      <th class=\"blank col5\" >&nbsp;</th>\n",
              "      <th class=\"blank col6\" >&nbsp;</th>\n",
              "    </tr>\n",
              "  </thead>\n",
              "  <tbody>\n",
              "    <tr>\n",
              "      <th id=\"T_f6802_level0_row0\" class=\"row_heading level0 row0\" >0</th>\n",
              "      <td id=\"T_f6802_row0_col0\" class=\"data row0 col0\" >0.9565</td>\n",
              "      <td id=\"T_f6802_row0_col1\" class=\"data row0 col1\" >0.8966</td>\n",
              "      <td id=\"T_f6802_row0_col2\" class=\"data row0 col2\" >0.5200</td>\n",
              "      <td id=\"T_f6802_row0_col3\" class=\"data row0 col3\" >1.0000</td>\n",
              "      <td id=\"T_f6802_row0_col4\" class=\"data row0 col4\" >0.6842</td>\n",
              "      <td id=\"T_f6802_row0_col5\" class=\"data row0 col5\" >0.6633</td>\n",
              "      <td id=\"T_f6802_row0_col6\" class=\"data row0 col6\" >0.7045</td>\n",
              "    </tr>\n",
              "    <tr>\n",
              "      <th id=\"T_f6802_level0_row1\" class=\"row_heading level0 row1\" >1</th>\n",
              "      <td id=\"T_f6802_row1_col0\" class=\"data row1 col0\" >0.9420</td>\n",
              "      <td id=\"T_f6802_row1_col1\" class=\"data row1 col1\" >0.8381</td>\n",
              "      <td id=\"T_f6802_row1_col2\" class=\"data row1 col2\" >0.3846</td>\n",
              "      <td id=\"T_f6802_row1_col3\" class=\"data row1 col3\" >1.0000</td>\n",
              "      <td id=\"T_f6802_row1_col4\" class=\"data row1 col4\" >0.5556</td>\n",
              "      <td id=\"T_f6802_row1_col5\" class=\"data row1 col5\" >0.5310</td>\n",
              "      <td id=\"T_f6802_row1_col6\" class=\"data row1 col6\" >0.6012</td>\n",
              "    </tr>\n",
              "    <tr>\n",
              "      <th id=\"T_f6802_level0_row2\" class=\"row_heading level0 row2\" >2</th>\n",
              "      <td id=\"T_f6802_row2_col0\" class=\"data row2 col0\" >0.9457</td>\n",
              "      <td id=\"T_f6802_row2_col1\" class=\"data row2 col1\" >0.9091</td>\n",
              "      <td id=\"T_f6802_row2_col2\" class=\"data row2 col2\" >0.4231</td>\n",
              "      <td id=\"T_f6802_row2_col3\" class=\"data row2 col3\" >1.0000</td>\n",
              "      <td id=\"T_f6802_row2_col4\" class=\"data row2 col4\" >0.5946</td>\n",
              "      <td id=\"T_f6802_row2_col5\" class=\"data row2 col5\" >0.5705</td>\n",
              "      <td id=\"T_f6802_row2_col6\" class=\"data row2 col6\" >0.6318</td>\n",
              "    </tr>\n",
              "    <tr>\n",
              "      <th id=\"T_f6802_level0_row3\" class=\"row_heading level0 row3\" >3</th>\n",
              "      <td id=\"T_f6802_row3_col0\" class=\"data row3 col0\" >0.9457</td>\n",
              "      <td id=\"T_f6802_row3_col1\" class=\"data row3 col1\" >0.8844</td>\n",
              "      <td id=\"T_f6802_row3_col2\" class=\"data row3 col2\" >0.4231</td>\n",
              "      <td id=\"T_f6802_row3_col3\" class=\"data row3 col3\" >1.0000</td>\n",
              "      <td id=\"T_f6802_row3_col4\" class=\"data row3 col4\" >0.5946</td>\n",
              "      <td id=\"T_f6802_row3_col5\" class=\"data row3 col5\" >0.5705</td>\n",
              "      <td id=\"T_f6802_row3_col6\" class=\"data row3 col6\" >0.6318</td>\n",
              "    </tr>\n",
              "    <tr>\n",
              "      <th id=\"T_f6802_level0_row4\" class=\"row_heading level0 row4\" >4</th>\n",
              "      <td id=\"T_f6802_row4_col0\" class=\"data row4 col0\" >0.9565</td>\n",
              "      <td id=\"T_f6802_row4_col1\" class=\"data row4 col1\" >0.9149</td>\n",
              "      <td id=\"T_f6802_row4_col2\" class=\"data row4 col2\" >0.5385</td>\n",
              "      <td id=\"T_f6802_row4_col3\" class=\"data row4 col3\" >1.0000</td>\n",
              "      <td id=\"T_f6802_row4_col4\" class=\"data row4 col4\" >0.7000</td>\n",
              "      <td id=\"T_f6802_row4_col5\" class=\"data row4 col5\" >0.6788</td>\n",
              "      <td id=\"T_f6802_row4_col6\" class=\"data row4 col6\" >0.7168</td>\n",
              "    </tr>\n",
              "    <tr>\n",
              "      <th id=\"T_f6802_level0_row5\" class=\"row_heading level0 row5\" >5</th>\n",
              "      <td id=\"T_f6802_row5_col0\" class=\"data row5 col0\" >0.9601</td>\n",
              "      <td id=\"T_f6802_row5_col1\" class=\"data row5 col1\" >0.8623</td>\n",
              "      <td id=\"T_f6802_row5_col2\" class=\"data row5 col2\" >0.5769</td>\n",
              "      <td id=\"T_f6802_row5_col3\" class=\"data row5 col3\" >1.0000</td>\n",
              "      <td id=\"T_f6802_row5_col4\" class=\"data row5 col4\" >0.7317</td>\n",
              "      <td id=\"T_f6802_row5_col5\" class=\"data row5 col5\" >0.7118</td>\n",
              "      <td id=\"T_f6802_row5_col6\" class=\"data row5 col6\" >0.7434</td>\n",
              "    </tr>\n",
              "    <tr>\n",
              "      <th id=\"T_f6802_level0_row6\" class=\"row_heading level0 row6\" >6</th>\n",
              "      <td id=\"T_f6802_row6_col0\" class=\"data row6 col0\" >0.9312</td>\n",
              "      <td id=\"T_f6802_row6_col1\" class=\"data row6 col1\" >0.8157</td>\n",
              "      <td id=\"T_f6802_row6_col2\" class=\"data row6 col2\" >0.3077</td>\n",
              "      <td id=\"T_f6802_row6_col3\" class=\"data row6 col3\" >0.8889</td>\n",
              "      <td id=\"T_f6802_row6_col4\" class=\"data row6 col4\" >0.4571</td>\n",
              "      <td id=\"T_f6802_row6_col5\" class=\"data row6 col5\" >0.4295</td>\n",
              "      <td id=\"T_f6802_row6_col6\" class=\"data row6 col6\" >0.4995</td>\n",
              "    </tr>\n",
              "    <tr>\n",
              "      <th id=\"T_f6802_level0_row7\" class=\"row_heading level0 row7\" >7</th>\n",
              "      <td id=\"T_f6802_row7_col0\" class=\"data row7 col0\" >0.9418</td>\n",
              "      <td id=\"T_f6802_row7_col1\" class=\"data row7 col1\" >0.7170</td>\n",
              "      <td id=\"T_f6802_row7_col2\" class=\"data row7 col2\" >0.3600</td>\n",
              "      <td id=\"T_f6802_row7_col3\" class=\"data row7 col3\" >1.0000</td>\n",
              "      <td id=\"T_f6802_row7_col4\" class=\"data row7 col4\" >0.5294</td>\n",
              "      <td id=\"T_f6802_row7_col5\" class=\"data row7 col5\" >0.5056</td>\n",
              "      <td id=\"T_f6802_row7_col6\" class=\"data row7 col6\" >0.5817</td>\n",
              "    </tr>\n",
              "    <tr>\n",
              "      <th id=\"T_f6802_level0_row8\" class=\"row_heading level0 row8\" >8</th>\n",
              "      <td id=\"T_f6802_row8_col0\" class=\"data row8 col0\" >0.9491</td>\n",
              "      <td id=\"T_f6802_row8_col1\" class=\"data row8 col1\" >0.8674</td>\n",
              "      <td id=\"T_f6802_row8_col2\" class=\"data row8 col2\" >0.4400</td>\n",
              "      <td id=\"T_f6802_row8_col3\" class=\"data row8 col3\" >1.0000</td>\n",
              "      <td id=\"T_f6802_row8_col4\" class=\"data row8 col4\" >0.6111</td>\n",
              "      <td id=\"T_f6802_row8_col5\" class=\"data row8 col5\" >0.5882</td>\n",
              "      <td id=\"T_f6802_row8_col6\" class=\"data row8 col6\" >0.6455</td>\n",
              "    </tr>\n",
              "    <tr>\n",
              "      <th id=\"T_f6802_level0_row9\" class=\"row_heading level0 row9\" >9</th>\n",
              "      <td id=\"T_f6802_row9_col0\" class=\"data row9 col0\" >0.9564</td>\n",
              "      <td id=\"T_f6802_row9_col1\" class=\"data row9 col1\" >0.8966</td>\n",
              "      <td id=\"T_f6802_row9_col2\" class=\"data row9 col2\" >0.5200</td>\n",
              "      <td id=\"T_f6802_row9_col3\" class=\"data row9 col3\" >1.0000</td>\n",
              "      <td id=\"T_f6802_row9_col4\" class=\"data row9 col4\" >0.6842</td>\n",
              "      <td id=\"T_f6802_row9_col5\" class=\"data row9 col5\" >0.6633</td>\n",
              "      <td id=\"T_f6802_row9_col6\" class=\"data row9 col6\" >0.7044</td>\n",
              "    </tr>\n",
              "    <tr>\n",
              "      <th id=\"T_f6802_level0_row10\" class=\"row_heading level0 row10\" >Mean</th>\n",
              "      <td id=\"T_f6802_row10_col0\" class=\"data row10 col0\" >0.9485</td>\n",
              "      <td id=\"T_f6802_row10_col1\" class=\"data row10 col1\" >0.8602</td>\n",
              "      <td id=\"T_f6802_row10_col2\" class=\"data row10 col2\" >0.4494</td>\n",
              "      <td id=\"T_f6802_row10_col3\" class=\"data row10 col3\" >0.9889</td>\n",
              "      <td id=\"T_f6802_row10_col4\" class=\"data row10 col4\" >0.6143</td>\n",
              "      <td id=\"T_f6802_row10_col5\" class=\"data row10 col5\" >0.5913</td>\n",
              "      <td id=\"T_f6802_row10_col6\" class=\"data row10 col6\" >0.6460</td>\n",
              "    </tr>\n",
              "    <tr>\n",
              "      <th id=\"T_f6802_level0_row11\" class=\"row_heading level0 row11\" >Std</th>\n",
              "      <td id=\"T_f6802_row11_col0\" class=\"data row11 col0\" >0.0085</td>\n",
              "      <td id=\"T_f6802_row11_col1\" class=\"data row11 col1\" >0.0562</td>\n",
              "      <td id=\"T_f6802_row11_col2\" class=\"data row11 col2\" >0.0824</td>\n",
              "      <td id=\"T_f6802_row11_col3\" class=\"data row11 col3\" >0.0333</td>\n",
              "      <td id=\"T_f6802_row11_col4\" class=\"data row11 col4\" >0.0819</td>\n",
              "      <td id=\"T_f6802_row11_col5\" class=\"data row11 col5\" >0.0840</td>\n",
              "      <td id=\"T_f6802_row11_col6\" class=\"data row11 col6\" >0.0702</td>\n",
              "    </tr>\n",
              "  </tbody>\n",
              "</table>\n"
            ],
            "text/plain": [
              "<pandas.io.formats.style.Styler at 0x7dd53c0667d0>"
            ]
          },
          "metadata": {},
          "output_type": "display_data"
        },
        {
          "data": {
            "application/vnd.jupyter.widget-view+json": {
              "model_id": "41bef4855dcb4971874b33a824053b24",
              "version_major": 2,
              "version_minor": 0
            },
            "text/plain": [
              "Processing:   0%|          | 0/4 [00:00<?, ?it/s]"
            ]
          },
          "metadata": {
            "application/vnd.jupyter.widget-view+json": {
              "colab": {
                "custom_widget_manager": {
                  "url": "https://ssl.gstatic.com/colaboratory-static/widgets/colab-cdn-widget-manager/2b70e893a8ba7c0f/manager.min.js"
                }
              }
            }
          },
          "output_type": "display_data"
        },
        {
          "data": {
            "text/html": [],
            "text/plain": [
              "<IPython.core.display.HTML object>"
            ]
          },
          "metadata": {},
          "output_type": "display_data"
        },
        {
          "data": {
            "application/vnd.jupyter.widget-view+json": {
              "model_id": "b388e20ce3f44a60a577ad0b75b7318c",
              "version_major": 2,
              "version_minor": 0
            },
            "text/plain": [
              "interactive(children=(ToggleButtons(description='Plot Type:', icons=('',), options=(('Pipeline Plot', 'pipelin…"
            ]
          },
          "metadata": {
            "application/vnd.jupyter.widget-view+json": {
              "colab": {
                "custom_widget_manager": {
                  "url": "https://ssl.gstatic.com/colaboratory-static/widgets/colab-cdn-widget-manager/2b70e893a8ba7c0f/manager.min.js"
                }
              }
            }
          },
          "output_type": "display_data"
        }
      ],
      "source": [
        "et_model = create_model('et')\n",
        "evaluate_model(et_model)"
      ]
    },
    {
      "cell_type": "markdown",
      "metadata": {
        "id": "K8DSS3u1xMpB"
      },
      "source": [
        "### 2.2 Reducción de dimensionalidad [14 puntos]"
      ]
    },
    {
      "cell_type": "markdown",
      "metadata": {
        "id": "RLu0543p876P"
      },
      "source": [
        "<center>\n",
        "<img src='https://i.kym-cdn.com/photos/images/original/002/258/560/668.gif' width=400 />"
      ]
    },
    {
      "cell_type": "markdown",
      "metadata": {
        "id": "QT-bxJ0txwNF"
      },
      "source": [
        "A pesar de los resultados obtenidos previamente, el manager de Jere ha solicitado el entrenamiento de un modelo de XGBoost utilizando los datos disponibles. Además, se debe proceder a realizar una reducción de dimensionalidad basada en la importancia de las características.\n",
        "\n",
        "Para llevar a cabo esta tarea:\n",
        "\n",
        "1. Inicie entrenando un modelo XGBoost con todas las características disponibles. [2 puntos]\n",
        "\n",
        "2. Una vez el modelo esté entrenado, evalúe y clasifique las características según su importancia de forma descendente. [2 puntos]\n",
        "\n",
        "3. Utilice esta clasificación para ejecutar una búsqueda recursiva de eliminación de características, eliminando progresivamente las menos importantes y evaluando el impacto en el desempeño del modelo hasta identificar las N características más críticas. [2 puntos]\n",
        "\n",
        "4. Con este conjunto reducido de características, entrene un nuevo modelo y evalúe su rendimiento. [2 puntos]\n",
        "\n",
        "5. Posteriormente, responda a las siguientes preguntas para una comprensión más profunda de los cambios y beneficios:\n",
        "\n",
        "  - ¿El rendimiento del modelo con las características seleccionadas es similar al del modelo original? ¿Cómo se comparan en términos de precisión y robustez? [2 puntos]\n",
        "  - ¿Cuáles son los beneficios potenciales de eliminar variables del modelo? Considere factores como la simplificación del modelo, reducción del tiempo de entrenamiento, y mejora en la capacidad de generalización. [2 puntos]\n",
        "  - Comente si el modelo con menor dimensionalidad es más sencillo de explicar. Explique brevemente por qué la eliminación de ciertas características puede facilitar la comprensión y la explicación del comportamiento del modelo. [2 puntos]\n",
        "\n",
        "Notar que con esta metodologia buscamos encontrar un punto entermedio entre número de festures y desempeño. por esto, si observa que al aumentar festires el aumento es despreciable, puede no considerar agregar más features a su modelo."
      ]
    },
    {
      "cell_type": "markdown",
      "metadata": {
        "id": "O5dn5GEX_-7C"
      },
      "source": [
        "3.- De acuerdo a lo obtenido para las métricas de evaluación del desempeño, se obtiene que una vez eliminadas las 18 características menos importantes, se tiene el mejor desempeño.\n",
        "\n",
        "4.- Al evaluar el rendimiento del modelo con características reducidas se tiene que el modelo tiene una precisión del 92% para la clase 0 y un 55% para la clase 1. Sin embargo, la métrica recall para la clase 1 es baja (22%), lo que indica que el modelo tiene dificultades para identificar correctamente los casos positivos de esa clase. Esto puede afectar negativamente al F1-score de la clase 1, que es bajo (31%). El accuracy general del modelo es del 91%, sin embargo, esto es engañoso, ya que el modelo tiene un buen rendimiento para la clase 0 pero no tan bueno para la clase 1, debido al desbalance de clases en los datos.\n",
        "\n",
        "5.-\n",
        "  - ¿El rendimiento del modelo con las características seleccionadas es similar al del modelo original? ¿Cómo se comparan en términos de precisión y robustez?\n",
        "  \n",
        "  El rendimiento del modelo con las características seleccionadas es similar al del modelo original en términos de precisión para la clase 0, pero ligeramente menor para la clase 1. Por su parte, el recall y el F1-score para la clase 1 son un poco más bajos en el modelo con características seleccionadas. La precisión global y el F1-score promedio también son ligeramente más bajos en el modelo con características seleccionadas. No obstante, considerando que las diferencias son bastante pequeñas a pesar de que el modelo con características seleccionadas utiliza menos features, se concluye que este modelo es una buena alternativa.\n",
        "\n",
        "  - ¿Cuáles son los beneficios potenciales de eliminar variables del modelo? Considere factores como la simplificación del modelo, reducción del tiempo de entrenamiento, y mejora en la capacidad de generalización.\n",
        "  \n",
        "   Algunos beneficios potenciales de eliminar variables del modelo incluyen una simplificación del modelo, lo que puede hacer que este sea más interpretable y fácil de explicar. La reducción del tiempo de entrenamiento también puede ser un beneficio, especialmente si las características eliminadas eran redundantes o de baja importancia. Además, la eliminación de características irrelevantes puede mejorar la capacidad de generalización del modelo al reducir el riesgo de sobreajuste a los datos de entrenamiento.\n",
        "\n",
        "  - Comente si el modelo con menor dimensionalidad es más sencillo de explicar. Explique brevemente por qué la eliminación de ciertas características puede facilitar la comprensión y la explicación del comportamiento del modelo.\n",
        "\n",
        "  Como se mencionó anteriormente, el modelo con menor dimensionalidad es probablemente más sencillo de explicar porque implica menos características, o bien, menos información a interpretar. Esto facilita la comprensión de su comportamiento y clasificación. Asimismo, la eliminación de ciertas características puede reducir el ruido generado por características irrelevantes que podrían dificultar la interpretación."
      ]
    },
    {
      "cell_type": "markdown",
      "metadata": {
        "id": "NHfmK63TuDOS"
      },
      "source": [
        "**Respuesta**"
      ]
    },
    {
      "cell_type": "code",
      "execution_count": 52,
      "metadata": {
        "colab": {
          "base_uri": "https://localhost:8080/"
        },
        "id": "HQwUd_nsuDOe",
        "outputId": "d60c73f6-1d77-4824-b11b-3932fa7466e1"
      },
      "outputs": [
        {
          "name": "stdout",
          "output_type": "stream",
          "text": [
            "              precision    recall  f1-score   support\n",
            "\n",
            "           0       0.93      0.98      0.95       715\n",
            "           1       0.51      0.25      0.33        73\n",
            "\n",
            "    accuracy                           0.91       788\n",
            "   macro avg       0.72      0.61      0.64       788\n",
            "weighted avg       0.89      0.91      0.89       788\n",
            "\n"
          ]
        }
      ],
      "source": [
        "# 1. entrenamos un modelo xgboost con todas las características disponibles\n",
        "X = df.drop(\"label\", axis=1)\n",
        "y = df[\"label\"]\n",
        "pipeline_transform_only = Pipeline([(\"transform\", col_transformer)])\n",
        "X_transformed = pipeline_transform_only.transform(X)\n",
        "X_train, X_test, y_train, y_test = train_test_split(X_transformed, y, test_size=0.2, stratify=y)\n",
        "original_model = XGBClassifier()\n",
        "original_model.fit(X_train, y_train)\n",
        "y_pred = original_model.predict(X_test)\n",
        "print(classification_report(y_test, y_pred))"
      ]
    },
    {
      "cell_type": "code",
      "execution_count": 16,
      "metadata": {
        "id": "xSWs7KTVbfYe"
      },
      "outputs": [],
      "source": [
        "# 2. evaluamos y clasificamos las características según su importancia en forma descendente\n",
        "def importance(model, importance_type='weight'):\n",
        "    # Obtener las importancias de las características\n",
        "    importance_dict = model.get_booster().get_score(importance_type=importance_type)\n",
        "\n",
        "    # Convertir las importancias a un DataFrame para facilitar la visualización\n",
        "    importance_df = pd.DataFrame({\n",
        "        'Feature': importance_dict.keys(),\n",
        "        'Importance': importance_dict.values()\n",
        "    }).sort_values(by='Importance', ascending=False)\n",
        "    importance_df.reset_index(inplace = True, drop = True)\n",
        "\n",
        "    return importance_df\n",
        "\n",
        "importance_df = importance(model, importance_type='weight')"
      ]
    },
    {
      "cell_type": "code",
      "execution_count": 45,
      "metadata": {
        "colab": {
          "base_uri": "https://localhost:8080/",
          "height": 542
        },
        "id": "wWpJZLiCApox",
        "outputId": "1d62a009-8e60-469b-d34f-dfe5f7dbcaa1"
      },
      "outputs": [
        {
          "data": {
            "text/html": [
              "<html>\n",
              "<head><meta charset=\"utf-8\" /></head>\n",
              "<body>\n",
              "    <div>            <script src=\"https://cdnjs.cloudflare.com/ajax/libs/mathjax/2.7.5/MathJax.js?config=TeX-AMS-MML_SVG\"></script><script type=\"text/javascript\">if (window.MathJax && window.MathJax.Hub && window.MathJax.Hub.Config) {window.MathJax.Hub.Config({SVG: {font: \"STIX-Web\"}});}</script>                <script type=\"text/javascript\">window.PlotlyConfig = {MathJaxConfig: 'local'};</script>\n",
              "        <script charset=\"utf-8\" src=\"https://cdn.plot.ly/plotly-2.24.1.min.js\"></script>                <div id=\"77714ba6-6665-4e28-9a70-c50a7379bdf8\" class=\"plotly-graph-div\" style=\"height:525px; width:100%;\"></div>            <script type=\"text/javascript\">                                    window.PLOTLYENV=window.PLOTLYENV || {};                                    if (document.getElementById(\"77714ba6-6665-4e28-9a70-c50a7379bdf8\")) {                    Plotly.newPlot(                        \"77714ba6-6665-4e28-9a70-c50a7379bdf8\",                        [{\"mode\":\"lines\",\"name\":\"Precision\",\"x\":[1,2,3,4,5,6,7,8,9,10,11,12,13,14,15,16,17,18,19,20,21,22,23,24,25,26,27,28,29,30,31,32,33,34,35,36,37,38],\"y\":[0.4418604651162791,0.5135135135135135,0.48148148148148145,0.45454545454545453,0.46875,0.42105263157894735,0.6206896551724138,0.5,0.4230769230769231,0.5357142857142857,0.46808510638297873,0.5,0.41935483870967744,0.3125,0.391304347826087,0.4722222222222222,0.32558139534883723,0.7407407407407407,0.5416666666666666,0.6060606060606061,0.55,0.5238095238095238,0.5882352941176471,0.45454545454545453,0.4074074074074074,0.46153846153846156,0.525,0.4230769230769231,0.3448275862068966,0.48148148148148145,0.5416666666666666,0.5769230769230769,0.3870967741935484,0.3448275862068966,0.4,0.4,0.7142857142857143,0.0],\"type\":\"scatter\"},{\"mode\":\"lines\",\"name\":\"Recall\",\"x\":[1,2,3,4,5,6,7,8,9,10,11,12,13,14,15,16,17,18,19,20,21,22,23,24,25,26,27,28,29,30,31,32,33,34,35,36,37,38],\"y\":[0.2602739726027397,0.2602739726027397,0.1780821917808219,0.2054794520547945,0.2054794520547945,0.2191780821917808,0.2465753424657534,0.136986301369863,0.1506849315068493,0.2054794520547945,0.3013698630136986,0.2191780821917808,0.1780821917808219,0.136986301369863,0.1232876712328767,0.2328767123287671,0.1917808219178082,0.273972602739726,0.1780821917808219,0.273972602739726,0.1506849315068493,0.1506849315068493,0.273972602739726,0.2054794520547945,0.1506849315068493,0.2465753424657534,0.2876712328767123,0.1506849315068493,0.136986301369863,0.1780821917808219,0.1780821917808219,0.2054794520547945,0.1643835616438356,0.136986301369863,0.136986301369863,0.136986301369863,0.0684931506849315,0.0],\"type\":\"scatter\"},{\"mode\":\"lines\",\"name\":\"F1-score\",\"x\":[1,2,3,4,5,6,7,8,9,10,11,12,13,14,15,16,17,18,19,20,21,22,23,24,25,26,27,28,29,30,31,32,33,34,35,36,37,38],\"y\":[0.3275862068965517,0.34545454545454546,0.26,0.2830188679245283,0.2857142857142857,0.2882882882882883,0.35294117647058826,0.21505376344086022,0.2222222222222222,0.297029702970297,0.36666666666666664,0.3047619047619048,0.25,0.19047619047619047,0.1875,0.3119266055045872,0.2413793103448276,0.4,0.26804123711340205,0.37735849056603776,0.23655913978494625,0.23404255319148937,0.37383177570093457,0.2830188679245283,0.22,0.32142857142857145,0.37168141592920356,0.2222222222222222,0.19607843137254902,0.26,0.26804123711340205,0.30303030303030304,0.23076923076923078,0.19607843137254902,0.20408163265306123,0.20408163265306123,0.125,0.0],\"type\":\"scatter\"},{\"mode\":\"lines\",\"name\":\"Accuracy\",\"x\":[1,2,3,4,5,6,7,8,9,10,11,12,13,14,15,16,17,18,19,20,21,22,23,24,25,26,27,28,29,30,31,32,33,34,35,36,37,38],\"y\":[0.9010152284263959,0.9086294416243654,0.9060913705583756,0.9035532994923858,0.9048223350253807,0.899746192893401,0.916243654822335,0.9073604060913706,0.9022842639593909,0.9098984771573604,0.9035532994923858,0.9073604060913706,0.9010152284263959,0.8921319796954315,0.9010152284263959,0.9048223350253807,0.8883248730964467,0.9238578680203046,0.9098984771573604,0.916243654822335,0.9098984771573604,0.9086294416243654,0.9149746192893401,0.9035532994923858,0.9010152284263959,0.9035532994923858,0.9098984771573604,0.9022842639593909,0.8959390862944162,0.9060913705583756,0.9098984771573604,0.9124365482233503,0.8984771573604061,0.8959390862944162,0.9010152284263959,0.9010152284263959,0.9111675126903553,0.9073604060913706],\"type\":\"scatter\"}],                        {\"template\":{\"data\":{\"histogram2dcontour\":[{\"type\":\"histogram2dcontour\",\"colorbar\":{\"outlinewidth\":0,\"ticks\":\"\"},\"colorscale\":[[0.0,\"#0d0887\"],[0.1111111111111111,\"#46039f\"],[0.2222222222222222,\"#7201a8\"],[0.3333333333333333,\"#9c179e\"],[0.4444444444444444,\"#bd3786\"],[0.5555555555555556,\"#d8576b\"],[0.6666666666666666,\"#ed7953\"],[0.7777777777777778,\"#fb9f3a\"],[0.8888888888888888,\"#fdca26\"],[1.0,\"#f0f921\"]]}],\"choropleth\":[{\"type\":\"choropleth\",\"colorbar\":{\"outlinewidth\":0,\"ticks\":\"\"}}],\"histogram2d\":[{\"type\":\"histogram2d\",\"colorbar\":{\"outlinewidth\":0,\"ticks\":\"\"},\"colorscale\":[[0.0,\"#0d0887\"],[0.1111111111111111,\"#46039f\"],[0.2222222222222222,\"#7201a8\"],[0.3333333333333333,\"#9c179e\"],[0.4444444444444444,\"#bd3786\"],[0.5555555555555556,\"#d8576b\"],[0.6666666666666666,\"#ed7953\"],[0.7777777777777778,\"#fb9f3a\"],[0.8888888888888888,\"#fdca26\"],[1.0,\"#f0f921\"]]}],\"heatmap\":[{\"type\":\"heatmap\",\"colorbar\":{\"outlinewidth\":0,\"ticks\":\"\"},\"colorscale\":[[0.0,\"#0d0887\"],[0.1111111111111111,\"#46039f\"],[0.2222222222222222,\"#7201a8\"],[0.3333333333333333,\"#9c179e\"],[0.4444444444444444,\"#bd3786\"],[0.5555555555555556,\"#d8576b\"],[0.6666666666666666,\"#ed7953\"],[0.7777777777777778,\"#fb9f3a\"],[0.8888888888888888,\"#fdca26\"],[1.0,\"#f0f921\"]]}],\"heatmapgl\":[{\"type\":\"heatmapgl\",\"colorbar\":{\"outlinewidth\":0,\"ticks\":\"\"},\"colorscale\":[[0.0,\"#0d0887\"],[0.1111111111111111,\"#46039f\"],[0.2222222222222222,\"#7201a8\"],[0.3333333333333333,\"#9c179e\"],[0.4444444444444444,\"#bd3786\"],[0.5555555555555556,\"#d8576b\"],[0.6666666666666666,\"#ed7953\"],[0.7777777777777778,\"#fb9f3a\"],[0.8888888888888888,\"#fdca26\"],[1.0,\"#f0f921\"]]}],\"contourcarpet\":[{\"type\":\"contourcarpet\",\"colorbar\":{\"outlinewidth\":0,\"ticks\":\"\"}}],\"contour\":[{\"type\":\"contour\",\"colorbar\":{\"outlinewidth\":0,\"ticks\":\"\"},\"colorscale\":[[0.0,\"#0d0887\"],[0.1111111111111111,\"#46039f\"],[0.2222222222222222,\"#7201a8\"],[0.3333333333333333,\"#9c179e\"],[0.4444444444444444,\"#bd3786\"],[0.5555555555555556,\"#d8576b\"],[0.6666666666666666,\"#ed7953\"],[0.7777777777777778,\"#fb9f3a\"],[0.8888888888888888,\"#fdca26\"],[1.0,\"#f0f921\"]]}],\"surface\":[{\"type\":\"surface\",\"colorbar\":{\"outlinewidth\":0,\"ticks\":\"\"},\"colorscale\":[[0.0,\"#0d0887\"],[0.1111111111111111,\"#46039f\"],[0.2222222222222222,\"#7201a8\"],[0.3333333333333333,\"#9c179e\"],[0.4444444444444444,\"#bd3786\"],[0.5555555555555556,\"#d8576b\"],[0.6666666666666666,\"#ed7953\"],[0.7777777777777778,\"#fb9f3a\"],[0.8888888888888888,\"#fdca26\"],[1.0,\"#f0f921\"]]}],\"mesh3d\":[{\"type\":\"mesh3d\",\"colorbar\":{\"outlinewidth\":0,\"ticks\":\"\"}}],\"scatter\":[{\"fillpattern\":{\"fillmode\":\"overlay\",\"size\":10,\"solidity\":0.2},\"type\":\"scatter\"}],\"parcoords\":[{\"type\":\"parcoords\",\"line\":{\"colorbar\":{\"outlinewidth\":0,\"ticks\":\"\"}}}],\"scatterpolargl\":[{\"type\":\"scatterpolargl\",\"marker\":{\"colorbar\":{\"outlinewidth\":0,\"ticks\":\"\"}}}],\"bar\":[{\"error_x\":{\"color\":\"#2a3f5f\"},\"error_y\":{\"color\":\"#2a3f5f\"},\"marker\":{\"line\":{\"color\":\"#E5ECF6\",\"width\":0.5},\"pattern\":{\"fillmode\":\"overlay\",\"size\":10,\"solidity\":0.2}},\"type\":\"bar\"}],\"scattergeo\":[{\"type\":\"scattergeo\",\"marker\":{\"colorbar\":{\"outlinewidth\":0,\"ticks\":\"\"}}}],\"scatterpolar\":[{\"type\":\"scatterpolar\",\"marker\":{\"colorbar\":{\"outlinewidth\":0,\"ticks\":\"\"}}}],\"histogram\":[{\"marker\":{\"pattern\":{\"fillmode\":\"overlay\",\"size\":10,\"solidity\":0.2}},\"type\":\"histogram\"}],\"scattergl\":[{\"type\":\"scattergl\",\"marker\":{\"colorbar\":{\"outlinewidth\":0,\"ticks\":\"\"}}}],\"scatter3d\":[{\"type\":\"scatter3d\",\"line\":{\"colorbar\":{\"outlinewidth\":0,\"ticks\":\"\"}},\"marker\":{\"colorbar\":{\"outlinewidth\":0,\"ticks\":\"\"}}}],\"scattermapbox\":[{\"type\":\"scattermapbox\",\"marker\":{\"colorbar\":{\"outlinewidth\":0,\"ticks\":\"\"}}}],\"scatterternary\":[{\"type\":\"scatterternary\",\"marker\":{\"colorbar\":{\"outlinewidth\":0,\"ticks\":\"\"}}}],\"scattercarpet\":[{\"type\":\"scattercarpet\",\"marker\":{\"colorbar\":{\"outlinewidth\":0,\"ticks\":\"\"}}}],\"carpet\":[{\"aaxis\":{\"endlinecolor\":\"#2a3f5f\",\"gridcolor\":\"white\",\"linecolor\":\"white\",\"minorgridcolor\":\"white\",\"startlinecolor\":\"#2a3f5f\"},\"baxis\":{\"endlinecolor\":\"#2a3f5f\",\"gridcolor\":\"white\",\"linecolor\":\"white\",\"minorgridcolor\":\"white\",\"startlinecolor\":\"#2a3f5f\"},\"type\":\"carpet\"}],\"table\":[{\"cells\":{\"fill\":{\"color\":\"#EBF0F8\"},\"line\":{\"color\":\"white\"}},\"header\":{\"fill\":{\"color\":\"#C8D4E3\"},\"line\":{\"color\":\"white\"}},\"type\":\"table\"}],\"barpolar\":[{\"marker\":{\"line\":{\"color\":\"#E5ECF6\",\"width\":0.5},\"pattern\":{\"fillmode\":\"overlay\",\"size\":10,\"solidity\":0.2}},\"type\":\"barpolar\"}],\"pie\":[{\"automargin\":true,\"type\":\"pie\"}]},\"layout\":{\"autotypenumbers\":\"strict\",\"colorway\":[\"#636efa\",\"#EF553B\",\"#00cc96\",\"#ab63fa\",\"#FFA15A\",\"#19d3f3\",\"#FF6692\",\"#B6E880\",\"#FF97FF\",\"#FECB52\"],\"font\":{\"color\":\"#2a3f5f\"},\"hovermode\":\"closest\",\"hoverlabel\":{\"align\":\"left\"},\"paper_bgcolor\":\"white\",\"plot_bgcolor\":\"#E5ECF6\",\"polar\":{\"bgcolor\":\"#E5ECF6\",\"angularaxis\":{\"gridcolor\":\"white\",\"linecolor\":\"white\",\"ticks\":\"\"},\"radialaxis\":{\"gridcolor\":\"white\",\"linecolor\":\"white\",\"ticks\":\"\"}},\"ternary\":{\"bgcolor\":\"#E5ECF6\",\"aaxis\":{\"gridcolor\":\"white\",\"linecolor\":\"white\",\"ticks\":\"\"},\"baxis\":{\"gridcolor\":\"white\",\"linecolor\":\"white\",\"ticks\":\"\"},\"caxis\":{\"gridcolor\":\"white\",\"linecolor\":\"white\",\"ticks\":\"\"}},\"coloraxis\":{\"colorbar\":{\"outlinewidth\":0,\"ticks\":\"\"}},\"colorscale\":{\"sequential\":[[0.0,\"#0d0887\"],[0.1111111111111111,\"#46039f\"],[0.2222222222222222,\"#7201a8\"],[0.3333333333333333,\"#9c179e\"],[0.4444444444444444,\"#bd3786\"],[0.5555555555555556,\"#d8576b\"],[0.6666666666666666,\"#ed7953\"],[0.7777777777777778,\"#fb9f3a\"],[0.8888888888888888,\"#fdca26\"],[1.0,\"#f0f921\"]],\"sequentialminus\":[[0.0,\"#0d0887\"],[0.1111111111111111,\"#46039f\"],[0.2222222222222222,\"#7201a8\"],[0.3333333333333333,\"#9c179e\"],[0.4444444444444444,\"#bd3786\"],[0.5555555555555556,\"#d8576b\"],[0.6666666666666666,\"#ed7953\"],[0.7777777777777778,\"#fb9f3a\"],[0.8888888888888888,\"#fdca26\"],[1.0,\"#f0f921\"]],\"diverging\":[[0,\"#8e0152\"],[0.1,\"#c51b7d\"],[0.2,\"#de77ae\"],[0.3,\"#f1b6da\"],[0.4,\"#fde0ef\"],[0.5,\"#f7f7f7\"],[0.6,\"#e6f5d0\"],[0.7,\"#b8e186\"],[0.8,\"#7fbc41\"],[0.9,\"#4d9221\"],[1,\"#276419\"]]},\"xaxis\":{\"gridcolor\":\"white\",\"linecolor\":\"white\",\"ticks\":\"\",\"title\":{\"standoff\":15},\"zerolinecolor\":\"white\",\"automargin\":true,\"zerolinewidth\":2},\"yaxis\":{\"gridcolor\":\"white\",\"linecolor\":\"white\",\"ticks\":\"\",\"title\":{\"standoff\":15},\"zerolinecolor\":\"white\",\"automargin\":true,\"zerolinewidth\":2},\"scene\":{\"xaxis\":{\"backgroundcolor\":\"#E5ECF6\",\"gridcolor\":\"white\",\"linecolor\":\"white\",\"showbackground\":true,\"ticks\":\"\",\"zerolinecolor\":\"white\",\"gridwidth\":2},\"yaxis\":{\"backgroundcolor\":\"#E5ECF6\",\"gridcolor\":\"white\",\"linecolor\":\"white\",\"showbackground\":true,\"ticks\":\"\",\"zerolinecolor\":\"white\",\"gridwidth\":2},\"zaxis\":{\"backgroundcolor\":\"#E5ECF6\",\"gridcolor\":\"white\",\"linecolor\":\"white\",\"showbackground\":true,\"ticks\":\"\",\"zerolinecolor\":\"white\",\"gridwidth\":2}},\"shapedefaults\":{\"line\":{\"color\":\"#2a3f5f\"}},\"annotationdefaults\":{\"arrowcolor\":\"#2a3f5f\",\"arrowhead\":0,\"arrowwidth\":1},\"geo\":{\"bgcolor\":\"white\",\"landcolor\":\"#E5ECF6\",\"subunitcolor\":\"white\",\"showland\":true,\"showlakes\":true,\"lakecolor\":\"white\"},\"title\":{\"x\":0.05},\"mapbox\":{\"style\":\"light\"}}},\"title\":{\"text\":\"Scores vs. nº de características eliminadas\"},\"xaxis\":{\"title\":{\"text\":\"Número de características eliminadas\"}},\"yaxis\":{\"title\":{\"text\":\"Score\"}},\"legend\":{\"title\":{\"text\":\"Métricas\"}}},                        {\"responsive\": true}                    ).then(function(){\n",
              "                            \n",
              "var gd = document.getElementById('77714ba6-6665-4e28-9a70-c50a7379bdf8');\n",
              "var x = new MutationObserver(function (mutations, observer) {{\n",
              "        var display = window.getComputedStyle(gd).display;\n",
              "        if (!display || display === 'none') {{\n",
              "            console.log([gd, 'removed!']);\n",
              "            Plotly.purge(gd);\n",
              "            observer.disconnect();\n",
              "        }}\n",
              "}});\n",
              "\n",
              "// Listen for the removal of the full notebook cells\n",
              "var notebookContainer = gd.closest('#notebook-container');\n",
              "if (notebookContainer) {{\n",
              "    x.observe(notebookContainer, {childList: true});\n",
              "}}\n",
              "\n",
              "// Listen for the clearing of the current output cell\n",
              "var outputEl = gd.closest('.output');\n",
              "if (outputEl) {{\n",
              "    x.observe(outputEl, {childList: true});\n",
              "}}\n",
              "\n",
              "                        })                };                            </script>        </div>\n",
              "</body>\n",
              "</html>"
            ]
          },
          "metadata": {},
          "output_type": "display_data"
        }
      ],
      "source": [
        "# 3. Utilice esta clasificación para ejecutar una búsqueda recursiva de eliminación de características, eliminando progresivamente las menos importantes\n",
        "#    y evaluando el impacto en el desempeño del modelo hasta identificar las N características más críticas\n",
        "\n",
        "from sklearn.metrics import precision_score, recall_score, f1_score, accuracy_score\n",
        "import plotly.graph_objs as go\n",
        "from plotly.subplots import make_subplots\n",
        "\n",
        "X_transformed_df = pd.DataFrame(X_transformed, index=X_transformed[:,0], columns=['f' + str(i) for i in range(X_transformed.shape[1])])\n",
        "precision_scores = []\n",
        "recall_scores = []\n",
        "f1_scores = []\n",
        "accuracy_scores = []\n",
        "n_deleted_features = []\n",
        "for i in range(importance_df.shape[0]):\n",
        "  feature = importance_df['Feature'].iloc[-(i+1)]   # feature a eliminar\n",
        "  X_transformed_df = X_transformed_df.drop([feature], axis=1)   # eliminamos feature menos importante\n",
        "  # entrenamos otra vez el modelo\n",
        "  X_train, X_test, y_train, y_test = train_test_split(X_transformed_df, y, test_size=0.2, stratify=y)\n",
        "  model = XGBClassifier()\n",
        "  model.fit(X_train, y_train)\n",
        "  # evaluamos el modelo\n",
        "  y_pred = model.predict(X_test)\n",
        "  precision, recall, f1, acc = precision_score(y_test, y_pred), recall_score(y_test, y_pred), f1_score(y_test, y_pred), accuracy_score(y_test, y_pred)\n",
        "  precision_scores.append(precision)\n",
        "  recall_scores.append(recall)\n",
        "  f1_scores.append(f1)\n",
        "  accuracy_scores.append(acc)\n",
        "  n_deleted_features.append(i+1)\n",
        "\n",
        "# graficamos los scores versus el número de características eliminadas para identificar las N características más críticas\n",
        "precision_trace = go.Scatter(x=n_deleted_features, y=precision_scores, mode='lines', name='Precision')\n",
        "recall_trace = go.Scatter(x=n_deleted_features, y=recall_scores, mode='lines', name='Recall')\n",
        "f1_trace = go.Scatter(x=n_deleted_features, y=f1_scores, mode='lines', name='F1-score')\n",
        "accuracy_trace = go.Scatter(x=n_deleted_features, y=accuracy_scores, mode='lines', name='Accuracy')\n",
        "fig = go.Figure([precision_trace, recall_trace, f1_trace, accuracy_trace])\n",
        "fig.update_layout(title='Scores vs. nº de características eliminadas',\n",
        "                  xaxis_title='Número de características eliminadas',\n",
        "                  yaxis_title='Score',\n",
        "                  legend_title='Métricas')\n",
        "fig.show()"
      ]
    },
    {
      "cell_type": "code",
      "execution_count": 56,
      "metadata": {
        "colab": {
          "base_uri": "https://localhost:8080/"
        },
        "id": "D2xbAFEA6SBY",
        "outputId": "85e23d67-3018-412f-d905-41c9d19c3db8"
      },
      "outputs": [
        {
          "name": "stdout",
          "output_type": "stream",
          "text": [
            "              precision    recall  f1-score   support\n",
            "\n",
            "           0       0.92      0.98      0.95       715\n",
            "           1       0.46      0.15      0.23        73\n",
            "\n",
            "    accuracy                           0.90       788\n",
            "   macro avg       0.69      0.57      0.59       788\n",
            "weighted avg       0.88      0.90      0.88       788\n",
            "\n"
          ]
        }
      ],
      "source": [
        "# 4. del gráfico obtenemos que es los scores son mejores una vez que se han eliminado las 18 features menos importantes\n",
        "# eliminamos esas 18 y volvemos a entrenar el modelo\n",
        "X_transformed_df = pd.DataFrame(X_transformed, index=X_transformed[:,0], columns=['f' + str(i) for i in range(X_transformed.shape[1])])\n",
        "for i in range(18):\n",
        "  feature = importance_df['Feature'].iloc[-(i+1)]   # feature a eliminar\n",
        "  X_transformed_df = X_transformed_df.drop([feature], axis=1)   # eliminamos feature menos importante\n",
        "# entrenamos otra vez el modelo\n",
        "X_train, X_test, y_train, y_test = train_test_split(X_transformed_df, y, test_size=0.2, stratify=y)\n",
        "new_model = XGBClassifier()\n",
        "new_model.fit(X_train, y_train)\n",
        "y_pred = new_model.predict(X_test)\n",
        "print(classification_report(y_test, y_pred))"
      ]
    },
    {
      "cell_type": "markdown",
      "metadata": {
        "id": "PTG5cH9r3M9g"
      },
      "source": [
        "### 2.3 Calibración Probabilistica [6 puntos]"
      ]
    },
    {
      "cell_type": "markdown",
      "metadata": {
        "id": "CDL0VqjR7yvb"
      },
      "source": [
        "<center>\n",
        "<img src='https://media2.giphy.com/media/l2Je4Ku0Cx292KWv6/200w.gif?cid=6c09b952y0sihtq9tb6sz8j2023x3zxxp3qx1ocgonkpkblj&ep=v1_gifs_search&rid=200w.gif&ct=g' width=400 />"
      ]
    },
    {
      "cell_type": "markdown",
      "metadata": {
        "id": "qmOKxhAw3sic"
      },
      "source": [
        "Para lograr modelos más modulares, se recomienda realizar una calibración del modelo entrenado anteriormente, con el objetivo de obtener salidas que reflejen mayor modularidad.\n",
        "\n",
        "1. Se solicita que utilice un método de calibración que asegure que las probabilidades generadas incrementen de manera monótona. Una métrica ampliamente utilizada para evaluar la precisión de la calibración de un modelo es el Brier Score. Calcule el Brier Score para el modelo tanto antes como después de la calibración. Esto le permitirá realizar una comparación cuantitativa y determinar si la calibración ha mejorado el rendimiento del modelo. Para más información sobre el Brier Score, puede consultar el siguiente enlace: [Scikit-Learn - Brier Score Loss](https://scikit-learn.org/stable/modules/generated/sklearn.metrics.brier_score_loss.html). [3 puntos]\n",
        "\n",
        "2. Tras la calibración, examine y comente los resultados obtenidos. A su análisis añada una comparación visual de las ideales versus las salidas del modelo original (sin calibrar) y del modelo calibrado. [3 puntos]"
      ]
    },
    {
      "cell_type": "markdown",
      "metadata": {
        "id": "-tfxyIK1OPTU"
      },
      "source": [
        "2.- El Brier Score antes de la calibración es de aproximadamente 0.08, y luego de la calibración, de 0.09. Dado que el Brier Score después de la calibración es mayor que el Brier Score antes de la calibración, podemos concluir que la calibración no mejoró el rendimiento del modelo en términos de calibración de las probabilidades, ya que cuanto menor sea la pérdida de Brier, mejor.\n",
        "\n",
        "Para la comparación visual se utiliza un gráfico de curvas de calibración, el cual muestra la fracción de positivos versus la probabilidad media predicha para distintos bins. En tal caso, la curva ideal es la que va desde el punto (0,0) hasta el punto (1,1). Esto significa que las probabilidades predichas por el modelo están perfectamente calibradas, lo que implica que son idénticas a las probabilidades reales de pertenencia a la clase positiva. Ahora, de acuerdo a las curvas de calibración se obtiene una conclusión similar, dado que la curva del modelo original es más cercana o similar al caso ideal que la curva del modelo calibrado."
      ]
    },
    {
      "cell_type": "markdown",
      "metadata": {
        "id": "QIiYz_qLuD19"
      },
      "source": [
        "**Respuesta**"
      ]
    },
    {
      "cell_type": "code",
      "execution_count": 64,
      "metadata": {
        "colab": {
          "base_uri": "https://localhost:8080/"
        },
        "id": "l0bfSuiFuD2I",
        "outputId": "33d14e13-a8df-407e-be41-a406dc83280a"
      },
      "outputs": [
        {
          "name": "stdout",
          "output_type": "stream",
          "text": [
            "Brier Score antes de la calibración: 0.08038985061279831\n",
            "Brier Score después de la calibración: 0.09084330822208321\n"
          ]
        }
      ],
      "source": [
        "from sklearn.calibration import CalibratedClassifierCV, calibration_curve\n",
        "from sklearn.metrics import brier_score_loss\n",
        "\n",
        "# calibración del modelo\n",
        "calibrated_model = CalibratedClassifierCV(new_model, method='sigmoid', cv='prefit')\n",
        "calibrated_model.fit(X_train, y_train)\n",
        "\n",
        "# predicciones de probabilidad antes y después de la calibración\n",
        "y_prob_original = new_model.predict_proba(X_test)[:, 1]\n",
        "y_prob_calibrated = calibrated_model.predict_proba(X_test)[:, 1]\n",
        "\n",
        "# brier score antes y después de la calibración\n",
        "brier_score_original = brier_score_loss(y_test, y_prob_original)\n",
        "brier_score_calibrated = brier_score_loss(y_test, y_prob_calibrated)\n",
        "\n",
        "# comparación cuantitativa\n",
        "print(\"Brier Score antes de la calibración:\", brier_score_original)\n",
        "print(\"Brier Score después de la calibración:\", brier_score_calibrated)\n"
      ]
    },
    {
      "cell_type": "code",
      "execution_count": 69,
      "metadata": {
        "colab": {
          "base_uri": "https://localhost:8080/",
          "height": 542
        },
        "id": "9yeoYhXiOmZj",
        "outputId": "5bdcf1d8-d0c0-44ac-dc04-b719097b6ae4"
      },
      "outputs": [
        {
          "data": {
            "text/html": [
              "<html>\n",
              "<head><meta charset=\"utf-8\" /></head>\n",
              "<body>\n",
              "    <div>            <script src=\"https://cdnjs.cloudflare.com/ajax/libs/mathjax/2.7.5/MathJax.js?config=TeX-AMS-MML_SVG\"></script><script type=\"text/javascript\">if (window.MathJax && window.MathJax.Hub && window.MathJax.Hub.Config) {window.MathJax.Hub.Config({SVG: {font: \"STIX-Web\"}});}</script>                <script type=\"text/javascript\">window.PlotlyConfig = {MathJaxConfig: 'local'};</script>\n",
              "        <script charset=\"utf-8\" src=\"https://cdn.plot.ly/plotly-2.24.1.min.js\"></script>                <div id=\"e6b5b0c0-e92b-4690-83c5-b1a8e60bacf4\" class=\"plotly-graph-div\" style=\"height:525px; width:100%;\"></div>            <script type=\"text/javascript\">                                    window.PLOTLYENV=window.PLOTLYENV || {};                                    if (document.getElementById(\"e6b5b0c0-e92b-4690-83c5-b1a8e60bacf4\")) {                    Plotly.newPlot(                        \"e6b5b0c0-e92b-4690-83c5-b1a8e60bacf4\",                        [{\"mode\":\"lines\",\"name\":\"Perfectly calibrated\",\"x\":[0,1],\"y\":[0,1],\"type\":\"scatter\"},{\"mode\":\"lines\",\"name\":\"Modelo Original\",\"x\":[0.01717115440300184,0.2986509342988332,0.5094163566827774,0.7284248897007534,0.9418762524922689],\"y\":[0.07114093959731543,0.4666666666666667,0.5,0.42857142857142855,0.5],\"type\":\"scatter\"},{\"mode\":\"lines\",\"name\":\"Modelo Calibrado\",\"x\":[0.001339640685220825,0.28981124982237816,0.4773373305797577,0.6769653161366781,0.9640058090812281],\"y\":[0.07894736842105263,0.5,1.0,0.0,0.47368421052631576],\"type\":\"scatter\"}],                        {\"template\":{\"data\":{\"histogram2dcontour\":[{\"type\":\"histogram2dcontour\",\"colorbar\":{\"outlinewidth\":0,\"ticks\":\"\"},\"colorscale\":[[0.0,\"#0d0887\"],[0.1111111111111111,\"#46039f\"],[0.2222222222222222,\"#7201a8\"],[0.3333333333333333,\"#9c179e\"],[0.4444444444444444,\"#bd3786\"],[0.5555555555555556,\"#d8576b\"],[0.6666666666666666,\"#ed7953\"],[0.7777777777777778,\"#fb9f3a\"],[0.8888888888888888,\"#fdca26\"],[1.0,\"#f0f921\"]]}],\"choropleth\":[{\"type\":\"choropleth\",\"colorbar\":{\"outlinewidth\":0,\"ticks\":\"\"}}],\"histogram2d\":[{\"type\":\"histogram2d\",\"colorbar\":{\"outlinewidth\":0,\"ticks\":\"\"},\"colorscale\":[[0.0,\"#0d0887\"],[0.1111111111111111,\"#46039f\"],[0.2222222222222222,\"#7201a8\"],[0.3333333333333333,\"#9c179e\"],[0.4444444444444444,\"#bd3786\"],[0.5555555555555556,\"#d8576b\"],[0.6666666666666666,\"#ed7953\"],[0.7777777777777778,\"#fb9f3a\"],[0.8888888888888888,\"#fdca26\"],[1.0,\"#f0f921\"]]}],\"heatmap\":[{\"type\":\"heatmap\",\"colorbar\":{\"outlinewidth\":0,\"ticks\":\"\"},\"colorscale\":[[0.0,\"#0d0887\"],[0.1111111111111111,\"#46039f\"],[0.2222222222222222,\"#7201a8\"],[0.3333333333333333,\"#9c179e\"],[0.4444444444444444,\"#bd3786\"],[0.5555555555555556,\"#d8576b\"],[0.6666666666666666,\"#ed7953\"],[0.7777777777777778,\"#fb9f3a\"],[0.8888888888888888,\"#fdca26\"],[1.0,\"#f0f921\"]]}],\"heatmapgl\":[{\"type\":\"heatmapgl\",\"colorbar\":{\"outlinewidth\":0,\"ticks\":\"\"},\"colorscale\":[[0.0,\"#0d0887\"],[0.1111111111111111,\"#46039f\"],[0.2222222222222222,\"#7201a8\"],[0.3333333333333333,\"#9c179e\"],[0.4444444444444444,\"#bd3786\"],[0.5555555555555556,\"#d8576b\"],[0.6666666666666666,\"#ed7953\"],[0.7777777777777778,\"#fb9f3a\"],[0.8888888888888888,\"#fdca26\"],[1.0,\"#f0f921\"]]}],\"contourcarpet\":[{\"type\":\"contourcarpet\",\"colorbar\":{\"outlinewidth\":0,\"ticks\":\"\"}}],\"contour\":[{\"type\":\"contour\",\"colorbar\":{\"outlinewidth\":0,\"ticks\":\"\"},\"colorscale\":[[0.0,\"#0d0887\"],[0.1111111111111111,\"#46039f\"],[0.2222222222222222,\"#7201a8\"],[0.3333333333333333,\"#9c179e\"],[0.4444444444444444,\"#bd3786\"],[0.5555555555555556,\"#d8576b\"],[0.6666666666666666,\"#ed7953\"],[0.7777777777777778,\"#fb9f3a\"],[0.8888888888888888,\"#fdca26\"],[1.0,\"#f0f921\"]]}],\"surface\":[{\"type\":\"surface\",\"colorbar\":{\"outlinewidth\":0,\"ticks\":\"\"},\"colorscale\":[[0.0,\"#0d0887\"],[0.1111111111111111,\"#46039f\"],[0.2222222222222222,\"#7201a8\"],[0.3333333333333333,\"#9c179e\"],[0.4444444444444444,\"#bd3786\"],[0.5555555555555556,\"#d8576b\"],[0.6666666666666666,\"#ed7953\"],[0.7777777777777778,\"#fb9f3a\"],[0.8888888888888888,\"#fdca26\"],[1.0,\"#f0f921\"]]}],\"mesh3d\":[{\"type\":\"mesh3d\",\"colorbar\":{\"outlinewidth\":0,\"ticks\":\"\"}}],\"scatter\":[{\"fillpattern\":{\"fillmode\":\"overlay\",\"size\":10,\"solidity\":0.2},\"type\":\"scatter\"}],\"parcoords\":[{\"type\":\"parcoords\",\"line\":{\"colorbar\":{\"outlinewidth\":0,\"ticks\":\"\"}}}],\"scatterpolargl\":[{\"type\":\"scatterpolargl\",\"marker\":{\"colorbar\":{\"outlinewidth\":0,\"ticks\":\"\"}}}],\"bar\":[{\"error_x\":{\"color\":\"#2a3f5f\"},\"error_y\":{\"color\":\"#2a3f5f\"},\"marker\":{\"line\":{\"color\":\"#E5ECF6\",\"width\":0.5},\"pattern\":{\"fillmode\":\"overlay\",\"size\":10,\"solidity\":0.2}},\"type\":\"bar\"}],\"scattergeo\":[{\"type\":\"scattergeo\",\"marker\":{\"colorbar\":{\"outlinewidth\":0,\"ticks\":\"\"}}}],\"scatterpolar\":[{\"type\":\"scatterpolar\",\"marker\":{\"colorbar\":{\"outlinewidth\":0,\"ticks\":\"\"}}}],\"histogram\":[{\"marker\":{\"pattern\":{\"fillmode\":\"overlay\",\"size\":10,\"solidity\":0.2}},\"type\":\"histogram\"}],\"scattergl\":[{\"type\":\"scattergl\",\"marker\":{\"colorbar\":{\"outlinewidth\":0,\"ticks\":\"\"}}}],\"scatter3d\":[{\"type\":\"scatter3d\",\"line\":{\"colorbar\":{\"outlinewidth\":0,\"ticks\":\"\"}},\"marker\":{\"colorbar\":{\"outlinewidth\":0,\"ticks\":\"\"}}}],\"scattermapbox\":[{\"type\":\"scattermapbox\",\"marker\":{\"colorbar\":{\"outlinewidth\":0,\"ticks\":\"\"}}}],\"scatterternary\":[{\"type\":\"scatterternary\",\"marker\":{\"colorbar\":{\"outlinewidth\":0,\"ticks\":\"\"}}}],\"scattercarpet\":[{\"type\":\"scattercarpet\",\"marker\":{\"colorbar\":{\"outlinewidth\":0,\"ticks\":\"\"}}}],\"carpet\":[{\"aaxis\":{\"endlinecolor\":\"#2a3f5f\",\"gridcolor\":\"white\",\"linecolor\":\"white\",\"minorgridcolor\":\"white\",\"startlinecolor\":\"#2a3f5f\"},\"baxis\":{\"endlinecolor\":\"#2a3f5f\",\"gridcolor\":\"white\",\"linecolor\":\"white\",\"minorgridcolor\":\"white\",\"startlinecolor\":\"#2a3f5f\"},\"type\":\"carpet\"}],\"table\":[{\"cells\":{\"fill\":{\"color\":\"#EBF0F8\"},\"line\":{\"color\":\"white\"}},\"header\":{\"fill\":{\"color\":\"#C8D4E3\"},\"line\":{\"color\":\"white\"}},\"type\":\"table\"}],\"barpolar\":[{\"marker\":{\"line\":{\"color\":\"#E5ECF6\",\"width\":0.5},\"pattern\":{\"fillmode\":\"overlay\",\"size\":10,\"solidity\":0.2}},\"type\":\"barpolar\"}],\"pie\":[{\"automargin\":true,\"type\":\"pie\"}]},\"layout\":{\"autotypenumbers\":\"strict\",\"colorway\":[\"#636efa\",\"#EF553B\",\"#00cc96\",\"#ab63fa\",\"#FFA15A\",\"#19d3f3\",\"#FF6692\",\"#B6E880\",\"#FF97FF\",\"#FECB52\"],\"font\":{\"color\":\"#2a3f5f\"},\"hovermode\":\"closest\",\"hoverlabel\":{\"align\":\"left\"},\"paper_bgcolor\":\"white\",\"plot_bgcolor\":\"#E5ECF6\",\"polar\":{\"bgcolor\":\"#E5ECF6\",\"angularaxis\":{\"gridcolor\":\"white\",\"linecolor\":\"white\",\"ticks\":\"\"},\"radialaxis\":{\"gridcolor\":\"white\",\"linecolor\":\"white\",\"ticks\":\"\"}},\"ternary\":{\"bgcolor\":\"#E5ECF6\",\"aaxis\":{\"gridcolor\":\"white\",\"linecolor\":\"white\",\"ticks\":\"\"},\"baxis\":{\"gridcolor\":\"white\",\"linecolor\":\"white\",\"ticks\":\"\"},\"caxis\":{\"gridcolor\":\"white\",\"linecolor\":\"white\",\"ticks\":\"\"}},\"coloraxis\":{\"colorbar\":{\"outlinewidth\":0,\"ticks\":\"\"}},\"colorscale\":{\"sequential\":[[0.0,\"#0d0887\"],[0.1111111111111111,\"#46039f\"],[0.2222222222222222,\"#7201a8\"],[0.3333333333333333,\"#9c179e\"],[0.4444444444444444,\"#bd3786\"],[0.5555555555555556,\"#d8576b\"],[0.6666666666666666,\"#ed7953\"],[0.7777777777777778,\"#fb9f3a\"],[0.8888888888888888,\"#fdca26\"],[1.0,\"#f0f921\"]],\"sequentialminus\":[[0.0,\"#0d0887\"],[0.1111111111111111,\"#46039f\"],[0.2222222222222222,\"#7201a8\"],[0.3333333333333333,\"#9c179e\"],[0.4444444444444444,\"#bd3786\"],[0.5555555555555556,\"#d8576b\"],[0.6666666666666666,\"#ed7953\"],[0.7777777777777778,\"#fb9f3a\"],[0.8888888888888888,\"#fdca26\"],[1.0,\"#f0f921\"]],\"diverging\":[[0,\"#8e0152\"],[0.1,\"#c51b7d\"],[0.2,\"#de77ae\"],[0.3,\"#f1b6da\"],[0.4,\"#fde0ef\"],[0.5,\"#f7f7f7\"],[0.6,\"#e6f5d0\"],[0.7,\"#b8e186\"],[0.8,\"#7fbc41\"],[0.9,\"#4d9221\"],[1,\"#276419\"]]},\"xaxis\":{\"gridcolor\":\"white\",\"linecolor\":\"white\",\"ticks\":\"\",\"title\":{\"standoff\":15},\"zerolinecolor\":\"white\",\"automargin\":true,\"zerolinewidth\":2},\"yaxis\":{\"gridcolor\":\"white\",\"linecolor\":\"white\",\"ticks\":\"\",\"title\":{\"standoff\":15},\"zerolinecolor\":\"white\",\"automargin\":true,\"zerolinewidth\":2},\"scene\":{\"xaxis\":{\"backgroundcolor\":\"#E5ECF6\",\"gridcolor\":\"white\",\"linecolor\":\"white\",\"showbackground\":true,\"ticks\":\"\",\"zerolinecolor\":\"white\",\"gridwidth\":2},\"yaxis\":{\"backgroundcolor\":\"#E5ECF6\",\"gridcolor\":\"white\",\"linecolor\":\"white\",\"showbackground\":true,\"ticks\":\"\",\"zerolinecolor\":\"white\",\"gridwidth\":2},\"zaxis\":{\"backgroundcolor\":\"#E5ECF6\",\"gridcolor\":\"white\",\"linecolor\":\"white\",\"showbackground\":true,\"ticks\":\"\",\"zerolinecolor\":\"white\",\"gridwidth\":2}},\"shapedefaults\":{\"line\":{\"color\":\"#2a3f5f\"}},\"annotationdefaults\":{\"arrowcolor\":\"#2a3f5f\",\"arrowhead\":0,\"arrowwidth\":1},\"geo\":{\"bgcolor\":\"white\",\"landcolor\":\"#E5ECF6\",\"subunitcolor\":\"white\",\"showland\":true,\"showlakes\":true,\"lakecolor\":\"white\"},\"title\":{\"x\":0.05},\"mapbox\":{\"style\":\"light\"}}},\"title\":{\"text\":\"Curvas de Calibración\"},\"xaxis\":{\"title\":{\"text\":\"Probabilidad media prevista\"}},\"yaxis\":{\"title\":{\"text\":\"Fracción de positivos\"}}},                        {\"responsive\": true}                    ).then(function(){\n",
              "                            \n",
              "var gd = document.getElementById('e6b5b0c0-e92b-4690-83c5-b1a8e60bacf4');\n",
              "var x = new MutationObserver(function (mutations, observer) {{\n",
              "        var display = window.getComputedStyle(gd).display;\n",
              "        if (!display || display === 'none') {{\n",
              "            console.log([gd, 'removed!']);\n",
              "            Plotly.purge(gd);\n",
              "            observer.disconnect();\n",
              "        }}\n",
              "}});\n",
              "\n",
              "// Listen for the removal of the full notebook cells\n",
              "var notebookContainer = gd.closest('#notebook-container');\n",
              "if (notebookContainer) {{\n",
              "    x.observe(notebookContainer, {childList: true});\n",
              "}}\n",
              "\n",
              "// Listen for the clearing of the current output cell\n",
              "var outputEl = gd.closest('.output');\n",
              "if (outputEl) {{\n",
              "    x.observe(outputEl, {childList: true});\n",
              "}}\n",
              "\n",
              "                        })                };                            </script>        </div>\n",
              "</body>\n",
              "</html>"
            ]
          },
          "metadata": {},
          "output_type": "display_data"
        }
      ],
      "source": [
        "# graficamos curvas de calibración para poder comparar visualmente\n",
        "ideal_curve = go.Scatter(x=[0, 1], y=[0, 1], mode='lines', name='Perfectly calibrated')\n",
        "true_pos_original, pred_pos_original = calibration_curve(y_test, y_prob_original)\n",
        "true_pos_calibrated, pred_pos_calibrated = calibration_curve(y_test, y_prob_calibrated)\n",
        "model_original_curve = go.Scatter(x=pred_pos_original,\n",
        "                                  y=true_pos_original,\n",
        "                                  mode='lines', name='Modelo Original')\n",
        "model_calibrated_curve = go.Scatter(x=pred_pos_calibrated,\n",
        "                                    y=true_pos_calibrated,\n",
        "                                    mode='lines', name='Modelo Calibrado')\n",
        "fig = go.Figure()\n",
        "fig.add_trace(ideal_curve)\n",
        "fig.add_trace(model_original_curve)\n",
        "fig.add_trace(model_calibrated_curve)\n",
        "fig.update_layout(title='Curvas de Calibración',\n",
        "                  xaxis_title='Probabilidad media prevista',\n",
        "                  yaxis_title='Fracción de positivos')\n",
        "fig.show()"
      ]
    }
  ],
  "metadata": {
    "colab": {
      "provenance": [],
      "toc_visible": true
    },
    "kernelspec": {
      "display_name": "Python 3",
      "name": "python3"
    },
    "language_info": {
      "codemirror_mode": {
        "name": "ipython",
        "version": 3
      },
      "file_extension": ".py",
      "mimetype": "text/x-python",
      "name": "python",
      "nbconvert_exporter": "python",
      "pygments_lexer": "ipython3",
      "version": "3.12.2"
    },
    "widgets": {
      "application/vnd.jupyter.widget-state+json": {
        "040efd1ce58b44fd95e1b7db3ade67ee": {
          "model_module": "@jupyter-widgets/base",
          "model_module_version": "1.2.0",
          "model_name": "LayoutModel",
          "state": {
            "_model_module": "@jupyter-widgets/base",
            "_model_module_version": "1.2.0",
            "_model_name": "LayoutModel",
            "_view_count": null,
            "_view_module": "@jupyter-widgets/base",
            "_view_module_version": "1.2.0",
            "_view_name": "LayoutView",
            "align_content": null,
            "align_items": null,
            "align_self": null,
            "border": null,
            "bottom": null,
            "display": null,
            "flex": null,
            "flex_flow": null,
            "grid_area": null,
            "grid_auto_columns": null,
            "grid_auto_flow": null,
            "grid_auto_rows": null,
            "grid_column": null,
            "grid_gap": null,
            "grid_row": null,
            "grid_template_areas": null,
            "grid_template_columns": null,
            "grid_template_rows": null,
            "height": null,
            "justify_content": null,
            "justify_items": null,
            "left": null,
            "margin": null,
            "max_height": null,
            "max_width": null,
            "min_height": null,
            "min_width": null,
            "object_fit": null,
            "object_position": null,
            "order": null,
            "overflow": null,
            "overflow_x": null,
            "overflow_y": null,
            "padding": null,
            "right": null,
            "top": null,
            "visibility": null,
            "width": null
          }
        },
        "0ae548654f1d4f4cbccaf596d1d38719": {
          "model_module": "@jupyter-widgets/controls",
          "model_module_version": "1.5.0",
          "model_name": "HTMLModel",
          "state": {
            "_dom_classes": [],
            "_model_module": "@jupyter-widgets/controls",
            "_model_module_version": "1.5.0",
            "_model_name": "HTMLModel",
            "_view_count": null,
            "_view_module": "@jupyter-widgets/controls",
            "_view_module_version": "1.5.0",
            "_view_name": "HTMLView",
            "description": "",
            "description_tooltip": null,
            "layout": "IPY_MODEL_d6fc0052dd434aaa8e8c1d40962de68d",
            "placeholder": "​",
            "style": "IPY_MODEL_5c4b00c0664d4cc1bee6c774a6ffe10c",
            "value": "Processing: 100%"
          }
        },
        "1626eca464cd4bff9ebef3200fff0085": {
          "model_module": "@jupyter-widgets/controls",
          "model_module_version": "1.5.0",
          "model_name": "ProgressStyleModel",
          "state": {
            "_model_module": "@jupyter-widgets/controls",
            "_model_module_version": "1.5.0",
            "_model_name": "ProgressStyleModel",
            "_view_count": null,
            "_view_module": "@jupyter-widgets/base",
            "_view_module_version": "1.2.0",
            "_view_name": "StyleView",
            "bar_color": null,
            "description_width": ""
          }
        },
        "1d3ed629b9e6480dabb8029983b0dbc8": {
          "model_module": "@jupyter-widgets/base",
          "model_module_version": "1.2.0",
          "model_name": "LayoutModel",
          "state": {
            "_model_module": "@jupyter-widgets/base",
            "_model_module_version": "1.2.0",
            "_model_name": "LayoutModel",
            "_view_count": null,
            "_view_module": "@jupyter-widgets/base",
            "_view_module_version": "1.2.0",
            "_view_name": "LayoutView",
            "align_content": null,
            "align_items": null,
            "align_self": null,
            "border": null,
            "bottom": null,
            "display": null,
            "flex": null,
            "flex_flow": null,
            "grid_area": null,
            "grid_auto_columns": null,
            "grid_auto_flow": null,
            "grid_auto_rows": null,
            "grid_column": null,
            "grid_gap": null,
            "grid_row": null,
            "grid_template_areas": null,
            "grid_template_columns": null,
            "grid_template_rows": null,
            "height": null,
            "justify_content": null,
            "justify_items": null,
            "left": null,
            "margin": null,
            "max_height": null,
            "max_width": null,
            "min_height": null,
            "min_width": null,
            "object_fit": null,
            "object_position": null,
            "order": null,
            "overflow": null,
            "overflow_x": null,
            "overflow_y": null,
            "padding": null,
            "right": null,
            "top": null,
            "visibility": null,
            "width": null
          }
        },
        "1eb7d0b686254478a29b993c683f93e1": {
          "model_module": "@jupyter-widgets/base",
          "model_module_version": "1.2.0",
          "model_name": "LayoutModel",
          "state": {
            "_model_module": "@jupyter-widgets/base",
            "_model_module_version": "1.2.0",
            "_model_name": "LayoutModel",
            "_view_count": null,
            "_view_module": "@jupyter-widgets/base",
            "_view_module_version": "1.2.0",
            "_view_name": "LayoutView",
            "align_content": null,
            "align_items": null,
            "align_self": null,
            "border": null,
            "bottom": null,
            "display": null,
            "flex": null,
            "flex_flow": null,
            "grid_area": null,
            "grid_auto_columns": null,
            "grid_auto_flow": null,
            "grid_auto_rows": null,
            "grid_column": null,
            "grid_gap": null,
            "grid_row": null,
            "grid_template_areas": null,
            "grid_template_columns": null,
            "grid_template_rows": null,
            "height": null,
            "justify_content": null,
            "justify_items": null,
            "left": null,
            "margin": null,
            "max_height": null,
            "max_width": null,
            "min_height": null,
            "min_width": null,
            "object_fit": null,
            "object_position": null,
            "order": null,
            "overflow": null,
            "overflow_x": null,
            "overflow_y": null,
            "padding": null,
            "right": null,
            "top": null,
            "visibility": null,
            "width": null
          }
        },
        "247acb6fac604b958dcb5372a2f4e563": {
          "model_module": "@jupyter-widgets/controls",
          "model_module_version": "1.5.0",
          "model_name": "FloatProgressModel",
          "state": {
            "_dom_classes": [],
            "_model_module": "@jupyter-widgets/controls",
            "_model_module_version": "1.5.0",
            "_model_name": "FloatProgressModel",
            "_view_count": null,
            "_view_module": "@jupyter-widgets/controls",
            "_view_module_version": "1.5.0",
            "_view_name": "ProgressView",
            "bar_style": "",
            "description": "",
            "description_tooltip": null,
            "layout": "IPY_MODEL_2e7dc6638ca04a5e99e5ddc64674709b",
            "max": 29,
            "min": 0,
            "orientation": "horizontal",
            "style": "IPY_MODEL_6e68fa31035644abbab842ab982b8330",
            "value": 29
          }
        },
        "266d41a2454c4484ab4424ade8dcf622": {
          "model_module": "@jupyter-widgets/controls",
          "model_module_version": "1.5.0",
          "model_name": "HBoxModel",
          "state": {
            "_dom_classes": [],
            "_model_module": "@jupyter-widgets/controls",
            "_model_module_version": "1.5.0",
            "_model_name": "HBoxModel",
            "_view_count": null,
            "_view_module": "@jupyter-widgets/controls",
            "_view_module_version": "1.5.0",
            "_view_name": "HBoxView",
            "box_style": "",
            "children": [
              "IPY_MODEL_0ae548654f1d4f4cbccaf596d1d38719",
              "IPY_MODEL_247acb6fac604b958dcb5372a2f4e563",
              "IPY_MODEL_5d69cae19c7f409ca1588ac1acff6913"
            ],
            "layout": "IPY_MODEL_c74af442973342c4af2e9f9ecb8c305f"
          }
        },
        "2bdd68b522654800a09d137e5540078a": {
          "model_module": "@jupyter-widgets/base",
          "model_module_version": "1.2.0",
          "model_name": "LayoutModel",
          "state": {
            "_model_module": "@jupyter-widgets/base",
            "_model_module_version": "1.2.0",
            "_model_name": "LayoutModel",
            "_view_count": null,
            "_view_module": "@jupyter-widgets/base",
            "_view_module_version": "1.2.0",
            "_view_name": "LayoutView",
            "align_content": null,
            "align_items": null,
            "align_self": null,
            "border": null,
            "bottom": null,
            "display": null,
            "flex": null,
            "flex_flow": null,
            "grid_area": null,
            "grid_auto_columns": null,
            "grid_auto_flow": null,
            "grid_auto_rows": null,
            "grid_column": null,
            "grid_gap": null,
            "grid_row": null,
            "grid_template_areas": null,
            "grid_template_columns": null,
            "grid_template_rows": null,
            "height": null,
            "justify_content": null,
            "justify_items": null,
            "left": null,
            "margin": null,
            "max_height": null,
            "max_width": null,
            "min_height": null,
            "min_width": null,
            "object_fit": null,
            "object_position": null,
            "order": null,
            "overflow": null,
            "overflow_x": null,
            "overflow_y": null,
            "padding": null,
            "right": null,
            "top": null,
            "visibility": null,
            "width": null
          }
        },
        "2e7dc6638ca04a5e99e5ddc64674709b": {
          "model_module": "@jupyter-widgets/base",
          "model_module_version": "1.2.0",
          "model_name": "LayoutModel",
          "state": {
            "_model_module": "@jupyter-widgets/base",
            "_model_module_version": "1.2.0",
            "_model_name": "LayoutModel",
            "_view_count": null,
            "_view_module": "@jupyter-widgets/base",
            "_view_module_version": "1.2.0",
            "_view_name": "LayoutView",
            "align_content": null,
            "align_items": null,
            "align_self": null,
            "border": null,
            "bottom": null,
            "display": null,
            "flex": null,
            "flex_flow": null,
            "grid_area": null,
            "grid_auto_columns": null,
            "grid_auto_flow": null,
            "grid_auto_rows": null,
            "grid_column": null,
            "grid_gap": null,
            "grid_row": null,
            "grid_template_areas": null,
            "grid_template_columns": null,
            "grid_template_rows": null,
            "height": null,
            "justify_content": null,
            "justify_items": null,
            "left": null,
            "margin": null,
            "max_height": null,
            "max_width": null,
            "min_height": null,
            "min_width": null,
            "object_fit": null,
            "object_position": null,
            "order": null,
            "overflow": null,
            "overflow_x": null,
            "overflow_y": null,
            "padding": null,
            "right": null,
            "top": null,
            "visibility": null,
            "width": null
          }
        },
        "328dfc53682e49b8ab91372bcd0ae98e": {
          "model_module": "@jupyter-widgets/controls",
          "model_module_version": "1.5.0",
          "model_name": "HTMLModel",
          "state": {
            "_dom_classes": [],
            "_model_module": "@jupyter-widgets/controls",
            "_model_module_version": "1.5.0",
            "_model_name": "HTMLModel",
            "_view_count": null,
            "_view_module": "@jupyter-widgets/controls",
            "_view_module_version": "1.5.0",
            "_view_name": "HTMLView",
            "description": "",
            "description_tooltip": null,
            "layout": "IPY_MODEL_1d3ed629b9e6480dabb8029983b0dbc8",
            "placeholder": "​",
            "style": "IPY_MODEL_7cd26105158740fcaa22efcb25e48ed2",
            "value": "Processing: 100%"
          }
        },
        "41bef4855dcb4971874b33a824053b24": {
          "model_module": "@jupyter-widgets/controls",
          "model_module_version": "1.5.0",
          "model_name": "HBoxModel",
          "state": {
            "_dom_classes": [],
            "_model_module": "@jupyter-widgets/controls",
            "_model_module_version": "1.5.0",
            "_model_name": "HBoxModel",
            "_view_count": null,
            "_view_module": "@jupyter-widgets/controls",
            "_view_module_version": "1.5.0",
            "_view_name": "HBoxView",
            "box_style": "",
            "children": [
              "IPY_MODEL_328dfc53682e49b8ab91372bcd0ae98e",
              "IPY_MODEL_79fc5ebbb23543a18276c099290c6133",
              "IPY_MODEL_d5604b3d791b4a6780dd8b7d1368fd4b"
            ],
            "layout": "IPY_MODEL_af5ed7f3f343492fa7e21f81fd1c8376"
          }
        },
        "5c4b00c0664d4cc1bee6c774a6ffe10c": {
          "model_module": "@jupyter-widgets/controls",
          "model_module_version": "1.5.0",
          "model_name": "DescriptionStyleModel",
          "state": {
            "_model_module": "@jupyter-widgets/controls",
            "_model_module_version": "1.5.0",
            "_model_name": "DescriptionStyleModel",
            "_view_count": null,
            "_view_module": "@jupyter-widgets/base",
            "_view_module_version": "1.2.0",
            "_view_name": "StyleView",
            "description_width": ""
          }
        },
        "5d69cae19c7f409ca1588ac1acff6913": {
          "model_module": "@jupyter-widgets/controls",
          "model_module_version": "1.5.0",
          "model_name": "HTMLModel",
          "state": {
            "_dom_classes": [],
            "_model_module": "@jupyter-widgets/controls",
            "_model_module_version": "1.5.0",
            "_model_name": "HTMLModel",
            "_view_count": null,
            "_view_module": "@jupyter-widgets/controls",
            "_view_module_version": "1.5.0",
            "_view_name": "HTMLView",
            "description": "",
            "description_tooltip": null,
            "layout": "IPY_MODEL_1eb7d0b686254478a29b993c683f93e1",
            "placeholder": "​",
            "style": "IPY_MODEL_d9c0fd6aae6f45c58ff3b5eb86bd1cf5",
            "value": " 29/29 [01:48&lt;00:00,  5.93s/it]"
          }
        },
        "60e30ccecf484a649aa46a64fecaf3ad": {
          "model_module": "@jupyter-widgets/controls",
          "model_module_version": "1.5.0",
          "model_name": "ToggleButtonsModel",
          "state": {
            "_dom_classes": [],
            "_model_module": "@jupyter-widgets/controls",
            "_model_module_version": "1.5.0",
            "_model_name": "ToggleButtonsModel",
            "_options_labels": [
              "Pipeline Plot",
              "Hyperparameters",
              "AUC",
              "Confusion Matrix",
              "Threshold",
              "Precision Recall",
              "Prediction Error",
              "Class Report",
              "Feature Selection",
              "Learning Curve",
              "Manifold Learning",
              "Calibration Curve",
              "Validation Curve",
              "Dimensions",
              "Feature Importance",
              "Feature Importance (All)",
              "Decision Boundary",
              "Lift Chart",
              "Gain Chart",
              "Decision Tree",
              "KS Statistic Plot"
            ],
            "_view_count": null,
            "_view_module": "@jupyter-widgets/controls",
            "_view_module_version": "1.5.0",
            "_view_name": "ToggleButtonsView",
            "button_style": "",
            "description": "Plot Type:",
            "description_tooltip": null,
            "disabled": false,
            "icons": [
              ""
            ],
            "index": 0,
            "layout": "IPY_MODEL_c6b3bfe6332e478ca7667c138158c789",
            "style": "IPY_MODEL_b8c1e59b78fc47c5b96274aa8d7be341",
            "tooltips": []
          }
        },
        "6e68fa31035644abbab842ab982b8330": {
          "model_module": "@jupyter-widgets/controls",
          "model_module_version": "1.5.0",
          "model_name": "ProgressStyleModel",
          "state": {
            "_model_module": "@jupyter-widgets/controls",
            "_model_module_version": "1.5.0",
            "_model_name": "ProgressStyleModel",
            "_view_count": null,
            "_view_module": "@jupyter-widgets/base",
            "_view_module_version": "1.2.0",
            "_view_name": "StyleView",
            "bar_color": null,
            "description_width": ""
          }
        },
        "79fc5ebbb23543a18276c099290c6133": {
          "model_module": "@jupyter-widgets/controls",
          "model_module_version": "1.5.0",
          "model_name": "FloatProgressModel",
          "state": {
            "_dom_classes": [],
            "_model_module": "@jupyter-widgets/controls",
            "_model_module_version": "1.5.0",
            "_model_name": "FloatProgressModel",
            "_view_count": null,
            "_view_module": "@jupyter-widgets/controls",
            "_view_module_version": "1.5.0",
            "_view_name": "ProgressView",
            "bar_style": "",
            "description": "",
            "description_tooltip": null,
            "layout": "IPY_MODEL_2bdd68b522654800a09d137e5540078a",
            "max": 4,
            "min": 0,
            "orientation": "horizontal",
            "style": "IPY_MODEL_1626eca464cd4bff9ebef3200fff0085",
            "value": 4
          }
        },
        "7cd26105158740fcaa22efcb25e48ed2": {
          "model_module": "@jupyter-widgets/controls",
          "model_module_version": "1.5.0",
          "model_name": "DescriptionStyleModel",
          "state": {
            "_model_module": "@jupyter-widgets/controls",
            "_model_module_version": "1.5.0",
            "_model_name": "DescriptionStyleModel",
            "_view_count": null,
            "_view_module": "@jupyter-widgets/base",
            "_view_module_version": "1.2.0",
            "_view_name": "StyleView",
            "description_width": ""
          }
        },
        "8088f4ee26e24eee9a4bf4932612b2af": {
          "model_module": "@jupyter-widgets/output",
          "model_module_version": "1.0.0",
          "model_name": "OutputModel",
          "state": {
            "_dom_classes": [],
            "_model_module": "@jupyter-widgets/output",
            "_model_module_version": "1.0.0",
            "_model_name": "OutputModel",
            "_view_count": null,
            "_view_module": "@jupyter-widgets/output",
            "_view_module_version": "1.0.0",
            "_view_name": "OutputView",
            "layout": "IPY_MODEL_9e9d98d471294a16952853fbe2ecfef0",
            "msg_id": "",
            "outputs": [
              {
                "data": {
                  "image/png": "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\n",
                  "text/plain": "<Figure size 2700x600 with 1 Axes>"
                },
                "metadata": {},
                "output_type": "display_data"
              }
            ]
          }
        },
        "9e9d98d471294a16952853fbe2ecfef0": {
          "model_module": "@jupyter-widgets/base",
          "model_module_version": "1.2.0",
          "model_name": "LayoutModel",
          "state": {
            "_model_module": "@jupyter-widgets/base",
            "_model_module_version": "1.2.0",
            "_model_name": "LayoutModel",
            "_view_count": null,
            "_view_module": "@jupyter-widgets/base",
            "_view_module_version": "1.2.0",
            "_view_name": "LayoutView",
            "align_content": null,
            "align_items": null,
            "align_self": null,
            "border": null,
            "bottom": null,
            "display": null,
            "flex": null,
            "flex_flow": null,
            "grid_area": null,
            "grid_auto_columns": null,
            "grid_auto_flow": null,
            "grid_auto_rows": null,
            "grid_column": null,
            "grid_gap": null,
            "grid_row": null,
            "grid_template_areas": null,
            "grid_template_columns": null,
            "grid_template_rows": null,
            "height": null,
            "justify_content": null,
            "justify_items": null,
            "left": null,
            "margin": null,
            "max_height": null,
            "max_width": null,
            "min_height": null,
            "min_width": null,
            "object_fit": null,
            "object_position": null,
            "order": null,
            "overflow": null,
            "overflow_x": null,
            "overflow_y": null,
            "padding": null,
            "right": null,
            "top": null,
            "visibility": null,
            "width": null
          }
        },
        "af5ed7f3f343492fa7e21f81fd1c8376": {
          "model_module": "@jupyter-widgets/base",
          "model_module_version": "1.2.0",
          "model_name": "LayoutModel",
          "state": {
            "_model_module": "@jupyter-widgets/base",
            "_model_module_version": "1.2.0",
            "_model_name": "LayoutModel",
            "_view_count": null,
            "_view_module": "@jupyter-widgets/base",
            "_view_module_version": "1.2.0",
            "_view_name": "LayoutView",
            "align_content": null,
            "align_items": null,
            "align_self": null,
            "border": null,
            "bottom": null,
            "display": null,
            "flex": null,
            "flex_flow": null,
            "grid_area": null,
            "grid_auto_columns": null,
            "grid_auto_flow": null,
            "grid_auto_rows": null,
            "grid_column": null,
            "grid_gap": null,
            "grid_row": null,
            "grid_template_areas": null,
            "grid_template_columns": null,
            "grid_template_rows": null,
            "height": null,
            "justify_content": null,
            "justify_items": null,
            "left": null,
            "margin": null,
            "max_height": null,
            "max_width": null,
            "min_height": null,
            "min_width": null,
            "object_fit": null,
            "object_position": null,
            "order": null,
            "overflow": null,
            "overflow_x": null,
            "overflow_y": null,
            "padding": null,
            "right": null,
            "top": null,
            "visibility": "hidden",
            "width": null
          }
        },
        "b388e20ce3f44a60a577ad0b75b7318c": {
          "model_module": "@jupyter-widgets/controls",
          "model_module_version": "1.5.0",
          "model_name": "VBoxModel",
          "state": {
            "_dom_classes": [
              "widget-interact"
            ],
            "_model_module": "@jupyter-widgets/controls",
            "_model_module_version": "1.5.0",
            "_model_name": "VBoxModel",
            "_view_count": null,
            "_view_module": "@jupyter-widgets/controls",
            "_view_module_version": "1.5.0",
            "_view_name": "VBoxView",
            "box_style": "",
            "children": [
              "IPY_MODEL_60e30ccecf484a649aa46a64fecaf3ad",
              "IPY_MODEL_8088f4ee26e24eee9a4bf4932612b2af"
            ],
            "layout": "IPY_MODEL_ef157d3348e248068a45fecbc192ad26"
          }
        },
        "b8c1e59b78fc47c5b96274aa8d7be341": {
          "model_module": "@jupyter-widgets/controls",
          "model_module_version": "1.5.0",
          "model_name": "ToggleButtonsStyleModel",
          "state": {
            "_model_module": "@jupyter-widgets/controls",
            "_model_module_version": "1.5.0",
            "_model_name": "ToggleButtonsStyleModel",
            "_view_count": null,
            "_view_module": "@jupyter-widgets/base",
            "_view_module_version": "1.2.0",
            "_view_name": "StyleView",
            "button_width": "",
            "description_width": "",
            "font_weight": ""
          }
        },
        "c6b3bfe6332e478ca7667c138158c789": {
          "model_module": "@jupyter-widgets/base",
          "model_module_version": "1.2.0",
          "model_name": "LayoutModel",
          "state": {
            "_model_module": "@jupyter-widgets/base",
            "_model_module_version": "1.2.0",
            "_model_name": "LayoutModel",
            "_view_count": null,
            "_view_module": "@jupyter-widgets/base",
            "_view_module_version": "1.2.0",
            "_view_name": "LayoutView",
            "align_content": null,
            "align_items": null,
            "align_self": null,
            "border": null,
            "bottom": null,
            "display": null,
            "flex": null,
            "flex_flow": null,
            "grid_area": null,
            "grid_auto_columns": null,
            "grid_auto_flow": null,
            "grid_auto_rows": null,
            "grid_column": null,
            "grid_gap": null,
            "grid_row": null,
            "grid_template_areas": null,
            "grid_template_columns": null,
            "grid_template_rows": null,
            "height": null,
            "justify_content": null,
            "justify_items": null,
            "left": null,
            "margin": null,
            "max_height": null,
            "max_width": null,
            "min_height": null,
            "min_width": null,
            "object_fit": null,
            "object_position": null,
            "order": null,
            "overflow": null,
            "overflow_x": null,
            "overflow_y": null,
            "padding": null,
            "right": null,
            "top": null,
            "visibility": null,
            "width": null
          }
        },
        "c74af442973342c4af2e9f9ecb8c305f": {
          "model_module": "@jupyter-widgets/base",
          "model_module_version": "1.2.0",
          "model_name": "LayoutModel",
          "state": {
            "_model_module": "@jupyter-widgets/base",
            "_model_module_version": "1.2.0",
            "_model_name": "LayoutModel",
            "_view_count": null,
            "_view_module": "@jupyter-widgets/base",
            "_view_module_version": "1.2.0",
            "_view_name": "LayoutView",
            "align_content": null,
            "align_items": null,
            "align_self": null,
            "border": null,
            "bottom": null,
            "display": null,
            "flex": null,
            "flex_flow": null,
            "grid_area": null,
            "grid_auto_columns": null,
            "grid_auto_flow": null,
            "grid_auto_rows": null,
            "grid_column": null,
            "grid_gap": null,
            "grid_row": null,
            "grid_template_areas": null,
            "grid_template_columns": null,
            "grid_template_rows": null,
            "height": null,
            "justify_content": null,
            "justify_items": null,
            "left": null,
            "margin": null,
            "max_height": null,
            "max_width": null,
            "min_height": null,
            "min_width": null,
            "object_fit": null,
            "object_position": null,
            "order": null,
            "overflow": null,
            "overflow_x": null,
            "overflow_y": null,
            "padding": null,
            "right": null,
            "top": null,
            "visibility": "hidden",
            "width": null
          }
        },
        "d5604b3d791b4a6780dd8b7d1368fd4b": {
          "model_module": "@jupyter-widgets/controls",
          "model_module_version": "1.5.0",
          "model_name": "HTMLModel",
          "state": {
            "_dom_classes": [],
            "_model_module": "@jupyter-widgets/controls",
            "_model_module_version": "1.5.0",
            "_model_name": "HTMLModel",
            "_view_count": null,
            "_view_module": "@jupyter-widgets/controls",
            "_view_module_version": "1.5.0",
            "_view_name": "HTMLView",
            "description": "",
            "description_tooltip": null,
            "layout": "IPY_MODEL_040efd1ce58b44fd95e1b7db3ade67ee",
            "placeholder": "​",
            "style": "IPY_MODEL_f680f3ddf2044b70a0a6deeb9876b156",
            "value": " 4/4 [00:04&lt;00:00,  1.16s/it]"
          }
        },
        "d6fc0052dd434aaa8e8c1d40962de68d": {
          "model_module": "@jupyter-widgets/base",
          "model_module_version": "1.2.0",
          "model_name": "LayoutModel",
          "state": {
            "_model_module": "@jupyter-widgets/base",
            "_model_module_version": "1.2.0",
            "_model_name": "LayoutModel",
            "_view_count": null,
            "_view_module": "@jupyter-widgets/base",
            "_view_module_version": "1.2.0",
            "_view_name": "LayoutView",
            "align_content": null,
            "align_items": null,
            "align_self": null,
            "border": null,
            "bottom": null,
            "display": null,
            "flex": null,
            "flex_flow": null,
            "grid_area": null,
            "grid_auto_columns": null,
            "grid_auto_flow": null,
            "grid_auto_rows": null,
            "grid_column": null,
            "grid_gap": null,
            "grid_row": null,
            "grid_template_areas": null,
            "grid_template_columns": null,
            "grid_template_rows": null,
            "height": null,
            "justify_content": null,
            "justify_items": null,
            "left": null,
            "margin": null,
            "max_height": null,
            "max_width": null,
            "min_height": null,
            "min_width": null,
            "object_fit": null,
            "object_position": null,
            "order": null,
            "overflow": null,
            "overflow_x": null,
            "overflow_y": null,
            "padding": null,
            "right": null,
            "top": null,
            "visibility": null,
            "width": null
          }
        },
        "d9c0fd6aae6f45c58ff3b5eb86bd1cf5": {
          "model_module": "@jupyter-widgets/controls",
          "model_module_version": "1.5.0",
          "model_name": "DescriptionStyleModel",
          "state": {
            "_model_module": "@jupyter-widgets/controls",
            "_model_module_version": "1.5.0",
            "_model_name": "DescriptionStyleModel",
            "_view_count": null,
            "_view_module": "@jupyter-widgets/base",
            "_view_module_version": "1.2.0",
            "_view_name": "StyleView",
            "description_width": ""
          }
        },
        "ef157d3348e248068a45fecbc192ad26": {
          "model_module": "@jupyter-widgets/base",
          "model_module_version": "1.2.0",
          "model_name": "LayoutModel",
          "state": {
            "_model_module": "@jupyter-widgets/base",
            "_model_module_version": "1.2.0",
            "_model_name": "LayoutModel",
            "_view_count": null,
            "_view_module": "@jupyter-widgets/base",
            "_view_module_version": "1.2.0",
            "_view_name": "LayoutView",
            "align_content": null,
            "align_items": null,
            "align_self": null,
            "border": null,
            "bottom": null,
            "display": null,
            "flex": null,
            "flex_flow": null,
            "grid_area": null,
            "grid_auto_columns": null,
            "grid_auto_flow": null,
            "grid_auto_rows": null,
            "grid_column": null,
            "grid_gap": null,
            "grid_row": null,
            "grid_template_areas": null,
            "grid_template_columns": null,
            "grid_template_rows": null,
            "height": null,
            "justify_content": null,
            "justify_items": null,
            "left": null,
            "margin": null,
            "max_height": null,
            "max_width": null,
            "min_height": null,
            "min_width": null,
            "object_fit": null,
            "object_position": null,
            "order": null,
            "overflow": null,
            "overflow_x": null,
            "overflow_y": null,
            "padding": null,
            "right": null,
            "top": null,
            "visibility": null,
            "width": null
          }
        },
        "f680f3ddf2044b70a0a6deeb9876b156": {
          "model_module": "@jupyter-widgets/controls",
          "model_module_version": "1.5.0",
          "model_name": "DescriptionStyleModel",
          "state": {
            "_model_module": "@jupyter-widgets/controls",
            "_model_module_version": "1.5.0",
            "_model_name": "DescriptionStyleModel",
            "_view_count": null,
            "_view_module": "@jupyter-widgets/base",
            "_view_module_version": "1.2.0",
            "_view_name": "StyleView",
            "description_width": ""
          }
        }
      }
    }
  },
  "nbformat": 4,
  "nbformat_minor": 0
}
