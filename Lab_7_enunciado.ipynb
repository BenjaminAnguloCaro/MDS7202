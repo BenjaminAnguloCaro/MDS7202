{
  "cells": [
    {
      "cell_type": "markdown",
      "metadata": {
        "id": "_Tgm8mCA9Dp3"
      },
      "source": [
        "# Laboratorio 7: Clasificación 🤗\n",
        "\n",
        "<center><strong>MDS7202: Laboratorio de Programación Científica para Ciencia de Datos</strong></center>\n"
      ]
    },
    {
      "cell_type": "markdown",
      "metadata": {
        "id": "11Kc_ibM9GXH"
      },
      "source": [
        "### Cuerpo Docente:\n",
        "\n",
        "- Profesores: Ignacio Meza, Sebastián Tinoco\n",
        "- Auxiliares: Catherine Benavides y Consuelo Rojas\n",
        "- Ayudante: Nicolás Ojeda, Eduardo Moya"
      ]
    },
    {
      "cell_type": "markdown",
      "metadata": {
        "id": "u9dUSltr9JrN"
      },
      "source": [
        "### Equipo: SUPER IMPORTANTE - notebooks sin nombre no serán revisados\n",
        "\n",
        "- Nombre de alumno 1: Vanessa González\n",
        "- Nombre de alumno 2: Benjamín Angulo"
      ]
    },
    {
      "cell_type": "markdown",
      "metadata": {
        "id": "YBa48PDF9OHw"
      },
      "source": [
        "### Temas a tratar\n",
        "- Clasificación en problemas desbalanceados\n",
        "- Lightgbm y xgboost\n",
        "- Pipelines"
      ]
    },
    {
      "cell_type": "markdown",
      "metadata": {
        "id": "mkhnnMx49Qrh"
      },
      "source": [
        "### Reglas:\n",
        "\n",
        "- **Grupos de 2 personas**\n",
        "- Cualquier duda fuera del horario de clases al foro. Mensajes al equipo docente serán respondidos por este medio.\n",
        "- Prohibidas las copias.\n",
        "- Pueden usar cualquer matrial del curso que estimen conveniente.\n",
        "- Código que no se pueda ejecutar, no será revisado."
      ]
    },
    {
      "cell_type": "markdown",
      "metadata": {
        "id": "sxzJ48Vv8quO"
      },
      "source": [
        "\n",
        "\n",
        "### Objetivos principales del laboratorio\n",
        "- Comprender cómo trabajar con problemas de clasificación con clases desbalanceadas.\n",
        "- Aplicar los modelos lightgbm y xgboost.\n",
        "- Practicar Pipelines"
      ]
    },
    {
      "cell_type": "markdown",
      "metadata": {
        "id": "k-ao0mOU64Ru"
      },
      "source": [
        "# Parte Teórica [12 puntos]\n",
        "\n",
        "\n"
      ]
    },
    {
      "cell_type": "markdown",
      "metadata": {
        "id": "ApXKwPDmxcEV"
      },
      "source": [
        "1. Explique cuál es la diferencia entre los datos de entrenamiento y validación. [1 punto]\n",
        "\n",
        "2. Explique cuál es el principal desafío al trabajar problemas de clasificación con data no supervisada. [1 punto]\n",
        "\n",
        "3. Explique en **sus palabras** qué es la matriz de confusión y para qué se utiliza. [1 puntos]\n",
        "\n",
        "4. Escriba la fórmula de las siguientes métricas y explique con **sus palabras** cómo se interpretan. [1 punto cada uno]\n",
        "\n",
        "  * Accuracy\n",
        "  * Precision\n",
        "  * Recall\n",
        "  * F1 score\n",
        "\n",
        "5. Explique qué métrica recomendaría para los siguientes contextos de clasificación. [1 punto cada uno]\n",
        "\n",
        "  * Mantenimiento predictivo de fallas de maquinaria pesada en la industria minera.  \n",
        "  * Detección de enfermedades altamente contagiosas.\n",
        "  * Aprobación de créditos de alto riesgo.\n",
        "  * Detección de crímenes.\n",
        "\n",
        "6. Explique qué es la calibración de modelos y para qué se usa. [1 punto]\n"
      ]
    },
    {
      "cell_type": "markdown",
      "metadata": {
        "id": "Yy4QMWD8-FPk"
      },
      "source": [
        "**Respuesta:**"
      ]
    },
    {
      "cell_type": "markdown",
      "metadata": {
        "id": "QYFdD1aK-ICa"
      },
      "source": [
        "1.- La diferencia entre estos radica en que los datos de entrenamiento son datos tomados a partir de una partición de un dataset original, siendo este conjunto el más grande en comparación al de validación, ya que se usará para entrenar el modelo de Machine Learning. En cambio los datos de validación son utilizados para poder comprobar si el modelo está funcionando correctamente, ya que con estos se realizarán predicciones y se comprobará que los resultados predichos sean coherentes con los resultados reales. \n",
        "\n",
        "2.- Los desafíos más importantes para este tipo de problemas son las evaluaciones de rendimiento, ya que al no haber clases definidas formalmente al momento de entrenar no se pueden usar las métricas que se usan en el entrenamiento con datos supervisados como podrían ser el accuracy, precision o recall.\n",
        "\n",
        "3.- La matriz de confusión es una herramienta que permite visualizar las etiquetas predichas por un modelo de aprendizaje automático vs las etiquetas reales de la data. De este modo se puede tener una mejor perspectiva de como funciona el modelo al ver su funcionamiento con la data de validación sin necesariamente usar las métricas clásicas como puede ser el recall o precision. \n",
        "\n",
        "4.- **Accuracy**:   $accuracy = \\frac{TP + TN}{TP + TN + FP + FN}$   El accuracy entrega la proporción de datos predecidos correctamente con respecto al total de los datos. \n",
        "\n",
        "**Precision**:   $precision = \\frac{TP}{TP + FP}$   La precision entrega la proporción de datos con etiqueta positiva predecidos correctamente de todos los datos predecidos como positivos.\n",
        "\n",
        "**Recall**:    $recall = \\frac{TP}{TP + FN}$    El recall entrega la proporción de datos con etiqueta positiva predichos correctamente de todos los datos con etiqueta positiva real.\n",
        "\n",
        "**F1 score**:    $F1 score = \\frac{2 \\cdot precision \\cdot recall}{precision + recall}$     El F1 score mide el balance entre precision y recall, por lo que un valor alto de este implica una buena predicción del modelo de las clases positivas. \n",
        "\n",
        "5.- \n",
        "\n",
        "**Mantenimiento predictivo de fallas de maquinaria pesada en la industria minera**: Cómo se espera poder predecir de manera correcta los mantenimientos la mejor métrica sería le recall, ya que lo más perjudicial para este modelo son los falsos negativos, ya que implicaría que la maquinaría podría fallar antes del mantenimiento. Así mismo, los falsos positivos podrían significar un problema por gastos innecesarios en mantención, pero el peso que tiene esto es menor al que tiene los falsos negativos. De todos modos la precision sería una métrica importante aunque menos que el recall. \n",
        "\n",
        "**Detección de enfermedades altamente contagiosas**: Para este caso es importante poder predecir todos los casos positivos, por lo que la prioridad sería poder tener la menor cantidad de falsos negativos para así poder evitar posibles contagios futuros. De este modo la métrica que tendría que tener un mejor valor para este modelo es el recall para así tener menos falsos negativos.\n",
        "\n",
        "**Aprobación de créditos de alto riesgo**: Para este caso el principal peligro es el aprobar créditos que no debiesen ser aprobados. De este modo lo que se busca es un modelo con la menor cantidad de falsos positivos, por lo que la métrica más importante para este caso es la precision. \n",
        "\n",
        "**Detección de crímenes**: En este caso es importante detectar la mayor cantidad de crímenes reales, por lo que el mayor interés es disminuir la cantidad de falsos negativos. De este modo la métrica más importante para este modelo sería el recall. \n",
        "\n",
        "6.- La calibración consiste en el reajuste de probabilidades predichas para que correspondan con la proporción de casos reales observados. De este modo se busca realizar correcciones para ciertas predicciones cuando un modelo las subestima o las sobrestima. La calibración se usa para cuando se quiere emplear las probabilidades asociadas a la predicción en algún aspecto. Más allá de esto la calibración no tiene mucho valor, ya que no aporta a mejorar las predicciones de un modelo, sino que al contrario puede llegar a reducir el accuracy del mismo. \n"
      ]
    },
    {
      "cell_type": "markdown",
      "metadata": {
        "id": "Jg_9jBqtgRDO"
      },
      "source": [
        "# Parte práctica [48 puntos]"
      ]
    },
    {
      "cell_type": "markdown",
      "metadata": {
        "id": "slm6yRfdfZwS"
      },
      "source": [
        "<p align=\"center\">\n",
        "  <img src=\"https://drive.google.com/uc?export=view&id=1BnO4tyh3vM2P199Ec9s3JjngQ4qQ9seP\"\n",
        "\" width=\"300\">\n",
        "</p>\n",
        "\n",
        "\n",
        "Tras el trágico despido de la mítica mascota de Maipú, Renacín decide adentrarse como consultor en el mercado futbolero, el cuál (para variar...) está cargado en especulaciones.\n",
        "\n",
        "Como su principal tarea será asesorar a los directivos de los clubes sobre cuál jugador comprar y cuál no, Renacín desea generar modelos predictivos que evaluén distintas características de los jugadores; todo con el fin de tomar decisiones concretas basadas en los datos.\n",
        "\n",
        "Sin embargo, su condición de corporeo le impidió tomar la versión anterior de MDS7202, por lo que este motivo Renacín contrata a su equipo para lograr su objetivo final. Dado que aún tiene fuertes vínculos con la dirección de deportes de la municipalidad, el corporeo le entrega base de datos con las estadísticas de cada jugador para que su equipo empieze a trabajar ya con un dataset listo para ser usado.\n"
      ]
    },
    {
      "cell_type": "markdown",
      "metadata": {
        "id": "jnbx7RwHfkue"
      },
      "source": [
        "**Los Datos**\n",
        "\n",
        "Para este laboratorio deberán trabajar con el csv `statsplayers.csv`, donde deberán aplicar algoritmos de aprendizaje supervisado de clasificación en base a características que describen de jugadores de fútbol.\n",
        "\n",
        "Para comenzar cargue el dataset señalado y a continuación vea el reporte **`Player_Stats_Report.html`** (adjunto en la carpeta del enunciado) que describe las características principales del `DataFrame`."
      ]
    },
    {
      "cell_type": "code",
      "execution_count": null,
      "metadata": {
        "id": "mX6iwOWUfrp_"
      },
      "outputs": [],
      "source": [
        "# Si usted está utilizando Colabolatory le puede ser útil este código para cargar los archivos.\n",
        "try:\n",
        "    from google.colab import drive\n",
        "    drive.mount(\"/content/drive\")\n",
        "    path = 'Dirección donde tiene los archivos en el Drive'\n",
        "except:\n",
        "    print('Ignorando conexión drive-colab')"
      ]
    },
    {
      "cell_type": "code",
      "execution_count": 193,
      "metadata": {},
      "outputs": [],
      "source": [
        "import pandas as pd\n",
        "\n",
        "df = pd.read_csv(\"stats_players.csv\")"
      ]
    },
    {
      "cell_type": "markdown",
      "metadata": {
        "id": "JdcucZhp-M_0"
      },
      "source": [
        "## 1. Predicción de Seleccionados Nacionales [14 puntos]"
      ]
    },
    {
      "cell_type": "markdown",
      "metadata": {
        "id": "HXrewqxjjzvA"
      },
      "source": [
        "<p align=\"center\">\n",
        "  <img src=\"https://www.futuro.cl/wp-content/uploads/2016/06/chile-argentina-meme-12.jpg\" width=\"300\">\n",
        "</p>\n",
        "\n"
      ]
    },
    {
      "cell_type": "markdown",
      "metadata": {
        "id": "Qfre1YsSDqla"
      },
      "source": [
        "### 1.1 Preprocesamiento [5 puntos]"
      ]
    },
    {
      "cell_type": "markdown",
      "metadata": {
        "id": "IR00u4HTDtxv"
      },
      "source": [
        "Tareas:\n",
        "\n",
        "1. Genere los labels para la clasificación binaria en una variable llamada `label`. Para esto, trabaje sobre el atributo `National_Position` suponiendo que los valores nulos son jugadores no seleccionados para representar a su país. [Sin puntaje]\n",
        "\n",
        "2. Hecho esto, ¿cuántos se tienen ejemplos por cada clase? Comente lo que observa. [1 punto]\n",
        "\n",
        "3. Genere un `ColumnTransformer` en donde especifique las transformaciones que hay que realizar para cada columna (por ejemplo StandarScaler, MinMaxScaler, OneHotEncoder, etc...) para que puedan ser utilizadas correctamente por el modelo predictivo y guárdelo una variable llamada `col_transformer`. [2 puntos]\n",
        "\n",
        "4. Comente y justifique las transformaciones elegidas sobre cada una de las variables (para esto utilice el material `Player_Stats_Report.html` que viene en el zip del lab), al igual que las transformaciones aplicadas. [2 puntos]"
      ]
    },
    {
      "cell_type": "markdown",
      "metadata": {
        "id": "tgAk0kbPjEsx"
      },
      "source": [
        "**Respuesta:**"
      ]
    },
    {
      "cell_type": "code",
      "execution_count": 165,
      "metadata": {
        "id": "JhC2sZj9dSI1"
      },
      "outputs": [
        {
          "name": "stdout",
          "output_type": "stream",
          "text": [
            "label\n",
            "0    16513\n",
            "1     1075\n",
            "Name: count, dtype: int64\n"
          ]
        }
      ],
      "source": [
        "from sklearn.compose import ColumnTransformer\n",
        "from sklearn.preprocessing import OneHotEncoder, StandardScaler, MinMaxScaler\n",
        "\n",
        "df[\"label\"] = df[\"National_Position\"].notnull().astype(int) # Se crea el atributo binario \"label\" \n",
        "\n",
        "class_count = df[\"label\"].value_counts() # Se hace un conteo de la cantidad de datos por clase del atributo \"label\"\n",
        "print(class_count)\n",
        "\n",
        "categorical_data = [\"Club_Position\", \"Preffered_Foot\", \"Work_Rate\"] # Se crea una lista con las variables categoricas, eliminando las que no aportan información como el nombre, nacionalidad y national position.\n",
        "numerical_data_standard = [\"Height\", \"Weight\", \"Age\", \"Ball_Control\", \"Dribbling\", \"Marking\", \"Sliding_Tackle\", \"Standing_Tackle\", \"Aggression\", \"Reactions\", \"Interceptions\", \"Vision\", \"Composure\", \"Crossing\", \"Short_Pass\", \"Long_Pass\", \"Acceleration\", \"Speed\", \"Stamina\", \"Strength\", \"Balance\", \"Agility\", \"Jumping\", \"Heading\", \"Shot_Power\", \"Finishing\", \"Long_Shots\", \"Curve\", \"Freekick_Accuracy\", \"Penalties\", \"Volleys\"] # Se crea una lista con las variables numéricas con las que se usará la transformación StandardScaler\n",
        "numerical_data_minmax = [\"Weak_foot\", \"Skill_Moves\"] # Se crea una lista con las variables numéricas con las que se usará la transformación MinMaxScaler\n",
        "\n",
        "col_transformer = ColumnTransformer(\n",
        "    transformers=[(\"categorical\", OneHotEncoder(), categorical_data),\n",
        "                  (\"numerical_standard\", StandardScaler(), numerical_data_standard),\n",
        "                  (\"numerical_minmax\", MinMaxScaler(), numerical_data_minmax)]) # Se crea el ColumnTransformer con las transformaciones esperadas para cada conjunto de variables"
      ]
    },
    {
      "cell_type": "markdown",
      "metadata": {},
      "source": [
        "2.- Se puede notar una gran disparidad entre ambas clases, lo que puede generar problemas a futuro en las predicciones de estas mismas que se buscan realizar. \n",
        "\n",
        "4.- Se decide usar OneHotEncoder para las variables categóricas debido a que este permite convertir estas variables en arrays numéricos que podrán ser entendidos por los modelos. Además se decide usar StandardScaler para todas las variables numéricas que tienen una distribución gaussiana, con el fin de normalizarlas y así tener valores más concretos para los modelos. Por último en el caso de las variables numéricas \"Weak_foot\" y \"Skill_Moves\" se decide usar MinMaxScaler dada su distribución, ya que es una buena forma de acotar los valores de estos a [0,1], ya que no hay presencia de outliers y así se simplifica el procesamiento para el modelo. "
      ]
    },
    {
      "cell_type": "markdown",
      "metadata": {
        "id": "Bv1HOfcNEPF4"
      },
      "source": [
        "### 1.2 Entrenamiento [3 puntos]"
      ]
    },
    {
      "cell_type": "markdown",
      "metadata": {
        "id": "whPkuXTUBvB0"
      },
      "source": [
        "Ahora, vamos a entrenar los pipelines generados en los pasos anteriores. Para esto, debe realizar las siguientes tareas:\n",
        "\n",
        "1. Separe los datos de entrenamiento en un conjunto de entrenamiento y de prueba  (la proporción queda a su juicio). En este paso, seleccione los ejemplos de forma aleatoria e intente mantener la distribución original de labels de cada clase en los conjuntos de prueba/entrenamiento. (vea la documentación de `train_test_split`). [1 puntos]\n",
        "\n",
        "\n",
        "2. Defina un pipeline llamado `pipeline_xgboost` y otro llamado `pipeline_lightgbm`. Estos pipelines deben tener el mismo ColumnTransformer definido en la sección de preprocesamiento, pero deben variar los clasificadores de acuerdo al nombre de cada pipeline. [1 puntos]\n",
        "\n",
        "3. Entrene los pipelines. [1 punto]\n",
        "\n"
      ]
    },
    {
      "cell_type": "markdown",
      "metadata": {
        "id": "kbadONFtjGnE"
      },
      "source": [
        "**Respuesta:**"
      ]
    },
    {
      "cell_type": "code",
      "execution_count": 144,
      "metadata": {
        "id": "lLtlXGTPdWAV"
      },
      "outputs": [
        {
          "name": "stdout",
          "output_type": "stream",
          "text": [
            "[LightGBM] [Info] Number of positive: 860, number of negative: 13210\n",
            "[LightGBM] [Info] Auto-choosing col-wise multi-threading, the overhead of testing was 0.001448 seconds.\n",
            "You can set `force_col_wise=true` to remove the overhead.\n",
            "[LightGBM] [Info] Total Bins 2526\n",
            "[LightGBM] [Info] Number of data points in the train set: 14070, number of used features: 70\n",
            "[LightGBM] [Info] [binary:BoostFromScore]: pavg=0.061123 -> initscore=-2.731797\n",
            "[LightGBM] [Info] Start training from score -2.731797\n"
          ]
        },
        {
          "data": {
            "text/html": [
              "<style>#sk-container-id-3 {\n",
              "  /* Definition of color scheme common for light and dark mode */\n",
              "  --sklearn-color-text: black;\n",
              "  --sklearn-color-line: gray;\n",
              "  /* Definition of color scheme for unfitted estimators */\n",
              "  --sklearn-color-unfitted-level-0: #fff5e6;\n",
              "  --sklearn-color-unfitted-level-1: #f6e4d2;\n",
              "  --sklearn-color-unfitted-level-2: #ffe0b3;\n",
              "  --sklearn-color-unfitted-level-3: chocolate;\n",
              "  /* Definition of color scheme for fitted estimators */\n",
              "  --sklearn-color-fitted-level-0: #f0f8ff;\n",
              "  --sklearn-color-fitted-level-1: #d4ebff;\n",
              "  --sklearn-color-fitted-level-2: #b3dbfd;\n",
              "  --sklearn-color-fitted-level-3: cornflowerblue;\n",
              "\n",
              "  /* Specific color for light theme */\n",
              "  --sklearn-color-text-on-default-background: var(--sg-text-color, var(--theme-code-foreground, var(--jp-content-font-color1, black)));\n",
              "  --sklearn-color-background: var(--sg-background-color, var(--theme-background, var(--jp-layout-color0, white)));\n",
              "  --sklearn-color-border-box: var(--sg-text-color, var(--theme-code-foreground, var(--jp-content-font-color1, black)));\n",
              "  --sklearn-color-icon: #696969;\n",
              "\n",
              "  @media (prefers-color-scheme: dark) {\n",
              "    /* Redefinition of color scheme for dark theme */\n",
              "    --sklearn-color-text-on-default-background: var(--sg-text-color, var(--theme-code-foreground, var(--jp-content-font-color1, white)));\n",
              "    --sklearn-color-background: var(--sg-background-color, var(--theme-background, var(--jp-layout-color0, #111)));\n",
              "    --sklearn-color-border-box: var(--sg-text-color, var(--theme-code-foreground, var(--jp-content-font-color1, white)));\n",
              "    --sklearn-color-icon: #878787;\n",
              "  }\n",
              "}\n",
              "\n",
              "#sk-container-id-3 {\n",
              "  color: var(--sklearn-color-text);\n",
              "}\n",
              "\n",
              "#sk-container-id-3 pre {\n",
              "  padding: 0;\n",
              "}\n",
              "\n",
              "#sk-container-id-3 input.sk-hidden--visually {\n",
              "  border: 0;\n",
              "  clip: rect(1px 1px 1px 1px);\n",
              "  clip: rect(1px, 1px, 1px, 1px);\n",
              "  height: 1px;\n",
              "  margin: -1px;\n",
              "  overflow: hidden;\n",
              "  padding: 0;\n",
              "  position: absolute;\n",
              "  width: 1px;\n",
              "}\n",
              "\n",
              "#sk-container-id-3 div.sk-dashed-wrapped {\n",
              "  border: 1px dashed var(--sklearn-color-line);\n",
              "  margin: 0 0.4em 0.5em 0.4em;\n",
              "  box-sizing: border-box;\n",
              "  padding-bottom: 0.4em;\n",
              "  background-color: var(--sklearn-color-background);\n",
              "}\n",
              "\n",
              "#sk-container-id-3 div.sk-container {\n",
              "  /* jupyter's `normalize.less` sets `[hidden] { display: none; }`\n",
              "     but bootstrap.min.css set `[hidden] { display: none !important; }`\n",
              "     so we also need the `!important` here to be able to override the\n",
              "     default hidden behavior on the sphinx rendered scikit-learn.org.\n",
              "     See: https://github.com/scikit-learn/scikit-learn/issues/21755 */\n",
              "  display: inline-block !important;\n",
              "  position: relative;\n",
              "}\n",
              "\n",
              "#sk-container-id-3 div.sk-text-repr-fallback {\n",
              "  display: none;\n",
              "}\n",
              "\n",
              "div.sk-parallel-item,\n",
              "div.sk-serial,\n",
              "div.sk-item {\n",
              "  /* draw centered vertical line to link estimators */\n",
              "  background-image: linear-gradient(var(--sklearn-color-text-on-default-background), var(--sklearn-color-text-on-default-background));\n",
              "  background-size: 2px 100%;\n",
              "  background-repeat: no-repeat;\n",
              "  background-position: center center;\n",
              "}\n",
              "\n",
              "/* Parallel-specific style estimator block */\n",
              "\n",
              "#sk-container-id-3 div.sk-parallel-item::after {\n",
              "  content: \"\";\n",
              "  width: 100%;\n",
              "  border-bottom: 2px solid var(--sklearn-color-text-on-default-background);\n",
              "  flex-grow: 1;\n",
              "}\n",
              "\n",
              "#sk-container-id-3 div.sk-parallel {\n",
              "  display: flex;\n",
              "  align-items: stretch;\n",
              "  justify-content: center;\n",
              "  background-color: var(--sklearn-color-background);\n",
              "  position: relative;\n",
              "}\n",
              "\n",
              "#sk-container-id-3 div.sk-parallel-item {\n",
              "  display: flex;\n",
              "  flex-direction: column;\n",
              "}\n",
              "\n",
              "#sk-container-id-3 div.sk-parallel-item:first-child::after {\n",
              "  align-self: flex-end;\n",
              "  width: 50%;\n",
              "}\n",
              "\n",
              "#sk-container-id-3 div.sk-parallel-item:last-child::after {\n",
              "  align-self: flex-start;\n",
              "  width: 50%;\n",
              "}\n",
              "\n",
              "#sk-container-id-3 div.sk-parallel-item:only-child::after {\n",
              "  width: 0;\n",
              "}\n",
              "\n",
              "/* Serial-specific style estimator block */\n",
              "\n",
              "#sk-container-id-3 div.sk-serial {\n",
              "  display: flex;\n",
              "  flex-direction: column;\n",
              "  align-items: center;\n",
              "  background-color: var(--sklearn-color-background);\n",
              "  padding-right: 1em;\n",
              "  padding-left: 1em;\n",
              "}\n",
              "\n",
              "\n",
              "/* Toggleable style: style used for estimator/Pipeline/ColumnTransformer box that is\n",
              "clickable and can be expanded/collapsed.\n",
              "- Pipeline and ColumnTransformer use this feature and define the default style\n",
              "- Estimators will overwrite some part of the style using the `sk-estimator` class\n",
              "*/\n",
              "\n",
              "/* Pipeline and ColumnTransformer style (default) */\n",
              "\n",
              "#sk-container-id-3 div.sk-toggleable {\n",
              "  /* Default theme specific background. It is overwritten whether we have a\n",
              "  specific estimator or a Pipeline/ColumnTransformer */\n",
              "  background-color: var(--sklearn-color-background);\n",
              "}\n",
              "\n",
              "/* Toggleable label */\n",
              "#sk-container-id-3 label.sk-toggleable__label {\n",
              "  cursor: pointer;\n",
              "  display: block;\n",
              "  width: 100%;\n",
              "  margin-bottom: 0;\n",
              "  padding: 0.5em;\n",
              "  box-sizing: border-box;\n",
              "  text-align: center;\n",
              "}\n",
              "\n",
              "#sk-container-id-3 label.sk-toggleable__label-arrow:before {\n",
              "  /* Arrow on the left of the label */\n",
              "  content: \"▸\";\n",
              "  float: left;\n",
              "  margin-right: 0.25em;\n",
              "  color: var(--sklearn-color-icon);\n",
              "}\n",
              "\n",
              "#sk-container-id-3 label.sk-toggleable__label-arrow:hover:before {\n",
              "  color: var(--sklearn-color-text);\n",
              "}\n",
              "\n",
              "/* Toggleable content - dropdown */\n",
              "\n",
              "#sk-container-id-3 div.sk-toggleable__content {\n",
              "  max-height: 0;\n",
              "  max-width: 0;\n",
              "  overflow: hidden;\n",
              "  text-align: left;\n",
              "  /* unfitted */\n",
              "  background-color: var(--sklearn-color-unfitted-level-0);\n",
              "}\n",
              "\n",
              "#sk-container-id-3 div.sk-toggleable__content.fitted {\n",
              "  /* fitted */\n",
              "  background-color: var(--sklearn-color-fitted-level-0);\n",
              "}\n",
              "\n",
              "#sk-container-id-3 div.sk-toggleable__content pre {\n",
              "  margin: 0.2em;\n",
              "  border-radius: 0.25em;\n",
              "  color: var(--sklearn-color-text);\n",
              "  /* unfitted */\n",
              "  background-color: var(--sklearn-color-unfitted-level-0);\n",
              "}\n",
              "\n",
              "#sk-container-id-3 div.sk-toggleable__content.fitted pre {\n",
              "  /* unfitted */\n",
              "  background-color: var(--sklearn-color-fitted-level-0);\n",
              "}\n",
              "\n",
              "#sk-container-id-3 input.sk-toggleable__control:checked~div.sk-toggleable__content {\n",
              "  /* Expand drop-down */\n",
              "  max-height: 200px;\n",
              "  max-width: 100%;\n",
              "  overflow: auto;\n",
              "}\n",
              "\n",
              "#sk-container-id-3 input.sk-toggleable__control:checked~label.sk-toggleable__label-arrow:before {\n",
              "  content: \"▾\";\n",
              "}\n",
              "\n",
              "/* Pipeline/ColumnTransformer-specific style */\n",
              "\n",
              "#sk-container-id-3 div.sk-label input.sk-toggleable__control:checked~label.sk-toggleable__label {\n",
              "  color: var(--sklearn-color-text);\n",
              "  background-color: var(--sklearn-color-unfitted-level-2);\n",
              "}\n",
              "\n",
              "#sk-container-id-3 div.sk-label.fitted input.sk-toggleable__control:checked~label.sk-toggleable__label {\n",
              "  background-color: var(--sklearn-color-fitted-level-2);\n",
              "}\n",
              "\n",
              "/* Estimator-specific style */\n",
              "\n",
              "/* Colorize estimator box */\n",
              "#sk-container-id-3 div.sk-estimator input.sk-toggleable__control:checked~label.sk-toggleable__label {\n",
              "  /* unfitted */\n",
              "  background-color: var(--sklearn-color-unfitted-level-2);\n",
              "}\n",
              "\n",
              "#sk-container-id-3 div.sk-estimator.fitted input.sk-toggleable__control:checked~label.sk-toggleable__label {\n",
              "  /* fitted */\n",
              "  background-color: var(--sklearn-color-fitted-level-2);\n",
              "}\n",
              "\n",
              "#sk-container-id-3 div.sk-label label.sk-toggleable__label,\n",
              "#sk-container-id-3 div.sk-label label {\n",
              "  /* The background is the default theme color */\n",
              "  color: var(--sklearn-color-text-on-default-background);\n",
              "}\n",
              "\n",
              "/* On hover, darken the color of the background */\n",
              "#sk-container-id-3 div.sk-label:hover label.sk-toggleable__label {\n",
              "  color: var(--sklearn-color-text);\n",
              "  background-color: var(--sklearn-color-unfitted-level-2);\n",
              "}\n",
              "\n",
              "/* Label box, darken color on hover, fitted */\n",
              "#sk-container-id-3 div.sk-label.fitted:hover label.sk-toggleable__label.fitted {\n",
              "  color: var(--sklearn-color-text);\n",
              "  background-color: var(--sklearn-color-fitted-level-2);\n",
              "}\n",
              "\n",
              "/* Estimator label */\n",
              "\n",
              "#sk-container-id-3 div.sk-label label {\n",
              "  font-family: monospace;\n",
              "  font-weight: bold;\n",
              "  display: inline-block;\n",
              "  line-height: 1.2em;\n",
              "}\n",
              "\n",
              "#sk-container-id-3 div.sk-label-container {\n",
              "  text-align: center;\n",
              "}\n",
              "\n",
              "/* Estimator-specific */\n",
              "#sk-container-id-3 div.sk-estimator {\n",
              "  font-family: monospace;\n",
              "  border: 1px dotted var(--sklearn-color-border-box);\n",
              "  border-radius: 0.25em;\n",
              "  box-sizing: border-box;\n",
              "  margin-bottom: 0.5em;\n",
              "  /* unfitted */\n",
              "  background-color: var(--sklearn-color-unfitted-level-0);\n",
              "}\n",
              "\n",
              "#sk-container-id-3 div.sk-estimator.fitted {\n",
              "  /* fitted */\n",
              "  background-color: var(--sklearn-color-fitted-level-0);\n",
              "}\n",
              "\n",
              "/* on hover */\n",
              "#sk-container-id-3 div.sk-estimator:hover {\n",
              "  /* unfitted */\n",
              "  background-color: var(--sklearn-color-unfitted-level-2);\n",
              "}\n",
              "\n",
              "#sk-container-id-3 div.sk-estimator.fitted:hover {\n",
              "  /* fitted */\n",
              "  background-color: var(--sklearn-color-fitted-level-2);\n",
              "}\n",
              "\n",
              "/* Specification for estimator info (e.g. \"i\" and \"?\") */\n",
              "\n",
              "/* Common style for \"i\" and \"?\" */\n",
              "\n",
              ".sk-estimator-doc-link,\n",
              "a:link.sk-estimator-doc-link,\n",
              "a:visited.sk-estimator-doc-link {\n",
              "  float: right;\n",
              "  font-size: smaller;\n",
              "  line-height: 1em;\n",
              "  font-family: monospace;\n",
              "  background-color: var(--sklearn-color-background);\n",
              "  border-radius: 1em;\n",
              "  height: 1em;\n",
              "  width: 1em;\n",
              "  text-decoration: none !important;\n",
              "  margin-left: 1ex;\n",
              "  /* unfitted */\n",
              "  border: var(--sklearn-color-unfitted-level-1) 1pt solid;\n",
              "  color: var(--sklearn-color-unfitted-level-1);\n",
              "}\n",
              "\n",
              ".sk-estimator-doc-link.fitted,\n",
              "a:link.sk-estimator-doc-link.fitted,\n",
              "a:visited.sk-estimator-doc-link.fitted {\n",
              "  /* fitted */\n",
              "  border: var(--sklearn-color-fitted-level-1) 1pt solid;\n",
              "  color: var(--sklearn-color-fitted-level-1);\n",
              "}\n",
              "\n",
              "/* On hover */\n",
              "div.sk-estimator:hover .sk-estimator-doc-link:hover,\n",
              ".sk-estimator-doc-link:hover,\n",
              "div.sk-label-container:hover .sk-estimator-doc-link:hover,\n",
              ".sk-estimator-doc-link:hover {\n",
              "  /* unfitted */\n",
              "  background-color: var(--sklearn-color-unfitted-level-3);\n",
              "  color: var(--sklearn-color-background);\n",
              "  text-decoration: none;\n",
              "}\n",
              "\n",
              "div.sk-estimator.fitted:hover .sk-estimator-doc-link.fitted:hover,\n",
              ".sk-estimator-doc-link.fitted:hover,\n",
              "div.sk-label-container:hover .sk-estimator-doc-link.fitted:hover,\n",
              ".sk-estimator-doc-link.fitted:hover {\n",
              "  /* fitted */\n",
              "  background-color: var(--sklearn-color-fitted-level-3);\n",
              "  color: var(--sklearn-color-background);\n",
              "  text-decoration: none;\n",
              "}\n",
              "\n",
              "/* Span, style for the box shown on hovering the info icon */\n",
              ".sk-estimator-doc-link span {\n",
              "  display: none;\n",
              "  z-index: 9999;\n",
              "  position: relative;\n",
              "  font-weight: normal;\n",
              "  right: .2ex;\n",
              "  padding: .5ex;\n",
              "  margin: .5ex;\n",
              "  width: min-content;\n",
              "  min-width: 20ex;\n",
              "  max-width: 50ex;\n",
              "  color: var(--sklearn-color-text);\n",
              "  box-shadow: 2pt 2pt 4pt #999;\n",
              "  /* unfitted */\n",
              "  background: var(--sklearn-color-unfitted-level-0);\n",
              "  border: .5pt solid var(--sklearn-color-unfitted-level-3);\n",
              "}\n",
              "\n",
              ".sk-estimator-doc-link.fitted span {\n",
              "  /* fitted */\n",
              "  background: var(--sklearn-color-fitted-level-0);\n",
              "  border: var(--sklearn-color-fitted-level-3);\n",
              "}\n",
              "\n",
              ".sk-estimator-doc-link:hover span {\n",
              "  display: block;\n",
              "}\n",
              "\n",
              "/* \"?\"-specific style due to the `<a>` HTML tag */\n",
              "\n",
              "#sk-container-id-3 a.estimator_doc_link {\n",
              "  float: right;\n",
              "  font-size: 1rem;\n",
              "  line-height: 1em;\n",
              "  font-family: monospace;\n",
              "  background-color: var(--sklearn-color-background);\n",
              "  border-radius: 1rem;\n",
              "  height: 1rem;\n",
              "  width: 1rem;\n",
              "  text-decoration: none;\n",
              "  /* unfitted */\n",
              "  color: var(--sklearn-color-unfitted-level-1);\n",
              "  border: var(--sklearn-color-unfitted-level-1) 1pt solid;\n",
              "}\n",
              "\n",
              "#sk-container-id-3 a.estimator_doc_link.fitted {\n",
              "  /* fitted */\n",
              "  border: var(--sklearn-color-fitted-level-1) 1pt solid;\n",
              "  color: var(--sklearn-color-fitted-level-1);\n",
              "}\n",
              "\n",
              "/* On hover */\n",
              "#sk-container-id-3 a.estimator_doc_link:hover {\n",
              "  /* unfitted */\n",
              "  background-color: var(--sklearn-color-unfitted-level-3);\n",
              "  color: var(--sklearn-color-background);\n",
              "  text-decoration: none;\n",
              "}\n",
              "\n",
              "#sk-container-id-3 a.estimator_doc_link.fitted:hover {\n",
              "  /* fitted */\n",
              "  background-color: var(--sklearn-color-fitted-level-3);\n",
              "}\n",
              "</style><div id=\"sk-container-id-3\" class=\"sk-top-container\"><div class=\"sk-text-repr-fallback\"><pre>Pipeline(steps=[(&#x27;transform&#x27;,\n",
              "                 ColumnTransformer(transformers=[(&#x27;categorical&#x27;,\n",
              "                                                  OneHotEncoder(),\n",
              "                                                  [&#x27;Club_Position&#x27;,\n",
              "                                                   &#x27;Preffered_Foot&#x27;,\n",
              "                                                   &#x27;Work_Rate&#x27;]),\n",
              "                                                 (&#x27;numerical_standard&#x27;,\n",
              "                                                  StandardScaler(),\n",
              "                                                  [&#x27;Height&#x27;, &#x27;Weight&#x27;, &#x27;Age&#x27;,\n",
              "                                                   &#x27;Ball_Control&#x27;, &#x27;Dribbling&#x27;,\n",
              "                                                   &#x27;Marking&#x27;, &#x27;Sliding_Tackle&#x27;,\n",
              "                                                   &#x27;Standing_Tackle&#x27;,\n",
              "                                                   &#x27;Aggression&#x27;, &#x27;Reactions&#x27;,\n",
              "                                                   &#x27;Interceptions&#x27;, &#x27;Vision&#x27;,\n",
              "                                                   &#x27;Composure&#x27;, &#x27;Crossing&#x27;,\n",
              "                                                   &#x27;Short_Pass&#x27;, &#x27;Long_Pass&#x27;,\n",
              "                                                   &#x27;Acceleration&#x27;, &#x27;Speed&#x27;,\n",
              "                                                   &#x27;Stamina&#x27;, &#x27;Strength&#x27;,\n",
              "                                                   &#x27;Balance&#x27;, &#x27;Agility&#x27;,\n",
              "                                                   &#x27;Jumping&#x27;, &#x27;Heading&#x27;,\n",
              "                                                   &#x27;Shot_Power&#x27;, &#x27;Finishing&#x27;,\n",
              "                                                   &#x27;Long_Shots&#x27;, &#x27;Curve&#x27;,\n",
              "                                                   &#x27;Freekick_Accuracy&#x27;,\n",
              "                                                   &#x27;Penalties&#x27;, ...]),\n",
              "                                                 (&#x27;numerical_minmax&#x27;,\n",
              "                                                  MinMaxScaler(),\n",
              "                                                  [&#x27;Weak_foot&#x27;,\n",
              "                                                   &#x27;Skill_Moves&#x27;])])),\n",
              "                (&#x27;classifier&#x27;, LGBMClassifier())])</pre><b>In a Jupyter environment, please rerun this cell to show the HTML representation or trust the notebook. <br />On GitHub, the HTML representation is unable to render, please try loading this page with nbviewer.org.</b></div><div class=\"sk-container\" hidden><div class=\"sk-item sk-dashed-wrapped\"><div class=\"sk-label-container\"><div class=\"sk-label fitted sk-toggleable\"><input class=\"sk-toggleable__control sk-hidden--visually\" id=\"sk-estimator-id-19\" type=\"checkbox\" ><label for=\"sk-estimator-id-19\" class=\"sk-toggleable__label fitted sk-toggleable__label-arrow fitted\">&nbsp;&nbsp;Pipeline<a class=\"sk-estimator-doc-link fitted\" rel=\"noreferrer\" target=\"_blank\" href=\"https://scikit-learn.org/1.4/modules/generated/sklearn.pipeline.Pipeline.html\">?<span>Documentation for Pipeline</span></a><span class=\"sk-estimator-doc-link fitted\">i<span>Fitted</span></span></label><div class=\"sk-toggleable__content fitted\"><pre>Pipeline(steps=[(&#x27;transform&#x27;,\n",
              "                 ColumnTransformer(transformers=[(&#x27;categorical&#x27;,\n",
              "                                                  OneHotEncoder(),\n",
              "                                                  [&#x27;Club_Position&#x27;,\n",
              "                                                   &#x27;Preffered_Foot&#x27;,\n",
              "                                                   &#x27;Work_Rate&#x27;]),\n",
              "                                                 (&#x27;numerical_standard&#x27;,\n",
              "                                                  StandardScaler(),\n",
              "                                                  [&#x27;Height&#x27;, &#x27;Weight&#x27;, &#x27;Age&#x27;,\n",
              "                                                   &#x27;Ball_Control&#x27;, &#x27;Dribbling&#x27;,\n",
              "                                                   &#x27;Marking&#x27;, &#x27;Sliding_Tackle&#x27;,\n",
              "                                                   &#x27;Standing_Tackle&#x27;,\n",
              "                                                   &#x27;Aggression&#x27;, &#x27;Reactions&#x27;,\n",
              "                                                   &#x27;Interceptions&#x27;, &#x27;Vision&#x27;,\n",
              "                                                   &#x27;Composure&#x27;, &#x27;Crossing&#x27;,\n",
              "                                                   &#x27;Short_Pass&#x27;, &#x27;Long_Pass&#x27;,\n",
              "                                                   &#x27;Acceleration&#x27;, &#x27;Speed&#x27;,\n",
              "                                                   &#x27;Stamina&#x27;, &#x27;Strength&#x27;,\n",
              "                                                   &#x27;Balance&#x27;, &#x27;Agility&#x27;,\n",
              "                                                   &#x27;Jumping&#x27;, &#x27;Heading&#x27;,\n",
              "                                                   &#x27;Shot_Power&#x27;, &#x27;Finishing&#x27;,\n",
              "                                                   &#x27;Long_Shots&#x27;, &#x27;Curve&#x27;,\n",
              "                                                   &#x27;Freekick_Accuracy&#x27;,\n",
              "                                                   &#x27;Penalties&#x27;, ...]),\n",
              "                                                 (&#x27;numerical_minmax&#x27;,\n",
              "                                                  MinMaxScaler(),\n",
              "                                                  [&#x27;Weak_foot&#x27;,\n",
              "                                                   &#x27;Skill_Moves&#x27;])])),\n",
              "                (&#x27;classifier&#x27;, LGBMClassifier())])</pre></div> </div></div><div class=\"sk-serial\"><div class=\"sk-item sk-dashed-wrapped\"><div class=\"sk-label-container\"><div class=\"sk-label fitted sk-toggleable\"><input class=\"sk-toggleable__control sk-hidden--visually\" id=\"sk-estimator-id-20\" type=\"checkbox\" ><label for=\"sk-estimator-id-20\" class=\"sk-toggleable__label fitted sk-toggleable__label-arrow fitted\">&nbsp;transform: ColumnTransformer<a class=\"sk-estimator-doc-link fitted\" rel=\"noreferrer\" target=\"_blank\" href=\"https://scikit-learn.org/1.4/modules/generated/sklearn.compose.ColumnTransformer.html\">?<span>Documentation for transform: ColumnTransformer</span></a></label><div class=\"sk-toggleable__content fitted\"><pre>ColumnTransformer(transformers=[(&#x27;categorical&#x27;, OneHotEncoder(),\n",
              "                                 [&#x27;Club_Position&#x27;, &#x27;Preffered_Foot&#x27;,\n",
              "                                  &#x27;Work_Rate&#x27;]),\n",
              "                                (&#x27;numerical_standard&#x27;, StandardScaler(),\n",
              "                                 [&#x27;Height&#x27;, &#x27;Weight&#x27;, &#x27;Age&#x27;, &#x27;Ball_Control&#x27;,\n",
              "                                  &#x27;Dribbling&#x27;, &#x27;Marking&#x27;, &#x27;Sliding_Tackle&#x27;,\n",
              "                                  &#x27;Standing_Tackle&#x27;, &#x27;Aggression&#x27;, &#x27;Reactions&#x27;,\n",
              "                                  &#x27;Interceptions&#x27;, &#x27;Vision&#x27;, &#x27;Composure&#x27;,\n",
              "                                  &#x27;Crossing&#x27;, &#x27;Short_Pass&#x27;, &#x27;Long_Pass&#x27;,\n",
              "                                  &#x27;Acceleration&#x27;, &#x27;Speed&#x27;, &#x27;Stamina&#x27;,\n",
              "                                  &#x27;Strength&#x27;, &#x27;Balance&#x27;, &#x27;Agility&#x27;, &#x27;Jumping&#x27;,\n",
              "                                  &#x27;Heading&#x27;, &#x27;Shot_Power&#x27;, &#x27;Finishing&#x27;,\n",
              "                                  &#x27;Long_Shots&#x27;, &#x27;Curve&#x27;, &#x27;Freekick_Accuracy&#x27;,\n",
              "                                  &#x27;Penalties&#x27;, ...]),\n",
              "                                (&#x27;numerical_minmax&#x27;, MinMaxScaler(),\n",
              "                                 [&#x27;Weak_foot&#x27;, &#x27;Skill_Moves&#x27;])])</pre></div> </div></div><div class=\"sk-parallel\"><div class=\"sk-parallel-item\"><div class=\"sk-item\"><div class=\"sk-label-container\"><div class=\"sk-label fitted sk-toggleable\"><input class=\"sk-toggleable__control sk-hidden--visually\" id=\"sk-estimator-id-21\" type=\"checkbox\" ><label for=\"sk-estimator-id-21\" class=\"sk-toggleable__label fitted sk-toggleable__label-arrow fitted\">categorical</label><div class=\"sk-toggleable__content fitted\"><pre>[&#x27;Club_Position&#x27;, &#x27;Preffered_Foot&#x27;, &#x27;Work_Rate&#x27;]</pre></div> </div></div><div class=\"sk-serial\"><div class=\"sk-item\"><div class=\"sk-estimator fitted sk-toggleable\"><input class=\"sk-toggleable__control sk-hidden--visually\" id=\"sk-estimator-id-22\" type=\"checkbox\" ><label for=\"sk-estimator-id-22\" class=\"sk-toggleable__label fitted sk-toggleable__label-arrow fitted\">&nbsp;OneHotEncoder<a class=\"sk-estimator-doc-link fitted\" rel=\"noreferrer\" target=\"_blank\" href=\"https://scikit-learn.org/1.4/modules/generated/sklearn.preprocessing.OneHotEncoder.html\">?<span>Documentation for OneHotEncoder</span></a></label><div class=\"sk-toggleable__content fitted\"><pre>OneHotEncoder()</pre></div> </div></div></div></div></div><div class=\"sk-parallel-item\"><div class=\"sk-item\"><div class=\"sk-label-container\"><div class=\"sk-label fitted sk-toggleable\"><input class=\"sk-toggleable__control sk-hidden--visually\" id=\"sk-estimator-id-23\" type=\"checkbox\" ><label for=\"sk-estimator-id-23\" class=\"sk-toggleable__label fitted sk-toggleable__label-arrow fitted\">numerical_standard</label><div class=\"sk-toggleable__content fitted\"><pre>[&#x27;Height&#x27;, &#x27;Weight&#x27;, &#x27;Age&#x27;, &#x27;Ball_Control&#x27;, &#x27;Dribbling&#x27;, &#x27;Marking&#x27;, &#x27;Sliding_Tackle&#x27;, &#x27;Standing_Tackle&#x27;, &#x27;Aggression&#x27;, &#x27;Reactions&#x27;, &#x27;Interceptions&#x27;, &#x27;Vision&#x27;, &#x27;Composure&#x27;, &#x27;Crossing&#x27;, &#x27;Short_Pass&#x27;, &#x27;Long_Pass&#x27;, &#x27;Acceleration&#x27;, &#x27;Speed&#x27;, &#x27;Stamina&#x27;, &#x27;Strength&#x27;, &#x27;Balance&#x27;, &#x27;Agility&#x27;, &#x27;Jumping&#x27;, &#x27;Heading&#x27;, &#x27;Shot_Power&#x27;, &#x27;Finishing&#x27;, &#x27;Long_Shots&#x27;, &#x27;Curve&#x27;, &#x27;Freekick_Accuracy&#x27;, &#x27;Penalties&#x27;, &#x27;Volleys&#x27;]</pre></div> </div></div><div class=\"sk-serial\"><div class=\"sk-item\"><div class=\"sk-estimator fitted sk-toggleable\"><input class=\"sk-toggleable__control sk-hidden--visually\" id=\"sk-estimator-id-24\" type=\"checkbox\" ><label for=\"sk-estimator-id-24\" class=\"sk-toggleable__label fitted sk-toggleable__label-arrow fitted\">&nbsp;StandardScaler<a class=\"sk-estimator-doc-link fitted\" rel=\"noreferrer\" target=\"_blank\" href=\"https://scikit-learn.org/1.4/modules/generated/sklearn.preprocessing.StandardScaler.html\">?<span>Documentation for StandardScaler</span></a></label><div class=\"sk-toggleable__content fitted\"><pre>StandardScaler()</pre></div> </div></div></div></div></div><div class=\"sk-parallel-item\"><div class=\"sk-item\"><div class=\"sk-label-container\"><div class=\"sk-label fitted sk-toggleable\"><input class=\"sk-toggleable__control sk-hidden--visually\" id=\"sk-estimator-id-25\" type=\"checkbox\" ><label for=\"sk-estimator-id-25\" class=\"sk-toggleable__label fitted sk-toggleable__label-arrow fitted\">numerical_minmax</label><div class=\"sk-toggleable__content fitted\"><pre>[&#x27;Weak_foot&#x27;, &#x27;Skill_Moves&#x27;]</pre></div> </div></div><div class=\"sk-serial\"><div class=\"sk-item\"><div class=\"sk-estimator fitted sk-toggleable\"><input class=\"sk-toggleable__control sk-hidden--visually\" id=\"sk-estimator-id-26\" type=\"checkbox\" ><label for=\"sk-estimator-id-26\" class=\"sk-toggleable__label fitted sk-toggleable__label-arrow fitted\">&nbsp;MinMaxScaler<a class=\"sk-estimator-doc-link fitted\" rel=\"noreferrer\" target=\"_blank\" href=\"https://scikit-learn.org/1.4/modules/generated/sklearn.preprocessing.MinMaxScaler.html\">?<span>Documentation for MinMaxScaler</span></a></label><div class=\"sk-toggleable__content fitted\"><pre>MinMaxScaler()</pre></div> </div></div></div></div></div></div></div><div class=\"sk-item\"><div class=\"sk-estimator fitted sk-toggleable\"><input class=\"sk-toggleable__control sk-hidden--visually\" id=\"sk-estimator-id-27\" type=\"checkbox\" ><label for=\"sk-estimator-id-27\" class=\"sk-toggleable__label fitted sk-toggleable__label-arrow fitted\">LGBMClassifier</label><div class=\"sk-toggleable__content fitted\"><pre>LGBMClassifier()</pre></div> </div></div></div></div></div></div>"
            ],
            "text/plain": [
              "Pipeline(steps=[('transform',\n",
              "                 ColumnTransformer(transformers=[('categorical',\n",
              "                                                  OneHotEncoder(),\n",
              "                                                  ['Club_Position',\n",
              "                                                   'Preffered_Foot',\n",
              "                                                   'Work_Rate']),\n",
              "                                                 ('numerical_standard',\n",
              "                                                  StandardScaler(),\n",
              "                                                  ['Height', 'Weight', 'Age',\n",
              "                                                   'Ball_Control', 'Dribbling',\n",
              "                                                   'Marking', 'Sliding_Tackle',\n",
              "                                                   'Standing_Tackle',\n",
              "                                                   'Aggression', 'Reactions',\n",
              "                                                   'Interceptions', 'Vision',\n",
              "                                                   'Composure', 'Crossing',\n",
              "                                                   'Short_Pass', 'Long_Pass',\n",
              "                                                   'Acceleration', 'Speed',\n",
              "                                                   'Stamina', 'Strength',\n",
              "                                                   'Balance', 'Agility',\n",
              "                                                   'Jumping', 'Heading',\n",
              "                                                   'Shot_Power', 'Finishing',\n",
              "                                                   'Long_Shots', 'Curve',\n",
              "                                                   'Freekick_Accuracy',\n",
              "                                                   'Penalties', ...]),\n",
              "                                                 ('numerical_minmax',\n",
              "                                                  MinMaxScaler(),\n",
              "                                                  ['Weak_foot',\n",
              "                                                   'Skill_Moves'])])),\n",
              "                ('classifier', LGBMClassifier())])"
            ]
          },
          "execution_count": 144,
          "metadata": {},
          "output_type": "execute_result"
        }
      ],
      "source": [
        "from sklearn.model_selection import train_test_split\n",
        "from sklearn.pipeline import Pipeline\n",
        "from xgboost import XGBClassifier\n",
        "from lightgbm import LGBMClassifier\n",
        "\n",
        "# Se separan las variables de las clases \n",
        "X = df.drop(\"label\", axis=1) \n",
        "y = df[\"label\"]\n",
        "\n",
        "X_train, X_test, y_train, y_test = train_test_split(X, y, test_size=0.2, stratify=y) # Se crean los sets de entrenamiento y prueba considerando un 20% de los datos para prueba y manteniendo la proporción de clases\n",
        "\n",
        "\n",
        "pipeline_xgboost = Pipeline([(\"transform\", col_transformer), \n",
        "                             (\"classifier\", XGBClassifier())]) # Se crea la pipeline para el XGBClassifier\n",
        "\n",
        "pipeline_lightgbm = Pipeline([(\"transform\", col_transformer),\n",
        "                              (\"classifier\", LGBMClassifier())]) # Se crea la pipeline para le LGBMClassifier\n",
        "\n",
        "# Se entrenan los pipelines\n",
        "pipeline_xgboost.fit(X_train, y_train) \n",
        "pipeline_lightgbm.fit(X_train, y_train)"
      ]
    },
    {
      "cell_type": "markdown",
      "metadata": {
        "id": "poc9HSNBFeKO"
      },
      "source": [
        "### 1.3 Resultados [6 puntos]"
      ]
    },
    {
      "cell_type": "markdown",
      "metadata": {
        "id": "tGGCj8YtFil1"
      },
      "source": [
        "1. Calcule las métricas accuracy, precisión y recall de la clase positiva (la que indica que un jugador es seleccionado nacional) para evaluar el rendimiento de los distintos modelos. Verifique sus resultados usando `classification_report`. [2 puntos]\n",
        "\n",
        "2. Explique qué implican los valores de accuracy, precisión y recall de la clase positiva (la que indica que un jugador es seleccionado nacional) y cómo influye la cantidad de ejemplos por clase en los resultados obtenidos. [2 puntos]\n",
        "\n",
        "3. Explique qué métrica le parece más adecuada y concluya qué modelo tiene un mejor desempeño. [2 puntos]"
      ]
    },
    {
      "cell_type": "markdown",
      "metadata": {
        "id": "A1hkVFdujJTi"
      },
      "source": [
        "**Respuesta:**"
      ]
    },
    {
      "cell_type": "code",
      "execution_count": 145,
      "metadata": {
        "id": "QNmI_tbbdQte"
      },
      "outputs": [
        {
          "name": "stdout",
          "output_type": "stream",
          "text": [
            "Resultados para modelo xgboost:\n",
            "Accuracy: 0.939169982944855\n",
            "Precision: 0.5074626865671642\n",
            "Recall: 0.15813953488372093 \n",
            "\n",
            "Resultados para modelo lightgbm:\n",
            "Accuracy: 0.9400227401932917\n",
            "Precision: 0.5370370370370371\n",
            "Recall: 0.13488372093023257 \n",
            "\n",
            "Classification report para ambos modelos:\n",
            "Xgboost: \n",
            "               precision    recall  f1-score   support\n",
            "\n",
            "           0       0.95      0.99      0.97      3303\n",
            "           1       0.51      0.16      0.24       215\n",
            "\n",
            "    accuracy                           0.94      3518\n",
            "   macro avg       0.73      0.57      0.60      3518\n",
            "weighted avg       0.92      0.94      0.92      3518\n",
            "\n",
            "Lightgbm: \n",
            "               precision    recall  f1-score   support\n",
            "\n",
            "           0       0.95      0.99      0.97      3303\n",
            "           1       0.54      0.13      0.22       215\n",
            "\n",
            "    accuracy                           0.94      3518\n",
            "   macro avg       0.74      0.56      0.59      3518\n",
            "weighted avg       0.92      0.94      0.92      3518\n",
            "\n"
          ]
        }
      ],
      "source": [
        "from sklearn.metrics import accuracy_score, precision_score, recall_score, classification_report\n",
        "\n",
        "# Se realizan las predicciones para ambos modelos con el set de prueba\n",
        "pred_xgboost = pipeline_xgboost.predict(X_test)\n",
        "pred_lightgbm = pipeline_lightgbm.predict(X_test)\n",
        "\n",
        "# Se calculan el accuracy, precision y recall del modelo xgboost\n",
        "accuracy_xgboost = accuracy_score(y_test, pred_xgboost)\n",
        "precision_xgboost = precision_score(y_test, pred_xgboost)\n",
        "recall_xgboost = recall_score(y_test, pred_xgboost)\n",
        "\n",
        "# Se calculan el accuracy, precision y recall del modelo lightgbm\n",
        "accuracy_lightgbm = accuracy_score(y_test, pred_lightgbm)\n",
        "precision_lightgbm = precision_score(y_test, pred_lightgbm)\n",
        "recall_lightgbm = recall_score(y_test, pred_lightgbm)\n",
        "\n",
        "# Se realizan los classification report para ambos modelos\n",
        "report_xgboost = classification_report(y_test, pred_xgboost)\n",
        "report_lightgbm = classification_report(y_test, pred_lightgbm)\n",
        "\n",
        "print(\"Resultados para modelo xgboost:\")\n",
        "print(f'Accuracy: {accuracy_xgboost}')\n",
        "print(f'Precision: {precision_xgboost}')\n",
        "print(f'Recall: {recall_xgboost} \\n')\n",
        "\n",
        "print(\"Resultados para modelo lightgbm:\")\n",
        "print(f'Accuracy: {accuracy_lightgbm}')\n",
        "print(f'Precision: {precision_lightgbm}')\n",
        "print(f'Recall: {recall_lightgbm} \\n')\n",
        "\n",
        "print(\"Classification report para ambos modelos:\")\n",
        "print(f'Xgboost: \\n {report_xgboost}')\n",
        "print(f'Lightgbm: \\n {report_lightgbm}')"
      ]
    },
    {
      "cell_type": "markdown",
      "metadata": {},
      "source": [
        "2.- El accuracy indica que en general hubo un buen desempeño en el total de predicciones realizadas por los modelos, ya que indica que aproximadamente un 94% de los valores predichos fueron correctos. En lo que respecta a la presición, esta nos indica que un 50% aproximado de las clases predichas como positivas son realmente positivas, lo que es similar a lanzar una moneda. En el caso del recall se tiene un resultado bastante malo, ya que lo que dice es que se predice un gran número de falsos negativos, es decir, la gran mayoría de las clases que realmente son positivas son predichas como negativas (un 15% aproximado en este caso). Esto claramente puede ser un problema ocasionado por la disparidad de datos, ya que por lo que se puede notar las predicciones de la clase 0 son mucho mejores que las de la clase 1, que tiene menos datos. \n",
        "\n",
        "3.- Para este caso y considerando el desbalance de los datos, la métrica que es más útil es la de recall, ya que de este modo se hace notar aún más el desbalance de los datos y el mal funcionamiento del modelo. En caso contrario, el accuracy en este caso es una métrica bastante mala, ya que al estar desbalanceados los datos se tiene una métrica muy buena cuando eso no se refleja en el funcionamiento clasificatorio del modelo. \n",
        "En cuanto a cual modelo es mejor, se podría decir que sería el que tuviese la mejor métrica de recall como se dijo anteriormente, por lo que sería el modelo de Xgboost el mejor aunque sigue siendo un resultado bastante malo el que entregó. "
      ]
    },
    {
      "cell_type": "markdown",
      "metadata": {
        "id": "uy5VMU6ae_g6"
      },
      "source": [
        "## 2. Predicción de posiciones de jugadores [4 puntos]"
      ]
    },
    {
      "cell_type": "markdown",
      "metadata": {
        "id": "S0PGg_hLgr4H"
      },
      "source": [
        "<p align=\"center\">\n",
        "  <img src=\"https://pbs.twimg.com/media/E1rfA1aWEAYU6Ny.jpg\" width=\"300\">\n",
        "</p>"
      ]
    },
    {
      "cell_type": "markdown",
      "metadata": {
        "id": "I6rSnAesfOm3"
      },
      "source": [
        "En una nueva jornada de desmesuradas transacciones deportivas, Renacín escuchó a sus colegas discutir acerca de que el precio de cada jugador depende en gran medida de la posición en la cancha en la que juega. Y además, que hay bastantes jugadores nuevos que no tienen muy claro en que posición verdaderamente brillarían, por lo que actualmente puede que actualmente estén jugando en posiciones sub-optimas.\n",
        "\n",
        "Viendo que los resultados del primer análisis no son tan esperanzadores, el corporeo los comanda a cambiar su tarea: ahora, les solicita que construyan un clasificador enfocado en predecir la mejor posición de los jugadores en la cancha según sus características.\n",
        "\n",
        "Para lograr esto, primero, les pide que etiqueten de la siguiente manera los valores que aparecen en el atributo `Club_Position`, pidiendo que agrupen los valores en los siguientes grupos:\n",
        "\n",
        "**Nota**:  Renacín les recalca que **no deben utilizar los valores ```Sub``` y ```Res``` de esta columna**.\n",
        "\n",
        "```python\n",
        "ataque = ['ST', 'CF']\n",
        "central_ataque = ['RW', 'CAM', 'LW']\n",
        "central = ['RM', 'CM', 'LM']\n",
        "central_defensa = ['RWB', 'CDM', 'LWB']\n",
        "defensa = ['RB', 'CB', 'LB']\n",
        "arquero = ['GK']\n",
        "```\n",
        "\n",
        "La elección del clasificador se justificar en base a la siguiente [guía](https://scikit-learn.org/stable/tutorial/machine_learning_map/index.html) y se deben comentar los resultados obtenidos en la clasificación.\n",
        "\n",
        "**Tareas:** [1 punto por tarea]\n",
        "\n",
        "1. Aplique las etiquetas descritas anteriormente en cada uno de los valores señalados en esta sección.\n",
        "2. Cuente cuántos por clase quedan.\n",
        "3. Entrene el nuevo pipeline y ejecute una evaluación de este.  \n",
        "4. Comente los resultados obtenidos."
      ]
    },
    {
      "cell_type": "markdown",
      "metadata": {
        "id": "sBmSaWh8i2MI"
      },
      "source": [
        "**Respuesta:**"
      ]
    },
    {
      "cell_type": "code",
      "execution_count": 166,
      "metadata": {
        "id": "Ir_7zMh2i1vg"
      },
      "outputs": [
        {
          "name": "stdout",
          "output_type": "stream",
          "text": [
            "Club_Position\n",
            "defensa            1180\n",
            "central             907\n",
            "arquero             632\n",
            "central_ataque      581\n",
            "ataque              430\n",
            "central_defensa     209\n",
            "Name: count, dtype: int64\n"
          ]
        }
      ],
      "source": [
        "# Se crea un diccionario para mapear los nuevos valores de \"Club_Position\"\n",
        "mapa = {\n",
        "    \"ST\": \"ataque\", \"CF\": \"ataque\",\n",
        "    \"RW\": \"central_ataque\", \"CAM\": \"central_ataque\", \"LW\": \"central_ataque\", \n",
        "    \"RM\": \"central\", \"CM\": \"central\", \"LM\": \"central\", \n",
        "    \"RWB\": \"central_defensa\", \"CDM\": \"central_defensa\", \"LWB\": \"central_defensa\", \n",
        "    \"RB\": \"defensa\", \"CB\": \"defensa\", \"LB\": \"defensa\", \n",
        "    \"GK\": \"arquero\"\n",
        "}\n",
        "\n",
        "df[\"Club_Position\"] = df[\"Club_Position\"].map(mapa) # Se realiza el mapeo\n",
        "\n",
        "conteo = df['Club_Position'].value_counts() # Se realiza un conteo de cada clase en \"Club_Position\"\n",
        "print(conteo)"
      ]
    },
    {
      "cell_type": "code",
      "execution_count": 192,
      "metadata": {},
      "outputs": [
        {
          "name": "stderr",
          "output_type": "stream",
          "text": [
            "c:\\Users\\benja\\OneDrive\\Escritorio\\MDS7202\\venv\\lib\\site-packages\\sklearn\\svm\\_classes.py:31: FutureWarning: The default value of `dual` will change from `True` to `'auto'` in 1.5. Set the value of `dual` explicitly to suppress the warning.\n",
            "  warnings.warn(\n"
          ]
        },
        {
          "name": "stdout",
          "output_type": "stream",
          "text": [
            "Classification report para modelo LinearSVC:\n",
            "                 precision    recall  f1-score   support\n",
            "\n",
            "        arquero       1.00      1.00      1.00       126\n",
            "         ataque       0.81      0.92      0.86        86\n",
            "        central       0.60      0.65      0.62       182\n",
            " central_ataque       0.62      0.33      0.43       116\n",
            "central_defensa       0.33      0.10      0.15        42\n",
            "        defensa       0.78      0.97      0.86       236\n",
            "\n",
            "       accuracy                           0.75       788\n",
            "      macro avg       0.69      0.66      0.65       788\n",
            "   weighted avg       0.73      0.75      0.73       788\n",
            "\n"
          ]
        },
        {
          "name": "stderr",
          "output_type": "stream",
          "text": [
            "c:\\Users\\benja\\OneDrive\\Escritorio\\MDS7202\\venv\\lib\\site-packages\\sklearn\\svm\\_base.py:1237: ConvergenceWarning: Liblinear failed to converge, increase the number of iterations.\n",
            "  warnings.warn(\n"
          ]
        }
      ],
      "source": [
        "from sklearn.svm import LinearSVC\n",
        "\n",
        "df = df.dropna(subset=[\"Club_Position\"]) # Se eliminan los valores NaN de \"Club_Position\"\n",
        "\n",
        "# Se dividen los datos de la clase a predecir\n",
        "X = df.drop([\"Club_Position\"], axis=1) \n",
        "y = df[\"Club_Position\"]\n",
        "\n",
        "# Se crean los conjuntos de entrenamiento y prueba\n",
        "X_train, X_test, y_train, y_test = train_test_split(X, y, test_size=0.2, stratify=y)\n",
        "\n",
        "categorical_data = [\"Preffered_Foot\", \"Work_Rate\"] # Se crea una lista con las variables categoricas, eliminando las que no aportan información como el nombre, nacionalidad y national position. Además se elimina el objetivo a predecir \"Club_Position\"\n",
        "numerical_data_standard = [\"Height\", \"Weight\", \"Age\", \"Ball_Control\", \"Dribbling\", \"Marking\", \"Sliding_Tackle\", \"Standing_Tackle\", \"Aggression\", \"Reactions\", \"Interceptions\", \"Vision\", \"Composure\", \"Crossing\", \"Short_Pass\", \"Long_Pass\", \"Acceleration\", \"Speed\", \"Stamina\", \"Strength\", \"Balance\", \"Agility\", \"Jumping\", \"Heading\", \"Shot_Power\", \"Finishing\", \"Long_Shots\", \"Curve\", \"Freekick_Accuracy\", \"Penalties\", \"Volleys\"] # Se crea una lista con las variables numéricas con las que se usará la transformación StandardScaler\n",
        "numerical_data_minmax = [\"Weak_foot\", \"Skill_Moves\"] # Se crea una lista con las variables numéricas con las que se usará la transformación MinMaxScaler\n",
        "\n",
        "col_transformer = ColumnTransformer(\n",
        "    transformers=[(\"categorical\", OneHotEncoder(), categorical_data),\n",
        "                  (\"numerical_standard\", StandardScaler(), numerical_data_standard),\n",
        "                  (\"numerical_minmax\", MinMaxScaler(), numerical_data_minmax)]) # Se crea el ColumnTransformer con las transformaciones esperadas para cada conjunto de variables\n",
        "\n",
        "# Se crea la pipeline usando el columnTransformer creado anteriormente y el modelo LinearSVC, el cual fue elegido a partir de la guía entregada, ya que se trata de un modelo de clasificación con menos de 100k datos\n",
        "pipeline_linearsvc = Pipeline([(\"transform\", col_transformer),\n",
        "                              (\"classifier\", LinearSVC())])\n",
        "\n",
        "# Se entrena el modelo\n",
        "pipeline_linearsvc.fit(X_train, y_train)\n",
        "\n",
        "# Se realizan las predicciones\n",
        "pred_linearsvc = pipeline_linearsvc.predict(X_test)\n",
        "\n",
        "# Se hace un classification report con los datos predecidos\n",
        "report_linearsvc = classification_report(y_test, pred_linearsvc)\n",
        "\n",
        "print(\"Classification report para modelo LinearSVC:\")\n",
        "print(report_linearsvc)"
      ]
    },
    {
      "cell_type": "markdown",
      "metadata": {},
      "source": [
        "Se puede notar que los resultados obtenidos no son muy buenos en general, aunque el modelo si logra clasificar de muy buena forma a los jugadores que tienen la posición de \"arquero\", así como a los jugadores con posición \"ataque\" y \"defensa\", aunque con peores resultados para estos últimos. Otra cosa destacable de estos resultados son los malos resultados que se tienen para todos los jugadores que estén ligados a una posición de centro como \"central\", \"central_ataque\" y \"central_defensa\". Una posible causa de los malos resultados es que estas últimas dos clases son las que menos datos tienen en el dataset, aunque también es posible que el modelo falle debido a que estas clases pueden tener una gran similitud entre ellas sin atributos en los que se puedan diferenciar de manera clara, ya que en el caso de \"ataque\" también se cuenta con pocos datos, pero los resultados obtenidos son decentes.  "
      ]
    },
    {
      "cell_type": "markdown",
      "metadata": {
        "id": "9bL2m8nNojXM"
      },
      "source": [
        "## 3. Predicciones de Seleccionados Nacionales para el Jere Klein [30 puntos]"
      ]
    },
    {
      "cell_type": "markdown",
      "metadata": {
        "id": "_2XmRsJdsEh_"
      },
      "source": [
        "<center>\n",
        "<img src='https://www.radioactiva.cl/wp-content/uploads/2024/04/Jere-Klein-1-768x432.webp' width=500 />"
      ]
    },
    {
      "cell_type": "markdown",
      "metadata": {
        "id": "AgmUoVDsqUPu"
      },
      "source": [
        "Después de alcanzar la fama como cantante urbano, Jere Klein decide explorar una nueva faceta. Con su amor por el fútbol y convencido de que los artistas urbanos poseen un talento y versatilidad excepcionales, Jere se embarca en un proyecto innovador: desarrollar un sistema de inteligencia artificial capaz de identificar a jugadores que tienen potencial para convertirse en futbolistas profesionales. Su teoría es que muchos artistas del género urbano chileno, con sus habilidades únicas y su disciplina, podrían destacarse también en el deporte. Con este sistema, Jere espera no solo abrir nuevas oportunidades para sus colegas artistas, sino también demostrar la amplia gama de talentos que pueden ofrecer."
      ]
    },
    {
      "cell_type": "markdown",
      "metadata": {
        "id": "rD8pQ5Zfq8dE"
      },
      "source": [
        "### 2.1 ¿Qué modelo de árbol es más de \"pana\"? [10 puntos]"
      ]
    },
    {
      "cell_type": "markdown",
      "metadata": {
        "id": "zB-KUA4g99eo"
      },
      "source": [
        "<center>\n",
        "<img src='https://64.media.tumblr.com/39189215a7d3d96823cb359f35b44e05/tumblr_psmrhrR3Xw1qf5hjqo4_540.gif' width=300 />"
      ]
    },
    {
      "cell_type": "markdown",
      "metadata": {
        "id": "uL-moVhB9vPH"
      },
      "source": [
        "\n",
        "**Tareas**\n",
        "\n",
        "\n",
        "1. Considerando el la variable llamada `label` creada en la sección 1.1. Para determinar cuál modelo de árbol sería más adecuado para la tarea en cuestión, utilice PyCaret. Este deberá centrarse exclusivamente en modelos de tipo árbol. Jere ha especificado que busca un modelo que tome decisiones rápidamente y que tenga una baja tasa de falsos positivos, ya que planea invertir en estos jugadores. [3 puntos] Para la comparación, utilice los siguientes modelos:\n",
        "\n",
        "```python\n",
        "['et', 'rf', 'dt', 'xgboost', 'lightgbm', 'catboost']\n",
        "```\n",
        "\n",
        "3. Explique en brevemente que son los modelos de la siguiente lista `['et', 'rf', 'dt']` y como funcionan. [3 punto]\n",
        "\n",
        "4. Tras realizar la comparación de modelos, seleccione aquel que muestre el mejor rendimiento en términos de velocidad y precisión, especialmente en la reducción de falsos positivos. Utilice la función `evaluate_model` de PyCaret para revisar y analizar los resultados obtenidos en los siguientes aspectos:\n",
        "\n",
        "  - **Confusión Matrix**: ¿Cómo se encuentran la tasa de verdaderos positivos y verdaderos negativos?\n",
        "  - **Threshold**: ¿Es acaso el umbral por defecto del modelo el mejor para las predicciones?\n",
        "  - **Feature Importance**: ¿Cuáles son las variables con mejor desempeño? ¿A qué podría deberse esto?\n",
        "  - **Learning Curve**: ¿El modelo presenta algún problema?\n",
        "\n",
        "  [4 puntos]"
      ]
    },
    {
      "cell_type": "markdown",
      "metadata": {
        "id": "qY85nrViYROF"
      },
      "source": [
        "**Respuesta**"
      ]
    },
    {
      "cell_type": "code",
      "execution_count": null,
      "metadata": {
        "id": "kUCjOjsEYUXL"
      },
      "outputs": [],
      "source": []
    },
    {
      "cell_type": "markdown",
      "metadata": {
        "id": "K8DSS3u1xMpB"
      },
      "source": [
        "### 2.2 Reducción de dimensionalidad [14 puntos]"
      ]
    },
    {
      "cell_type": "markdown",
      "metadata": {
        "id": "RLu0543p876P"
      },
      "source": [
        "<center>\n",
        "<img src='https://i.kym-cdn.com/photos/images/original/002/258/560/668.gif' width=400 />"
      ]
    },
    {
      "cell_type": "markdown",
      "metadata": {
        "id": "QT-bxJ0txwNF"
      },
      "source": [
        "A pesar de los resultados obtenidos previamente, el manager de Jere ha solicitado el entrenamiento de un modelo de XGBoost utilizando los datos disponibles. Además, se debe proceder a realizar una reducción de dimensionalidad basada en la importancia de las características.\n",
        "\n",
        "Para llevar a cabo esta tarea:\n",
        "\n",
        "1. Inicie entrenando un modelo XGBoost con todas las características disponibles. [2 puntos]\n",
        "\n",
        "2. Una vez el modelo esté entrenado, evalúe y clasifique las características según su importancia de forma descendente. [2 puntos]\n",
        "\n",
        "3. Utilice esta clasificación para ejecutar una búsqueda recursiva de eliminación de características, eliminando progresivamente las menos importantes y evaluando el impacto en el desempeño del modelo hasta identificar las N características más críticas. [2 puntos]\n",
        "\n",
        "4. Con este conjunto reducido de características, entrene un nuevo modelo y evalúe su rendimiento. [2 puntos]\n",
        "\n",
        "5. Posteriormente, responda a las siguientes preguntas para una comprensión más profunda de los cambios y beneficios:\n",
        "\n",
        "  - ¿El rendimiento del modelo con las características seleccionadas es similar al del modelo original? ¿Cómo se comparan en términos de precisión y robustez? [2 puntos]\n",
        "  - ¿Cuáles son los beneficios potenciales de eliminar variables del modelo? Considere factores como la simplificación del modelo, reducción del tiempo de entrenamiento, y mejora en la capacidad de generalización. [2 puntos]\n",
        "  - Comente si el modelo con menor dimensionalidad es más sencillo de explicar. Explique brevemente por qué la eliminación de ciertas características puede facilitar la comprensión y la explicación del comportamiento del modelo. [2 puntos]\n",
        "\n",
        "Notar que con esta metodologia buscamos encontrar un punto entermedio entre número de festures y desempeño. por esto, si observa que al aumentar festires el aumento es despreciable, puede no considerar agregar más features a su modelo."
      ]
    },
    {
      "cell_type": "markdown",
      "metadata": {
        "id": "NHfmK63TuDOS"
      },
      "source": [
        "**Respuesta**"
      ]
    },
    {
      "cell_type": "code",
      "execution_count": null,
      "metadata": {
        "id": "HQwUd_nsuDOe"
      },
      "outputs": [],
      "source": []
    },
    {
      "cell_type": "markdown",
      "metadata": {
        "id": "PTG5cH9r3M9g"
      },
      "source": [
        "### 2.3 Calibración Probabilistica [6 puntos]"
      ]
    },
    {
      "cell_type": "markdown",
      "metadata": {
        "id": "CDL0VqjR7yvb"
      },
      "source": [
        "<center>\n",
        "<img src='https://media2.giphy.com/media/l2Je4Ku0Cx292KWv6/200w.gif?cid=6c09b952y0sihtq9tb6sz8j2023x3zxxp3qx1ocgonkpkblj&ep=v1_gifs_search&rid=200w.gif&ct=g' width=400 />"
      ]
    },
    {
      "cell_type": "markdown",
      "metadata": {
        "id": "qmOKxhAw3sic"
      },
      "source": [
        "Para lograr modelos más modulares, se recomienda realizar una calibración del modelo entrenado anteriormente, con el objetivo de obtener salidas que reflejen mayor modularidad.\n",
        "\n",
        "1. Se solicita que utilice un método de calibración que asegure que las probabilidades generadas incrementen de manera monótona. Una métrica ampliamente utilizada para evaluar la precisión de la calibración de un modelo es el Brier Score. Calcule el Brier Score para el modelo tanto antes como después de la calibración. Esto le permitirá realizar una comparación cuantitativa y determinar si la calibración ha mejorado el rendimiento del modelo. Para más información sobre el Brier Score, puede consultar el siguiente enlace: [Scikit-Learn - Brier Score Loss](https://scikit-learn.org/stable/modules/generated/sklearn.metrics.brier_score_loss.html). [3 puntos]\n",
        "\n",
        "2. Tras la calibración, examine y comente los resultados obtenidos. A su análisis añada una comparación visual de las ideales versus las salidas del modelo original (sin calibrar) y del modelo calibrado. [3 puntos]"
      ]
    },
    {
      "cell_type": "markdown",
      "metadata": {
        "id": "QIiYz_qLuD19"
      },
      "source": [
        "**Respuesta**"
      ]
    },
    {
      "cell_type": "code",
      "execution_count": null,
      "metadata": {
        "id": "l0bfSuiFuD2I"
      },
      "outputs": [],
      "source": []
    }
  ],
  "metadata": {
    "colab": {
      "collapsed_sections": [
        "k-ao0mOU64Ru",
        "Jg_9jBqtgRDO",
        "JdcucZhp-M_0",
        "Qfre1YsSDqla",
        "Bv1HOfcNEPF4",
        "poc9HSNBFeKO",
        "uy5VMU6ae_g6",
        "9bL2m8nNojXM",
        "rD8pQ5Zfq8dE",
        "K8DSS3u1xMpB",
        "PTG5cH9r3M9g"
      ],
      "provenance": []
    },
    "kernelspec": {
      "display_name": "Python 3",
      "name": "python3"
    },
    "language_info": {
      "codemirror_mode": {
        "name": "ipython",
        "version": 3
      },
      "file_extension": ".py",
      "mimetype": "text/x-python",
      "name": "python",
      "nbconvert_exporter": "python",
      "pygments_lexer": "ipython3",
      "version": "3.10.6"
    }
  },
  "nbformat": 4,
  "nbformat_minor": 0
}
