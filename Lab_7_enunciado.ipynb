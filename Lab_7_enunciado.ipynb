{
  "cells": [
    {
      "cell_type": "markdown",
      "metadata": {
        "id": "_Tgm8mCA9Dp3"
      },
      "source": [
        "# Laboratorio 7: Clasificación 🤗\n",
        "\n",
        "<center><strong>MDS7202: Laboratorio de Programación Científica para Ciencia de Datos</strong></center>\n"
      ]
    },
    {
      "cell_type": "markdown",
      "metadata": {
        "id": "11Kc_ibM9GXH"
      },
      "source": [
        "### Cuerpo Docente:\n",
        "\n",
        "- Profesores: Ignacio Meza, Sebastián Tinoco\n",
        "- Auxiliares: Catherine Benavides y Consuelo Rojas\n",
        "- Ayudante: Nicolás Ojeda, Eduardo Moya"
      ]
    },
    {
      "cell_type": "markdown",
      "metadata": {
        "id": "u9dUSltr9JrN"
      },
      "source": [
        "### Equipo: SUPER IMPORTANTE - notebooks sin nombre no serán revisados\n",
        "\n",
        "- Nombre de alumno 1: Vanessa González\n",
        "- Nombre de alumno 2: Benjamín Angulo"
      ]
    },
    {
      "cell_type": "markdown",
      "metadata": {
        "id": "YBa48PDF9OHw"
      },
      "source": [
        "### Temas a tratar\n",
        "- Clasificación en problemas desbalanceados\n",
        "- Lightgbm y xgboost\n",
        "- Pipelines"
      ]
    },
    {
      "cell_type": "markdown",
      "metadata": {
        "id": "mkhnnMx49Qrh"
      },
      "source": [
        "### Reglas:\n",
        "\n",
        "- **Grupos de 2 personas**\n",
        "- Cualquier duda fuera del horario de clases al foro. Mensajes al equipo docente serán respondidos por este medio.\n",
        "- Prohibidas las copias.\n",
        "- Pueden usar cualquer matrial del curso que estimen conveniente.\n",
        "- Código que no se pueda ejecutar, no será revisado."
      ]
    },
    {
      "cell_type": "markdown",
      "metadata": {
        "id": "sxzJ48Vv8quO"
      },
      "source": [
        "\n",
        "\n",
        "### Objetivos principales del laboratorio\n",
        "- Comprender cómo trabajar con problemas de clasificación con clases desbalanceadas.\n",
        "- Aplicar los modelos lightgbm y xgboost.\n",
        "- Practicar Pipelines"
      ]
    },
    {
      "cell_type": "markdown",
      "metadata": {
        "id": "k-ao0mOU64Ru"
      },
      "source": [
        "# Parte Teórica [12 puntos]\n",
        "\n",
        "\n"
      ]
    },
    {
      "cell_type": "markdown",
      "metadata": {
        "id": "ApXKwPDmxcEV"
      },
      "source": [
        "1. Explique cuál es la diferencia entre los datos de entrenamiento y validación. [1 punto]\n",
        "\n",
        "2. Explique cuál es el principal desafío al trabajar problemas de clasificación con data no supervisada. [1 punto]\n",
        "\n",
        "3. Explique en **sus palabras** qué es la matriz de confusión y para qué se utiliza. [1 puntos]\n",
        "\n",
        "4. Escriba la fórmula de las siguientes métricas y explique con **sus palabras** cómo se interpretan. [1 punto cada uno]\n",
        "\n",
        "  * Accuracy\n",
        "  * Precision\n",
        "  * Recall\n",
        "  * F1 score\n",
        "\n",
        "5. Explique qué métrica recomendaría para los siguientes contextos de clasificación. [1 punto cada uno]\n",
        "\n",
        "  * Mantenimiento predictivo de fallas de maquinaria pesada en la industria minera.  \n",
        "  * Detección de enfermedades altamente contagiosas.\n",
        "  * Aprobación de créditos de alto riesgo.\n",
        "  * Detección de crímenes.\n",
        "\n",
        "6. Explique qué es la calibración de modelos y para qué se usa. [1 punto]\n"
      ]
    },
    {
      "cell_type": "markdown",
      "metadata": {
        "id": "Yy4QMWD8-FPk"
      },
      "source": [
        "**Respuesta:**"
      ]
    },
    {
      "cell_type": "markdown",
      "metadata": {
        "id": "QYFdD1aK-ICa"
      },
      "source": [
        "1.- La diferencia entre estos radica en que los datos de entrenamiento son datos tomados a partir de una partición de un dataset original, siendo este conjunto el más grande en comparación al de validación, ya que se usará para entrenar el modelo de Machine Learning. En cambio los datos de validación son utilizados para poder comprobar si el modelo está funcionando correctamente, ya que con estos se realizarán predicciones y se comprobará que los resultados predichos sean coherentes con los resultados reales.\n",
        "\n",
        "2.- Los desafíos más importantes para este tipo de problemas son las evaluaciones de rendimiento, ya que al no haber clases definidas formalmente al momento de entrenar no se pueden usar las métricas que se usan en el entrenamiento con datos supervisados como podrían ser el accuracy, precision o recall.\n",
        "\n",
        "3.- La matriz de confusión es una herramienta que permite visualizar las etiquetas predichas por un modelo de aprendizaje automático vs las etiquetas reales de la data. De este modo se puede tener una mejor perspectiva de como funciona el modelo al ver su funcionamiento con la data de validación sin necesariamente usar las métricas clásicas como puede ser el recall o precision.\n",
        "\n",
        "4.- **Accuracy**:   $accuracy = \\frac{TP + TN}{TP + TN + FP + FN}$   El accuracy entrega la proporción de datos predecidos correctamente con respecto al total de los datos.\n",
        "\n",
        "**Precision**:   $precision = \\frac{TP}{TP + FP}$   La precision entrega la proporción de datos con etiqueta positiva predecidos correctamente de todos los datos predecidos como positivos.\n",
        "\n",
        "**Recall**:    $recall = \\frac{TP}{TP + FN}$    El recall entrega la proporción de datos con etiqueta positiva predichos correctamente de todos los datos con etiqueta positiva real.\n",
        "\n",
        "**F1 score**:    $F1 score = \\frac{2 \\cdot precision \\cdot recall}{precision + recall}$     El F1 score mide el balance entre precision y recall, por lo que un valor alto de este implica una buena predicción del modelo de las clases positivas.\n",
        "\n",
        "5.-\n",
        "\n",
        "**Mantenimiento predictivo de fallas de maquinaria pesada en la industria minera**: Cómo se espera poder predecir de manera correcta los mantenimientos la mejor métrica sería le recall, ya que lo más perjudicial para este modelo son los falsos negativos, ya que implicaría que la maquinaría podría fallar antes del mantenimiento. Así mismo, los falsos positivos podrían significar un problema por gastos innecesarios en mantención, pero el peso que tiene esto es menor al que tiene los falsos negativos. De todos modos la precision sería una métrica importante aunque menos que el recall.\n",
        "\n",
        "**Detección de enfermedades altamente contagiosas**: Para este caso es importante poder predecir todos los casos positivos, por lo que la prioridad sería poder tener la menor cantidad de falsos negativos para así poder evitar posibles contagios futuros. De este modo la métrica que tendría que tener un mejor valor para este modelo es el recall para así tener menos falsos negativos.\n",
        "\n",
        "**Aprobación de créditos de alto riesgo**: Para este caso el principal peligro es el aprobar créditos que no debiesen ser aprobados. De este modo lo que se busca es un modelo con la menor cantidad de falsos positivos, por lo que la métrica más importante para este caso es la precision.\n",
        "\n",
        "**Detección de crímenes**: En este caso es importante detectar la mayor cantidad de crímenes reales, por lo que el mayor interés es disminuir la cantidad de falsos negativos. De este modo la métrica más importante para este modelo sería el recall.\n",
        "\n",
        "6.- La calibración consiste en el reajuste de probabilidades predichas para que correspondan con la proporción de casos reales observados. De este modo se busca realizar correcciones para ciertas predicciones cuando un modelo las subestima o las sobrestima. La calibración se usa para cuando se quiere emplear las probabilidades asociadas a la predicción en algún aspecto. Más allá de esto la calibración no tiene mucho valor, ya que no aporta a mejorar las predicciones de un modelo, sino que al contrario puede llegar a reducir el accuracy del mismo.\n",
        "*Escriba su respuesta aquí*"
      ]
    },
    {
      "cell_type": "markdown",
      "metadata": {
        "id": "Jg_9jBqtgRDO"
      },
      "source": [
        "# Parte práctica [48 puntos]"
      ]
    },
    {
      "cell_type": "markdown",
      "metadata": {
        "id": "slm6yRfdfZwS"
      },
      "source": [
        "<p align=\"center\">\n",
        "  <img src=\"https://drive.google.com/uc?export=view&id=1BnO4tyh3vM2P199Ec9s3JjngQ4qQ9seP\"\n",
        "\" width=\"300\">\n",
        "</p>\n",
        "\n",
        "\n",
        "Tras el trágico despido de la mítica mascota de Maipú, Renacín decide adentrarse como consultor en el mercado futbolero, el cuál (para variar...) está cargado en especulaciones.\n",
        "\n",
        "Como su principal tarea será asesorar a los directivos de los clubes sobre cuál jugador comprar y cuál no, Renacín desea generar modelos predictivos que evaluén distintas características de los jugadores; todo con el fin de tomar decisiones concretas basadas en los datos.\n",
        "\n",
        "Sin embargo, su condición de corporeo le impidió tomar la versión anterior de MDS7202, por lo que este motivo Renacín contrata a su equipo para lograr su objetivo final. Dado que aún tiene fuertes vínculos con la dirección de deportes de la municipalidad, el corporeo le entrega base de datos con las estadísticas de cada jugador para que su equipo empieze a trabajar ya con un dataset listo para ser usado.\n"
      ]
    },
    {
      "cell_type": "markdown",
      "metadata": {
        "id": "jnbx7RwHfkue"
      },
      "source": [
        "**Los Datos**\n",
        "\n",
        "Para este laboratorio deberán trabajar con el csv `statsplayers.csv`, donde deberán aplicar algoritmos de aprendizaje supervisado de clasificación en base a características que describen de jugadores de fútbol.\n",
        "\n",
        "Para comenzar cargue el dataset señalado y a continuación vea el reporte **`Player_Stats_Report.html`** (adjunto en la carpeta del enunciado) que describe las características principales del `DataFrame`."
      ]
    },
    {
      "cell_type": "code",
      "execution_count": 2,
      "metadata": {
        "id": "mX6iwOWUfrp_",
        "colab": {
          "base_uri": "https://localhost:8080/"
        },
        "outputId": "7e50955a-a2a4-4312-dd4b-06bb30b46e52"
      },
      "outputs": [
        {
          "output_type": "stream",
          "name": "stdout",
          "text": [
            "Ignorando conexión drive-colab\n"
          ]
        }
      ],
      "source": [
        "# Si usted está utilizando Colabolatory le puede ser útil este código para cargar los archivos.\n",
        "try:\n",
        "    from google.colab import drive\n",
        "    drive.mount(\"/content/drive\")\n",
        "    path = 'Dirección donde tiene los archivos en el Drive'\n",
        "except:\n",
        "    print('Ignorando conexión drive-colab')"
      ]
    },
    {
      "cell_type": "code",
      "execution_count": 3,
      "metadata": {
        "id": "qJDTr1H1fAy2"
      },
      "outputs": [],
      "source": [
        "import pandas as pd\n",
        "\n",
        "df = pd.read_csv(\"stats_players.csv\")"
      ]
    },
    {
      "cell_type": "markdown",
      "metadata": {
        "id": "JdcucZhp-M_0"
      },
      "source": [
        "## 1. Predicción de Seleccionados Nacionales [14 puntos]"
      ]
    },
    {
      "cell_type": "markdown",
      "metadata": {
        "id": "HXrewqxjjzvA"
      },
      "source": [
        "<p align=\"center\">\n",
        "  <img src=\"https://www.futuro.cl/wp-content/uploads/2016/06/chile-argentina-meme-12.jpg\" width=\"300\">\n",
        "</p>\n",
        "\n"
      ]
    },
    {
      "cell_type": "markdown",
      "metadata": {
        "id": "Qfre1YsSDqla"
      },
      "source": [
        "### 1.1 Preprocesamiento [5 puntos]"
      ]
    },
    {
      "cell_type": "markdown",
      "metadata": {
        "id": "IR00u4HTDtxv"
      },
      "source": [
        "Tareas:\n",
        "\n",
        "1. Genere los labels para la clasificación binaria en una variable llamada `label`. Para esto, trabaje sobre el atributo `National_Position` suponiendo que los valores nulos son jugadores no seleccionados para representar a su país. [Sin puntaje]\n",
        "\n",
        "2. Hecho esto, ¿cuántos se tienen ejemplos por cada clase? Comente lo que observa. [1 punto]\n",
        "\n",
        "3. Genere un `ColumnTransformer` en donde especifique las transformaciones que hay que realizar para cada columna (por ejemplo StandarScaler, MinMaxScaler, OneHotEncoder, etc...) para que puedan ser utilizadas correctamente por el modelo predictivo y guárdelo una variable llamada `col_transformer`. [2 puntos]\n",
        "\n",
        "4. Comente y justifique las transformaciones elegidas sobre cada una de las variables (para esto utilice el material `Player_Stats_Report.html` que viene en el zip del lab), al igual que las transformaciones aplicadas. [2 puntos]"
      ]
    },
    {
      "cell_type": "markdown",
      "metadata": {
        "id": "tgAk0kbPjEsx"
      },
      "source": [
        "**Respuesta:**"
      ]
    },
    {
      "cell_type": "code",
      "execution_count": 4,
      "metadata": {
        "id": "JhC2sZj9dSI1",
        "colab": {
          "base_uri": "https://localhost:8080/"
        },
        "outputId": "d9c4b3af-ef2c-484f-a5c7-d1689ca76e26"
      },
      "outputs": [
        {
          "output_type": "stream",
          "name": "stdout",
          "text": [
            "label\n",
            "0    16513\n",
            "1     1075\n",
            "Name: count, dtype: int64\n"
          ]
        }
      ],
      "source": [
        "from sklearn.compose import ColumnTransformer\n",
        "from sklearn.preprocessing import OneHotEncoder, StandardScaler, MinMaxScaler\n",
        "\n",
        "df[\"label\"] = df[\"National_Position\"].notnull().astype(int) # Se crea el atributo binario \"label\"\n",
        "\n",
        "class_count = df[\"label\"].value_counts() # Se hace un conteo de la cantidad de datos por clase del atributo \"label\"\n",
        "print(class_count)\n",
        "\n",
        "categorical_data = [\"Club_Position\", \"Preffered_Foot\", \"Work_Rate\"] # Se crea una lista con las variables categoricas, eliminando las que no aportan información como el nombre, nacionalidad y national position.\n",
        "numerical_data_standard = [\"Height\", \"Weight\", \"Age\", \"Ball_Control\", \"Dribbling\", \"Marking\", \"Sliding_Tackle\", \"Standing_Tackle\", \"Aggression\", \"Reactions\", \"Interceptions\", \"Vision\", \"Composure\", \"Crossing\", \"Short_Pass\", \"Long_Pass\", \"Acceleration\", \"Speed\", \"Stamina\", \"Strength\", \"Balance\", \"Agility\", \"Jumping\", \"Heading\", \"Shot_Power\", \"Finishing\", \"Long_Shots\", \"Curve\", \"Freekick_Accuracy\", \"Penalties\", \"Volleys\"] # Se crea una lista con las variables numéricas con las que se usará la transformación StandardScaler\n",
        "numerical_data_minmax = [\"Weak_foot\", \"Skill_Moves\"] # Se crea una lista con las variables numéricas con las que se usará la transformación MinMaxScaler\n",
        "\n",
        "col_transformer = ColumnTransformer(\n",
        "    transformers=[(\"categorical\", OneHotEncoder(), categorical_data),\n",
        "                  (\"numerical_standard\", StandardScaler(), numerical_data_standard),\n",
        "                  (\"numerical_minmax\", MinMaxScaler(), numerical_data_minmax)]) # Se crea el ColumnTransformer con las transformaciones esperadas para cada conjunto de variables"
      ]
    },
    {
      "cell_type": "markdown",
      "metadata": {
        "id": "SyRlCe1TfAy4"
      },
      "source": [
        "2.- Se puede notar una gran disparidad entre ambas clases, lo que puede generar problemas a futuro en las predicciones de estas mismas que se buscan realizar.\n",
        "\n",
        "4.- Se decide usar OneHotEncoder para las variables categóricas debido a que este permite convertir estas variables en arrays numéricos que podrán ser entendidos por los modelos. Además se decide usar StandardScaler para todas las variables numéricas que tienen una distribución gaussiana, con el fin de normalizarlas y así tener valores más concretos para los modelos. Por último en el caso de las variables numéricas \"Weak_foot\" y \"Skill_Moves\" se decide usar MinMaxScaler dada su distribución, ya que es una buena forma de acotar los valores de estos a [0,1], ya que no hay presencia de outliers y así se simplifica el procesamiento para el modelo."
      ]
    },
    {
      "cell_type": "markdown",
      "metadata": {
        "id": "Bv1HOfcNEPF4"
      },
      "source": [
        "### 1.2 Entrenamiento [3 puntos]"
      ]
    },
    {
      "cell_type": "markdown",
      "metadata": {
        "id": "whPkuXTUBvB0"
      },
      "source": [
        "Ahora, vamos a entrenar los pipelines generados en los pasos anteriores. Para esto, debe realizar las siguientes tareas:\n",
        "\n",
        "1. Separe los datos de entrenamiento en un conjunto de entrenamiento y de prueba  (la proporción queda a su juicio). En este paso, seleccione los ejemplos de forma aleatoria e intente mantener la distribución original de labels de cada clase en los conjuntos de prueba/entrenamiento. (vea la documentación de `train_test_split`). [1 puntos]\n",
        "\n",
        "\n",
        "2. Defina un pipeline llamado `pipeline_xgboost` y otro llamado `pipeline_lightgbm`. Estos pipelines deben tener el mismo ColumnTransformer definido en la sección de preprocesamiento, pero deben variar los clasificadores de acuerdo al nombre de cada pipeline. [1 puntos]\n",
        "\n",
        "3. Entrene los pipelines. [1 punto]\n",
        "\n"
      ]
    },
    {
      "cell_type": "markdown",
      "metadata": {
        "id": "kbadONFtjGnE"
      },
      "source": [
        "**Respuesta:**"
      ]
    },
    {
      "cell_type": "code",
      "execution_count": 5,
      "metadata": {
        "id": "lLtlXGTPdWAV",
        "colab": {
          "base_uri": "https://localhost:8080/",
          "height": 343
        },
        "outputId": "6baf6496-3803-47e9-e4c5-6ee4e0d23081"
      },
      "outputs": [
        {
          "output_type": "stream",
          "name": "stdout",
          "text": [
            "[LightGBM] [Info] Number of positive: 860, number of negative: 13210\n",
            "[LightGBM] [Info] Auto-choosing col-wise multi-threading, the overhead of testing was 0.010440 seconds.\n",
            "You can set `force_col_wise=true` to remove the overhead.\n",
            "[LightGBM] [Info] Total Bins 2530\n",
            "[LightGBM] [Info] Number of data points in the train set: 14070, number of used features: 70\n",
            "[LightGBM] [Info] [binary:BoostFromScore]: pavg=0.061123 -> initscore=-2.731797\n",
            "[LightGBM] [Info] Start training from score -2.731797\n"
          ]
        },
        {
          "output_type": "execute_result",
          "data": {
            "text/plain": [
              "Pipeline(steps=[('transform',\n",
              "                 ColumnTransformer(transformers=[('categorical',\n",
              "                                                  OneHotEncoder(),\n",
              "                                                  ['Club_Position',\n",
              "                                                   'Preffered_Foot',\n",
              "                                                   'Work_Rate']),\n",
              "                                                 ('numerical_standard',\n",
              "                                                  StandardScaler(),\n",
              "                                                  ['Height', 'Weight', 'Age',\n",
              "                                                   'Ball_Control', 'Dribbling',\n",
              "                                                   'Marking', 'Sliding_Tackle',\n",
              "                                                   'Standing_Tackle',\n",
              "                                                   'Aggression', 'Reactions',\n",
              "                                                   'Interceptions', 'Vision',\n",
              "                                                   'Composure', 'Crossing',\n",
              "                                                   'Short_Pass', 'Long_Pass',\n",
              "                                                   'Acceleration', 'Speed',\n",
              "                                                   'Stamina', 'Strength',\n",
              "                                                   'Balance', 'Agility',\n",
              "                                                   'Jumping', 'Heading',\n",
              "                                                   'Shot_Power', 'Finishing',\n",
              "                                                   'Long_Shots', 'Curve',\n",
              "                                                   'Freekick_Accuracy',\n",
              "                                                   'Penalties', ...]),\n",
              "                                                 ('numerical_minmax',\n",
              "                                                  MinMaxScaler(),\n",
              "                                                  ['Weak_foot',\n",
              "                                                   'Skill_Moves'])])),\n",
              "                ('classifier', LGBMClassifier())])"
            ],
            "text/html": [
              "<style>#sk-container-id-1 {\n",
              "  /* Definition of color scheme common for light and dark mode */\n",
              "  --sklearn-color-text: black;\n",
              "  --sklearn-color-line: gray;\n",
              "  /* Definition of color scheme for unfitted estimators */\n",
              "  --sklearn-color-unfitted-level-0: #fff5e6;\n",
              "  --sklearn-color-unfitted-level-1: #f6e4d2;\n",
              "  --sklearn-color-unfitted-level-2: #ffe0b3;\n",
              "  --sklearn-color-unfitted-level-3: chocolate;\n",
              "  /* Definition of color scheme for fitted estimators */\n",
              "  --sklearn-color-fitted-level-0: #f0f8ff;\n",
              "  --sklearn-color-fitted-level-1: #d4ebff;\n",
              "  --sklearn-color-fitted-level-2: #b3dbfd;\n",
              "  --sklearn-color-fitted-level-3: cornflowerblue;\n",
              "\n",
              "  /* Specific color for light theme */\n",
              "  --sklearn-color-text-on-default-background: var(--sg-text-color, var(--theme-code-foreground, var(--jp-content-font-color1, black)));\n",
              "  --sklearn-color-background: var(--sg-background-color, var(--theme-background, var(--jp-layout-color0, white)));\n",
              "  --sklearn-color-border-box: var(--sg-text-color, var(--theme-code-foreground, var(--jp-content-font-color1, black)));\n",
              "  --sklearn-color-icon: #696969;\n",
              "\n",
              "  @media (prefers-color-scheme: dark) {\n",
              "    /* Redefinition of color scheme for dark theme */\n",
              "    --sklearn-color-text-on-default-background: var(--sg-text-color, var(--theme-code-foreground, var(--jp-content-font-color1, white)));\n",
              "    --sklearn-color-background: var(--sg-background-color, var(--theme-background, var(--jp-layout-color0, #111)));\n",
              "    --sklearn-color-border-box: var(--sg-text-color, var(--theme-code-foreground, var(--jp-content-font-color1, white)));\n",
              "    --sklearn-color-icon: #878787;\n",
              "  }\n",
              "}\n",
              "\n",
              "#sk-container-id-1 {\n",
              "  color: var(--sklearn-color-text);\n",
              "}\n",
              "\n",
              "#sk-container-id-1 pre {\n",
              "  padding: 0;\n",
              "}\n",
              "\n",
              "#sk-container-id-1 input.sk-hidden--visually {\n",
              "  border: 0;\n",
              "  clip: rect(1px 1px 1px 1px);\n",
              "  clip: rect(1px, 1px, 1px, 1px);\n",
              "  height: 1px;\n",
              "  margin: -1px;\n",
              "  overflow: hidden;\n",
              "  padding: 0;\n",
              "  position: absolute;\n",
              "  width: 1px;\n",
              "}\n",
              "\n",
              "#sk-container-id-1 div.sk-dashed-wrapped {\n",
              "  border: 1px dashed var(--sklearn-color-line);\n",
              "  margin: 0 0.4em 0.5em 0.4em;\n",
              "  box-sizing: border-box;\n",
              "  padding-bottom: 0.4em;\n",
              "  background-color: var(--sklearn-color-background);\n",
              "}\n",
              "\n",
              "#sk-container-id-1 div.sk-container {\n",
              "  /* jupyter's `normalize.less` sets `[hidden] { display: none; }`\n",
              "     but bootstrap.min.css set `[hidden] { display: none !important; }`\n",
              "     so we also need the `!important` here to be able to override the\n",
              "     default hidden behavior on the sphinx rendered scikit-learn.org.\n",
              "     See: https://github.com/scikit-learn/scikit-learn/issues/21755 */\n",
              "  display: inline-block !important;\n",
              "  position: relative;\n",
              "}\n",
              "\n",
              "#sk-container-id-1 div.sk-text-repr-fallback {\n",
              "  display: none;\n",
              "}\n",
              "\n",
              "div.sk-parallel-item,\n",
              "div.sk-serial,\n",
              "div.sk-item {\n",
              "  /* draw centered vertical line to link estimators */\n",
              "  background-image: linear-gradient(var(--sklearn-color-text-on-default-background), var(--sklearn-color-text-on-default-background));\n",
              "  background-size: 2px 100%;\n",
              "  background-repeat: no-repeat;\n",
              "  background-position: center center;\n",
              "}\n",
              "\n",
              "/* Parallel-specific style estimator block */\n",
              "\n",
              "#sk-container-id-1 div.sk-parallel-item::after {\n",
              "  content: \"\";\n",
              "  width: 100%;\n",
              "  border-bottom: 2px solid var(--sklearn-color-text-on-default-background);\n",
              "  flex-grow: 1;\n",
              "}\n",
              "\n",
              "#sk-container-id-1 div.sk-parallel {\n",
              "  display: flex;\n",
              "  align-items: stretch;\n",
              "  justify-content: center;\n",
              "  background-color: var(--sklearn-color-background);\n",
              "  position: relative;\n",
              "}\n",
              "\n",
              "#sk-container-id-1 div.sk-parallel-item {\n",
              "  display: flex;\n",
              "  flex-direction: column;\n",
              "}\n",
              "\n",
              "#sk-container-id-1 div.sk-parallel-item:first-child::after {\n",
              "  align-self: flex-end;\n",
              "  width: 50%;\n",
              "}\n",
              "\n",
              "#sk-container-id-1 div.sk-parallel-item:last-child::after {\n",
              "  align-self: flex-start;\n",
              "  width: 50%;\n",
              "}\n",
              "\n",
              "#sk-container-id-1 div.sk-parallel-item:only-child::after {\n",
              "  width: 0;\n",
              "}\n",
              "\n",
              "/* Serial-specific style estimator block */\n",
              "\n",
              "#sk-container-id-1 div.sk-serial {\n",
              "  display: flex;\n",
              "  flex-direction: column;\n",
              "  align-items: center;\n",
              "  background-color: var(--sklearn-color-background);\n",
              "  padding-right: 1em;\n",
              "  padding-left: 1em;\n",
              "}\n",
              "\n",
              "\n",
              "/* Toggleable style: style used for estimator/Pipeline/ColumnTransformer box that is\n",
              "clickable and can be expanded/collapsed.\n",
              "- Pipeline and ColumnTransformer use this feature and define the default style\n",
              "- Estimators will overwrite some part of the style using the `sk-estimator` class\n",
              "*/\n",
              "\n",
              "/* Pipeline and ColumnTransformer style (default) */\n",
              "\n",
              "#sk-container-id-1 div.sk-toggleable {\n",
              "  /* Default theme specific background. It is overwritten whether we have a\n",
              "  specific estimator or a Pipeline/ColumnTransformer */\n",
              "  background-color: var(--sklearn-color-background);\n",
              "}\n",
              "\n",
              "/* Toggleable label */\n",
              "#sk-container-id-1 label.sk-toggleable__label {\n",
              "  cursor: pointer;\n",
              "  display: block;\n",
              "  width: 100%;\n",
              "  margin-bottom: 0;\n",
              "  padding: 0.5em;\n",
              "  box-sizing: border-box;\n",
              "  text-align: center;\n",
              "}\n",
              "\n",
              "#sk-container-id-1 label.sk-toggleable__label-arrow:before {\n",
              "  /* Arrow on the left of the label */\n",
              "  content: \"▸\";\n",
              "  float: left;\n",
              "  margin-right: 0.25em;\n",
              "  color: var(--sklearn-color-icon);\n",
              "}\n",
              "\n",
              "#sk-container-id-1 label.sk-toggleable__label-arrow:hover:before {\n",
              "  color: var(--sklearn-color-text);\n",
              "}\n",
              "\n",
              "/* Toggleable content - dropdown */\n",
              "\n",
              "#sk-container-id-1 div.sk-toggleable__content {\n",
              "  max-height: 0;\n",
              "  max-width: 0;\n",
              "  overflow: hidden;\n",
              "  text-align: left;\n",
              "  /* unfitted */\n",
              "  background-color: var(--sklearn-color-unfitted-level-0);\n",
              "}\n",
              "\n",
              "#sk-container-id-1 div.sk-toggleable__content.fitted {\n",
              "  /* fitted */\n",
              "  background-color: var(--sklearn-color-fitted-level-0);\n",
              "}\n",
              "\n",
              "#sk-container-id-1 div.sk-toggleable__content pre {\n",
              "  margin: 0.2em;\n",
              "  border-radius: 0.25em;\n",
              "  color: var(--sklearn-color-text);\n",
              "  /* unfitted */\n",
              "  background-color: var(--sklearn-color-unfitted-level-0);\n",
              "}\n",
              "\n",
              "#sk-container-id-1 div.sk-toggleable__content.fitted pre {\n",
              "  /* unfitted */\n",
              "  background-color: var(--sklearn-color-fitted-level-0);\n",
              "}\n",
              "\n",
              "#sk-container-id-1 input.sk-toggleable__control:checked~div.sk-toggleable__content {\n",
              "  /* Expand drop-down */\n",
              "  max-height: 200px;\n",
              "  max-width: 100%;\n",
              "  overflow: auto;\n",
              "}\n",
              "\n",
              "#sk-container-id-1 input.sk-toggleable__control:checked~label.sk-toggleable__label-arrow:before {\n",
              "  content: \"▾\";\n",
              "}\n",
              "\n",
              "/* Pipeline/ColumnTransformer-specific style */\n",
              "\n",
              "#sk-container-id-1 div.sk-label input.sk-toggleable__control:checked~label.sk-toggleable__label {\n",
              "  color: var(--sklearn-color-text);\n",
              "  background-color: var(--sklearn-color-unfitted-level-2);\n",
              "}\n",
              "\n",
              "#sk-container-id-1 div.sk-label.fitted input.sk-toggleable__control:checked~label.sk-toggleable__label {\n",
              "  background-color: var(--sklearn-color-fitted-level-2);\n",
              "}\n",
              "\n",
              "/* Estimator-specific style */\n",
              "\n",
              "/* Colorize estimator box */\n",
              "#sk-container-id-1 div.sk-estimator input.sk-toggleable__control:checked~label.sk-toggleable__label {\n",
              "  /* unfitted */\n",
              "  background-color: var(--sklearn-color-unfitted-level-2);\n",
              "}\n",
              "\n",
              "#sk-container-id-1 div.sk-estimator.fitted input.sk-toggleable__control:checked~label.sk-toggleable__label {\n",
              "  /* fitted */\n",
              "  background-color: var(--sklearn-color-fitted-level-2);\n",
              "}\n",
              "\n",
              "#sk-container-id-1 div.sk-label label.sk-toggleable__label,\n",
              "#sk-container-id-1 div.sk-label label {\n",
              "  /* The background is the default theme color */\n",
              "  color: var(--sklearn-color-text-on-default-background);\n",
              "}\n",
              "\n",
              "/* On hover, darken the color of the background */\n",
              "#sk-container-id-1 div.sk-label:hover label.sk-toggleable__label {\n",
              "  color: var(--sklearn-color-text);\n",
              "  background-color: var(--sklearn-color-unfitted-level-2);\n",
              "}\n",
              "\n",
              "/* Label box, darken color on hover, fitted */\n",
              "#sk-container-id-1 div.sk-label.fitted:hover label.sk-toggleable__label.fitted {\n",
              "  color: var(--sklearn-color-text);\n",
              "  background-color: var(--sklearn-color-fitted-level-2);\n",
              "}\n",
              "\n",
              "/* Estimator label */\n",
              "\n",
              "#sk-container-id-1 div.sk-label label {\n",
              "  font-family: monospace;\n",
              "  font-weight: bold;\n",
              "  display: inline-block;\n",
              "  line-height: 1.2em;\n",
              "}\n",
              "\n",
              "#sk-container-id-1 div.sk-label-container {\n",
              "  text-align: center;\n",
              "}\n",
              "\n",
              "/* Estimator-specific */\n",
              "#sk-container-id-1 div.sk-estimator {\n",
              "  font-family: monospace;\n",
              "  border: 1px dotted var(--sklearn-color-border-box);\n",
              "  border-radius: 0.25em;\n",
              "  box-sizing: border-box;\n",
              "  margin-bottom: 0.5em;\n",
              "  /* unfitted */\n",
              "  background-color: var(--sklearn-color-unfitted-level-0);\n",
              "}\n",
              "\n",
              "#sk-container-id-1 div.sk-estimator.fitted {\n",
              "  /* fitted */\n",
              "  background-color: var(--sklearn-color-fitted-level-0);\n",
              "}\n",
              "\n",
              "/* on hover */\n",
              "#sk-container-id-1 div.sk-estimator:hover {\n",
              "  /* unfitted */\n",
              "  background-color: var(--sklearn-color-unfitted-level-2);\n",
              "}\n",
              "\n",
              "#sk-container-id-1 div.sk-estimator.fitted:hover {\n",
              "  /* fitted */\n",
              "  background-color: var(--sklearn-color-fitted-level-2);\n",
              "}\n",
              "\n",
              "/* Specification for estimator info (e.g. \"i\" and \"?\") */\n",
              "\n",
              "/* Common style for \"i\" and \"?\" */\n",
              "\n",
              ".sk-estimator-doc-link,\n",
              "a:link.sk-estimator-doc-link,\n",
              "a:visited.sk-estimator-doc-link {\n",
              "  float: right;\n",
              "  font-size: smaller;\n",
              "  line-height: 1em;\n",
              "  font-family: monospace;\n",
              "  background-color: var(--sklearn-color-background);\n",
              "  border-radius: 1em;\n",
              "  height: 1em;\n",
              "  width: 1em;\n",
              "  text-decoration: none !important;\n",
              "  margin-left: 1ex;\n",
              "  /* unfitted */\n",
              "  border: var(--sklearn-color-unfitted-level-1) 1pt solid;\n",
              "  color: var(--sklearn-color-unfitted-level-1);\n",
              "}\n",
              "\n",
              ".sk-estimator-doc-link.fitted,\n",
              "a:link.sk-estimator-doc-link.fitted,\n",
              "a:visited.sk-estimator-doc-link.fitted {\n",
              "  /* fitted */\n",
              "  border: var(--sklearn-color-fitted-level-1) 1pt solid;\n",
              "  color: var(--sklearn-color-fitted-level-1);\n",
              "}\n",
              "\n",
              "/* On hover */\n",
              "div.sk-estimator:hover .sk-estimator-doc-link:hover,\n",
              ".sk-estimator-doc-link:hover,\n",
              "div.sk-label-container:hover .sk-estimator-doc-link:hover,\n",
              ".sk-estimator-doc-link:hover {\n",
              "  /* unfitted */\n",
              "  background-color: var(--sklearn-color-unfitted-level-3);\n",
              "  color: var(--sklearn-color-background);\n",
              "  text-decoration: none;\n",
              "}\n",
              "\n",
              "div.sk-estimator.fitted:hover .sk-estimator-doc-link.fitted:hover,\n",
              ".sk-estimator-doc-link.fitted:hover,\n",
              "div.sk-label-container:hover .sk-estimator-doc-link.fitted:hover,\n",
              ".sk-estimator-doc-link.fitted:hover {\n",
              "  /* fitted */\n",
              "  background-color: var(--sklearn-color-fitted-level-3);\n",
              "  color: var(--sklearn-color-background);\n",
              "  text-decoration: none;\n",
              "}\n",
              "\n",
              "/* Span, style for the box shown on hovering the info icon */\n",
              ".sk-estimator-doc-link span {\n",
              "  display: none;\n",
              "  z-index: 9999;\n",
              "  position: relative;\n",
              "  font-weight: normal;\n",
              "  right: .2ex;\n",
              "  padding: .5ex;\n",
              "  margin: .5ex;\n",
              "  width: min-content;\n",
              "  min-width: 20ex;\n",
              "  max-width: 50ex;\n",
              "  color: var(--sklearn-color-text);\n",
              "  box-shadow: 2pt 2pt 4pt #999;\n",
              "  /* unfitted */\n",
              "  background: var(--sklearn-color-unfitted-level-0);\n",
              "  border: .5pt solid var(--sklearn-color-unfitted-level-3);\n",
              "}\n",
              "\n",
              ".sk-estimator-doc-link.fitted span {\n",
              "  /* fitted */\n",
              "  background: var(--sklearn-color-fitted-level-0);\n",
              "  border: var(--sklearn-color-fitted-level-3);\n",
              "}\n",
              "\n",
              ".sk-estimator-doc-link:hover span {\n",
              "  display: block;\n",
              "}\n",
              "\n",
              "/* \"?\"-specific style due to the `<a>` HTML tag */\n",
              "\n",
              "#sk-container-id-1 a.estimator_doc_link {\n",
              "  float: right;\n",
              "  font-size: 1rem;\n",
              "  line-height: 1em;\n",
              "  font-family: monospace;\n",
              "  background-color: var(--sklearn-color-background);\n",
              "  border-radius: 1rem;\n",
              "  height: 1rem;\n",
              "  width: 1rem;\n",
              "  text-decoration: none;\n",
              "  /* unfitted */\n",
              "  color: var(--sklearn-color-unfitted-level-1);\n",
              "  border: var(--sklearn-color-unfitted-level-1) 1pt solid;\n",
              "}\n",
              "\n",
              "#sk-container-id-1 a.estimator_doc_link.fitted {\n",
              "  /* fitted */\n",
              "  border: var(--sklearn-color-fitted-level-1) 1pt solid;\n",
              "  color: var(--sklearn-color-fitted-level-1);\n",
              "}\n",
              "\n",
              "/* On hover */\n",
              "#sk-container-id-1 a.estimator_doc_link:hover {\n",
              "  /* unfitted */\n",
              "  background-color: var(--sklearn-color-unfitted-level-3);\n",
              "  color: var(--sklearn-color-background);\n",
              "  text-decoration: none;\n",
              "}\n",
              "\n",
              "#sk-container-id-1 a.estimator_doc_link.fitted:hover {\n",
              "  /* fitted */\n",
              "  background-color: var(--sklearn-color-fitted-level-3);\n",
              "}\n",
              "</style><div id=\"sk-container-id-1\" class=\"sk-top-container\"><div class=\"sk-text-repr-fallback\"><pre>Pipeline(steps=[(&#x27;transform&#x27;,\n",
              "                 ColumnTransformer(transformers=[(&#x27;categorical&#x27;,\n",
              "                                                  OneHotEncoder(),\n",
              "                                                  [&#x27;Club_Position&#x27;,\n",
              "                                                   &#x27;Preffered_Foot&#x27;,\n",
              "                                                   &#x27;Work_Rate&#x27;]),\n",
              "                                                 (&#x27;numerical_standard&#x27;,\n",
              "                                                  StandardScaler(),\n",
              "                                                  [&#x27;Height&#x27;, &#x27;Weight&#x27;, &#x27;Age&#x27;,\n",
              "                                                   &#x27;Ball_Control&#x27;, &#x27;Dribbling&#x27;,\n",
              "                                                   &#x27;Marking&#x27;, &#x27;Sliding_Tackle&#x27;,\n",
              "                                                   &#x27;Standing_Tackle&#x27;,\n",
              "                                                   &#x27;Aggression&#x27;, &#x27;Reactions&#x27;,\n",
              "                                                   &#x27;Interceptions&#x27;, &#x27;Vision&#x27;,\n",
              "                                                   &#x27;Composure&#x27;, &#x27;Crossing&#x27;,\n",
              "                                                   &#x27;Short_Pass&#x27;, &#x27;Long_Pass&#x27;,\n",
              "                                                   &#x27;Acceleration&#x27;, &#x27;Speed&#x27;,\n",
              "                                                   &#x27;Stamina&#x27;, &#x27;Strength&#x27;,\n",
              "                                                   &#x27;Balance&#x27;, &#x27;Agility&#x27;,\n",
              "                                                   &#x27;Jumping&#x27;, &#x27;Heading&#x27;,\n",
              "                                                   &#x27;Shot_Power&#x27;, &#x27;Finishing&#x27;,\n",
              "                                                   &#x27;Long_Shots&#x27;, &#x27;Curve&#x27;,\n",
              "                                                   &#x27;Freekick_Accuracy&#x27;,\n",
              "                                                   &#x27;Penalties&#x27;, ...]),\n",
              "                                                 (&#x27;numerical_minmax&#x27;,\n",
              "                                                  MinMaxScaler(),\n",
              "                                                  [&#x27;Weak_foot&#x27;,\n",
              "                                                   &#x27;Skill_Moves&#x27;])])),\n",
              "                (&#x27;classifier&#x27;, LGBMClassifier())])</pre><b>In a Jupyter environment, please rerun this cell to show the HTML representation or trust the notebook. <br />On GitHub, the HTML representation is unable to render, please try loading this page with nbviewer.org.</b></div><div class=\"sk-container\" hidden><div class=\"sk-item sk-dashed-wrapped\"><div class=\"sk-label-container\"><div class=\"sk-label fitted sk-toggleable\"><input class=\"sk-toggleable__control sk-hidden--visually\" id=\"sk-estimator-id-1\" type=\"checkbox\" ><label for=\"sk-estimator-id-1\" class=\"sk-toggleable__label fitted sk-toggleable__label-arrow fitted\">&nbsp;&nbsp;Pipeline<a class=\"sk-estimator-doc-link fitted\" rel=\"noreferrer\" target=\"_blank\" href=\"https://scikit-learn.org/1.4/modules/generated/sklearn.pipeline.Pipeline.html\">?<span>Documentation for Pipeline</span></a><span class=\"sk-estimator-doc-link fitted\">i<span>Fitted</span></span></label><div class=\"sk-toggleable__content fitted\"><pre>Pipeline(steps=[(&#x27;transform&#x27;,\n",
              "                 ColumnTransformer(transformers=[(&#x27;categorical&#x27;,\n",
              "                                                  OneHotEncoder(),\n",
              "                                                  [&#x27;Club_Position&#x27;,\n",
              "                                                   &#x27;Preffered_Foot&#x27;,\n",
              "                                                   &#x27;Work_Rate&#x27;]),\n",
              "                                                 (&#x27;numerical_standard&#x27;,\n",
              "                                                  StandardScaler(),\n",
              "                                                  [&#x27;Height&#x27;, &#x27;Weight&#x27;, &#x27;Age&#x27;,\n",
              "                                                   &#x27;Ball_Control&#x27;, &#x27;Dribbling&#x27;,\n",
              "                                                   &#x27;Marking&#x27;, &#x27;Sliding_Tackle&#x27;,\n",
              "                                                   &#x27;Standing_Tackle&#x27;,\n",
              "                                                   &#x27;Aggression&#x27;, &#x27;Reactions&#x27;,\n",
              "                                                   &#x27;Interceptions&#x27;, &#x27;Vision&#x27;,\n",
              "                                                   &#x27;Composure&#x27;, &#x27;Crossing&#x27;,\n",
              "                                                   &#x27;Short_Pass&#x27;, &#x27;Long_Pass&#x27;,\n",
              "                                                   &#x27;Acceleration&#x27;, &#x27;Speed&#x27;,\n",
              "                                                   &#x27;Stamina&#x27;, &#x27;Strength&#x27;,\n",
              "                                                   &#x27;Balance&#x27;, &#x27;Agility&#x27;,\n",
              "                                                   &#x27;Jumping&#x27;, &#x27;Heading&#x27;,\n",
              "                                                   &#x27;Shot_Power&#x27;, &#x27;Finishing&#x27;,\n",
              "                                                   &#x27;Long_Shots&#x27;, &#x27;Curve&#x27;,\n",
              "                                                   &#x27;Freekick_Accuracy&#x27;,\n",
              "                                                   &#x27;Penalties&#x27;, ...]),\n",
              "                                                 (&#x27;numerical_minmax&#x27;,\n",
              "                                                  MinMaxScaler(),\n",
              "                                                  [&#x27;Weak_foot&#x27;,\n",
              "                                                   &#x27;Skill_Moves&#x27;])])),\n",
              "                (&#x27;classifier&#x27;, LGBMClassifier())])</pre></div> </div></div><div class=\"sk-serial\"><div class=\"sk-item sk-dashed-wrapped\"><div class=\"sk-label-container\"><div class=\"sk-label fitted sk-toggleable\"><input class=\"sk-toggleable__control sk-hidden--visually\" id=\"sk-estimator-id-2\" type=\"checkbox\" ><label for=\"sk-estimator-id-2\" class=\"sk-toggleable__label fitted sk-toggleable__label-arrow fitted\">&nbsp;transform: ColumnTransformer<a class=\"sk-estimator-doc-link fitted\" rel=\"noreferrer\" target=\"_blank\" href=\"https://scikit-learn.org/1.4/modules/generated/sklearn.compose.ColumnTransformer.html\">?<span>Documentation for transform: ColumnTransformer</span></a></label><div class=\"sk-toggleable__content fitted\"><pre>ColumnTransformer(transformers=[(&#x27;categorical&#x27;, OneHotEncoder(),\n",
              "                                 [&#x27;Club_Position&#x27;, &#x27;Preffered_Foot&#x27;,\n",
              "                                  &#x27;Work_Rate&#x27;]),\n",
              "                                (&#x27;numerical_standard&#x27;, StandardScaler(),\n",
              "                                 [&#x27;Height&#x27;, &#x27;Weight&#x27;, &#x27;Age&#x27;, &#x27;Ball_Control&#x27;,\n",
              "                                  &#x27;Dribbling&#x27;, &#x27;Marking&#x27;, &#x27;Sliding_Tackle&#x27;,\n",
              "                                  &#x27;Standing_Tackle&#x27;, &#x27;Aggression&#x27;, &#x27;Reactions&#x27;,\n",
              "                                  &#x27;Interceptions&#x27;, &#x27;Vision&#x27;, &#x27;Composure&#x27;,\n",
              "                                  &#x27;Crossing&#x27;, &#x27;Short_Pass&#x27;, &#x27;Long_Pass&#x27;,\n",
              "                                  &#x27;Acceleration&#x27;, &#x27;Speed&#x27;, &#x27;Stamina&#x27;,\n",
              "                                  &#x27;Strength&#x27;, &#x27;Balance&#x27;, &#x27;Agility&#x27;, &#x27;Jumping&#x27;,\n",
              "                                  &#x27;Heading&#x27;, &#x27;Shot_Power&#x27;, &#x27;Finishing&#x27;,\n",
              "                                  &#x27;Long_Shots&#x27;, &#x27;Curve&#x27;, &#x27;Freekick_Accuracy&#x27;,\n",
              "                                  &#x27;Penalties&#x27;, ...]),\n",
              "                                (&#x27;numerical_minmax&#x27;, MinMaxScaler(),\n",
              "                                 [&#x27;Weak_foot&#x27;, &#x27;Skill_Moves&#x27;])])</pre></div> </div></div><div class=\"sk-parallel\"><div class=\"sk-parallel-item\"><div class=\"sk-item\"><div class=\"sk-label-container\"><div class=\"sk-label fitted sk-toggleable\"><input class=\"sk-toggleable__control sk-hidden--visually\" id=\"sk-estimator-id-3\" type=\"checkbox\" ><label for=\"sk-estimator-id-3\" class=\"sk-toggleable__label fitted sk-toggleable__label-arrow fitted\">categorical</label><div class=\"sk-toggleable__content fitted\"><pre>[&#x27;Club_Position&#x27;, &#x27;Preffered_Foot&#x27;, &#x27;Work_Rate&#x27;]</pre></div> </div></div><div class=\"sk-serial\"><div class=\"sk-item\"><div class=\"sk-estimator fitted sk-toggleable\"><input class=\"sk-toggleable__control sk-hidden--visually\" id=\"sk-estimator-id-4\" type=\"checkbox\" ><label for=\"sk-estimator-id-4\" class=\"sk-toggleable__label fitted sk-toggleable__label-arrow fitted\">&nbsp;OneHotEncoder<a class=\"sk-estimator-doc-link fitted\" rel=\"noreferrer\" target=\"_blank\" href=\"https://scikit-learn.org/1.4/modules/generated/sklearn.preprocessing.OneHotEncoder.html\">?<span>Documentation for OneHotEncoder</span></a></label><div class=\"sk-toggleable__content fitted\"><pre>OneHotEncoder()</pre></div> </div></div></div></div></div><div class=\"sk-parallel-item\"><div class=\"sk-item\"><div class=\"sk-label-container\"><div class=\"sk-label fitted sk-toggleable\"><input class=\"sk-toggleable__control sk-hidden--visually\" id=\"sk-estimator-id-5\" type=\"checkbox\" ><label for=\"sk-estimator-id-5\" class=\"sk-toggleable__label fitted sk-toggleable__label-arrow fitted\">numerical_standard</label><div class=\"sk-toggleable__content fitted\"><pre>[&#x27;Height&#x27;, &#x27;Weight&#x27;, &#x27;Age&#x27;, &#x27;Ball_Control&#x27;, &#x27;Dribbling&#x27;, &#x27;Marking&#x27;, &#x27;Sliding_Tackle&#x27;, &#x27;Standing_Tackle&#x27;, &#x27;Aggression&#x27;, &#x27;Reactions&#x27;, &#x27;Interceptions&#x27;, &#x27;Vision&#x27;, &#x27;Composure&#x27;, &#x27;Crossing&#x27;, &#x27;Short_Pass&#x27;, &#x27;Long_Pass&#x27;, &#x27;Acceleration&#x27;, &#x27;Speed&#x27;, &#x27;Stamina&#x27;, &#x27;Strength&#x27;, &#x27;Balance&#x27;, &#x27;Agility&#x27;, &#x27;Jumping&#x27;, &#x27;Heading&#x27;, &#x27;Shot_Power&#x27;, &#x27;Finishing&#x27;, &#x27;Long_Shots&#x27;, &#x27;Curve&#x27;, &#x27;Freekick_Accuracy&#x27;, &#x27;Penalties&#x27;, &#x27;Volleys&#x27;]</pre></div> </div></div><div class=\"sk-serial\"><div class=\"sk-item\"><div class=\"sk-estimator fitted sk-toggleable\"><input class=\"sk-toggleable__control sk-hidden--visually\" id=\"sk-estimator-id-6\" type=\"checkbox\" ><label for=\"sk-estimator-id-6\" class=\"sk-toggleable__label fitted sk-toggleable__label-arrow fitted\">&nbsp;StandardScaler<a class=\"sk-estimator-doc-link fitted\" rel=\"noreferrer\" target=\"_blank\" href=\"https://scikit-learn.org/1.4/modules/generated/sklearn.preprocessing.StandardScaler.html\">?<span>Documentation for StandardScaler</span></a></label><div class=\"sk-toggleable__content fitted\"><pre>StandardScaler()</pre></div> </div></div></div></div></div><div class=\"sk-parallel-item\"><div class=\"sk-item\"><div class=\"sk-label-container\"><div class=\"sk-label fitted sk-toggleable\"><input class=\"sk-toggleable__control sk-hidden--visually\" id=\"sk-estimator-id-7\" type=\"checkbox\" ><label for=\"sk-estimator-id-7\" class=\"sk-toggleable__label fitted sk-toggleable__label-arrow fitted\">numerical_minmax</label><div class=\"sk-toggleable__content fitted\"><pre>[&#x27;Weak_foot&#x27;, &#x27;Skill_Moves&#x27;]</pre></div> </div></div><div class=\"sk-serial\"><div class=\"sk-item\"><div class=\"sk-estimator fitted sk-toggleable\"><input class=\"sk-toggleable__control sk-hidden--visually\" id=\"sk-estimator-id-8\" type=\"checkbox\" ><label for=\"sk-estimator-id-8\" class=\"sk-toggleable__label fitted sk-toggleable__label-arrow fitted\">&nbsp;MinMaxScaler<a class=\"sk-estimator-doc-link fitted\" rel=\"noreferrer\" target=\"_blank\" href=\"https://scikit-learn.org/1.4/modules/generated/sklearn.preprocessing.MinMaxScaler.html\">?<span>Documentation for MinMaxScaler</span></a></label><div class=\"sk-toggleable__content fitted\"><pre>MinMaxScaler()</pre></div> </div></div></div></div></div></div></div><div class=\"sk-item\"><div class=\"sk-estimator fitted sk-toggleable\"><input class=\"sk-toggleable__control sk-hidden--visually\" id=\"sk-estimator-id-9\" type=\"checkbox\" ><label for=\"sk-estimator-id-9\" class=\"sk-toggleable__label fitted sk-toggleable__label-arrow fitted\">LGBMClassifier</label><div class=\"sk-toggleable__content fitted\"><pre>LGBMClassifier()</pre></div> </div></div></div></div></div></div>"
            ]
          },
          "metadata": {},
          "execution_count": 5
        }
      ],
      "source": [
        "from sklearn.model_selection import train_test_split\n",
        "from sklearn.pipeline import Pipeline\n",
        "from xgboost import XGBClassifier\n",
        "from lightgbm import LGBMClassifier\n",
        "\n",
        "# Se separan las variables de las clases\n",
        "X = df.drop(\"label\", axis=1)\n",
        "y = df[\"label\"]\n",
        "\n",
        "X_train, X_test, y_train, y_test = train_test_split(X, y, test_size=0.2, stratify=y) # Se crean los sets de entrenamiento y prueba considerando un 20% de los datos para prueba y manteniendo la proporción de clases\n",
        "\n",
        "\n",
        "pipeline_xgboost = Pipeline([(\"transform\", col_transformer),\n",
        "                             (\"classifier\", XGBClassifier())]) # Se crea la pipeline para el XGBClassifier\n",
        "\n",
        "pipeline_lightgbm = Pipeline([(\"transform\", col_transformer),\n",
        "                              (\"classifier\", LGBMClassifier())]) # Se crea la pipeline para le LGBMClassifier\n",
        "\n",
        "# Se entrenan los pipelines\n",
        "pipeline_xgboost.fit(X_train, y_train)\n",
        "pipeline_lightgbm.fit(X_train, y_train)"
      ]
    },
    {
      "cell_type": "markdown",
      "metadata": {
        "id": "poc9HSNBFeKO"
      },
      "source": [
        "### 1.3 Resultados [6 puntos]"
      ]
    },
    {
      "cell_type": "markdown",
      "metadata": {
        "id": "tGGCj8YtFil1"
      },
      "source": [
        "1. Calcule las métricas accuracy, precisión y recall de la clase positiva (la que indica que un jugador es seleccionado nacional) para evaluar el rendimiento de los distintos modelos. Verifique sus resultados usando `classification_report`. [2 puntos]\n",
        "\n",
        "2. Explique qué implican los valores de accuracy, precisión y recall de la clase positiva (la que indica que un jugador es seleccionado nacional) y cómo influye la cantidad de ejemplos por clase en los resultados obtenidos. [2 puntos]\n",
        "\n",
        "3. Explique qué métrica le parece más adecuada y concluya qué modelo tiene un mejor desempeño. [2 puntos]"
      ]
    },
    {
      "cell_type": "markdown",
      "metadata": {
        "id": "A1hkVFdujJTi"
      },
      "source": [
        "**Respuesta:**"
      ]
    },
    {
      "cell_type": "code",
      "execution_count": 6,
      "metadata": {
        "id": "QNmI_tbbdQte",
        "colab": {
          "base_uri": "https://localhost:8080/"
        },
        "outputId": "ebb0c2f3-0039-4b6c-ca60-5ce90108dbb0"
      },
      "outputs": [
        {
          "output_type": "stream",
          "name": "stdout",
          "text": [
            "Resultados para modelo xgboost:\n",
            "Accuracy: 0.9374644684479818\n",
            "Precision: 0.46153846153846156\n",
            "Recall: 0.13953488372093023 \n",
            "\n",
            "Resultados para modelo lightgbm:\n",
            "Accuracy: 0.9377487208641273\n",
            "Precision: 0.4583333333333333\n",
            "Recall: 0.10232558139534884 \n",
            "\n",
            "Classification report para ambos modelos:\n",
            "Xgboost: \n",
            "               precision    recall  f1-score   support\n",
            "\n",
            "           0       0.95      0.99      0.97      3303\n",
            "           1       0.46      0.14      0.21       215\n",
            "\n",
            "    accuracy                           0.94      3518\n",
            "   macro avg       0.70      0.56      0.59      3518\n",
            "weighted avg       0.92      0.94      0.92      3518\n",
            "\n",
            "Lightgbm: \n",
            "               precision    recall  f1-score   support\n",
            "\n",
            "           0       0.94      0.99      0.97      3303\n",
            "           1       0.46      0.10      0.17       215\n",
            "\n",
            "    accuracy                           0.94      3518\n",
            "   macro avg       0.70      0.55      0.57      3518\n",
            "weighted avg       0.91      0.94      0.92      3518\n",
            "\n"
          ]
        }
      ],
      "source": [
        "from sklearn.metrics import accuracy_score, precision_score, recall_score, classification_report\n",
        "\n",
        "# Se realizan las predicciones para ambos modelos con el set de prueba\n",
        "pred_xgboost = pipeline_xgboost.predict(X_test)\n",
        "pred_lightgbm = pipeline_lightgbm.predict(X_test)\n",
        "\n",
        "# Se calculan el accuracy, precision y recall del modelo xgboost\n",
        "accuracy_xgboost = accuracy_score(y_test, pred_xgboost)\n",
        "precision_xgboost = precision_score(y_test, pred_xgboost)\n",
        "recall_xgboost = recall_score(y_test, pred_xgboost)\n",
        "\n",
        "# Se calculan el accuracy, precision y recall del modelo lightgbm\n",
        "accuracy_lightgbm = accuracy_score(y_test, pred_lightgbm)\n",
        "precision_lightgbm = precision_score(y_test, pred_lightgbm)\n",
        "recall_lightgbm = recall_score(y_test, pred_lightgbm)\n",
        "\n",
        "# Se realizan los classification report para ambos modelos\n",
        "report_xgboost = classification_report(y_test, pred_xgboost)\n",
        "report_lightgbm = classification_report(y_test, pred_lightgbm)\n",
        "\n",
        "print(\"Resultados para modelo xgboost:\")\n",
        "print(f'Accuracy: {accuracy_xgboost}')\n",
        "print(f'Precision: {precision_xgboost}')\n",
        "print(f'Recall: {recall_xgboost} \\n')\n",
        "\n",
        "print(\"Resultados para modelo lightgbm:\")\n",
        "print(f'Accuracy: {accuracy_lightgbm}')\n",
        "print(f'Precision: {precision_lightgbm}')\n",
        "print(f'Recall: {recall_lightgbm} \\n')\n",
        "\n",
        "print(\"Classification report para ambos modelos:\")\n",
        "print(f'Xgboost: \\n {report_xgboost}')\n",
        "print(f'Lightgbm: \\n {report_lightgbm}')"
      ]
    },
    {
      "cell_type": "markdown",
      "metadata": {
        "id": "vv_E808pfAy7"
      },
      "source": [
        "2.- El accuracy indica que en general hubo un buen desempeño en el total de predicciones realizadas por los modelos, ya que indica que aproximadamente un 94% de los valores predichos fueron correctos. En lo que respecta a la presición, esta nos indica que un 50% aproximado de las clases predichas como positivas son realmente positivas, lo que es similar a lanzar una moneda. En el caso del recall se tiene un resultado bastante malo, ya que lo que dice es que se predice un gran número de falsos negativos, es decir, la gran mayoría de las clases que realmente son positivas son predichas como negativas (un 15% aproximado en este caso). Esto claramente puede ser un problema ocasionado por la disparidad de datos, ya que por lo que se puede notar las predicciones de la clase 0 son mucho mejores que las de la clase 1, que tiene menos datos.\n",
        "\n",
        "3.- Para este caso y considerando el desbalance de los datos, la métrica que es más útil es la de recall, ya que de este modo se hace notar aún más el desbalance de los datos y el mal funcionamiento del modelo. En caso contrario, el accuracy en este caso es una métrica bastante mala, ya que al estar desbalanceados los datos se tiene una métrica muy buena cuando eso no se refleja en el funcionamiento clasificatorio del modelo.\n",
        "En cuanto a cual modelo es mejor, se podría decir que sería el que tuviese la mejor métrica de recall como se dijo anteriormente, por lo que sería el modelo de Xgboost el mejor aunque sigue siendo un resultado bastante malo el que entregó."
      ]
    },
    {
      "cell_type": "markdown",
      "metadata": {
        "id": "uy5VMU6ae_g6"
      },
      "source": [
        "## 2. Predicción de posiciones de jugadores [4 puntos]"
      ]
    },
    {
      "cell_type": "markdown",
      "metadata": {
        "id": "S0PGg_hLgr4H"
      },
      "source": [
        "<p align=\"center\">\n",
        "  <img src=\"https://pbs.twimg.com/media/E1rfA1aWEAYU6Ny.jpg\" width=\"300\">\n",
        "</p>"
      ]
    },
    {
      "cell_type": "markdown",
      "metadata": {
        "id": "I6rSnAesfOm3"
      },
      "source": [
        "En una nueva jornada de desmesuradas transacciones deportivas, Renacín escuchó a sus colegas discutir acerca de que el precio de cada jugador depende en gran medida de la posición en la cancha en la que juega. Y además, que hay bastantes jugadores nuevos que no tienen muy claro en que posición verdaderamente brillarían, por lo que actualmente puede que actualmente estén jugando en posiciones sub-optimas.\n",
        "\n",
        "Viendo que los resultados del primer análisis no son tan esperanzadores, el corporeo los comanda a cambiar su tarea: ahora, les solicita que construyan un clasificador enfocado en predecir la mejor posición de los jugadores en la cancha según sus características.\n",
        "\n",
        "Para lograr esto, primero, les pide que etiqueten de la siguiente manera los valores que aparecen en el atributo `Club_Position`, pidiendo que agrupen los valores en los siguientes grupos:\n",
        "\n",
        "**Nota**:  Renacín les recalca que **no deben utilizar los valores ```Sub``` y ```Res``` de esta columna**.\n",
        "\n",
        "```python\n",
        "ataque = ['ST', 'CF']\n",
        "central_ataque = ['RW', 'CAM', 'LW']\n",
        "central = ['RM', 'CM', 'LM']\n",
        "central_defensa = ['RWB', 'CDM', 'LWB']\n",
        "defensa = ['RB', 'CB', 'LB']\n",
        "arquero = ['GK']\n",
        "```\n",
        "\n",
        "La elección del clasificador se justificar en base a la siguiente [guía](https://scikit-learn.org/stable/tutorial/machine_learning_map/index.html) y se deben comentar los resultados obtenidos en la clasificación.\n",
        "\n",
        "**Tareas:** [1 punto por tarea]\n",
        "\n",
        "1. Aplique las etiquetas descritas anteriormente en cada uno de los valores señalados en esta sección.\n",
        "2. Cuente cuántos por clase quedan.\n",
        "3. Entrene el nuevo pipeline y ejecute una evaluación de este.  \n",
        "4. Comente los resultados obtenidos."
      ]
    },
    {
      "cell_type": "markdown",
      "metadata": {
        "id": "sBmSaWh8i2MI"
      },
      "source": [
        "**Respuesta:**"
      ]
    },
    {
      "cell_type": "code",
      "execution_count": 7,
      "metadata": {
        "id": "Ir_7zMh2i1vg",
        "colab": {
          "base_uri": "https://localhost:8080/"
        },
        "outputId": "58e97cfd-d717-4624-a8ac-58d8a39f1880"
      },
      "outputs": [
        {
          "output_type": "stream",
          "name": "stdout",
          "text": [
            "Club_Position\n",
            "defensa            1180\n",
            "central             907\n",
            "arquero             632\n",
            "central_ataque      581\n",
            "ataque              430\n",
            "central_defensa     209\n",
            "Name: count, dtype: int64\n"
          ]
        }
      ],
      "source": [
        "# Se crea un diccionario para mapear los nuevos valores de \"Club_Position\"\n",
        "mapa = {\n",
        "    \"ST\": \"ataque\", \"CF\": \"ataque\",\n",
        "    \"RW\": \"central_ataque\", \"CAM\": \"central_ataque\", \"LW\": \"central_ataque\",\n",
        "    \"RM\": \"central\", \"CM\": \"central\", \"LM\": \"central\",\n",
        "    \"RWB\": \"central_defensa\", \"CDM\": \"central_defensa\", \"LWB\": \"central_defensa\",\n",
        "    \"RB\": \"defensa\", \"CB\": \"defensa\", \"LB\": \"defensa\",\n",
        "    \"GK\": \"arquero\"\n",
        "}\n",
        "\n",
        "df[\"Club_Position\"] = df[\"Club_Position\"].map(mapa) # Se realiza el mapeo\n",
        "\n",
        "conteo = df['Club_Position'].value_counts() # Se realiza un conteo de cada clase en \"Club_Position\"\n",
        "print(conteo)"
      ]
    },
    {
      "cell_type": "code",
      "execution_count": 8,
      "metadata": {
        "colab": {
          "base_uri": "https://localhost:8080/"
        },
        "id": "SnVBQXhpfAy8",
        "outputId": "d1b06855-d31a-402b-8409-7998bfd7f18b"
      },
      "outputs": [
        {
          "output_type": "stream",
          "name": "stderr",
          "text": [
            "/usr/local/lib/python3.10/dist-packages/sklearn/svm/_classes.py:31: FutureWarning: The default value of `dual` will change from `True` to `'auto'` in 1.5. Set the value of `dual` explicitly to suppress the warning.\n",
            "  warnings.warn(\n"
          ]
        },
        {
          "output_type": "stream",
          "name": "stdout",
          "text": [
            "Classification report para modelo LinearSVC:\n",
            "                 precision    recall  f1-score   support\n",
            "\n",
            "        arquero       1.00      1.00      1.00       126\n",
            "         ataque       0.75      0.86      0.80        86\n",
            "        central       0.63      0.70      0.66       182\n",
            " central_ataque       0.57      0.30      0.40       116\n",
            "central_defensa       0.50      0.14      0.22        42\n",
            "        defensa       0.80      0.98      0.88       236\n",
            "\n",
            "       accuracy                           0.76       788\n",
            "      macro avg       0.71      0.66      0.66       788\n",
            "   weighted avg       0.74      0.76      0.73       788\n",
            "\n"
          ]
        },
        {
          "output_type": "stream",
          "name": "stderr",
          "text": [
            "/usr/local/lib/python3.10/dist-packages/sklearn/svm/_base.py:1237: ConvergenceWarning: Liblinear failed to converge, increase the number of iterations.\n",
            "  warnings.warn(\n"
          ]
        }
      ],
      "source": [
        "from sklearn.svm import LinearSVC\n",
        "\n",
        "df = df.dropna(subset=[\"Club_Position\"]) # Se eliminan los valores NaN de \"Club_Position\"\n",
        "\n",
        "# Se dividen los datos de la clase a predecir\n",
        "X = df.drop([\"Club_Position\"], axis=1)\n",
        "y = df[\"Club_Position\"]\n",
        "\n",
        "# Se crean los conjuntos de entrenamiento y prueba\n",
        "X_train, X_test, y_train, y_test = train_test_split(X, y, test_size=0.2, stratify=y)\n",
        "\n",
        "categorical_data = [\"Preffered_Foot\", \"Work_Rate\"] # Se crea una lista con las variables categoricas, eliminando las que no aportan información como el nombre, nacionalidad y national position. Además se elimina el objetivo a predecir \"Club_Position\"\n",
        "numerical_data_standard = [\"Height\", \"Weight\", \"Age\", \"Ball_Control\", \"Dribbling\", \"Marking\", \"Sliding_Tackle\", \"Standing_Tackle\", \"Aggression\", \"Reactions\", \"Interceptions\", \"Vision\", \"Composure\", \"Crossing\", \"Short_Pass\", \"Long_Pass\", \"Acceleration\", \"Speed\", \"Stamina\", \"Strength\", \"Balance\", \"Agility\", \"Jumping\", \"Heading\", \"Shot_Power\", \"Finishing\", \"Long_Shots\", \"Curve\", \"Freekick_Accuracy\", \"Penalties\", \"Volleys\"] # Se crea una lista con las variables numéricas con las que se usará la transformación StandardScaler\n",
        "numerical_data_minmax = [\"Weak_foot\", \"Skill_Moves\"] # Se crea una lista con las variables numéricas con las que se usará la transformación MinMaxScaler\n",
        "\n",
        "col_transformer = ColumnTransformer(\n",
        "    transformers=[(\"categorical\", OneHotEncoder(), categorical_data),\n",
        "                  (\"numerical_standard\", StandardScaler(), numerical_data_standard),\n",
        "                  (\"numerical_minmax\", MinMaxScaler(), numerical_data_minmax)]) # Se crea el ColumnTransformer con las transformaciones esperadas para cada conjunto de variables\n",
        "\n",
        "# Se crea la pipeline usando el columnTransformer creado anteriormente y el modelo LinearSVC, el cual fue elegido a partir de la guía entregada, ya que se trata de un modelo de clasificación con menos de 100k datos\n",
        "pipeline_linearsvc = Pipeline([(\"transform\", col_transformer),\n",
        "                              (\"classifier\", LinearSVC())])\n",
        "\n",
        "# Se entrena el modelo\n",
        "pipeline_linearsvc.fit(X_train, y_train)\n",
        "\n",
        "# Se realizan las predicciones\n",
        "pred_linearsvc = pipeline_linearsvc.predict(X_test)\n",
        "\n",
        "# Se hace un classification report con los datos predecidos\n",
        "report_linearsvc = classification_report(y_test, pred_linearsvc)\n",
        "\n",
        "print(\"Classification report para modelo LinearSVC:\")\n",
        "print(report_linearsvc)"
      ]
    },
    {
      "cell_type": "markdown",
      "metadata": {
        "id": "qtXYTo8bfAy8"
      },
      "source": [
        "Se puede notar que los resultados obtenidos no son muy buenos en general, aunque el modelo si logra clasificar de muy buena forma a los jugadores que tienen la posición de \"arquero\", así como a los jugadores con posición \"ataque\" y \"defensa\", aunque con peores resultados para estos últimos. Otra cosa destacable de estos resultados son los malos resultados que se tienen para todos los jugadores que estén ligados a una posición de centro como \"central\", \"central_ataque\" y \"central_defensa\". Una posible causa de los malos resultados es que estas últimas dos clases son las que menos datos tienen en el dataset, aunque también es posible que el modelo falle debido a que estas clases pueden tener una gran similitud entre ellas sin atributos en los que se puedan diferenciar de manera clara, ya que en el caso de \"ataque\" también se cuenta con pocos datos, pero los resultados obtenidos son decentes.  "
      ]
    },
    {
      "cell_type": "markdown",
      "metadata": {
        "id": "9bL2m8nNojXM"
      },
      "source": [
        "## 3. Predicciones de Seleccionados Nacionales para el Jere Klein [30 puntos]"
      ]
    },
    {
      "cell_type": "markdown",
      "metadata": {
        "id": "_2XmRsJdsEh_"
      },
      "source": [
        "<center>\n",
        "<img src='https://www.radioactiva.cl/wp-content/uploads/2024/04/Jere-Klein-1-768x432.webp' width=500 />"
      ]
    },
    {
      "cell_type": "markdown",
      "metadata": {
        "id": "AgmUoVDsqUPu"
      },
      "source": [
        "Después de alcanzar la fama como cantante urbano, Jere Klein decide explorar una nueva faceta. Con su amor por el fútbol y convencido de que los artistas urbanos poseen un talento y versatilidad excepcionales, Jere se embarca en un proyecto innovador: desarrollar un sistema de inteligencia artificial capaz de identificar a jugadores que tienen potencial para convertirse en futbolistas profesionales. Su teoría es que muchos artistas del género urbano chileno, con sus habilidades únicas y su disciplina, podrían destacarse también en el deporte. Con este sistema, Jere espera no solo abrir nuevas oportunidades para sus colegas artistas, sino también demostrar la amplia gama de talentos que pueden ofrecer."
      ]
    },
    {
      "cell_type": "markdown",
      "metadata": {
        "id": "rD8pQ5Zfq8dE"
      },
      "source": [
        "### 2.1 ¿Qué modelo de árbol es más de \"pana\"? [10 puntos]"
      ]
    },
    {
      "cell_type": "markdown",
      "metadata": {
        "id": "zB-KUA4g99eo"
      },
      "source": [
        "<center>\n",
        "<img src='https://64.media.tumblr.com/39189215a7d3d96823cb359f35b44e05/tumblr_psmrhrR3Xw1qf5hjqo4_540.gif' width=300 />"
      ]
    },
    {
      "cell_type": "markdown",
      "metadata": {
        "id": "uL-moVhB9vPH"
      },
      "source": [
        "\n",
        "**Tareas**\n",
        "\n",
        "\n",
        "1. Considerando el la variable llamada `label` creada en la sección 1.1. Para determinar cuál modelo de árbol sería más adecuado para la tarea en cuestión, utilice PyCaret. Este deberá centrarse exclusivamente en modelos de tipo árbol. Jere ha especificado que busca un modelo que tome decisiones rápidamente y que tenga una baja tasa de falsos positivos, ya que planea invertir en estos jugadores. [3 puntos] Para la comparación, utilice los siguientes modelos:\n",
        "\n",
        "```python\n",
        "['et', 'rf', 'dt', 'xgboost', 'lightgbm', 'catboost']\n",
        "```\n",
        "\n",
        "3. Explique en brevemente que son los modelos de la siguiente lista `['et', 'rf', 'dt']` y como funcionan. [3 punto]\n",
        "\n",
        "4. Tras realizar la comparación de modelos, seleccione aquel que muestre el mejor rendimiento en términos de velocidad y precisión, especialmente en la reducción de falsos positivos. Utilice la función `evaluate_model` de PyCaret para revisar y analizar los resultados obtenidos en los siguientes aspectos:\n",
        "\n",
        "  - **Confusión Matrix**: ¿Cómo se encuentran la tasa de verdaderos positivos y verdaderos negativos?\n",
        "  - **Threshold**: ¿Es acaso el umbral por defecto del modelo el mejor para las predicciones?\n",
        "  - **Feature Importance**: ¿Cuáles son las variables con mejor desempeño? ¿A qué podría deberse esto?\n",
        "  - **Learning Curve**: ¿El modelo presenta algún problema?\n",
        "\n",
        "  [4 puntos]"
      ]
    },
    {
      "cell_type": "markdown",
      "source": [
        "3.- El modelo 'et' es Extra Trees (ET), que corresponde a un algoritmo de ensamble que se basa en árboles de precisión. Lo que lo diferencia de los árboles estándar y Rnadom Forest, es que ET agrega aleatoriedad adicional a la construcción de los árboles, ya que en cada nodo de división, en vez de buscar el mejor umbral posible para dividir, ET selecciona aleatoriamente varios umbrales y elige el mejor entre ellos. Lo anterior hace que ET sea más rápido de entrenar que Random Forest, pero puede que necesite más árboles para alcanzar el mismo nivel de precisión.\n",
        "\n",
        "En cuanto a 'rf', este corresponde a Random Forest (RF), que al igual que ET es un algoritmo de ensamble basado en árboles de decisión. Este algoritmo construye múltiples árboles durante el entrenamiento y los combina para obtener predicciones más precisas. Los árboles son construidos en paralelo, lo que hace que RF sea adecuado para conjuntos de datos grandes y complejos. RF también introduce aleatoriedad al considerar un subconjunto aleatorio de características en cada nodo de división, lo que ayuda a reducir el sobreajuste y mejorar la generalización.\n",
        "\n",
        "Por último, 'dt' corresponde a Decision Tree (DT), que es un modelo de aprendizaje supervisado para clasificación y regresión.  Divide el conjunto de datos en subconjuntos más pequeños basados en características específicas, de modo que las decisiones se tomen de manera secuencial en función de estas divisiones. El objetivo es dividir el conjunto de datos de manera que las clases sean lo más homogéneas posible en los nodos hoja.\n",
        "\n",
        "4.- Luego de la prueba de los modelos, se concluye que el mejor es ET, pues es el que obtiene valores más altos en precision, recall y F1 score, que son métricas relevantes al reducir los falsos positivos. Particularmente precision es importante, ya que se calcula como el número de verdaderos positivos dividido por la suma de verdaderos positivos y falsos positivos.\n",
        "\n",
        "En cuanto a la velocidad, ET es el que más demora, pero considerando que los tiempos de los distintos modelos no presentan diferencias relevantes para este ejemplo, la elección se guía principalmente por las métricas.\n",
        "\n",
        "Pasando al análisis de los resultados tenemos lo siguiente:\n",
        "\n",
        "  - **Confusión Matrix**: De acuerdo a la matriz de confusión hay 57 verdaderos positivos, 1071 verdaderos negativos, 53 falsos negativos y 1 falso positivo. Es decir, efectivamente los falsos positivos son muy pocos, no obstante, de todos los positivos (reales), casi la mitad se clasifican como negativos. Esto tiene relación con que las clases están desbalanceadas, pues hay más negativos que positivos.\n",
        "  - **Threshold**: De acuerdo a lo observado en el gráfico, se puede decir que el umbral por defecto del modelo es el mejor, ya que maximiza precision, recall y f1 score.\n",
        "  - **Feature Importance**: El top de 4 variables con mejor desempeño es: 'Name', 'National_Position_Sub', 'National_Position_GK' y 'Nationality', donde 'Name' tiene una importancia particularmente alta. En el caso de 'Name', dado que es una variable categórica que tiene prácticamente un valor distinto por fila, corresponde a un caso que hay que analizar con detención. Si bien un problema como este podría darse por múltiples factores, existe la probabilidad de que existe overfitting y que el modelo le esté dando demasiada importancia a características irrelevantes. En los casos de 'National_Position_Sub' y 'National_Position_GK', que hacen referencia a si el jugador ocupa 2 posiciones (Sub o suplente, y GK o arquero) en su país, lo cual puede tener gran relevancia al ser indicadores sobre la habilidad y el estilo de juego de cada jugador. Por su parte, 'Nationality' puede tener relación con lo que se quiere predecir (si el jugador es seleccionado, o bien, si es bueno) ya que el nivel de desarrollo de un deporte varía de un país a otro.\n",
        "  - **Learning Curve**: De acuerdo al gráfico de Learning Curve podría haber un problema de overfitting, ya que en una zona del gráfico la curva para el cross validation score baja, mientras la del training score de mantiene.\n"
      ],
      "metadata": {
        "id": "quqz4yyMj6Uq"
      }
    },
    {
      "cell_type": "markdown",
      "metadata": {
        "id": "qY85nrViYROF"
      },
      "source": [
        "**Respuesta**"
      ]
    },
    {
      "cell_type": "code",
      "source": [
        "!pip install pycaret"
      ],
      "metadata": {
        "id": "ofNgeDqffjcK"
      },
      "execution_count": null,
      "outputs": []
    },
    {
      "cell_type": "code",
      "source": [
        "pip install catboost"
      ],
      "metadata": {
        "id": "frLXBc6KgbeY"
      },
      "execution_count": null,
      "outputs": []
    },
    {
      "cell_type": "code",
      "execution_count": 9,
      "metadata": {
        "id": "kUCjOjsEYUXL",
        "colab": {
          "base_uri": "https://localhost:8080/",
          "height": 771
        },
        "outputId": "7d38cc01-eab8-458f-921c-8a0b3e4a5490"
      },
      "outputs": [
        {
          "output_type": "display_data",
          "data": {
            "text/plain": [
              "<pandas.io.formats.style.Styler at 0x78a86073edd0>"
            ],
            "text/html": [
              "<style type=\"text/css\">\n",
              "#T_2a020_row10_col1 {\n",
              "  background-color: lightgreen;\n",
              "}\n",
              "</style>\n",
              "<table id=\"T_2a020\" class=\"dataframe\">\n",
              "  <thead>\n",
              "    <tr>\n",
              "      <th class=\"blank level0\" >&nbsp;</th>\n",
              "      <th id=\"T_2a020_level0_col0\" class=\"col_heading level0 col0\" >Description</th>\n",
              "      <th id=\"T_2a020_level0_col1\" class=\"col_heading level0 col1\" >Value</th>\n",
              "    </tr>\n",
              "  </thead>\n",
              "  <tbody>\n",
              "    <tr>\n",
              "      <th id=\"T_2a020_level0_row0\" class=\"row_heading level0 row0\" >0</th>\n",
              "      <td id=\"T_2a020_row0_col0\" class=\"data row0 col0\" >Session id</td>\n",
              "      <td id=\"T_2a020_row0_col1\" class=\"data row0 col1\" >123</td>\n",
              "    </tr>\n",
              "    <tr>\n",
              "      <th id=\"T_2a020_level0_row1\" class=\"row_heading level0 row1\" >1</th>\n",
              "      <td id=\"T_2a020_row1_col0\" class=\"data row1 col0\" >Target</td>\n",
              "      <td id=\"T_2a020_row1_col1\" class=\"data row1 col1\" >label</td>\n",
              "    </tr>\n",
              "    <tr>\n",
              "      <th id=\"T_2a020_level0_row2\" class=\"row_heading level0 row2\" >2</th>\n",
              "      <td id=\"T_2a020_row2_col0\" class=\"data row2 col0\" >Target type</td>\n",
              "      <td id=\"T_2a020_row2_col1\" class=\"data row2 col1\" >Binary</td>\n",
              "    </tr>\n",
              "    <tr>\n",
              "      <th id=\"T_2a020_level0_row3\" class=\"row_heading level0 row3\" >3</th>\n",
              "      <td id=\"T_2a020_row3_col0\" class=\"data row3 col0\" >Original data shape</td>\n",
              "      <td id=\"T_2a020_row3_col1\" class=\"data row3 col1\" >(3939, 40)</td>\n",
              "    </tr>\n",
              "    <tr>\n",
              "      <th id=\"T_2a020_level0_row4\" class=\"row_heading level0 row4\" >4</th>\n",
              "      <td id=\"T_2a020_row4_col0\" class=\"data row4 col0\" >Transformed data shape</td>\n",
              "      <td id=\"T_2a020_row4_col1\" class=\"data row4 col1\" >(3939, 76)</td>\n",
              "    </tr>\n",
              "    <tr>\n",
              "      <th id=\"T_2a020_level0_row5\" class=\"row_heading level0 row5\" >5</th>\n",
              "      <td id=\"T_2a020_row5_col0\" class=\"data row5 col0\" >Transformed train set shape</td>\n",
              "      <td id=\"T_2a020_row5_col1\" class=\"data row5 col1\" >(2757, 76)</td>\n",
              "    </tr>\n",
              "    <tr>\n",
              "      <th id=\"T_2a020_level0_row6\" class=\"row_heading level0 row6\" >6</th>\n",
              "      <td id=\"T_2a020_row6_col0\" class=\"data row6 col0\" >Transformed test set shape</td>\n",
              "      <td id=\"T_2a020_row6_col1\" class=\"data row6 col1\" >(1182, 76)</td>\n",
              "    </tr>\n",
              "    <tr>\n",
              "      <th id=\"T_2a020_level0_row7\" class=\"row_heading level0 row7\" >7</th>\n",
              "      <td id=\"T_2a020_row7_col0\" class=\"data row7 col0\" >Numeric features</td>\n",
              "      <td id=\"T_2a020_row7_col1\" class=\"data row7 col1\" >33</td>\n",
              "    </tr>\n",
              "    <tr>\n",
              "      <th id=\"T_2a020_level0_row8\" class=\"row_heading level0 row8\" >8</th>\n",
              "      <td id=\"T_2a020_row8_col0\" class=\"data row8 col0\" >Categorical features</td>\n",
              "      <td id=\"T_2a020_row8_col1\" class=\"data row8 col1\" >6</td>\n",
              "    </tr>\n",
              "    <tr>\n",
              "      <th id=\"T_2a020_level0_row9\" class=\"row_heading level0 row9\" >9</th>\n",
              "      <td id=\"T_2a020_row9_col0\" class=\"data row9 col0\" >Rows with missing values</td>\n",
              "      <td id=\"T_2a020_row9_col1\" class=\"data row9 col1\" >90.7%</td>\n",
              "    </tr>\n",
              "    <tr>\n",
              "      <th id=\"T_2a020_level0_row10\" class=\"row_heading level0 row10\" >10</th>\n",
              "      <td id=\"T_2a020_row10_col0\" class=\"data row10 col0\" >Preprocess</td>\n",
              "      <td id=\"T_2a020_row10_col1\" class=\"data row10 col1\" >True</td>\n",
              "    </tr>\n",
              "    <tr>\n",
              "      <th id=\"T_2a020_level0_row11\" class=\"row_heading level0 row11\" >11</th>\n",
              "      <td id=\"T_2a020_row11_col0\" class=\"data row11 col0\" >Imputation type</td>\n",
              "      <td id=\"T_2a020_row11_col1\" class=\"data row11 col1\" >simple</td>\n",
              "    </tr>\n",
              "    <tr>\n",
              "      <th id=\"T_2a020_level0_row12\" class=\"row_heading level0 row12\" >12</th>\n",
              "      <td id=\"T_2a020_row12_col0\" class=\"data row12 col0\" >Numeric imputation</td>\n",
              "      <td id=\"T_2a020_row12_col1\" class=\"data row12 col1\" >mean</td>\n",
              "    </tr>\n",
              "    <tr>\n",
              "      <th id=\"T_2a020_level0_row13\" class=\"row_heading level0 row13\" >13</th>\n",
              "      <td id=\"T_2a020_row13_col0\" class=\"data row13 col0\" >Categorical imputation</td>\n",
              "      <td id=\"T_2a020_row13_col1\" class=\"data row13 col1\" >mode</td>\n",
              "    </tr>\n",
              "    <tr>\n",
              "      <th id=\"T_2a020_level0_row14\" class=\"row_heading level0 row14\" >14</th>\n",
              "      <td id=\"T_2a020_row14_col0\" class=\"data row14 col0\" >Maximum one-hot encoding</td>\n",
              "      <td id=\"T_2a020_row14_col1\" class=\"data row14 col1\" >25</td>\n",
              "    </tr>\n",
              "    <tr>\n",
              "      <th id=\"T_2a020_level0_row15\" class=\"row_heading level0 row15\" >15</th>\n",
              "      <td id=\"T_2a020_row15_col0\" class=\"data row15 col0\" >Encoding method</td>\n",
              "      <td id=\"T_2a020_row15_col1\" class=\"data row15 col1\" >None</td>\n",
              "    </tr>\n",
              "    <tr>\n",
              "      <th id=\"T_2a020_level0_row16\" class=\"row_heading level0 row16\" >16</th>\n",
              "      <td id=\"T_2a020_row16_col0\" class=\"data row16 col0\" >Fold Generator</td>\n",
              "      <td id=\"T_2a020_row16_col1\" class=\"data row16 col1\" >StratifiedKFold</td>\n",
              "    </tr>\n",
              "    <tr>\n",
              "      <th id=\"T_2a020_level0_row17\" class=\"row_heading level0 row17\" >17</th>\n",
              "      <td id=\"T_2a020_row17_col0\" class=\"data row17 col0\" >Fold Number</td>\n",
              "      <td id=\"T_2a020_row17_col1\" class=\"data row17 col1\" >10</td>\n",
              "    </tr>\n",
              "    <tr>\n",
              "      <th id=\"T_2a020_level0_row18\" class=\"row_heading level0 row18\" >18</th>\n",
              "      <td id=\"T_2a020_row18_col0\" class=\"data row18 col0\" >CPU Jobs</td>\n",
              "      <td id=\"T_2a020_row18_col1\" class=\"data row18 col1\" >-1</td>\n",
              "    </tr>\n",
              "    <tr>\n",
              "      <th id=\"T_2a020_level0_row19\" class=\"row_heading level0 row19\" >19</th>\n",
              "      <td id=\"T_2a020_row19_col0\" class=\"data row19 col0\" >Use GPU</td>\n",
              "      <td id=\"T_2a020_row19_col1\" class=\"data row19 col1\" >False</td>\n",
              "    </tr>\n",
              "    <tr>\n",
              "      <th id=\"T_2a020_level0_row20\" class=\"row_heading level0 row20\" >20</th>\n",
              "      <td id=\"T_2a020_row20_col0\" class=\"data row20 col0\" >Log Experiment</td>\n",
              "      <td id=\"T_2a020_row20_col1\" class=\"data row20 col1\" >False</td>\n",
              "    </tr>\n",
              "    <tr>\n",
              "      <th id=\"T_2a020_level0_row21\" class=\"row_heading level0 row21\" >21</th>\n",
              "      <td id=\"T_2a020_row21_col0\" class=\"data row21 col0\" >Experiment Name</td>\n",
              "      <td id=\"T_2a020_row21_col1\" class=\"data row21 col1\" >clf-default-name</td>\n",
              "    </tr>\n",
              "    <tr>\n",
              "      <th id=\"T_2a020_level0_row22\" class=\"row_heading level0 row22\" >22</th>\n",
              "      <td id=\"T_2a020_row22_col0\" class=\"data row22 col0\" >USI</td>\n",
              "      <td id=\"T_2a020_row22_col1\" class=\"data row22 col1\" >6ef3</td>\n",
              "    </tr>\n",
              "  </tbody>\n",
              "</table>\n"
            ]
          },
          "metadata": {}
        }
      ],
      "source": [
        "from pycaret.classification import *\n",
        "clf1 = setup(data=df, target='label', session_id=123)"
      ]
    },
    {
      "cell_type": "code",
      "source": [
        "# et es el mejor\n",
        "best_model = compare_models(include = ['et', 'rf', 'dt', 'xgboost', 'lightgbm', 'catboost'], sort='F1')"
      ],
      "metadata": {
        "colab": {
          "base_uri": "https://localhost:8080/",
          "height": 238,
          "referenced_widgets": [
            "f0a9c992077f4eec9b3f687fb09a8b02",
            "5c55134d2e7a4cf09317e4f95be9dc98",
            "0e6070d3aec64fc08d846dbb0ef1de15",
            "adec4e0313874958af7ea10a6a9cc33b",
            "35d601e7f2d04fc08a411cea340ea0ac",
            "9e97fb0b9c43417faab9b02da1f85e79",
            "86660774e52841eebc2524df7b489069",
            "fc980e305e384636bdc3161501abf6cb",
            "a5da925074c84bd99c54fcebf86a8cfc",
            "bd23bebfd90b4ffda13448716248ee46",
            "d65175728a6944d3ab8990cf733d8347"
          ]
        },
        "id": "rldvfd3XgQvw",
        "outputId": "505ed85c-f2f0-4549-84fc-0acf478e1452"
      },
      "execution_count": 10,
      "outputs": [
        {
          "output_type": "display_data",
          "data": {
            "text/plain": [
              "<IPython.core.display.HTML object>"
            ],
            "text/html": []
          },
          "metadata": {}
        },
        {
          "output_type": "display_data",
          "data": {
            "text/plain": [
              "<pandas.io.formats.style.Styler at 0x78a86054ff10>"
            ],
            "text/html": [
              "<style type=\"text/css\">\n",
              "#T_7f029 th {\n",
              "  text-align: left;\n",
              "}\n",
              "#T_7f029_row0_col0, #T_7f029_row0_col2, #T_7f029_row1_col0, #T_7f029_row1_col1, #T_7f029_row1_col3, #T_7f029_row1_col4, #T_7f029_row1_col5, #T_7f029_row1_col6, #T_7f029_row1_col7, #T_7f029_row2_col0, #T_7f029_row2_col1, #T_7f029_row2_col2, #T_7f029_row2_col3, #T_7f029_row2_col4, #T_7f029_row2_col5, #T_7f029_row2_col6, #T_7f029_row2_col7, #T_7f029_row3_col0, #T_7f029_row3_col1, #T_7f029_row3_col2, #T_7f029_row3_col3, #T_7f029_row3_col4, #T_7f029_row3_col5, #T_7f029_row3_col6, #T_7f029_row3_col7, #T_7f029_row4_col0, #T_7f029_row4_col1, #T_7f029_row4_col2, #T_7f029_row4_col3, #T_7f029_row4_col4, #T_7f029_row4_col5, #T_7f029_row4_col6, #T_7f029_row4_col7, #T_7f029_row5_col0, #T_7f029_row5_col1, #T_7f029_row5_col2, #T_7f029_row5_col3, #T_7f029_row5_col4, #T_7f029_row5_col5, #T_7f029_row5_col6, #T_7f029_row5_col7 {\n",
              "  text-align: left;\n",
              "}\n",
              "#T_7f029_row0_col1, #T_7f029_row0_col3, #T_7f029_row0_col4, #T_7f029_row0_col5, #T_7f029_row0_col6, #T_7f029_row0_col7, #T_7f029_row1_col2 {\n",
              "  text-align: left;\n",
              "  background-color: yellow;\n",
              "}\n",
              "#T_7f029_row0_col8, #T_7f029_row1_col8, #T_7f029_row3_col8, #T_7f029_row4_col8, #T_7f029_row5_col8 {\n",
              "  text-align: left;\n",
              "  background-color: lightgrey;\n",
              "}\n",
              "#T_7f029_row2_col8 {\n",
              "  text-align: left;\n",
              "  background-color: yellow;\n",
              "  background-color: lightgrey;\n",
              "}\n",
              "</style>\n",
              "<table id=\"T_7f029\" class=\"dataframe\">\n",
              "  <thead>\n",
              "    <tr>\n",
              "      <th class=\"blank level0\" >&nbsp;</th>\n",
              "      <th id=\"T_7f029_level0_col0\" class=\"col_heading level0 col0\" >Model</th>\n",
              "      <th id=\"T_7f029_level0_col1\" class=\"col_heading level0 col1\" >Accuracy</th>\n",
              "      <th id=\"T_7f029_level0_col2\" class=\"col_heading level0 col2\" >AUC</th>\n",
              "      <th id=\"T_7f029_level0_col3\" class=\"col_heading level0 col3\" >Recall</th>\n",
              "      <th id=\"T_7f029_level0_col4\" class=\"col_heading level0 col4\" >Prec.</th>\n",
              "      <th id=\"T_7f029_level0_col5\" class=\"col_heading level0 col5\" >F1</th>\n",
              "      <th id=\"T_7f029_level0_col6\" class=\"col_heading level0 col6\" >Kappa</th>\n",
              "      <th id=\"T_7f029_level0_col7\" class=\"col_heading level0 col7\" >MCC</th>\n",
              "      <th id=\"T_7f029_level0_col8\" class=\"col_heading level0 col8\" >TT (Sec)</th>\n",
              "    </tr>\n",
              "  </thead>\n",
              "  <tbody>\n",
              "    <tr>\n",
              "      <th id=\"T_7f029_level0_row0\" class=\"row_heading level0 row0\" >et</th>\n",
              "      <td id=\"T_7f029_row0_col0\" class=\"data row0 col0\" >Extra Trees Classifier</td>\n",
              "      <td id=\"T_7f029_row0_col1\" class=\"data row0 col1\" >0.9485</td>\n",
              "      <td id=\"T_7f029_row0_col2\" class=\"data row0 col2\" >0.8602</td>\n",
              "      <td id=\"T_7f029_row0_col3\" class=\"data row0 col3\" >0.4494</td>\n",
              "      <td id=\"T_7f029_row0_col4\" class=\"data row0 col4\" >0.9889</td>\n",
              "      <td id=\"T_7f029_row0_col5\" class=\"data row0 col5\" >0.6143</td>\n",
              "      <td id=\"T_7f029_row0_col6\" class=\"data row0 col6\" >0.5913</td>\n",
              "      <td id=\"T_7f029_row0_col7\" class=\"data row0 col7\" >0.6460</td>\n",
              "      <td id=\"T_7f029_row0_col8\" class=\"data row0 col8\" >1.2690</td>\n",
              "    </tr>\n",
              "    <tr>\n",
              "      <th id=\"T_7f029_level0_row1\" class=\"row_heading level0 row1\" >rf</th>\n",
              "      <td id=\"T_7f029_row1_col0\" class=\"data row1 col0\" >Random Forest Classifier</td>\n",
              "      <td id=\"T_7f029_row1_col1\" class=\"data row1 col1\" >0.9347</td>\n",
              "      <td id=\"T_7f029_row1_col2\" class=\"data row1 col2\" >0.8796</td>\n",
              "      <td id=\"T_7f029_row1_col3\" class=\"data row1 col3\" >0.3014</td>\n",
              "      <td id=\"T_7f029_row1_col4\" class=\"data row1 col4\" >0.9750</td>\n",
              "      <td id=\"T_7f029_row1_col5\" class=\"data row1 col5\" >0.4326</td>\n",
              "      <td id=\"T_7f029_row1_col6\" class=\"data row1 col6\" >0.4127</td>\n",
              "      <td id=\"T_7f029_row1_col7\" class=\"data row1 col7\" >0.4984</td>\n",
              "      <td id=\"T_7f029_row1_col8\" class=\"data row1 col8\" >0.5590</td>\n",
              "    </tr>\n",
              "    <tr>\n",
              "      <th id=\"T_7f029_level0_row2\" class=\"row_heading level0 row2\" >dt</th>\n",
              "      <td id=\"T_7f029_row2_col0\" class=\"data row2 col0\" >Decision Tree Classifier</td>\n",
              "      <td id=\"T_7f029_row2_col1\" class=\"data row2 col1\" >0.9068</td>\n",
              "      <td id=\"T_7f029_row2_col2\" class=\"data row2 col2\" >0.4998</td>\n",
              "      <td id=\"T_7f029_row2_col3\" class=\"data row2 col3\" >0.0000</td>\n",
              "      <td id=\"T_7f029_row2_col4\" class=\"data row2 col4\" >0.0000</td>\n",
              "      <td id=\"T_7f029_row2_col5\" class=\"data row2 col5\" >0.0000</td>\n",
              "      <td id=\"T_7f029_row2_col6\" class=\"data row2 col6\" >-0.0007</td>\n",
              "      <td id=\"T_7f029_row2_col7\" class=\"data row2 col7\" >-0.0019</td>\n",
              "      <td id=\"T_7f029_row2_col8\" class=\"data row2 col8\" >0.2500</td>\n",
              "    </tr>\n",
              "    <tr>\n",
              "      <th id=\"T_7f029_level0_row3\" class=\"row_heading level0 row3\" >xgboost</th>\n",
              "      <td id=\"T_7f029_row3_col0\" class=\"data row3 col0\" >Extreme Gradient Boosting</td>\n",
              "      <td id=\"T_7f029_row3_col1\" class=\"data row3 col1\" >0.9068</td>\n",
              "      <td id=\"T_7f029_row3_col2\" class=\"data row3 col2\" >0.7884</td>\n",
              "      <td id=\"T_7f029_row3_col3\" class=\"data row3 col3\" >0.0000</td>\n",
              "      <td id=\"T_7f029_row3_col4\" class=\"data row3 col4\" >0.0000</td>\n",
              "      <td id=\"T_7f029_row3_col5\" class=\"data row3 col5\" >0.0000</td>\n",
              "      <td id=\"T_7f029_row3_col6\" class=\"data row3 col6\" >-0.0007</td>\n",
              "      <td id=\"T_7f029_row3_col7\" class=\"data row3 col7\" >-0.0019</td>\n",
              "      <td id=\"T_7f029_row3_col8\" class=\"data row3 col8\" >0.4970</td>\n",
              "    </tr>\n",
              "    <tr>\n",
              "      <th id=\"T_7f029_level0_row4\" class=\"row_heading level0 row4\" >lightgbm</th>\n",
              "      <td id=\"T_7f029_row4_col0\" class=\"data row4 col0\" >Light Gradient Boosting Machine</td>\n",
              "      <td id=\"T_7f029_row4_col1\" class=\"data row4 col1\" >0.9068</td>\n",
              "      <td id=\"T_7f029_row4_col2\" class=\"data row4 col2\" >0.6873</td>\n",
              "      <td id=\"T_7f029_row4_col3\" class=\"data row4 col3\" >0.0000</td>\n",
              "      <td id=\"T_7f029_row4_col4\" class=\"data row4 col4\" >0.0000</td>\n",
              "      <td id=\"T_7f029_row4_col5\" class=\"data row4 col5\" >0.0000</td>\n",
              "      <td id=\"T_7f029_row4_col6\" class=\"data row4 col6\" >-0.0007</td>\n",
              "      <td id=\"T_7f029_row4_col7\" class=\"data row4 col7\" >-0.0019</td>\n",
              "      <td id=\"T_7f029_row4_col8\" class=\"data row4 col8\" >0.7850</td>\n",
              "    </tr>\n",
              "    <tr>\n",
              "      <th id=\"T_7f029_level0_row5\" class=\"row_heading level0 row5\" >catboost</th>\n",
              "      <td id=\"T_7f029_row5_col0\" class=\"data row5 col0\" >CatBoost Classifier</td>\n",
              "      <td id=\"T_7f029_row5_col1\" class=\"data row5 col1\" >0.9068</td>\n",
              "      <td id=\"T_7f029_row5_col2\" class=\"data row5 col2\" >0.7798</td>\n",
              "      <td id=\"T_7f029_row5_col3\" class=\"data row5 col3\" >0.0000</td>\n",
              "      <td id=\"T_7f029_row5_col4\" class=\"data row5 col4\" >0.0000</td>\n",
              "      <td id=\"T_7f029_row5_col5\" class=\"data row5 col5\" >0.0000</td>\n",
              "      <td id=\"T_7f029_row5_col6\" class=\"data row5 col6\" >-0.0007</td>\n",
              "      <td id=\"T_7f029_row5_col7\" class=\"data row5 col7\" >-0.0019</td>\n",
              "      <td id=\"T_7f029_row5_col8\" class=\"data row5 col8\" >8.2680</td>\n",
              "    </tr>\n",
              "  </tbody>\n",
              "</table>\n"
            ]
          },
          "metadata": {}
        },
        {
          "output_type": "display_data",
          "data": {
            "text/plain": [
              "Processing:   0%|          | 0/29 [00:00<?, ?it/s]"
            ],
            "application/vnd.jupyter.widget-view+json": {
              "version_major": 2,
              "version_minor": 0,
              "model_id": "f0a9c992077f4eec9b3f687fb09a8b02"
            }
          },
          "metadata": {
            "application/vnd.jupyter.widget-view+json": {
              "colab": {
                "custom_widget_manager": {
                  "url": "https://ssl.gstatic.com/colaboratory-static/widgets/colab-cdn-widget-manager/2b70e893a8ba7c0f/manager.min.js"
                }
              }
            }
          }
        },
        {
          "output_type": "display_data",
          "data": {
            "text/plain": [
              "<IPython.core.display.HTML object>"
            ],
            "text/html": []
          },
          "metadata": {}
        }
      ]
    },
    {
      "cell_type": "code",
      "source": [
        "et_model = create_model('et')\n",
        "evaluate_model(et_model)"
      ],
      "metadata": {
        "colab": {
          "base_uri": "https://localhost:8080/",
          "height": 1000,
          "referenced_widgets": [
            "d312fa62433d44ff91d0f6130951dcd7",
            "26fc633f3b8143c390ff585ccae669f5",
            "4fa9f9a053564933ba574fa99a09d626",
            "0e0972a33feb4213b63822ffa6986de5",
            "641aa9bb5e77405a96ba5d0864d16a60",
            "86c3cbd3c03a497fb40effac5394c7e1",
            "1fb630a9ff0f43a48a5afe5a0ffadffb",
            "1e7ce74339164512a412dc5262e16245",
            "013c1438aa964d6cb4490539e7090a13",
            "2a39e20ffb784e8eafe99f8df47f3ed0",
            "1b407f6189ff4c73ab235922aa322c19",
            "62ee0068c2cc46c1b7096dedd3c11cdb",
            "6e702c1cfb734523b8ef3178853bff62",
            "b2693690e0024c02bff52a5a6d4daaee",
            "6b85eb7432c340deaf573e1f882384ca",
            "66d7f74849044700853f48feb2a7eb73",
            "71d9b1af970e450bbfa9226ab6edcb43",
            "cb13a793a2874a2981bd727dd1236d7f"
          ]
        },
        "id": "6jB4NWr1Ik5b",
        "outputId": "82e4d553-30af-484d-f5fe-552e6188df1c"
      },
      "execution_count": 14,
      "outputs": [
        {
          "output_type": "display_data",
          "data": {
            "text/plain": [
              "<IPython.core.display.HTML object>"
            ],
            "text/html": []
          },
          "metadata": {}
        },
        {
          "output_type": "display_data",
          "data": {
            "text/plain": [
              "<pandas.io.formats.style.Styler at 0x78a8410c37c0>"
            ],
            "text/html": [
              "<style type=\"text/css\">\n",
              "#T_f4a79_row10_col0, #T_f4a79_row10_col1, #T_f4a79_row10_col2, #T_f4a79_row10_col3, #T_f4a79_row10_col4, #T_f4a79_row10_col5, #T_f4a79_row10_col6 {\n",
              "  background: yellow;\n",
              "}\n",
              "</style>\n",
              "<table id=\"T_f4a79\" class=\"dataframe\">\n",
              "  <thead>\n",
              "    <tr>\n",
              "      <th class=\"blank level0\" >&nbsp;</th>\n",
              "      <th id=\"T_f4a79_level0_col0\" class=\"col_heading level0 col0\" >Accuracy</th>\n",
              "      <th id=\"T_f4a79_level0_col1\" class=\"col_heading level0 col1\" >AUC</th>\n",
              "      <th id=\"T_f4a79_level0_col2\" class=\"col_heading level0 col2\" >Recall</th>\n",
              "      <th id=\"T_f4a79_level0_col3\" class=\"col_heading level0 col3\" >Prec.</th>\n",
              "      <th id=\"T_f4a79_level0_col4\" class=\"col_heading level0 col4\" >F1</th>\n",
              "      <th id=\"T_f4a79_level0_col5\" class=\"col_heading level0 col5\" >Kappa</th>\n",
              "      <th id=\"T_f4a79_level0_col6\" class=\"col_heading level0 col6\" >MCC</th>\n",
              "    </tr>\n",
              "    <tr>\n",
              "      <th class=\"index_name level0\" >Fold</th>\n",
              "      <th class=\"blank col0\" >&nbsp;</th>\n",
              "      <th class=\"blank col1\" >&nbsp;</th>\n",
              "      <th class=\"blank col2\" >&nbsp;</th>\n",
              "      <th class=\"blank col3\" >&nbsp;</th>\n",
              "      <th class=\"blank col4\" >&nbsp;</th>\n",
              "      <th class=\"blank col5\" >&nbsp;</th>\n",
              "      <th class=\"blank col6\" >&nbsp;</th>\n",
              "    </tr>\n",
              "  </thead>\n",
              "  <tbody>\n",
              "    <tr>\n",
              "      <th id=\"T_f4a79_level0_row0\" class=\"row_heading level0 row0\" >0</th>\n",
              "      <td id=\"T_f4a79_row0_col0\" class=\"data row0 col0\" >0.9565</td>\n",
              "      <td id=\"T_f4a79_row0_col1\" class=\"data row0 col1\" >0.8966</td>\n",
              "      <td id=\"T_f4a79_row0_col2\" class=\"data row0 col2\" >0.5200</td>\n",
              "      <td id=\"T_f4a79_row0_col3\" class=\"data row0 col3\" >1.0000</td>\n",
              "      <td id=\"T_f4a79_row0_col4\" class=\"data row0 col4\" >0.6842</td>\n",
              "      <td id=\"T_f4a79_row0_col5\" class=\"data row0 col5\" >0.6633</td>\n",
              "      <td id=\"T_f4a79_row0_col6\" class=\"data row0 col6\" >0.7045</td>\n",
              "    </tr>\n",
              "    <tr>\n",
              "      <th id=\"T_f4a79_level0_row1\" class=\"row_heading level0 row1\" >1</th>\n",
              "      <td id=\"T_f4a79_row1_col0\" class=\"data row1 col0\" >0.9420</td>\n",
              "      <td id=\"T_f4a79_row1_col1\" class=\"data row1 col1\" >0.8381</td>\n",
              "      <td id=\"T_f4a79_row1_col2\" class=\"data row1 col2\" >0.3846</td>\n",
              "      <td id=\"T_f4a79_row1_col3\" class=\"data row1 col3\" >1.0000</td>\n",
              "      <td id=\"T_f4a79_row1_col4\" class=\"data row1 col4\" >0.5556</td>\n",
              "      <td id=\"T_f4a79_row1_col5\" class=\"data row1 col5\" >0.5310</td>\n",
              "      <td id=\"T_f4a79_row1_col6\" class=\"data row1 col6\" >0.6012</td>\n",
              "    </tr>\n",
              "    <tr>\n",
              "      <th id=\"T_f4a79_level0_row2\" class=\"row_heading level0 row2\" >2</th>\n",
              "      <td id=\"T_f4a79_row2_col0\" class=\"data row2 col0\" >0.9457</td>\n",
              "      <td id=\"T_f4a79_row2_col1\" class=\"data row2 col1\" >0.9091</td>\n",
              "      <td id=\"T_f4a79_row2_col2\" class=\"data row2 col2\" >0.4231</td>\n",
              "      <td id=\"T_f4a79_row2_col3\" class=\"data row2 col3\" >1.0000</td>\n",
              "      <td id=\"T_f4a79_row2_col4\" class=\"data row2 col4\" >0.5946</td>\n",
              "      <td id=\"T_f4a79_row2_col5\" class=\"data row2 col5\" >0.5705</td>\n",
              "      <td id=\"T_f4a79_row2_col6\" class=\"data row2 col6\" >0.6318</td>\n",
              "    </tr>\n",
              "    <tr>\n",
              "      <th id=\"T_f4a79_level0_row3\" class=\"row_heading level0 row3\" >3</th>\n",
              "      <td id=\"T_f4a79_row3_col0\" class=\"data row3 col0\" >0.9457</td>\n",
              "      <td id=\"T_f4a79_row3_col1\" class=\"data row3 col1\" >0.8844</td>\n",
              "      <td id=\"T_f4a79_row3_col2\" class=\"data row3 col2\" >0.4231</td>\n",
              "      <td id=\"T_f4a79_row3_col3\" class=\"data row3 col3\" >1.0000</td>\n",
              "      <td id=\"T_f4a79_row3_col4\" class=\"data row3 col4\" >0.5946</td>\n",
              "      <td id=\"T_f4a79_row3_col5\" class=\"data row3 col5\" >0.5705</td>\n",
              "      <td id=\"T_f4a79_row3_col6\" class=\"data row3 col6\" >0.6318</td>\n",
              "    </tr>\n",
              "    <tr>\n",
              "      <th id=\"T_f4a79_level0_row4\" class=\"row_heading level0 row4\" >4</th>\n",
              "      <td id=\"T_f4a79_row4_col0\" class=\"data row4 col0\" >0.9565</td>\n",
              "      <td id=\"T_f4a79_row4_col1\" class=\"data row4 col1\" >0.9149</td>\n",
              "      <td id=\"T_f4a79_row4_col2\" class=\"data row4 col2\" >0.5385</td>\n",
              "      <td id=\"T_f4a79_row4_col3\" class=\"data row4 col3\" >1.0000</td>\n",
              "      <td id=\"T_f4a79_row4_col4\" class=\"data row4 col4\" >0.7000</td>\n",
              "      <td id=\"T_f4a79_row4_col5\" class=\"data row4 col5\" >0.6788</td>\n",
              "      <td id=\"T_f4a79_row4_col6\" class=\"data row4 col6\" >0.7168</td>\n",
              "    </tr>\n",
              "    <tr>\n",
              "      <th id=\"T_f4a79_level0_row5\" class=\"row_heading level0 row5\" >5</th>\n",
              "      <td id=\"T_f4a79_row5_col0\" class=\"data row5 col0\" >0.9601</td>\n",
              "      <td id=\"T_f4a79_row5_col1\" class=\"data row5 col1\" >0.8623</td>\n",
              "      <td id=\"T_f4a79_row5_col2\" class=\"data row5 col2\" >0.5769</td>\n",
              "      <td id=\"T_f4a79_row5_col3\" class=\"data row5 col3\" >1.0000</td>\n",
              "      <td id=\"T_f4a79_row5_col4\" class=\"data row5 col4\" >0.7317</td>\n",
              "      <td id=\"T_f4a79_row5_col5\" class=\"data row5 col5\" >0.7118</td>\n",
              "      <td id=\"T_f4a79_row5_col6\" class=\"data row5 col6\" >0.7434</td>\n",
              "    </tr>\n",
              "    <tr>\n",
              "      <th id=\"T_f4a79_level0_row6\" class=\"row_heading level0 row6\" >6</th>\n",
              "      <td id=\"T_f4a79_row6_col0\" class=\"data row6 col0\" >0.9312</td>\n",
              "      <td id=\"T_f4a79_row6_col1\" class=\"data row6 col1\" >0.8157</td>\n",
              "      <td id=\"T_f4a79_row6_col2\" class=\"data row6 col2\" >0.3077</td>\n",
              "      <td id=\"T_f4a79_row6_col3\" class=\"data row6 col3\" >0.8889</td>\n",
              "      <td id=\"T_f4a79_row6_col4\" class=\"data row6 col4\" >0.4571</td>\n",
              "      <td id=\"T_f4a79_row6_col5\" class=\"data row6 col5\" >0.4295</td>\n",
              "      <td id=\"T_f4a79_row6_col6\" class=\"data row6 col6\" >0.4995</td>\n",
              "    </tr>\n",
              "    <tr>\n",
              "      <th id=\"T_f4a79_level0_row7\" class=\"row_heading level0 row7\" >7</th>\n",
              "      <td id=\"T_f4a79_row7_col0\" class=\"data row7 col0\" >0.9418</td>\n",
              "      <td id=\"T_f4a79_row7_col1\" class=\"data row7 col1\" >0.7170</td>\n",
              "      <td id=\"T_f4a79_row7_col2\" class=\"data row7 col2\" >0.3600</td>\n",
              "      <td id=\"T_f4a79_row7_col3\" class=\"data row7 col3\" >1.0000</td>\n",
              "      <td id=\"T_f4a79_row7_col4\" class=\"data row7 col4\" >0.5294</td>\n",
              "      <td id=\"T_f4a79_row7_col5\" class=\"data row7 col5\" >0.5056</td>\n",
              "      <td id=\"T_f4a79_row7_col6\" class=\"data row7 col6\" >0.5817</td>\n",
              "    </tr>\n",
              "    <tr>\n",
              "      <th id=\"T_f4a79_level0_row8\" class=\"row_heading level0 row8\" >8</th>\n",
              "      <td id=\"T_f4a79_row8_col0\" class=\"data row8 col0\" >0.9491</td>\n",
              "      <td id=\"T_f4a79_row8_col1\" class=\"data row8 col1\" >0.8674</td>\n",
              "      <td id=\"T_f4a79_row8_col2\" class=\"data row8 col2\" >0.4400</td>\n",
              "      <td id=\"T_f4a79_row8_col3\" class=\"data row8 col3\" >1.0000</td>\n",
              "      <td id=\"T_f4a79_row8_col4\" class=\"data row8 col4\" >0.6111</td>\n",
              "      <td id=\"T_f4a79_row8_col5\" class=\"data row8 col5\" >0.5882</td>\n",
              "      <td id=\"T_f4a79_row8_col6\" class=\"data row8 col6\" >0.6455</td>\n",
              "    </tr>\n",
              "    <tr>\n",
              "      <th id=\"T_f4a79_level0_row9\" class=\"row_heading level0 row9\" >9</th>\n",
              "      <td id=\"T_f4a79_row9_col0\" class=\"data row9 col0\" >0.9564</td>\n",
              "      <td id=\"T_f4a79_row9_col1\" class=\"data row9 col1\" >0.8966</td>\n",
              "      <td id=\"T_f4a79_row9_col2\" class=\"data row9 col2\" >0.5200</td>\n",
              "      <td id=\"T_f4a79_row9_col3\" class=\"data row9 col3\" >1.0000</td>\n",
              "      <td id=\"T_f4a79_row9_col4\" class=\"data row9 col4\" >0.6842</td>\n",
              "      <td id=\"T_f4a79_row9_col5\" class=\"data row9 col5\" >0.6633</td>\n",
              "      <td id=\"T_f4a79_row9_col6\" class=\"data row9 col6\" >0.7044</td>\n",
              "    </tr>\n",
              "    <tr>\n",
              "      <th id=\"T_f4a79_level0_row10\" class=\"row_heading level0 row10\" >Mean</th>\n",
              "      <td id=\"T_f4a79_row10_col0\" class=\"data row10 col0\" >0.9485</td>\n",
              "      <td id=\"T_f4a79_row10_col1\" class=\"data row10 col1\" >0.8602</td>\n",
              "      <td id=\"T_f4a79_row10_col2\" class=\"data row10 col2\" >0.4494</td>\n",
              "      <td id=\"T_f4a79_row10_col3\" class=\"data row10 col3\" >0.9889</td>\n",
              "      <td id=\"T_f4a79_row10_col4\" class=\"data row10 col4\" >0.6143</td>\n",
              "      <td id=\"T_f4a79_row10_col5\" class=\"data row10 col5\" >0.5913</td>\n",
              "      <td id=\"T_f4a79_row10_col6\" class=\"data row10 col6\" >0.6460</td>\n",
              "    </tr>\n",
              "    <tr>\n",
              "      <th id=\"T_f4a79_level0_row11\" class=\"row_heading level0 row11\" >Std</th>\n",
              "      <td id=\"T_f4a79_row11_col0\" class=\"data row11 col0\" >0.0085</td>\n",
              "      <td id=\"T_f4a79_row11_col1\" class=\"data row11 col1\" >0.0562</td>\n",
              "      <td id=\"T_f4a79_row11_col2\" class=\"data row11 col2\" >0.0824</td>\n",
              "      <td id=\"T_f4a79_row11_col3\" class=\"data row11 col3\" >0.0333</td>\n",
              "      <td id=\"T_f4a79_row11_col4\" class=\"data row11 col4\" >0.0819</td>\n",
              "      <td id=\"T_f4a79_row11_col5\" class=\"data row11 col5\" >0.0840</td>\n",
              "      <td id=\"T_f4a79_row11_col6\" class=\"data row11 col6\" >0.0702</td>\n",
              "    </tr>\n",
              "  </tbody>\n",
              "</table>\n"
            ]
          },
          "metadata": {}
        },
        {
          "output_type": "display_data",
          "data": {
            "text/plain": [
              "Processing:   0%|          | 0/4 [00:00<?, ?it/s]"
            ],
            "application/vnd.jupyter.widget-view+json": {
              "version_major": 2,
              "version_minor": 0,
              "model_id": "d312fa62433d44ff91d0f6130951dcd7"
            }
          },
          "metadata": {
            "application/vnd.jupyter.widget-view+json": {
              "colab": {
                "custom_widget_manager": {
                  "url": "https://ssl.gstatic.com/colaboratory-static/widgets/colab-cdn-widget-manager/2b70e893a8ba7c0f/manager.min.js"
                }
              }
            }
          }
        },
        {
          "output_type": "display_data",
          "data": {
            "text/plain": [
              "<IPython.core.display.HTML object>"
            ],
            "text/html": []
          },
          "metadata": {}
        },
        {
          "output_type": "display_data",
          "data": {
            "text/plain": [
              "interactive(children=(ToggleButtons(description='Plot Type:', icons=('',), options=(('Pipeline Plot', 'pipelin…"
            ],
            "application/vnd.jupyter.widget-view+json": {
              "version_major": 2,
              "version_minor": 0,
              "model_id": "66d7f74849044700853f48feb2a7eb73"
            }
          },
          "metadata": {
            "application/vnd.jupyter.widget-view+json": {
              "colab": {
                "custom_widget_manager": {
                  "url": "https://ssl.gstatic.com/colaboratory-static/widgets/colab-cdn-widget-manager/2b70e893a8ba7c0f/manager.min.js"
                }
              }
            }
          }
        }
      ]
    },
    {
      "cell_type": "markdown",
      "metadata": {
        "id": "K8DSS3u1xMpB"
      },
      "source": [
        "### 2.2 Reducción de dimensionalidad [14 puntos]"
      ]
    },
    {
      "cell_type": "markdown",
      "metadata": {
        "id": "RLu0543p876P"
      },
      "source": [
        "<center>\n",
        "<img src='https://i.kym-cdn.com/photos/images/original/002/258/560/668.gif' width=400 />"
      ]
    },
    {
      "cell_type": "markdown",
      "metadata": {
        "id": "QT-bxJ0txwNF"
      },
      "source": [
        "A pesar de los resultados obtenidos previamente, el manager de Jere ha solicitado el entrenamiento de un modelo de XGBoost utilizando los datos disponibles. Además, se debe proceder a realizar una reducción de dimensionalidad basada en la importancia de las características.\n",
        "\n",
        "Para llevar a cabo esta tarea:\n",
        "\n",
        "1. Inicie entrenando un modelo XGBoost con todas las características disponibles. [2 puntos]\n",
        "\n",
        "2. Una vez el modelo esté entrenado, evalúe y clasifique las características según su importancia de forma descendente. [2 puntos]\n",
        "\n",
        "3. Utilice esta clasificación para ejecutar una búsqueda recursiva de eliminación de características, eliminando progresivamente las menos importantes y evaluando el impacto en el desempeño del modelo hasta identificar las N características más críticas. [2 puntos]\n",
        "\n",
        "4. Con este conjunto reducido de características, entrene un nuevo modelo y evalúe su rendimiento. [2 puntos]\n",
        "\n",
        "5. Posteriormente, responda a las siguientes preguntas para una comprensión más profunda de los cambios y beneficios:\n",
        "\n",
        "  - ¿El rendimiento del modelo con las características seleccionadas es similar al del modelo original? ¿Cómo se comparan en términos de precisión y robustez? [2 puntos]\n",
        "  - ¿Cuáles son los beneficios potenciales de eliminar variables del modelo? Considere factores como la simplificación del modelo, reducción del tiempo de entrenamiento, y mejora en la capacidad de generalización. [2 puntos]\n",
        "  - Comente si el modelo con menor dimensionalidad es más sencillo de explicar. Explique brevemente por qué la eliminación de ciertas características puede facilitar la comprensión y la explicación del comportamiento del modelo. [2 puntos]\n",
        "\n",
        "Notar que con esta metodologia buscamos encontrar un punto entermedio entre número de festures y desempeño. por esto, si observa que al aumentar festires el aumento es despreciable, puede no considerar agregar más features a su modelo."
      ]
    },
    {
      "cell_type": "markdown",
      "metadata": {
        "id": "NHfmK63TuDOS"
      },
      "source": [
        "**Respuesta**"
      ]
    },
    {
      "cell_type": "code",
      "execution_count": null,
      "metadata": {
        "id": "HQwUd_nsuDOe"
      },
      "outputs": [],
      "source": []
    },
    {
      "cell_type": "markdown",
      "metadata": {
        "id": "PTG5cH9r3M9g"
      },
      "source": [
        "### 2.3 Calibración Probabilistica [6 puntos]"
      ]
    },
    {
      "cell_type": "markdown",
      "metadata": {
        "id": "CDL0VqjR7yvb"
      },
      "source": [
        "<center>\n",
        "<img src='https://media2.giphy.com/media/l2Je4Ku0Cx292KWv6/200w.gif?cid=6c09b952y0sihtq9tb6sz8j2023x3zxxp3qx1ocgonkpkblj&ep=v1_gifs_search&rid=200w.gif&ct=g' width=400 />"
      ]
    },
    {
      "cell_type": "markdown",
      "metadata": {
        "id": "qmOKxhAw3sic"
      },
      "source": [
        "Para lograr modelos más modulares, se recomienda realizar una calibración del modelo entrenado anteriormente, con el objetivo de obtener salidas que reflejen mayor modularidad.\n",
        "\n",
        "1. Se solicita que utilice un método de calibración que asegure que las probabilidades generadas incrementen de manera monótona. Una métrica ampliamente utilizada para evaluar la precisión de la calibración de un modelo es el Brier Score. Calcule el Brier Score para el modelo tanto antes como después de la calibración. Esto le permitirá realizar una comparación cuantitativa y determinar si la calibración ha mejorado el rendimiento del modelo. Para más información sobre el Brier Score, puede consultar el siguiente enlace: [Scikit-Learn - Brier Score Loss](https://scikit-learn.org/stable/modules/generated/sklearn.metrics.brier_score_loss.html). [3 puntos]\n",
        "\n",
        "2. Tras la calibración, examine y comente los resultados obtenidos. A su análisis añada una comparación visual de las ideales versus las salidas del modelo original (sin calibrar) y del modelo calibrado. [3 puntos]"
      ]
    },
    {
      "cell_type": "markdown",
      "metadata": {
        "id": "QIiYz_qLuD19"
      },
      "source": [
        "**Respuesta**"
      ]
    },
    {
      "cell_type": "code",
      "execution_count": null,
      "metadata": {
        "id": "l0bfSuiFuD2I"
      },
      "outputs": [],
      "source": []
    }
  ],
  "metadata": {
    "colab": {
      "provenance": [],
      "toc_visible": true
    },
    "kernelspec": {
      "display_name": "Python 3",
      "name": "python3"
    },
    "language_info": {
      "codemirror_mode": {
        "name": "ipython",
        "version": 3
      },
      "file_extension": ".py",
      "mimetype": "text/x-python",
      "name": "python",
      "nbconvert_exporter": "python",
      "pygments_lexer": "ipython3",
      "version": "3.10.6"
    },
    "widgets": {
      "application/vnd.jupyter.widget-state+json": {
        "f0a9c992077f4eec9b3f687fb09a8b02": {
          "model_module": "@jupyter-widgets/controls",
          "model_name": "HBoxModel",
          "model_module_version": "1.5.0",
          "state": {
            "_dom_classes": [],
            "_model_module": "@jupyter-widgets/controls",
            "_model_module_version": "1.5.0",
            "_model_name": "HBoxModel",
            "_view_count": null,
            "_view_module": "@jupyter-widgets/controls",
            "_view_module_version": "1.5.0",
            "_view_name": "HBoxView",
            "box_style": "",
            "children": [
              "IPY_MODEL_5c55134d2e7a4cf09317e4f95be9dc98",
              "IPY_MODEL_0e6070d3aec64fc08d846dbb0ef1de15",
              "IPY_MODEL_adec4e0313874958af7ea10a6a9cc33b"
            ],
            "layout": "IPY_MODEL_35d601e7f2d04fc08a411cea340ea0ac"
          }
        },
        "5c55134d2e7a4cf09317e4f95be9dc98": {
          "model_module": "@jupyter-widgets/controls",
          "model_name": "HTMLModel",
          "model_module_version": "1.5.0",
          "state": {
            "_dom_classes": [],
            "_model_module": "@jupyter-widgets/controls",
            "_model_module_version": "1.5.0",
            "_model_name": "HTMLModel",
            "_view_count": null,
            "_view_module": "@jupyter-widgets/controls",
            "_view_module_version": "1.5.0",
            "_view_name": "HTMLView",
            "description": "",
            "description_tooltip": null,
            "layout": "IPY_MODEL_9e97fb0b9c43417faab9b02da1f85e79",
            "placeholder": "​",
            "style": "IPY_MODEL_86660774e52841eebc2524df7b489069",
            "value": "Processing: 100%"
          }
        },
        "0e6070d3aec64fc08d846dbb0ef1de15": {
          "model_module": "@jupyter-widgets/controls",
          "model_name": "FloatProgressModel",
          "model_module_version": "1.5.0",
          "state": {
            "_dom_classes": [],
            "_model_module": "@jupyter-widgets/controls",
            "_model_module_version": "1.5.0",
            "_model_name": "FloatProgressModel",
            "_view_count": null,
            "_view_module": "@jupyter-widgets/controls",
            "_view_module_version": "1.5.0",
            "_view_name": "ProgressView",
            "bar_style": "",
            "description": "",
            "description_tooltip": null,
            "layout": "IPY_MODEL_fc980e305e384636bdc3161501abf6cb",
            "max": 29,
            "min": 0,
            "orientation": "horizontal",
            "style": "IPY_MODEL_a5da925074c84bd99c54fcebf86a8cfc",
            "value": 29
          }
        },
        "adec4e0313874958af7ea10a6a9cc33b": {
          "model_module": "@jupyter-widgets/controls",
          "model_name": "HTMLModel",
          "model_module_version": "1.5.0",
          "state": {
            "_dom_classes": [],
            "_model_module": "@jupyter-widgets/controls",
            "_model_module_version": "1.5.0",
            "_model_name": "HTMLModel",
            "_view_count": null,
            "_view_module": "@jupyter-widgets/controls",
            "_view_module_version": "1.5.0",
            "_view_name": "HTMLView",
            "description": "",
            "description_tooltip": null,
            "layout": "IPY_MODEL_bd23bebfd90b4ffda13448716248ee46",
            "placeholder": "​",
            "style": "IPY_MODEL_d65175728a6944d3ab8990cf733d8347",
            "value": " 29/29 [01:59&lt;00:00,  6.77s/it]"
          }
        },
        "35d601e7f2d04fc08a411cea340ea0ac": {
          "model_module": "@jupyter-widgets/base",
          "model_name": "LayoutModel",
          "model_module_version": "1.2.0",
          "state": {
            "_model_module": "@jupyter-widgets/base",
            "_model_module_version": "1.2.0",
            "_model_name": "LayoutModel",
            "_view_count": null,
            "_view_module": "@jupyter-widgets/base",
            "_view_module_version": "1.2.0",
            "_view_name": "LayoutView",
            "align_content": null,
            "align_items": null,
            "align_self": null,
            "border": null,
            "bottom": null,
            "display": null,
            "flex": null,
            "flex_flow": null,
            "grid_area": null,
            "grid_auto_columns": null,
            "grid_auto_flow": null,
            "grid_auto_rows": null,
            "grid_column": null,
            "grid_gap": null,
            "grid_row": null,
            "grid_template_areas": null,
            "grid_template_columns": null,
            "grid_template_rows": null,
            "height": null,
            "justify_content": null,
            "justify_items": null,
            "left": null,
            "margin": null,
            "max_height": null,
            "max_width": null,
            "min_height": null,
            "min_width": null,
            "object_fit": null,
            "object_position": null,
            "order": null,
            "overflow": null,
            "overflow_x": null,
            "overflow_y": null,
            "padding": null,
            "right": null,
            "top": null,
            "visibility": "hidden",
            "width": null
          }
        },
        "9e97fb0b9c43417faab9b02da1f85e79": {
          "model_module": "@jupyter-widgets/base",
          "model_name": "LayoutModel",
          "model_module_version": "1.2.0",
          "state": {
            "_model_module": "@jupyter-widgets/base",
            "_model_module_version": "1.2.0",
            "_model_name": "LayoutModel",
            "_view_count": null,
            "_view_module": "@jupyter-widgets/base",
            "_view_module_version": "1.2.0",
            "_view_name": "LayoutView",
            "align_content": null,
            "align_items": null,
            "align_self": null,
            "border": null,
            "bottom": null,
            "display": null,
            "flex": null,
            "flex_flow": null,
            "grid_area": null,
            "grid_auto_columns": null,
            "grid_auto_flow": null,
            "grid_auto_rows": null,
            "grid_column": null,
            "grid_gap": null,
            "grid_row": null,
            "grid_template_areas": null,
            "grid_template_columns": null,
            "grid_template_rows": null,
            "height": null,
            "justify_content": null,
            "justify_items": null,
            "left": null,
            "margin": null,
            "max_height": null,
            "max_width": null,
            "min_height": null,
            "min_width": null,
            "object_fit": null,
            "object_position": null,
            "order": null,
            "overflow": null,
            "overflow_x": null,
            "overflow_y": null,
            "padding": null,
            "right": null,
            "top": null,
            "visibility": null,
            "width": null
          }
        },
        "86660774e52841eebc2524df7b489069": {
          "model_module": "@jupyter-widgets/controls",
          "model_name": "DescriptionStyleModel",
          "model_module_version": "1.5.0",
          "state": {
            "_model_module": "@jupyter-widgets/controls",
            "_model_module_version": "1.5.0",
            "_model_name": "DescriptionStyleModel",
            "_view_count": null,
            "_view_module": "@jupyter-widgets/base",
            "_view_module_version": "1.2.0",
            "_view_name": "StyleView",
            "description_width": ""
          }
        },
        "fc980e305e384636bdc3161501abf6cb": {
          "model_module": "@jupyter-widgets/base",
          "model_name": "LayoutModel",
          "model_module_version": "1.2.0",
          "state": {
            "_model_module": "@jupyter-widgets/base",
            "_model_module_version": "1.2.0",
            "_model_name": "LayoutModel",
            "_view_count": null,
            "_view_module": "@jupyter-widgets/base",
            "_view_module_version": "1.2.0",
            "_view_name": "LayoutView",
            "align_content": null,
            "align_items": null,
            "align_self": null,
            "border": null,
            "bottom": null,
            "display": null,
            "flex": null,
            "flex_flow": null,
            "grid_area": null,
            "grid_auto_columns": null,
            "grid_auto_flow": null,
            "grid_auto_rows": null,
            "grid_column": null,
            "grid_gap": null,
            "grid_row": null,
            "grid_template_areas": null,
            "grid_template_columns": null,
            "grid_template_rows": null,
            "height": null,
            "justify_content": null,
            "justify_items": null,
            "left": null,
            "margin": null,
            "max_height": null,
            "max_width": null,
            "min_height": null,
            "min_width": null,
            "object_fit": null,
            "object_position": null,
            "order": null,
            "overflow": null,
            "overflow_x": null,
            "overflow_y": null,
            "padding": null,
            "right": null,
            "top": null,
            "visibility": null,
            "width": null
          }
        },
        "a5da925074c84bd99c54fcebf86a8cfc": {
          "model_module": "@jupyter-widgets/controls",
          "model_name": "ProgressStyleModel",
          "model_module_version": "1.5.0",
          "state": {
            "_model_module": "@jupyter-widgets/controls",
            "_model_module_version": "1.5.0",
            "_model_name": "ProgressStyleModel",
            "_view_count": null,
            "_view_module": "@jupyter-widgets/base",
            "_view_module_version": "1.2.0",
            "_view_name": "StyleView",
            "bar_color": null,
            "description_width": ""
          }
        },
        "bd23bebfd90b4ffda13448716248ee46": {
          "model_module": "@jupyter-widgets/base",
          "model_name": "LayoutModel",
          "model_module_version": "1.2.0",
          "state": {
            "_model_module": "@jupyter-widgets/base",
            "_model_module_version": "1.2.0",
            "_model_name": "LayoutModel",
            "_view_count": null,
            "_view_module": "@jupyter-widgets/base",
            "_view_module_version": "1.2.0",
            "_view_name": "LayoutView",
            "align_content": null,
            "align_items": null,
            "align_self": null,
            "border": null,
            "bottom": null,
            "display": null,
            "flex": null,
            "flex_flow": null,
            "grid_area": null,
            "grid_auto_columns": null,
            "grid_auto_flow": null,
            "grid_auto_rows": null,
            "grid_column": null,
            "grid_gap": null,
            "grid_row": null,
            "grid_template_areas": null,
            "grid_template_columns": null,
            "grid_template_rows": null,
            "height": null,
            "justify_content": null,
            "justify_items": null,
            "left": null,
            "margin": null,
            "max_height": null,
            "max_width": null,
            "min_height": null,
            "min_width": null,
            "object_fit": null,
            "object_position": null,
            "order": null,
            "overflow": null,
            "overflow_x": null,
            "overflow_y": null,
            "padding": null,
            "right": null,
            "top": null,
            "visibility": null,
            "width": null
          }
        },
        "d65175728a6944d3ab8990cf733d8347": {
          "model_module": "@jupyter-widgets/controls",
          "model_name": "DescriptionStyleModel",
          "model_module_version": "1.5.0",
          "state": {
            "_model_module": "@jupyter-widgets/controls",
            "_model_module_version": "1.5.0",
            "_model_name": "DescriptionStyleModel",
            "_view_count": null,
            "_view_module": "@jupyter-widgets/base",
            "_view_module_version": "1.2.0",
            "_view_name": "StyleView",
            "description_width": ""
          }
        },
        "d312fa62433d44ff91d0f6130951dcd7": {
          "model_module": "@jupyter-widgets/controls",
          "model_name": "HBoxModel",
          "model_module_version": "1.5.0",
          "state": {
            "_dom_classes": [],
            "_model_module": "@jupyter-widgets/controls",
            "_model_module_version": "1.5.0",
            "_model_name": "HBoxModel",
            "_view_count": null,
            "_view_module": "@jupyter-widgets/controls",
            "_view_module_version": "1.5.0",
            "_view_name": "HBoxView",
            "box_style": "",
            "children": [
              "IPY_MODEL_26fc633f3b8143c390ff585ccae669f5",
              "IPY_MODEL_4fa9f9a053564933ba574fa99a09d626",
              "IPY_MODEL_0e0972a33feb4213b63822ffa6986de5"
            ],
            "layout": "IPY_MODEL_641aa9bb5e77405a96ba5d0864d16a60"
          }
        },
        "26fc633f3b8143c390ff585ccae669f5": {
          "model_module": "@jupyter-widgets/controls",
          "model_name": "HTMLModel",
          "model_module_version": "1.5.0",
          "state": {
            "_dom_classes": [],
            "_model_module": "@jupyter-widgets/controls",
            "_model_module_version": "1.5.0",
            "_model_name": "HTMLModel",
            "_view_count": null,
            "_view_module": "@jupyter-widgets/controls",
            "_view_module_version": "1.5.0",
            "_view_name": "HTMLView",
            "description": "",
            "description_tooltip": null,
            "layout": "IPY_MODEL_86c3cbd3c03a497fb40effac5394c7e1",
            "placeholder": "​",
            "style": "IPY_MODEL_1fb630a9ff0f43a48a5afe5a0ffadffb",
            "value": "Processing: 100%"
          }
        },
        "4fa9f9a053564933ba574fa99a09d626": {
          "model_module": "@jupyter-widgets/controls",
          "model_name": "FloatProgressModel",
          "model_module_version": "1.5.0",
          "state": {
            "_dom_classes": [],
            "_model_module": "@jupyter-widgets/controls",
            "_model_module_version": "1.5.0",
            "_model_name": "FloatProgressModel",
            "_view_count": null,
            "_view_module": "@jupyter-widgets/controls",
            "_view_module_version": "1.5.0",
            "_view_name": "ProgressView",
            "bar_style": "",
            "description": "",
            "description_tooltip": null,
            "layout": "IPY_MODEL_1e7ce74339164512a412dc5262e16245",
            "max": 4,
            "min": 0,
            "orientation": "horizontal",
            "style": "IPY_MODEL_013c1438aa964d6cb4490539e7090a13",
            "value": 4
          }
        },
        "0e0972a33feb4213b63822ffa6986de5": {
          "model_module": "@jupyter-widgets/controls",
          "model_name": "HTMLModel",
          "model_module_version": "1.5.0",
          "state": {
            "_dom_classes": [],
            "_model_module": "@jupyter-widgets/controls",
            "_model_module_version": "1.5.0",
            "_model_name": "HTMLModel",
            "_view_count": null,
            "_view_module": "@jupyter-widgets/controls",
            "_view_module_version": "1.5.0",
            "_view_name": "HTMLView",
            "description": "",
            "description_tooltip": null,
            "layout": "IPY_MODEL_2a39e20ffb784e8eafe99f8df47f3ed0",
            "placeholder": "​",
            "style": "IPY_MODEL_1b407f6189ff4c73ab235922aa322c19",
            "value": " 4/4 [00:08&lt;00:00,  1.92s/it]"
          }
        },
        "641aa9bb5e77405a96ba5d0864d16a60": {
          "model_module": "@jupyter-widgets/base",
          "model_name": "LayoutModel",
          "model_module_version": "1.2.0",
          "state": {
            "_model_module": "@jupyter-widgets/base",
            "_model_module_version": "1.2.0",
            "_model_name": "LayoutModel",
            "_view_count": null,
            "_view_module": "@jupyter-widgets/base",
            "_view_module_version": "1.2.0",
            "_view_name": "LayoutView",
            "align_content": null,
            "align_items": null,
            "align_self": null,
            "border": null,
            "bottom": null,
            "display": null,
            "flex": null,
            "flex_flow": null,
            "grid_area": null,
            "grid_auto_columns": null,
            "grid_auto_flow": null,
            "grid_auto_rows": null,
            "grid_column": null,
            "grid_gap": null,
            "grid_row": null,
            "grid_template_areas": null,
            "grid_template_columns": null,
            "grid_template_rows": null,
            "height": null,
            "justify_content": null,
            "justify_items": null,
            "left": null,
            "margin": null,
            "max_height": null,
            "max_width": null,
            "min_height": null,
            "min_width": null,
            "object_fit": null,
            "object_position": null,
            "order": null,
            "overflow": null,
            "overflow_x": null,
            "overflow_y": null,
            "padding": null,
            "right": null,
            "top": null,
            "visibility": "hidden",
            "width": null
          }
        },
        "86c3cbd3c03a497fb40effac5394c7e1": {
          "model_module": "@jupyter-widgets/base",
          "model_name": "LayoutModel",
          "model_module_version": "1.2.0",
          "state": {
            "_model_module": "@jupyter-widgets/base",
            "_model_module_version": "1.2.0",
            "_model_name": "LayoutModel",
            "_view_count": null,
            "_view_module": "@jupyter-widgets/base",
            "_view_module_version": "1.2.0",
            "_view_name": "LayoutView",
            "align_content": null,
            "align_items": null,
            "align_self": null,
            "border": null,
            "bottom": null,
            "display": null,
            "flex": null,
            "flex_flow": null,
            "grid_area": null,
            "grid_auto_columns": null,
            "grid_auto_flow": null,
            "grid_auto_rows": null,
            "grid_column": null,
            "grid_gap": null,
            "grid_row": null,
            "grid_template_areas": null,
            "grid_template_columns": null,
            "grid_template_rows": null,
            "height": null,
            "justify_content": null,
            "justify_items": null,
            "left": null,
            "margin": null,
            "max_height": null,
            "max_width": null,
            "min_height": null,
            "min_width": null,
            "object_fit": null,
            "object_position": null,
            "order": null,
            "overflow": null,
            "overflow_x": null,
            "overflow_y": null,
            "padding": null,
            "right": null,
            "top": null,
            "visibility": null,
            "width": null
          }
        },
        "1fb630a9ff0f43a48a5afe5a0ffadffb": {
          "model_module": "@jupyter-widgets/controls",
          "model_name": "DescriptionStyleModel",
          "model_module_version": "1.5.0",
          "state": {
            "_model_module": "@jupyter-widgets/controls",
            "_model_module_version": "1.5.0",
            "_model_name": "DescriptionStyleModel",
            "_view_count": null,
            "_view_module": "@jupyter-widgets/base",
            "_view_module_version": "1.2.0",
            "_view_name": "StyleView",
            "description_width": ""
          }
        },
        "1e7ce74339164512a412dc5262e16245": {
          "model_module": "@jupyter-widgets/base",
          "model_name": "LayoutModel",
          "model_module_version": "1.2.0",
          "state": {
            "_model_module": "@jupyter-widgets/base",
            "_model_module_version": "1.2.0",
            "_model_name": "LayoutModel",
            "_view_count": null,
            "_view_module": "@jupyter-widgets/base",
            "_view_module_version": "1.2.0",
            "_view_name": "LayoutView",
            "align_content": null,
            "align_items": null,
            "align_self": null,
            "border": null,
            "bottom": null,
            "display": null,
            "flex": null,
            "flex_flow": null,
            "grid_area": null,
            "grid_auto_columns": null,
            "grid_auto_flow": null,
            "grid_auto_rows": null,
            "grid_column": null,
            "grid_gap": null,
            "grid_row": null,
            "grid_template_areas": null,
            "grid_template_columns": null,
            "grid_template_rows": null,
            "height": null,
            "justify_content": null,
            "justify_items": null,
            "left": null,
            "margin": null,
            "max_height": null,
            "max_width": null,
            "min_height": null,
            "min_width": null,
            "object_fit": null,
            "object_position": null,
            "order": null,
            "overflow": null,
            "overflow_x": null,
            "overflow_y": null,
            "padding": null,
            "right": null,
            "top": null,
            "visibility": null,
            "width": null
          }
        },
        "013c1438aa964d6cb4490539e7090a13": {
          "model_module": "@jupyter-widgets/controls",
          "model_name": "ProgressStyleModel",
          "model_module_version": "1.5.0",
          "state": {
            "_model_module": "@jupyter-widgets/controls",
            "_model_module_version": "1.5.0",
            "_model_name": "ProgressStyleModel",
            "_view_count": null,
            "_view_module": "@jupyter-widgets/base",
            "_view_module_version": "1.2.0",
            "_view_name": "StyleView",
            "bar_color": null,
            "description_width": ""
          }
        },
        "2a39e20ffb784e8eafe99f8df47f3ed0": {
          "model_module": "@jupyter-widgets/base",
          "model_name": "LayoutModel",
          "model_module_version": "1.2.0",
          "state": {
            "_model_module": "@jupyter-widgets/base",
            "_model_module_version": "1.2.0",
            "_model_name": "LayoutModel",
            "_view_count": null,
            "_view_module": "@jupyter-widgets/base",
            "_view_module_version": "1.2.0",
            "_view_name": "LayoutView",
            "align_content": null,
            "align_items": null,
            "align_self": null,
            "border": null,
            "bottom": null,
            "display": null,
            "flex": null,
            "flex_flow": null,
            "grid_area": null,
            "grid_auto_columns": null,
            "grid_auto_flow": null,
            "grid_auto_rows": null,
            "grid_column": null,
            "grid_gap": null,
            "grid_row": null,
            "grid_template_areas": null,
            "grid_template_columns": null,
            "grid_template_rows": null,
            "height": null,
            "justify_content": null,
            "justify_items": null,
            "left": null,
            "margin": null,
            "max_height": null,
            "max_width": null,
            "min_height": null,
            "min_width": null,
            "object_fit": null,
            "object_position": null,
            "order": null,
            "overflow": null,
            "overflow_x": null,
            "overflow_y": null,
            "padding": null,
            "right": null,
            "top": null,
            "visibility": null,
            "width": null
          }
        },
        "1b407f6189ff4c73ab235922aa322c19": {
          "model_module": "@jupyter-widgets/controls",
          "model_name": "DescriptionStyleModel",
          "model_module_version": "1.5.0",
          "state": {
            "_model_module": "@jupyter-widgets/controls",
            "_model_module_version": "1.5.0",
            "_model_name": "DescriptionStyleModel",
            "_view_count": null,
            "_view_module": "@jupyter-widgets/base",
            "_view_module_version": "1.2.0",
            "_view_name": "StyleView",
            "description_width": ""
          }
        },
        "62ee0068c2cc46c1b7096dedd3c11cdb": {
          "model_module": "@jupyter-widgets/base",
          "model_name": "LayoutModel",
          "model_module_version": "1.2.0",
          "state": {
            "_model_module": "@jupyter-widgets/base",
            "_model_module_version": "1.2.0",
            "_model_name": "LayoutModel",
            "_view_count": null,
            "_view_module": "@jupyter-widgets/base",
            "_view_module_version": "1.2.0",
            "_view_name": "LayoutView",
            "align_content": null,
            "align_items": null,
            "align_self": null,
            "border": null,
            "bottom": null,
            "display": null,
            "flex": null,
            "flex_flow": null,
            "grid_area": null,
            "grid_auto_columns": null,
            "grid_auto_flow": null,
            "grid_auto_rows": null,
            "grid_column": null,
            "grid_gap": null,
            "grid_row": null,
            "grid_template_areas": null,
            "grid_template_columns": null,
            "grid_template_rows": null,
            "height": null,
            "justify_content": null,
            "justify_items": null,
            "left": null,
            "margin": null,
            "max_height": null,
            "max_width": null,
            "min_height": null,
            "min_width": null,
            "object_fit": null,
            "object_position": null,
            "order": null,
            "overflow": null,
            "overflow_x": null,
            "overflow_y": null,
            "padding": null,
            "right": null,
            "top": null,
            "visibility": null,
            "width": null
          }
        },
        "6e702c1cfb734523b8ef3178853bff62": {
          "model_module": "@jupyter-widgets/controls",
          "model_name": "ToggleButtonsStyleModel",
          "model_module_version": "1.5.0",
          "state": {
            "_model_module": "@jupyter-widgets/controls",
            "_model_module_version": "1.5.0",
            "_model_name": "ToggleButtonsStyleModel",
            "_view_count": null,
            "_view_module": "@jupyter-widgets/base",
            "_view_module_version": "1.2.0",
            "_view_name": "StyleView",
            "button_width": "",
            "description_width": "",
            "font_weight": ""
          }
        },
        "b2693690e0024c02bff52a5a6d4daaee": {
          "model_module": "@jupyter-widgets/base",
          "model_name": "LayoutModel",
          "model_module_version": "1.2.0",
          "state": {
            "_model_module": "@jupyter-widgets/base",
            "_model_module_version": "1.2.0",
            "_model_name": "LayoutModel",
            "_view_count": null,
            "_view_module": "@jupyter-widgets/base",
            "_view_module_version": "1.2.0",
            "_view_name": "LayoutView",
            "align_content": null,
            "align_items": null,
            "align_self": null,
            "border": null,
            "bottom": null,
            "display": null,
            "flex": null,
            "flex_flow": null,
            "grid_area": null,
            "grid_auto_columns": null,
            "grid_auto_flow": null,
            "grid_auto_rows": null,
            "grid_column": null,
            "grid_gap": null,
            "grid_row": null,
            "grid_template_areas": null,
            "grid_template_columns": null,
            "grid_template_rows": null,
            "height": null,
            "justify_content": null,
            "justify_items": null,
            "left": null,
            "margin": null,
            "max_height": null,
            "max_width": null,
            "min_height": null,
            "min_width": null,
            "object_fit": null,
            "object_position": null,
            "order": null,
            "overflow": null,
            "overflow_x": null,
            "overflow_y": null,
            "padding": null,
            "right": null,
            "top": null,
            "visibility": null,
            "width": null
          }
        },
        "6b85eb7432c340deaf573e1f882384ca": {
          "model_module": "@jupyter-widgets/base",
          "model_name": "LayoutModel",
          "model_module_version": "1.2.0",
          "state": {
            "_model_module": "@jupyter-widgets/base",
            "_model_module_version": "1.2.0",
            "_model_name": "LayoutModel",
            "_view_count": null,
            "_view_module": "@jupyter-widgets/base",
            "_view_module_version": "1.2.0",
            "_view_name": "LayoutView",
            "align_content": null,
            "align_items": null,
            "align_self": null,
            "border": null,
            "bottom": null,
            "display": null,
            "flex": null,
            "flex_flow": null,
            "grid_area": null,
            "grid_auto_columns": null,
            "grid_auto_flow": null,
            "grid_auto_rows": null,
            "grid_column": null,
            "grid_gap": null,
            "grid_row": null,
            "grid_template_areas": null,
            "grid_template_columns": null,
            "grid_template_rows": null,
            "height": null,
            "justify_content": null,
            "justify_items": null,
            "left": null,
            "margin": null,
            "max_height": null,
            "max_width": null,
            "min_height": null,
            "min_width": null,
            "object_fit": null,
            "object_position": null,
            "order": null,
            "overflow": null,
            "overflow_x": null,
            "overflow_y": null,
            "padding": null,
            "right": null,
            "top": null,
            "visibility": null,
            "width": null
          }
        },
        "66d7f74849044700853f48feb2a7eb73": {
          "model_module": "@jupyter-widgets/controls",
          "model_name": "VBoxModel",
          "model_module_version": "1.5.0",
          "state": {
            "_dom_classes": [
              "widget-interact"
            ],
            "_model_module": "@jupyter-widgets/controls",
            "_model_module_version": "1.5.0",
            "_model_name": "VBoxModel",
            "_view_count": null,
            "_view_module": "@jupyter-widgets/controls",
            "_view_module_version": "1.5.0",
            "_view_name": "VBoxView",
            "box_style": "",
            "children": [
              "IPY_MODEL_71d9b1af970e450bbfa9226ab6edcb43",
              "IPY_MODEL_cb13a793a2874a2981bd727dd1236d7f"
            ],
            "layout": "IPY_MODEL_b2693690e0024c02bff52a5a6d4daaee"
          }
        },
        "71d9b1af970e450bbfa9226ab6edcb43": {
          "model_module": "@jupyter-widgets/controls",
          "model_name": "ToggleButtonsModel",
          "model_module_version": "1.5.0",
          "state": {
            "_dom_classes": [],
            "_model_module": "@jupyter-widgets/controls",
            "_model_module_version": "1.5.0",
            "_model_name": "ToggleButtonsModel",
            "_options_labels": [
              "Pipeline Plot",
              "Hyperparameters",
              "AUC",
              "Confusion Matrix",
              "Threshold",
              "Precision Recall",
              "Prediction Error",
              "Class Report",
              "Feature Selection",
              "Learning Curve",
              "Manifold Learning",
              "Calibration Curve",
              "Validation Curve",
              "Dimensions",
              "Feature Importance",
              "Feature Importance (All)",
              "Decision Boundary",
              "Lift Chart",
              "Gain Chart",
              "Decision Tree",
              "KS Statistic Plot"
            ],
            "_view_count": null,
            "_view_module": "@jupyter-widgets/controls",
            "_view_module_version": "1.5.0",
            "_view_name": "ToggleButtonsView",
            "button_style": "",
            "description": "Plot Type:",
            "description_tooltip": null,
            "disabled": false,
            "icons": [
              ""
            ],
            "index": 9,
            "layout": "IPY_MODEL_62ee0068c2cc46c1b7096dedd3c11cdb",
            "style": "IPY_MODEL_6e702c1cfb734523b8ef3178853bff62",
            "tooltips": []
          }
        },
        "cb13a793a2874a2981bd727dd1236d7f": {
          "model_module": "@jupyter-widgets/output",
          "model_name": "OutputModel",
          "model_module_version": "1.0.0",
          "state": {
            "_dom_classes": [],
            "_model_module": "@jupyter-widgets/output",
            "_model_module_version": "1.0.0",
            "_model_name": "OutputModel",
            "_view_count": null,
            "_view_module": "@jupyter-widgets/output",
            "_view_module_version": "1.0.0",
            "_view_name": "OutputView",
            "layout": "IPY_MODEL_6b85eb7432c340deaf573e1f882384ca",
            "msg_id": "",
            "outputs": [
              {
                "output_type": "display_data",
                "data": {
                  "text/plain": "<Figure size 800x550 with 1 Axes>",
                  "image/png": "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\n"
                },
                "metadata": {}
              }
            ]
          }
        }
      }
    }
  },
  "nbformat": 4,
  "nbformat_minor": 0
}