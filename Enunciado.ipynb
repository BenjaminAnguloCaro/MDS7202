{
  "cells": [
    {
      "cell_type": "markdown",
      "metadata": {
        "cell_id": "b5c0d2440b3e4995a794ded565213150",
        "deepnote_cell_type": "markdown",
        "id": "_Mql1uRoI5v5"
      },
      "source": [
        "<h1><center>Laboratorio 9: Optimización de modelos 💯</center></h1>\n",
        "\n",
        "<center><strong>MDS7202: Laboratorio de Programación Científica para Ciencia de Datos</strong></center>"
      ]
    },
    {
      "cell_type": "markdown",
      "metadata": {
        "cell_id": "bfb94b9656f145ad83e81b75d218cb70",
        "deepnote_cell_type": "markdown",
        "id": "FAPGIlEAI5v8"
      },
      "source": [
        "### Cuerpo Docente:\n",
        "\n",
        "- Profesores: Ignacio Meza, Sebastián Tinoco\n",
        "- Auxiliares: Catherine Benavides y Consuelo Rojas\n",
        "- Ayudante: Nicolás Ojeda, Eduardo Moya"
      ]
    },
    {
      "cell_type": "markdown",
      "metadata": {
        "cell_id": "b1b537fdd27c43909a49d3476ce64d91",
        "deepnote_cell_type": "markdown",
        "id": "8NozgbkZI5v9"
      },
      "source": [
        "### Equipo: SUPER IMPORTANTE - notebooks sin nombre no serán revisados\n",
        "\n",
        "- Nombre de alumno 1: Vanessa González\n",
        "- Nombre de alumno 2: Benjamín Angulo\n"
      ]
    },
    {
      "cell_type": "markdown",
      "metadata": {
        "cell_id": "b7dbdd30ab544cb8a8afe00648a586ae",
        "deepnote_cell_type": "markdown",
        "id": "vHU9DI6wI5v9"
      },
      "source": [
        "### Temas a tratar\n",
        "\n",
        "- Predicción de demanda usando `xgboost`\n",
        "- Búsqueda del modelo óptimo de clasificación usando `optuna`\n",
        "- Uso de pipelines.\n",
        "\n",
        "### Reglas:\n",
        "\n",
        "- **Grupos de 2 personas**\n",
        "- Cualquier duda fuera del horario de clases al foro. Mensajes al equipo docente serán respondidos por este medio.\n",
        "- Prohibidas las copias.\n",
        "- Pueden usar cualquer matrial del curso que estimen conveniente.\n",
        "- Código que no se pueda ejecutar, no será revisado.\n",
        "\n",
        "### Objetivos principales del laboratorio\n",
        "\n",
        "- Optimizar modelos usando `optuna`\n",
        "- Recurrir a técnicas de *prunning*\n",
        "- Forzar el aprendizaje de relaciones entre variables mediante *constraints*\n",
        "- Fijar un pipeline con un modelo base que luego se irá optimizando.\n",
        "\n",
        "El laboratorio deberá ser desarrollado sin el uso indiscriminado de iteradores nativos de python (aka \"for\", \"while\"). La idea es que aprendan a exprimir al máximo las funciones optimizadas que nos entrega `pandas`, las cuales vale mencionar, son bastante más eficientes que los iteradores nativos sobre DataFrames."
      ]
    },
    {
      "cell_type": "markdown",
      "metadata": {
        "cell_id": "f38c8342f5164aa992a97488dd5590bf",
        "deepnote_cell_type": "markdown",
        "id": "3Ceri_rbI5v9"
      },
      "source": [
        "### **Link de repositorio de GitHub:** `https://github.com/BenjaminAnguloCaro/MDS7202/tree/Lab9`"
      ]
    },
    {
      "cell_type": "markdown",
      "metadata": {
        "cell_id": "f1c73babb7f74af588a4fa6ae14829e0",
        "deepnote_cell_type": "markdown",
        "id": "U_-sNOuOI5v9"
      },
      "source": [
        "# Importamos librerias útiles"
      ]
    },
    {
      "cell_type": "code",
      "execution_count": 1,
      "metadata": {
        "cell_id": "51afe4d2df42442b9e5402ffece60ead",
        "deepnote_cell_type": "code",
        "deepnote_to_be_reexecuted": false,
        "execution_millis": 4957,
        "execution_start": 1699544354044,
        "id": "ekHbM85NI5v9",
        "source_hash": null
      },
      "outputs": [],
      "source": [
        "!pip install -qq xgboost optuna"
      ]
    },
    {
      "cell_type": "markdown",
      "metadata": {
        "id": "y6hJXpLCSspz"
      },
      "source": [
        "# El emprendimiento de Fiu"
      ]
    },
    {
      "cell_type": "markdown",
      "metadata": {
        "cell_id": "44d227389a734ac59189c5e0005bc68a",
        "deepnote_cell_type": "markdown",
        "id": "b0bDalAOI5v-"
      },
      "source": [
        "Tras liderar de manera exitosa la implementación de un proyecto de ciencia de datos para caracterizar los datos generados en Santiago 2023, el misterioso corpóreo **Fiu** se anima y decide levantar su propio negocio de consultoría en machine learning. Tras varias e intensas negociaciones, Fiu logra encontrar su *primera chamba*: predecir la demanda (cantidad de venta) de una famosa productora de bebidas de calibre mundial. Como usted tuvo un rendimiento sobresaliente en el proyecto de caracterización de datos, Fiu lo contrata como *data scientist* de su emprendimiento.\n",
        "\n",
        "Para este laboratorio deben trabajar con los datos `sales.csv` subidos a u-cursos, el cual contiene una muestra de ventas de la empresa para diferentes productos en un determinado tiempo.\n",
        "\n",
        "Para comenzar, cargue el dataset señalado y visualice a través de un `.head` los atributos que posee el dataset.\n",
        "\n",
        "<i><p align=\"center\">Fiu siendo felicitado por su excelente desempeño en el proyecto de caracterización de datos</p></i>\n",
        "<p align=\"center\">\n",
        "  <img src=\"https://media-front.elmostrador.cl/2023/09/A_UNO_1506411_2440e.jpg\">\n",
        "</p>"
      ]
    },
    {
      "cell_type": "code",
      "execution_count": 52,
      "metadata": {
        "cell_id": "2f9c82d204b14515ad27ae07e0b77702",
        "deepnote_cell_type": "code",
        "deepnote_to_be_reexecuted": false,
        "execution_millis": 92,
        "execution_start": 1699544359006,
        "id": "QvMPOqHuI5v-",
        "outputId": "659e7a12-d74d-45d6-d3c2-33a6cd338585",
        "source_hash": null
      },
      "outputs": [
        {
          "name": "stderr",
          "output_type": "stream",
          "text": [
            "C:\\Users\\benja\\AppData\\Local\\Temp\\ipykernel_33148\\3184305967.py:6: UserWarning: Could not infer format, so each element will be parsed individually, falling back to `dateutil`. To ensure parsing is consistent and as-expected, please specify a format.\n",
            "  df['date'] = pd.to_datetime(df['date'])\n"
          ]
        },
        {
          "data": {
            "text/html": [
              "<div>\n",
              "<style scoped>\n",
              "    .dataframe tbody tr th:only-of-type {\n",
              "        vertical-align: middle;\n",
              "    }\n",
              "\n",
              "    .dataframe tbody tr th {\n",
              "        vertical-align: top;\n",
              "    }\n",
              "\n",
              "    .dataframe thead th {\n",
              "        text-align: right;\n",
              "    }\n",
              "</style>\n",
              "<table border=\"1\" class=\"dataframe\">\n",
              "  <thead>\n",
              "    <tr style=\"text-align: right;\">\n",
              "      <th></th>\n",
              "      <th>id</th>\n",
              "      <th>date</th>\n",
              "      <th>city</th>\n",
              "      <th>lat</th>\n",
              "      <th>long</th>\n",
              "      <th>pop</th>\n",
              "      <th>shop</th>\n",
              "      <th>brand</th>\n",
              "      <th>container</th>\n",
              "      <th>capacity</th>\n",
              "      <th>price</th>\n",
              "      <th>quantity</th>\n",
              "    </tr>\n",
              "  </thead>\n",
              "  <tbody>\n",
              "    <tr>\n",
              "      <th>0</th>\n",
              "      <td>0</td>\n",
              "      <td>2012-01-31</td>\n",
              "      <td>Athens</td>\n",
              "      <td>37.97945</td>\n",
              "      <td>23.71622</td>\n",
              "      <td>672130</td>\n",
              "      <td>shop_1</td>\n",
              "      <td>kinder-cola</td>\n",
              "      <td>glass</td>\n",
              "      <td>500ml</td>\n",
              "      <td>0.96</td>\n",
              "      <td>13280</td>\n",
              "    </tr>\n",
              "    <tr>\n",
              "      <th>1</th>\n",
              "      <td>1</td>\n",
              "      <td>2012-01-31</td>\n",
              "      <td>Athens</td>\n",
              "      <td>37.97945</td>\n",
              "      <td>23.71622</td>\n",
              "      <td>672130</td>\n",
              "      <td>shop_1</td>\n",
              "      <td>kinder-cola</td>\n",
              "      <td>plastic</td>\n",
              "      <td>1.5lt</td>\n",
              "      <td>2.86</td>\n",
              "      <td>6727</td>\n",
              "    </tr>\n",
              "    <tr>\n",
              "      <th>2</th>\n",
              "      <td>2</td>\n",
              "      <td>2012-01-31</td>\n",
              "      <td>Athens</td>\n",
              "      <td>37.97945</td>\n",
              "      <td>23.71622</td>\n",
              "      <td>672130</td>\n",
              "      <td>shop_1</td>\n",
              "      <td>kinder-cola</td>\n",
              "      <td>can</td>\n",
              "      <td>330ml</td>\n",
              "      <td>0.87</td>\n",
              "      <td>9848</td>\n",
              "    </tr>\n",
              "    <tr>\n",
              "      <th>3</th>\n",
              "      <td>3</td>\n",
              "      <td>2012-01-31</td>\n",
              "      <td>Athens</td>\n",
              "      <td>37.97945</td>\n",
              "      <td>23.71622</td>\n",
              "      <td>672130</td>\n",
              "      <td>shop_1</td>\n",
              "      <td>adult-cola</td>\n",
              "      <td>glass</td>\n",
              "      <td>500ml</td>\n",
              "      <td>1.00</td>\n",
              "      <td>20050</td>\n",
              "    </tr>\n",
              "    <tr>\n",
              "      <th>4</th>\n",
              "      <td>4</td>\n",
              "      <td>2012-01-31</td>\n",
              "      <td>Athens</td>\n",
              "      <td>37.97945</td>\n",
              "      <td>23.71622</td>\n",
              "      <td>672130</td>\n",
              "      <td>shop_1</td>\n",
              "      <td>adult-cola</td>\n",
              "      <td>can</td>\n",
              "      <td>330ml</td>\n",
              "      <td>0.39</td>\n",
              "      <td>25696</td>\n",
              "    </tr>\n",
              "  </tbody>\n",
              "</table>\n",
              "</div>"
            ],
            "text/plain": [
              "   id       date    city       lat      long     pop    shop        brand  \\\n",
              "0   0 2012-01-31  Athens  37.97945  23.71622  672130  shop_1  kinder-cola   \n",
              "1   1 2012-01-31  Athens  37.97945  23.71622  672130  shop_1  kinder-cola   \n",
              "2   2 2012-01-31  Athens  37.97945  23.71622  672130  shop_1  kinder-cola   \n",
              "3   3 2012-01-31  Athens  37.97945  23.71622  672130  shop_1   adult-cola   \n",
              "4   4 2012-01-31  Athens  37.97945  23.71622  672130  shop_1   adult-cola   \n",
              "\n",
              "  container capacity  price  quantity  \n",
              "0     glass    500ml   0.96     13280  \n",
              "1   plastic    1.5lt   2.86      6727  \n",
              "2       can    330ml   0.87      9848  \n",
              "3     glass    500ml   1.00     20050  \n",
              "4       can    330ml   0.39     25696  "
            ]
          },
          "execution_count": 52,
          "metadata": {},
          "output_type": "execute_result"
        }
      ],
      "source": [
        "import pandas as pd\n",
        "import numpy as np\n",
        "from datetime import datetime\n",
        "\n",
        "df = pd.read_csv('sales.csv')\n",
        "df['date'] = pd.to_datetime(df['date'])\n",
        "\n",
        "df.head()"
      ]
    },
    {
      "cell_type": "markdown",
      "metadata": {
        "cell_id": "b50db6f2cb804932ae3f9e5748a6ea61",
        "deepnote_cell_type": "markdown",
        "id": "pk4ru76pI5v_"
      },
      "source": [
        "## 1 Generando un Baseline (0.5 puntos)\n",
        "\n",
        "<p align=\"center\">\n",
        "  <img src=\"https://media.tenor.com/O-lan6TkadUAAAAC/what-i-wnna-do-after-a-baseline.gif\">\n",
        "</p>\n",
        "\n",
        "Antes de entrenar un algoritmo, usted recuerda los apuntes de su magíster en ciencia de datos y recuerda que debe seguir una serie de *buenas prácticas* para entrenar correcta y debidamente su modelo. Después de un par de vueltas, llega a las siguientes tareas:\n",
        "\n",
        "1. Separe los datos en conjuntos de train (70%), validation (20%) y test (10%). Fije una semilla para controlar la aleatoriedad.\n",
        "2. Implemente un `FunctionTransformer` para extraer el día, mes y año de la variable `date`. Guarde estas variables en el formato categorical de pandas.\n",
        "3. Implemente un `ColumnTransformer` para procesar de manera adecuada los datos numéricos y categóricos. Use `OneHotEncoder` para las variables categóricas.\n",
        "4. Guarde los pasos anteriores en un `Pipeline`, dejando como último paso el regresor `DummyRegressor` para generar predicciones en base a promedios.\n",
        "5. Entrene el pipeline anterior y reporte la métrica `mean_absolute_error` sobre los datos de validación. ¿Cómo se interpreta esta métrica para el contexto del negocio?\n",
        "6. Finalmente, vuelva a entrenar el `Pipeline` pero esta vez usando `XGBRegressor` como modelo **utilizando los parámetros por default**. ¿Cómo cambia el MAE al implementar este algoritmo? ¿Es mejor o peor que el `DummyRegressor`?\n",
        "7. Guarde ambos modelos en un archivo .pkl (uno cada uno)"
      ]
    },
    {
      "cell_type": "markdown",
      "metadata": {},
      "source": [
        "5.- Se obtiene un MAE de 13546.49. En este contexto, un MAE menor implica que las predicciones están más cerca de los valores reales de demanda, o bien, implica una mejor precisión del modelo.\n",
        "\n",
        "6.- Con XGBReressor, el MAE obtenido es de 2391.15. Es decir, en este caso el MAE es mejor y las predicciones están bastante más cerca de los valores reales de demanda."
      ]
    },
    {
      "cell_type": "code",
      "execution_count": 53,
      "metadata": {
        "cell_id": "1482c992d9494e5582b23dbd3431dbfd",
        "deepnote_cell_type": "code",
        "id": "sfnN7HubI5v_"
      },
      "outputs": [
        {
          "name": "stdout",
          "output_type": "stream",
          "text": [
            "MAE del DummyRegressor: 13546.494391911923\n",
            "MAE del XGBRegressor: 2391.1526059023413\n"
          ]
        }
      ],
      "source": [
        "# Inserte su código acá\n",
        "\n",
        "# 1. separar datos en conjuntos train, val, test\n",
        "from sklearn.model_selection import train_test_split\n",
        "\n",
        "train_data, test_data = train_test_split(df, test_size = 0.1, random_state = 42)\n",
        "train_data, val_data = train_test_split(train_data, test_size = 0.2222, random_state = 42)\n",
        "\n",
        "X_train, y_train = train_data.drop(columns=['quantity']), train_data['quantity']\n",
        "X_val, y_val = val_data.drop(columns=['quantity']), val_data['quantity']\n",
        "X_test, y_test = test_data.drop(columns=['quantity']), test_data['quantity']\n",
        "\n",
        "# 2. FuctionTransformer para extraer día, mes y año\n",
        "from sklearn.preprocessing import FunctionTransformer\n",
        "\n",
        "def extract_date_features(df):\n",
        "    df['day'] = df['date'].dt.day.astype('category')\n",
        "    df['month'] = df['date'].dt.month.astype('category')\n",
        "    df['year'] = df['date'].dt.year.astype('category')\n",
        "    return df\n",
        "\n",
        "date_transformer = FunctionTransformer(extract_date_features)\n",
        "\n",
        "# 3. ColumnTransformer para procesar datos numéricos y categóricos\n",
        "from sklearn.compose import ColumnTransformer\n",
        "from sklearn.preprocessing import OneHotEncoder, StandardScaler\n",
        "\n",
        "categorical_features = ['day', 'month', 'year', 'city', 'shop', 'brand', 'container', 'capacity']  # se considera que date ya fue transformado, capacity lo dejamos acá porque solo puede ser '500ml', '1.5lt', '330ml'\n",
        "numerical_features = ['lat', 'long', 'pop', 'price']\n",
        "\n",
        "col_transformer = ColumnTransformer(\n",
        "    transformers=[\n",
        "        ('num', StandardScaler(), numerical_features),\n",
        "        ('cat', OneHotEncoder(), categorical_features)\n",
        "    ]\n",
        ")\n",
        "\n",
        "# 4. guardar pasos anteriores en un pipeline incluyendo DummyRegressor\n",
        "from sklearn.pipeline import Pipeline\n",
        "from sklearn.dummy import DummyRegressor\n",
        "\n",
        "dummy_pipeline = Pipeline(steps=[\n",
        "    ('date_transformer', date_transformer),\n",
        "    ('col_transformer', col_transformer),\n",
        "    ('regressor', DummyRegressor(strategy='mean'))\n",
        "])\n",
        "\n",
        "# 5. entrenar el pipeline anterior y reportar la métrica `mean_absolute_error` sobre los datos de validación\n",
        "from sklearn.metrics import mean_absolute_error\n",
        "\n",
        "dummy_pipeline.fit(X_train, y_train)\n",
        "\n",
        "val_predictions = dummy_pipeline.predict(X_val)\n",
        "mae_dummy = mean_absolute_error(y_val, val_predictions)\n",
        "print(f'MAE del DummyRegressor: {mae_dummy}')\n",
        "\n",
        "# 6. volver a entrenar pipeline con XGBRegressor y reportar la métrica `mean_absolute_error` sobre los datos de validación\n",
        "from xgboost import XGBRegressor\n",
        "\n",
        "xgb_pipeline = Pipeline(steps=[\n",
        "    ('date_transformer', date_transformer),\n",
        "    ('col_transformer', col_transformer),\n",
        "    ('regressor', XGBRegressor(objective='reg:squarederror'))\n",
        "])\n",
        "\n",
        "xgb_pipeline.fit(X_train, y_train)\n",
        "val_predictions_xgb = xgb_pipeline.predict(X_val)\n",
        "mae_xgb = mean_absolute_error(y_val, val_predictions_xgb)\n",
        "print(f'MAE del XGBRegressor: {mae_xgb}')"
      ]
    },
    {
      "cell_type": "code",
      "execution_count": 13,
      "metadata": {},
      "outputs": [],
      "source": [
        "# 7. guardar ambos modelos\n",
        "import joblib\n",
        "\n",
        "joblib.dump(dummy_pipeline, 'dummy_pipeline.pkl')\n",
        "joblib.dump(xgb_pipeline, 'xgb_pipeline.pkl')"
      ]
    },
    {
      "cell_type": "markdown",
      "metadata": {
        "cell_id": "7e17e46063774ec28226fe300d42ffe0",
        "deepnote_cell_type": "markdown",
        "id": "wnyMINdKI5v_"
      },
      "source": [
        "## 2. Forzando relaciones entre parámetros con XGBoost (1.0 puntos)\n",
        "\n",
        "<p align=\"center\">\n",
        "  <img src=\"https://64.media.tumblr.com/14cc45f9610a6ee341a45fd0d68f4dde/20d11b36022bca7b-bf/s640x960/67ab1db12ff73a530f649ac455c000945d99c0d6.gif\">\n",
        "</p>\n",
        "\n",
        "Un colega aficionado a la economía le *sopla* que la demanda guarda una relación inversa con el precio del producto. Motivado para impresionar al querido corpóreo, se propone hacer uso de esta información para mejorar su modelo realizando las siguientes tareas:\n",
        "\n",
        "1. Vuelva a entrenar el `Pipeline`, pero esta vez forzando una relación monótona negativa entre el precio y la cantidad. Para aplicar esta restricción apóyese en la siguiente <a href = https://xgboost.readthedocs.io/en/stable/tutorials/monotonic.html>documentación</a>. Hint: Para implementar el constraint se le sugiere hacerlo especificando el nombre de la variable. De ser así, probablemente le sea útil **mantener el formato de pandas** antes del step de entrenamiento.\n",
        "\n",
        "2. Luego, vuelva a reportar el `MAE` sobre el conjunto de validación.\n",
        "\n",
        "3. ¿Cómo cambia el error al incluir esta relación? ¿Tenía razón su amigo?\n",
        "\n",
        "\n"
      ]
    },
    {
      "cell_type": "markdown",
      "metadata": {},
      "source": [
        "3.- El MAE obtenido en este caso es de 2519.22. Dado que este valor es un poco mayor que el obtenido anteriormente con xgboost sin la relación monótona, nuestro amigo nos sopló mal, pues nuestro modelo ahora tiene un error más grande."
      ]
    },
    {
      "cell_type": "code",
      "execution_count": 54,
      "metadata": {},
      "outputs": [
        {
          "name": "stdout",
          "output_type": "stream",
          "text": [
            "MAE del XGBRegressor con restricción de monotonicidad: 2519.222899080682\n"
          ]
        }
      ],
      "source": [
        "X_train, y_train = train_data.drop(columns=['quantity']), train_data['quantity']\n",
        "X_val, y_val = val_data.drop(columns=['quantity']), val_data['quantity']\n",
        "X_test, y_test = test_data.drop(columns=['quantity']), test_data['quantity']\n",
        "\n",
        "\n",
        "# 1. entrenar nuevo pipeline con las restricciones de monotonicidad y que mantiene formato pandas hasta antes del step de entrenamiento\n",
        "def to_dataframe(X):\n",
        "    return pd.DataFrame(X.toarray(), columns=col_transformer.get_feature_names_out())\n",
        "\n",
        "pandas_transformer = FunctionTransformer(to_dataframe)\n",
        "\n",
        "xgb_pipeline_monotone = Pipeline(steps=[\n",
        "    ('date_transformer', date_transformer),\n",
        "    ('col_transformer', col_transformer),\n",
        "    ('pandas_transformer', pandas_transformer),\n",
        "    ('regressor', XGBRegressor(objective='reg:squarederror', monotone_constraints={'num__price': -1}))\n",
        "])\n",
        "\n",
        "xgb_pipeline_monotone.fit(X_train, y_train)\n",
        "\n",
        "# 2. reportar MAE sobre conjunto de validación\n",
        "val_predictions_xgb_monotone = xgb_pipeline_monotone.predict(X_val)\n",
        "mae_xgb_monotone = mean_absolute_error(y_val, val_predictions_xgb_monotone)\n",
        "print(f'MAE del XGBRegressor con restricción de monotonicidad: {mae_xgb_monotone}')"
      ]
    },
    {
      "cell_type": "markdown",
      "metadata": {
        "cell_id": "e59ef80ed20b4de8921f24da74e87374",
        "deepnote_cell_type": "markdown",
        "id": "5D5-tX4dI5v_"
      },
      "source": [
        "## 3. Optimización de Hiperparámetros con Optuna (2.0 puntos)\n",
        "\n",
        "<p align=\"center\">\n",
        "  <img src=\"https://media.tenor.com/fmNdyGN4z5kAAAAi/hacking-lucy.gif\">\n",
        "</p>\n",
        "\n",
        "Luego de presentarle sus resultados, Fiu le pregunta si es posible mejorar *aun más* su modelo. En particular, le comenta de la optimización de hiperparámetros con metodologías bayesianas a través del paquete `optuna`. Como usted es un aficionado al entrenamiento de modelos de ML, se propone implementar la descabellada idea de su jefe.\n",
        "\n",
        "A partir de la mejor configuración obtenida en la sección anterior, utilice `optuna` para optimizar sus hiperparámetros. En particular, se le pide:\n",
        "\n",
        "- Fijar una semilla en las instancias necesarias para garantizar la reproducibilidad de resultados\n",
        "- Utilice `TPESampler` como método de muestreo\n",
        "- De `XGBRegressor`, optimice los siguientes hiperparámetros:\n",
        "    - `learning_rate` buscando valores flotantes en el rango (0.001, 0.1)\n",
        "    - `n_estimators` buscando valores enteros en el rango (50, 1000)\n",
        "    - `max_depth` buscando valores enteros en el rango (3, 10)\n",
        "    - `max_leaves` buscando valores enteros en el rango (0, 100)\n",
        "    - `min_child_weight` buscando valores enteros en el rango (1, 5)\n",
        "    - `reg_alpha` buscando valores flotantes en el rango (0, 1)\n",
        "    - `reg_lambda` buscando valores flotantes en el rango (0, 1)\n",
        "- De `OneHotEncoder`, optimice el hiperparámetro `min_frequency` buscando el mejor valor flotante en el rango (0.0, 1.0)\n",
        "- Explique cada hiperparámetro y su rol en el modelo. ¿Hacen sentido los rangos de optimización indicados?\n",
        "- Fije el tiempo de entrenamiento a 5 minutos\n",
        "- Reportar el número de *trials*, el `MAE` y los mejores hiperparámetros encontrados. ¿Cómo cambian sus resultados con respecto a la sección anterior? ¿A qué se puede deber esto?\n",
        "- Guardar su modelo en un archivo .pkl"
      ]
    },
    {
      "cell_type": "markdown",
      "metadata": {},
      "source": [
        "A continuación se explica cada hiperparámetro:\n",
        "\n",
        "1. `learning_rate:` Controla la tasa de aprendizaje del modelo. Un valor más bajo puede hacer que el modelo aprenda más lentamente, pero podría mejorar la precisión. Los valores entre 0.001 y 0.1 son comunes y razonables. Un learning_rate muy bajo (cerca de 0.001) permite ajustes muy precisos, pero puede requerir más iteraciones, mientras que valores cercanos a 0.1 permiten un aprendizaje más rápido. Valores fuera de este rango podrían resultar en un aprendizaje demasiado lento o demasiado rápido, causando overfitting o underfitting, respectivamente.\n",
        "\n",
        "2. `n_estimators:` Número de árboles en el modelo. Más árboles pueden aumentar la capacidad del modelo, pero también el riesgo de overfitting. El rango de 50 a 1000 es apropiado, pues menos de 50 árboles pueden no ser suficientes para captar la complejidad del modelo, mientras que más de 1000 pueden causar overfitting y aumentar demasiado el tiempo de cómputo sin que esto implique mejores resultados.\n",
        "\n",
        "3. `max_depth:` Profundidad máxima de los árboles. Controla la complejidad de cada árbol. Un rango de 3 a 10 es razonable, ya que valores por debajo de 3 pueden hacer que los árboles sean demasiado simples para captar patrones complejos, mientras valores superiores a 10 pueden hacer que los árboles se vuelvan demasiado complejos y produzcan overfitting.\n",
        "\n",
        "4. `max_leaves:` Número máximo de hojas por árbol. Permite controlar la complejidad de cada árbol, pero de una manera un poco más directa que max_depth. El rango de 0 a 100 es amplio y flexible, permitir hasta 100 hojas proporciona suficiente capacidad para captar patrones complejos sin sobreajustar en la mayoría de los casos.\n",
        "\n",
        "5. `min_child_weight:` Peso mínimo que debe tener una hoja. Ayuda a evitar que el modelo cree hojas con muy pocos datos. El rango de 1 a 5 es adecuado, ya que un valor más bajo (1) permite mayor flexibilidad para crear hojas pequeñas, mientras que un valor más alto (hasta 5) fuerza al modelo a tener hojas con mayor número de ejemplos, lo que puede ayudar a evitar el overfitting.\n",
        "\n",
        "6. `reg_alpha:` Regularización L1. Ayuda a hacer que el modelo sea más sencillo y puede ayudar a prevenir el overfitting. Un rango de 0 a 1 es común y sensato, ya que valores cercanos a 0 significan poca regularización, mientras que valores cercanos a 1 implican una fuerte regularización. Esto permite explorar desde ningún efecto de regularización hasta una regularización fuerte.\n",
        "\n",
        "7. `reg_lambda:` Regularización L2. Similar a reg_alpha, pero penaliza el tamaño de los coeficientes del modelo. Similar a reg_alpha, un rango de 0 a 1 es apropiado, ya que permite explorar desde ningún efecto de regularización hasta una regularización fuerte.\n",
        "\n",
        "8. `min_frequency:` n el OneHotEncoder, este parámetro ayuda a ignorar categorías poco frecuentes para evitar ruido en los datos categóricos. El rango de 0.0 a 1.0 es correcto, ya que cubre desde no ignorar ninguna categoría (0.0) hasta ignorar todas las categorías (1.0). \n",
        "\n",
        "En cuanto al número de trials, se tienen 196, y con los mejores hiperparámetros el MAE es de 1922.33. Considerando que el MAE del mejor modelo anterior es de 2391.15, se tiene que los resultados luego de hiperparámetros mejoran bastante.\n",
        "\n",
        "Lo anterior se puede deber a una combinación de ajustes precisos en los distintos hiperparámetros abordados. La metodología de búsqueda bayesiana, sumada a los rangos de valores escogidos que nos permiten la exploración suficiente del espacio de hiperparámetros, encuentran una configuración que optimiza el rendimiento del modelo."
      ]
    },
    {
      "cell_type": "code",
      "execution_count": 81,
      "metadata": {
        "cell_id": "de5914621cc64cb0b1bacb9ff565a97e",
        "deepnote_cell_type": "code",
        "id": "kMXXi1ckI5v_"
      },
      "outputs": [
        {
          "name": "stdout",
          "output_type": "stream",
          "text": [
            "Número de trials: 189\n",
            "MAE del mejor trial: 1922.3255411374496\n",
            "Mejores hiperparámetros: {'learning_rate': 0.06352493662365062, 'n_estimators': 938, 'max_depth': 10, 'max_leaves': 96, 'min_child_weight': 3, 'reg_alpha': 0.5076832949274352, 'reg_lambda': 0.7313463054648354, 'min_frequency': 5.177230606046718e-05}\n",
            "MAE final del modelo optimizado: 1922.3255411374496\n"
          ]
        }
      ],
      "source": [
        "# Inserte su código acá\n",
        "import optuna\n",
        "from optuna.samplers import TPESampler\n",
        "\n",
        "# separación de datos\n",
        "train_data, test_data = train_test_split(df, test_size=0.1, random_state=42)\n",
        "train_data, val_data = train_test_split(train_data, test_size=0.2222, random_state=42)\n",
        "\n",
        "X_train, y_train = train_data.drop(columns=['quantity']), train_data['quantity']\n",
        "X_val, y_val = val_data.drop(columns=['quantity']), val_data['quantity']\n",
        "X_test, y_test = test_data.drop(columns=['quantity']), test_data['quantity']\n",
        "\n",
        "def objective(trial):\n",
        "\n",
        "    # hiperparámetros a optimizar\n",
        "    learning_rate = trial.suggest_float('learning_rate', 0.001, 0.1)\n",
        "    n_estimators = trial.suggest_int('n_estimators', 50, 1000)\n",
        "    max_depth = trial.suggest_int('max_depth', 3, 10)\n",
        "    max_leaves = trial.suggest_int('max_leaves', 0, 100)\n",
        "    min_child_weight = trial.suggest_int('min_child_weight', 1, 5)\n",
        "    reg_alpha = trial.suggest_float('reg_alpha', 0, 1)\n",
        "    reg_lambda = trial.suggest_float('reg_lambda', 0, 1)\n",
        "    min_frequency = trial.suggest_float('min_frequency', 0.0, 1.0)\n",
        "    \n",
        "    # pipeline\n",
        "    date_transformer = FunctionTransformer(extract_date_features)\n",
        "    col_transformer = ColumnTransformer(\n",
        "        transformers=[\n",
        "            ('num', StandardScaler(), numerical_features),\n",
        "            ('cat', OneHotEncoder(min_frequency = min_frequency), categorical_features)\n",
        "        ]\n",
        "    )\n",
        "\n",
        "    xgb_pipeline = Pipeline(steps=[\n",
        "        ('date_transformer', date_transformer),\n",
        "        ('col_transformer', col_transformer),\n",
        "        ('regressor', XGBRegressor(\n",
        "            objective = 'reg:squarederror',\n",
        "            learning_rate = learning_rate,\n",
        "            n_estimators = n_estimators,\n",
        "            max_depth = max_depth,\n",
        "            max_leaves = max_leaves,\n",
        "            min_child_weight = min_child_weight,\n",
        "            reg_alpha = reg_alpha,\n",
        "            reg_lambda = reg_lambda,\n",
        "            random_state = 42\n",
        "        ))\n",
        "    ])\n",
        "\n",
        "    xgb_pipeline.fit(X_train, y_train)\n",
        "    val_predictions_xgb = xgb_pipeline.predict(X_val)\n",
        "    mae_xgb = mean_absolute_error(y_val, val_predictions_xgb)\n",
        "    \n",
        "    return mae_xgb\n",
        "\n",
        "# estudio de optuna\n",
        "study = optuna.create_study(direction = 'minimize', sampler = TPESampler(seed = 42))\n",
        "study.optimize(objective, timeout=300)  # 5 minutos\n",
        "\n",
        "# mejores hiperparámetros\n",
        "best_params = study.best_params\n",
        "best_trial = study.best_trial\n",
        "\n",
        "print(f'Número de trials: {len(study.trials)}')\n",
        "print(f'MAE del mejor trial: {best_trial.value}')\n",
        "print(f'Mejores hiperparámetros: {best_params}')\n",
        "\n",
        "# entrenar el modelo final con los mejores hiperparámetros\n",
        "final_pipeline = Pipeline(steps=[\n",
        "    ('date_transformer', date_transformer),\n",
        "    ('col_transformer', ColumnTransformer(\n",
        "        transformers=[\n",
        "            ('num', StandardScaler(), numerical_features),\n",
        "            ('cat', OneHotEncoder(min_frequency = best_params['min_frequency']), categorical_features)\n",
        "        ]\n",
        "    )),\n",
        "    ('regressor', XGBRegressor(\n",
        "        objective='reg:squarederror',\n",
        "        learning_rate = best_params['learning_rate'],\n",
        "        n_estimators = best_params['n_estimators'],\n",
        "        max_depth = best_params['max_depth'],\n",
        "        max_leaves = best_params['max_leaves'],\n",
        "        min_child_weight = best_params['min_child_weight'],\n",
        "        reg_alpha = best_params['reg_alpha'],\n",
        "        reg_lambda = best_params['reg_lambda'],\n",
        "        random_state = 42\n",
        "    ))\n",
        "])\n",
        "\n",
        "final_pipeline.fit(X_train, y_train)\n",
        "\n",
        "# guardar modelo final\n",
        "#joblib.dump(final_pipeline, 'xgb_pipeline_optimized.pkl')\n",
        "\n",
        "# evaluar en el conjunto de validación\n",
        "val_predictions_final = final_pipeline.predict(X_val)\n",
        "mae_final = mean_absolute_error(y_val, val_predictions_final)\n",
        "print(f'MAE final del modelo optimizado: {mae_final}')"
      ]
    },
    {
      "cell_type": "markdown",
      "metadata": {
        "cell_id": "5195ccfc37e044ad9453f6eb2754f631",
        "deepnote_cell_type": "markdown",
        "id": "ZglyD_QWI5wA"
      },
      "source": [
        "## 4. Optimización de Hiperparámetros con Optuna y Prunners (1.7)\n",
        "\n",
        "<p align=\"center\">\n",
        "  <img src=\"https://i.pinimg.com/originals/90/16/f9/9016f919c2259f3d0e8fe465049638a7.gif\">\n",
        "</p>\n",
        "\n",
        "Después de optimizar el rendimiento de su modelo varias veces, Fiu le pregunta si no es posible optimizar el entrenamiento del modelo en sí mismo. Después de leer un par de post de personas de dudosa reputación en la *deepweb*, usted llega a la conclusión que puede cumplir este objetivo mediante la implementación de **Prunning**.\n",
        "\n",
        "Vuelva a optimizar los mismos hiperparámetros que la sección pasada, pero esta vez utilizando **Prunning** en la optimización. En particular, usted debe:\n",
        "\n",
        "- Responder: ¿Qué es prunning? ¿De qué forma debería impactar en el entrenamiento?\n",
        "- Utilizar `optuna.integration.XGBoostPruningCallback` como método de **Prunning**\n",
        "- Fijar nuevamente el tiempo de entrenamiento a 5 minutos\n",
        "- Reportar el número de *trials*, el `MAE` y los mejores hiperparámetros encontrados. ¿Cómo cambian sus resultados con respecto a la sección anterior? ¿A qué se puede deber esto?\n",
        "- Guardar su modelo en un archivo .pkl\n",
        "\n",
        "Nota: Si quieren silenciar los prints obtenidos en el prunning, pueden hacerlo mediante el siguiente comando:\n",
        "\n",
        "```\n",
        "optuna.logging.set_verbosity(optuna.logging.WARNING)\n",
        "```\n",
        "\n",
        "De implementar la opción anterior, pueden especificar `show_progress_bar = True` en el método `optimize` para *más sabor*.\n",
        "\n",
        "Hint: Si quieren especificar parámetros del método .fit() del modelo a través del pipeline, pueden hacerlo por medio de la siguiente sintaxis: `pipeline.fit(stepmodelo__parametro = valor)`\n",
        "\n",
        "Hint2: Este <a href = https://stackoverflow.com/questions/40329576/sklearn-pass-fit-parameters-to-xgboost-in-pipeline>enlace</a> les puede ser de ayuda en su implementación"
      ]
    },
    {
      "cell_type": "code",
      "execution_count": 87,
      "metadata": {
        "cell_id": "eeaa967cd8f6426d8c54f276c17dce79",
        "deepnote_cell_type": "code",
        "id": "sST6Wtj5I5wA"
      },
      "outputs": [
        {
          "name": "stderr",
          "output_type": "stream",
          "text": [
            "   0%|          | 00:00/05:00"
          ]
        },
        {
          "name": "stderr",
          "output_type": "stream",
          "text": [
            "   0%|          | 00:00/05:00\n"
          ]
        },
        {
          "name": "stdout",
          "output_type": "stream",
          "text": [
            "[W 2024-05-31 23:30:46,558] Trial 0 failed with parameters: {'learning_rate': 0.03807947176588889, 'n_estimators': 954, 'max_depth': 8, 'max_leaves': 60, 'min_child_weight': 1, 'reg_alpha': 0.15599452033620265, 'reg_lambda': 0.05808361216819946, 'min_frequency': 0.8661761457749352} because of the following error: ValueError('DataFrame.dtypes for data must be int, float, bool or category. When categorical type is supplied, The experimental DMatrix parameter`enable_categorical` must be set to `True`.  Invalid columns:date: datetime64[ns], city: object, shop: object, brand: object, container: object, capacity: object').\n",
            "Traceback (most recent call last):\n",
            "  File \"c:\\Users\\benja\\OneDrive\\Escritorio\\MDS7202\\venv\\lib\\site-packages\\optuna\\study\\_optimize.py\", line 196, in _run_trial\n",
            "    value_or_values = func(trial)\n",
            "  File \"C:\\Users\\benja\\AppData\\Local\\Temp\\ipykernel_33148\\3578331581.py\", line 50, in objective\n",
            "    xgb_pipeline.fit(X_train, y_train, regressor__eval_set=[(X_val, y_val)], regressor__callbacks=[pruning_callback])\n",
            "  File \"c:\\Users\\benja\\OneDrive\\Escritorio\\MDS7202\\venv\\lib\\site-packages\\sklearn\\base.py\", line 1474, in wrapper\n",
            "    return fit_method(estimator, *args, **kwargs)\n",
            "  File \"c:\\Users\\benja\\OneDrive\\Escritorio\\MDS7202\\venv\\lib\\site-packages\\sklearn\\pipeline.py\", line 475, in fit\n",
            "    self._final_estimator.fit(Xt, y, **last_step_params[\"fit\"])\n",
            "  File \"c:\\Users\\benja\\OneDrive\\Escritorio\\MDS7202\\venv\\lib\\site-packages\\xgboost\\core.py\", line 730, in inner_f\n",
            "    return func(**kwargs)\n",
            "  File \"c:\\Users\\benja\\OneDrive\\Escritorio\\MDS7202\\venv\\lib\\site-packages\\xgboost\\sklearn.py\", line 1055, in fit\n",
            "    train_dmatrix, evals = _wrap_evaluation_matrices(\n",
            "  File \"c:\\Users\\benja\\OneDrive\\Escritorio\\MDS7202\\venv\\lib\\site-packages\\xgboost\\sklearn.py\", line 572, in _wrap_evaluation_matrices\n",
            "    m = create_dmatrix(\n",
            "  File \"c:\\Users\\benja\\OneDrive\\Escritorio\\MDS7202\\venv\\lib\\site-packages\\xgboost\\sklearn.py\", line 958, in _create_dmatrix\n",
            "    return QuantileDMatrix(\n",
            "  File \"c:\\Users\\benja\\OneDrive\\Escritorio\\MDS7202\\venv\\lib\\site-packages\\xgboost\\core.py\", line 730, in inner_f\n",
            "    return func(**kwargs)\n",
            "  File \"c:\\Users\\benja\\OneDrive\\Escritorio\\MDS7202\\venv\\lib\\site-packages\\xgboost\\core.py\", line 1529, in __init__\n",
            "    self._init(\n",
            "  File \"c:\\Users\\benja\\OneDrive\\Escritorio\\MDS7202\\venv\\lib\\site-packages\\xgboost\\core.py\", line 1588, in _init\n",
            "    it.reraise()\n",
            "  File \"c:\\Users\\benja\\OneDrive\\Escritorio\\MDS7202\\venv\\lib\\site-packages\\xgboost\\core.py\", line 576, in reraise\n",
            "    raise exc  # pylint: disable=raising-bad-type\n",
            "  File \"c:\\Users\\benja\\OneDrive\\Escritorio\\MDS7202\\venv\\lib\\site-packages\\xgboost\\core.py\", line 557, in _handle_exception\n",
            "    return fn()\n",
            "  File \"c:\\Users\\benja\\OneDrive\\Escritorio\\MDS7202\\venv\\lib\\site-packages\\xgboost\\core.py\", line 641, in <lambda>\n",
            "    return self._handle_exception(lambda: self.next(input_data), 0)\n",
            "  File \"c:\\Users\\benja\\OneDrive\\Escritorio\\MDS7202\\venv\\lib\\site-packages\\xgboost\\data.py\", line 1280, in next\n",
            "    input_data(**self.kwargs)\n",
            "  File \"c:\\Users\\benja\\OneDrive\\Escritorio\\MDS7202\\venv\\lib\\site-packages\\xgboost\\core.py\", line 730, in inner_f\n",
            "    return func(**kwargs)\n",
            "  File \"c:\\Users\\benja\\OneDrive\\Escritorio\\MDS7202\\venv\\lib\\site-packages\\xgboost\\core.py\", line 624, in input_data\n",
            "    new, cat_codes, feature_names, feature_types = _proxy_transform(\n",
            "  File \"c:\\Users\\benja\\OneDrive\\Escritorio\\MDS7202\\venv\\lib\\site-packages\\xgboost\\data.py\", line 1315, in _proxy_transform\n",
            "    arr, feature_names, feature_types = _transform_pandas_df(\n",
            "  File \"c:\\Users\\benja\\OneDrive\\Escritorio\\MDS7202\\venv\\lib\\site-packages\\xgboost\\data.py\", line 490, in _transform_pandas_df\n",
            "    _invalid_dataframe_dtype(data)\n",
            "  File \"c:\\Users\\benja\\OneDrive\\Escritorio\\MDS7202\\venv\\lib\\site-packages\\xgboost\\data.py\", line 308, in _invalid_dataframe_dtype\n",
            "    raise ValueError(msg)\n",
            "ValueError: DataFrame.dtypes for data must be int, float, bool or category. When categorical type is supplied, The experimental DMatrix parameter`enable_categorical` must be set to `True`.  Invalid columns:date: datetime64[ns], city: object, shop: object, brand: object, container: object, capacity: object\n",
            "[W 2024-05-31 23:30:46,564] Trial 0 failed with value None.\n"
          ]
        },
        {
          "ename": "ValueError",
          "evalue": "DataFrame.dtypes for data must be int, float, bool or category. When categorical type is supplied, The experimental DMatrix parameter`enable_categorical` must be set to `True`.  Invalid columns:date: datetime64[ns], city: object, shop: object, brand: object, container: object, capacity: object",
          "output_type": "error",
          "traceback": [
            "\u001b[1;31m---------------------------------------------------------------------------\u001b[0m",
            "\u001b[1;31mValueError\u001b[0m                                Traceback (most recent call last)",
            "Cell \u001b[1;32mIn[87], line 59\u001b[0m\n\u001b[0;32m     57\u001b[0m optuna\u001b[38;5;241m.\u001b[39mlogging\u001b[38;5;241m.\u001b[39mset_verbosity(optuna\u001b[38;5;241m.\u001b[39mlogging\u001b[38;5;241m.\u001b[39mWARNING)\n\u001b[0;32m     58\u001b[0m study \u001b[38;5;241m=\u001b[39m optuna\u001b[38;5;241m.\u001b[39mcreate_study(direction \u001b[38;5;241m=\u001b[39m \u001b[38;5;124m'\u001b[39m\u001b[38;5;124mminimize\u001b[39m\u001b[38;5;124m'\u001b[39m, sampler \u001b[38;5;241m=\u001b[39m TPESampler(seed \u001b[38;5;241m=\u001b[39m \u001b[38;5;241m42\u001b[39m))\n\u001b[1;32m---> 59\u001b[0m \u001b[43mstudy\u001b[49m\u001b[38;5;241;43m.\u001b[39;49m\u001b[43moptimize\u001b[49m\u001b[43m(\u001b[49m\u001b[43mobjective\u001b[49m\u001b[43m,\u001b[49m\u001b[43m \u001b[49m\u001b[43mtimeout\u001b[49m\u001b[43m \u001b[49m\u001b[38;5;241;43m=\u001b[39;49m\u001b[43m \u001b[49m\u001b[38;5;241;43m300\u001b[39;49m\u001b[43m,\u001b[49m\u001b[43m \u001b[49m\u001b[43mshow_progress_bar\u001b[49m\u001b[43m \u001b[49m\u001b[38;5;241;43m=\u001b[39;49m\u001b[43m \u001b[49m\u001b[38;5;28;43;01mTrue\u001b[39;49;00m\u001b[43m)\u001b[49m  \u001b[38;5;66;03m# 5 minutos\u001b[39;00m\n\u001b[0;32m     61\u001b[0m \u001b[38;5;66;03m# Mejores hiperparámetros\u001b[39;00m\n\u001b[0;32m     62\u001b[0m best_params \u001b[38;5;241m=\u001b[39m study\u001b[38;5;241m.\u001b[39mbest_params\n",
            "File \u001b[1;32mc:\\Users\\benja\\OneDrive\\Escritorio\\MDS7202\\venv\\lib\\site-packages\\optuna\\study\\study.py:451\u001b[0m, in \u001b[0;36mStudy.optimize\u001b[1;34m(self, func, n_trials, timeout, n_jobs, catch, callbacks, gc_after_trial, show_progress_bar)\u001b[0m\n\u001b[0;32m    348\u001b[0m \u001b[38;5;28;01mdef\u001b[39;00m \u001b[38;5;21moptimize\u001b[39m(\n\u001b[0;32m    349\u001b[0m     \u001b[38;5;28mself\u001b[39m,\n\u001b[0;32m    350\u001b[0m     func: ObjectiveFuncType,\n\u001b[1;32m   (...)\u001b[0m\n\u001b[0;32m    357\u001b[0m     show_progress_bar: \u001b[38;5;28mbool\u001b[39m \u001b[38;5;241m=\u001b[39m \u001b[38;5;28;01mFalse\u001b[39;00m,\n\u001b[0;32m    358\u001b[0m ) \u001b[38;5;241m-\u001b[39m\u001b[38;5;241m>\u001b[39m \u001b[38;5;28;01mNone\u001b[39;00m:\n\u001b[0;32m    359\u001b[0m \u001b[38;5;250m    \u001b[39m\u001b[38;5;124;03m\"\"\"Optimize an objective function.\u001b[39;00m\n\u001b[0;32m    360\u001b[0m \n\u001b[0;32m    361\u001b[0m \u001b[38;5;124;03m    Optimization is done by choosing a suitable set of hyperparameter values from a given\u001b[39;00m\n\u001b[1;32m   (...)\u001b[0m\n\u001b[0;32m    449\u001b[0m \u001b[38;5;124;03m            If nested invocation of this method occurs.\u001b[39;00m\n\u001b[0;32m    450\u001b[0m \u001b[38;5;124;03m    \"\"\"\u001b[39;00m\n\u001b[1;32m--> 451\u001b[0m     \u001b[43m_optimize\u001b[49m\u001b[43m(\u001b[49m\n\u001b[0;32m    452\u001b[0m \u001b[43m        \u001b[49m\u001b[43mstudy\u001b[49m\u001b[38;5;241;43m=\u001b[39;49m\u001b[38;5;28;43mself\u001b[39;49m\u001b[43m,\u001b[49m\n\u001b[0;32m    453\u001b[0m \u001b[43m        \u001b[49m\u001b[43mfunc\u001b[49m\u001b[38;5;241;43m=\u001b[39;49m\u001b[43mfunc\u001b[49m\u001b[43m,\u001b[49m\n\u001b[0;32m    454\u001b[0m \u001b[43m        \u001b[49m\u001b[43mn_trials\u001b[49m\u001b[38;5;241;43m=\u001b[39;49m\u001b[43mn_trials\u001b[49m\u001b[43m,\u001b[49m\n\u001b[0;32m    455\u001b[0m \u001b[43m        \u001b[49m\u001b[43mtimeout\u001b[49m\u001b[38;5;241;43m=\u001b[39;49m\u001b[43mtimeout\u001b[49m\u001b[43m,\u001b[49m\n\u001b[0;32m    456\u001b[0m \u001b[43m        \u001b[49m\u001b[43mn_jobs\u001b[49m\u001b[38;5;241;43m=\u001b[39;49m\u001b[43mn_jobs\u001b[49m\u001b[43m,\u001b[49m\n\u001b[0;32m    457\u001b[0m \u001b[43m        \u001b[49m\u001b[43mcatch\u001b[49m\u001b[38;5;241;43m=\u001b[39;49m\u001b[38;5;28;43mtuple\u001b[39;49m\u001b[43m(\u001b[49m\u001b[43mcatch\u001b[49m\u001b[43m)\u001b[49m\u001b[43m \u001b[49m\u001b[38;5;28;43;01mif\u001b[39;49;00m\u001b[43m \u001b[49m\u001b[38;5;28;43misinstance\u001b[39;49m\u001b[43m(\u001b[49m\u001b[43mcatch\u001b[49m\u001b[43m,\u001b[49m\u001b[43m \u001b[49m\u001b[43mIterable\u001b[49m\u001b[43m)\u001b[49m\u001b[43m \u001b[49m\u001b[38;5;28;43;01melse\u001b[39;49;00m\u001b[43m \u001b[49m\u001b[43m(\u001b[49m\u001b[43mcatch\u001b[49m\u001b[43m,\u001b[49m\u001b[43m)\u001b[49m\u001b[43m,\u001b[49m\n\u001b[0;32m    458\u001b[0m \u001b[43m        \u001b[49m\u001b[43mcallbacks\u001b[49m\u001b[38;5;241;43m=\u001b[39;49m\u001b[43mcallbacks\u001b[49m\u001b[43m,\u001b[49m\n\u001b[0;32m    459\u001b[0m \u001b[43m        \u001b[49m\u001b[43mgc_after_trial\u001b[49m\u001b[38;5;241;43m=\u001b[39;49m\u001b[43mgc_after_trial\u001b[49m\u001b[43m,\u001b[49m\n\u001b[0;32m    460\u001b[0m \u001b[43m        \u001b[49m\u001b[43mshow_progress_bar\u001b[49m\u001b[38;5;241;43m=\u001b[39;49m\u001b[43mshow_progress_bar\u001b[49m\u001b[43m,\u001b[49m\n\u001b[0;32m    461\u001b[0m \u001b[43m    \u001b[49m\u001b[43m)\u001b[49m\n",
            "File \u001b[1;32mc:\\Users\\benja\\OneDrive\\Escritorio\\MDS7202\\venv\\lib\\site-packages\\optuna\\study\\_optimize.py:62\u001b[0m, in \u001b[0;36m_optimize\u001b[1;34m(study, func, n_trials, timeout, n_jobs, catch, callbacks, gc_after_trial, show_progress_bar)\u001b[0m\n\u001b[0;32m     60\u001b[0m \u001b[38;5;28;01mtry\u001b[39;00m:\n\u001b[0;32m     61\u001b[0m     \u001b[38;5;28;01mif\u001b[39;00m n_jobs \u001b[38;5;241m==\u001b[39m \u001b[38;5;241m1\u001b[39m:\n\u001b[1;32m---> 62\u001b[0m         \u001b[43m_optimize_sequential\u001b[49m\u001b[43m(\u001b[49m\n\u001b[0;32m     63\u001b[0m \u001b[43m            \u001b[49m\u001b[43mstudy\u001b[49m\u001b[43m,\u001b[49m\n\u001b[0;32m     64\u001b[0m \u001b[43m            \u001b[49m\u001b[43mfunc\u001b[49m\u001b[43m,\u001b[49m\n\u001b[0;32m     65\u001b[0m \u001b[43m            \u001b[49m\u001b[43mn_trials\u001b[49m\u001b[43m,\u001b[49m\n\u001b[0;32m     66\u001b[0m \u001b[43m            \u001b[49m\u001b[43mtimeout\u001b[49m\u001b[43m,\u001b[49m\n\u001b[0;32m     67\u001b[0m \u001b[43m            \u001b[49m\u001b[43mcatch\u001b[49m\u001b[43m,\u001b[49m\n\u001b[0;32m     68\u001b[0m \u001b[43m            \u001b[49m\u001b[43mcallbacks\u001b[49m\u001b[43m,\u001b[49m\n\u001b[0;32m     69\u001b[0m \u001b[43m            \u001b[49m\u001b[43mgc_after_trial\u001b[49m\u001b[43m,\u001b[49m\n\u001b[0;32m     70\u001b[0m \u001b[43m            \u001b[49m\u001b[43mreseed_sampler_rng\u001b[49m\u001b[38;5;241;43m=\u001b[39;49m\u001b[38;5;28;43;01mFalse\u001b[39;49;00m\u001b[43m,\u001b[49m\n\u001b[0;32m     71\u001b[0m \u001b[43m            \u001b[49m\u001b[43mtime_start\u001b[49m\u001b[38;5;241;43m=\u001b[39;49m\u001b[38;5;28;43;01mNone\u001b[39;49;00m\u001b[43m,\u001b[49m\n\u001b[0;32m     72\u001b[0m \u001b[43m            \u001b[49m\u001b[43mprogress_bar\u001b[49m\u001b[38;5;241;43m=\u001b[39;49m\u001b[43mprogress_bar\u001b[49m\u001b[43m,\u001b[49m\n\u001b[0;32m     73\u001b[0m \u001b[43m        \u001b[49m\u001b[43m)\u001b[49m\n\u001b[0;32m     74\u001b[0m     \u001b[38;5;28;01melse\u001b[39;00m:\n\u001b[0;32m     75\u001b[0m         \u001b[38;5;28;01mif\u001b[39;00m n_jobs \u001b[38;5;241m==\u001b[39m \u001b[38;5;241m-\u001b[39m\u001b[38;5;241m1\u001b[39m:\n",
            "File \u001b[1;32mc:\\Users\\benja\\OneDrive\\Escritorio\\MDS7202\\venv\\lib\\site-packages\\optuna\\study\\_optimize.py:159\u001b[0m, in \u001b[0;36m_optimize_sequential\u001b[1;34m(study, func, n_trials, timeout, catch, callbacks, gc_after_trial, reseed_sampler_rng, time_start, progress_bar)\u001b[0m\n\u001b[0;32m    156\u001b[0m         \u001b[38;5;28;01mbreak\u001b[39;00m\n\u001b[0;32m    158\u001b[0m \u001b[38;5;28;01mtry\u001b[39;00m:\n\u001b[1;32m--> 159\u001b[0m     frozen_trial \u001b[38;5;241m=\u001b[39m \u001b[43m_run_trial\u001b[49m\u001b[43m(\u001b[49m\u001b[43mstudy\u001b[49m\u001b[43m,\u001b[49m\u001b[43m \u001b[49m\u001b[43mfunc\u001b[49m\u001b[43m,\u001b[49m\u001b[43m \u001b[49m\u001b[43mcatch\u001b[49m\u001b[43m)\u001b[49m\n\u001b[0;32m    160\u001b[0m \u001b[38;5;28;01mfinally\u001b[39;00m:\n\u001b[0;32m    161\u001b[0m     \u001b[38;5;66;03m# The following line mitigates memory problems that can be occurred in some\u001b[39;00m\n\u001b[0;32m    162\u001b[0m     \u001b[38;5;66;03m# environments (e.g., services that use computing containers such as GitHub Actions).\u001b[39;00m\n\u001b[0;32m    163\u001b[0m     \u001b[38;5;66;03m# Please refer to the following PR for further details:\u001b[39;00m\n\u001b[0;32m    164\u001b[0m     \u001b[38;5;66;03m# https://github.com/optuna/optuna/pull/325.\u001b[39;00m\n\u001b[0;32m    165\u001b[0m     \u001b[38;5;28;01mif\u001b[39;00m gc_after_trial:\n",
            "File \u001b[1;32mc:\\Users\\benja\\OneDrive\\Escritorio\\MDS7202\\venv\\lib\\site-packages\\optuna\\study\\_optimize.py:247\u001b[0m, in \u001b[0;36m_run_trial\u001b[1;34m(study, func, catch)\u001b[0m\n\u001b[0;32m    240\u001b[0m         \u001b[38;5;28;01massert\u001b[39;00m \u001b[38;5;28;01mFalse\u001b[39;00m, \u001b[38;5;124m\"\u001b[39m\u001b[38;5;124mShould not reach.\u001b[39m\u001b[38;5;124m\"\u001b[39m\n\u001b[0;32m    242\u001b[0m \u001b[38;5;28;01mif\u001b[39;00m (\n\u001b[0;32m    243\u001b[0m     frozen_trial\u001b[38;5;241m.\u001b[39mstate \u001b[38;5;241m==\u001b[39m TrialState\u001b[38;5;241m.\u001b[39mFAIL\n\u001b[0;32m    244\u001b[0m     \u001b[38;5;129;01mand\u001b[39;00m func_err \u001b[38;5;129;01mis\u001b[39;00m \u001b[38;5;129;01mnot\u001b[39;00m \u001b[38;5;28;01mNone\u001b[39;00m\n\u001b[0;32m    245\u001b[0m     \u001b[38;5;129;01mand\u001b[39;00m \u001b[38;5;129;01mnot\u001b[39;00m \u001b[38;5;28misinstance\u001b[39m(func_err, catch)\n\u001b[0;32m    246\u001b[0m ):\n\u001b[1;32m--> 247\u001b[0m     \u001b[38;5;28;01mraise\u001b[39;00m func_err\n\u001b[0;32m    248\u001b[0m \u001b[38;5;28;01mreturn\u001b[39;00m frozen_trial\n",
            "File \u001b[1;32mc:\\Users\\benja\\OneDrive\\Escritorio\\MDS7202\\venv\\lib\\site-packages\\optuna\\study\\_optimize.py:196\u001b[0m, in \u001b[0;36m_run_trial\u001b[1;34m(study, func, catch)\u001b[0m\n\u001b[0;32m    194\u001b[0m \u001b[38;5;28;01mwith\u001b[39;00m get_heartbeat_thread(trial\u001b[38;5;241m.\u001b[39m_trial_id, study\u001b[38;5;241m.\u001b[39m_storage):\n\u001b[0;32m    195\u001b[0m     \u001b[38;5;28;01mtry\u001b[39;00m:\n\u001b[1;32m--> 196\u001b[0m         value_or_values \u001b[38;5;241m=\u001b[39m \u001b[43mfunc\u001b[49m\u001b[43m(\u001b[49m\u001b[43mtrial\u001b[49m\u001b[43m)\u001b[49m\n\u001b[0;32m    197\u001b[0m     \u001b[38;5;28;01mexcept\u001b[39;00m exceptions\u001b[38;5;241m.\u001b[39mTrialPruned \u001b[38;5;28;01mas\u001b[39;00m e:\n\u001b[0;32m    198\u001b[0m         \u001b[38;5;66;03m# TODO(mamu): Handle multi-objective cases.\u001b[39;00m\n\u001b[0;32m    199\u001b[0m         state \u001b[38;5;241m=\u001b[39m TrialState\u001b[38;5;241m.\u001b[39mPRUNED\n",
            "Cell \u001b[1;32mIn[87], line 50\u001b[0m, in \u001b[0;36mobjective\u001b[1;34m(trial)\u001b[0m\n\u001b[0;32m     32\u001b[0m xgb_pipeline \u001b[38;5;241m=\u001b[39m Pipeline(steps\u001b[38;5;241m=\u001b[39m[\n\u001b[0;32m     33\u001b[0m     (\u001b[38;5;124m'\u001b[39m\u001b[38;5;124mdate_transformer\u001b[39m\u001b[38;5;124m'\u001b[39m, date_transformer),\n\u001b[0;32m     34\u001b[0m     (\u001b[38;5;124m'\u001b[39m\u001b[38;5;124mcol_transformer\u001b[39m\u001b[38;5;124m'\u001b[39m, col_transformer),\n\u001b[1;32m   (...)\u001b[0m\n\u001b[0;32m     45\u001b[0m     ))\n\u001b[0;32m     46\u001b[0m ])\n\u001b[0;32m     48\u001b[0m pruning_callback \u001b[38;5;241m=\u001b[39m XGBoostPruningCallback(trial, \u001b[38;5;124m'\u001b[39m\u001b[38;5;124mvalidation_0-mae\u001b[39m\u001b[38;5;124m'\u001b[39m)\n\u001b[1;32m---> 50\u001b[0m \u001b[43mxgb_pipeline\u001b[49m\u001b[38;5;241;43m.\u001b[39;49m\u001b[43mfit\u001b[49m\u001b[43m(\u001b[49m\u001b[43mX_train\u001b[49m\u001b[43m,\u001b[49m\u001b[43m \u001b[49m\u001b[43my_train\u001b[49m\u001b[43m,\u001b[49m\u001b[43m \u001b[49m\u001b[43mregressor__eval_set\u001b[49m\u001b[38;5;241;43m=\u001b[39;49m\u001b[43m[\u001b[49m\u001b[43m(\u001b[49m\u001b[43mX_val\u001b[49m\u001b[43m,\u001b[49m\u001b[43m \u001b[49m\u001b[43my_val\u001b[49m\u001b[43m)\u001b[49m\u001b[43m]\u001b[49m\u001b[43m,\u001b[49m\u001b[43m \u001b[49m\u001b[43mregressor__callbacks\u001b[49m\u001b[38;5;241;43m=\u001b[39;49m\u001b[43m[\u001b[49m\u001b[43mpruning_callback\u001b[49m\u001b[43m]\u001b[49m\u001b[43m)\u001b[49m\n\u001b[0;32m     51\u001b[0m val_predictions_xgb \u001b[38;5;241m=\u001b[39m xgb_pipeline\u001b[38;5;241m.\u001b[39mpredict(X_val)\n\u001b[0;32m     52\u001b[0m mae_xgb \u001b[38;5;241m=\u001b[39m mean_absolute_error(y_val, val_predictions_xgb)\n",
            "File \u001b[1;32mc:\\Users\\benja\\OneDrive\\Escritorio\\MDS7202\\venv\\lib\\site-packages\\sklearn\\base.py:1474\u001b[0m, in \u001b[0;36m_fit_context.<locals>.decorator.<locals>.wrapper\u001b[1;34m(estimator, *args, **kwargs)\u001b[0m\n\u001b[0;32m   1467\u001b[0m     estimator\u001b[38;5;241m.\u001b[39m_validate_params()\n\u001b[0;32m   1469\u001b[0m \u001b[38;5;28;01mwith\u001b[39;00m config_context(\n\u001b[0;32m   1470\u001b[0m     skip_parameter_validation\u001b[38;5;241m=\u001b[39m(\n\u001b[0;32m   1471\u001b[0m         prefer_skip_nested_validation \u001b[38;5;129;01mor\u001b[39;00m global_skip_validation\n\u001b[0;32m   1472\u001b[0m     )\n\u001b[0;32m   1473\u001b[0m ):\n\u001b[1;32m-> 1474\u001b[0m     \u001b[38;5;28;01mreturn\u001b[39;00m fit_method(estimator, \u001b[38;5;241m*\u001b[39margs, \u001b[38;5;241m*\u001b[39m\u001b[38;5;241m*\u001b[39mkwargs)\n",
            "File \u001b[1;32mc:\\Users\\benja\\OneDrive\\Escritorio\\MDS7202\\venv\\lib\\site-packages\\sklearn\\pipeline.py:475\u001b[0m, in \u001b[0;36mPipeline.fit\u001b[1;34m(self, X, y, **params)\u001b[0m\n\u001b[0;32m    473\u001b[0m     \u001b[38;5;28;01mif\u001b[39;00m \u001b[38;5;28mself\u001b[39m\u001b[38;5;241m.\u001b[39m_final_estimator \u001b[38;5;241m!=\u001b[39m \u001b[38;5;124m\"\u001b[39m\u001b[38;5;124mpassthrough\u001b[39m\u001b[38;5;124m\"\u001b[39m:\n\u001b[0;32m    474\u001b[0m         last_step_params \u001b[38;5;241m=\u001b[39m routed_params[\u001b[38;5;28mself\u001b[39m\u001b[38;5;241m.\u001b[39msteps[\u001b[38;5;241m-\u001b[39m\u001b[38;5;241m1\u001b[39m][\u001b[38;5;241m0\u001b[39m]]\n\u001b[1;32m--> 475\u001b[0m         \u001b[38;5;28mself\u001b[39m\u001b[38;5;241m.\u001b[39m_final_estimator\u001b[38;5;241m.\u001b[39mfit(Xt, y, \u001b[38;5;241m*\u001b[39m\u001b[38;5;241m*\u001b[39mlast_step_params[\u001b[38;5;124m\"\u001b[39m\u001b[38;5;124mfit\u001b[39m\u001b[38;5;124m\"\u001b[39m])\n\u001b[0;32m    477\u001b[0m \u001b[38;5;28;01mreturn\u001b[39;00m \u001b[38;5;28mself\u001b[39m\n",
            "File \u001b[1;32mc:\\Users\\benja\\OneDrive\\Escritorio\\MDS7202\\venv\\lib\\site-packages\\xgboost\\core.py:730\u001b[0m, in \u001b[0;36mrequire_keyword_args.<locals>.throw_if.<locals>.inner_f\u001b[1;34m(*args, **kwargs)\u001b[0m\n\u001b[0;32m    728\u001b[0m \u001b[38;5;28;01mfor\u001b[39;00m k, arg \u001b[38;5;129;01min\u001b[39;00m \u001b[38;5;28mzip\u001b[39m(sig\u001b[38;5;241m.\u001b[39mparameters, args):\n\u001b[0;32m    729\u001b[0m     kwargs[k] \u001b[38;5;241m=\u001b[39m arg\n\u001b[1;32m--> 730\u001b[0m \u001b[38;5;28;01mreturn\u001b[39;00m func(\u001b[38;5;241m*\u001b[39m\u001b[38;5;241m*\u001b[39mkwargs)\n",
            "File \u001b[1;32mc:\\Users\\benja\\OneDrive\\Escritorio\\MDS7202\\venv\\lib\\site-packages\\xgboost\\sklearn.py:1055\u001b[0m, in \u001b[0;36mXGBModel.fit\u001b[1;34m(self, X, y, sample_weight, base_margin, eval_set, eval_metric, early_stopping_rounds, verbose, xgb_model, sample_weight_eval_set, base_margin_eval_set, feature_weights, callbacks)\u001b[0m\n\u001b[0;32m   1053\u001b[0m \u001b[38;5;28;01mwith\u001b[39;00m config_context(verbosity\u001b[38;5;241m=\u001b[39m\u001b[38;5;28mself\u001b[39m\u001b[38;5;241m.\u001b[39mverbosity):\n\u001b[0;32m   1054\u001b[0m     evals_result: TrainingCallback\u001b[38;5;241m.\u001b[39mEvalsLog \u001b[38;5;241m=\u001b[39m {}\n\u001b[1;32m-> 1055\u001b[0m     train_dmatrix, evals \u001b[38;5;241m=\u001b[39m \u001b[43m_wrap_evaluation_matrices\u001b[49m\u001b[43m(\u001b[49m\n\u001b[0;32m   1056\u001b[0m \u001b[43m        \u001b[49m\u001b[43mmissing\u001b[49m\u001b[38;5;241;43m=\u001b[39;49m\u001b[38;5;28;43mself\u001b[39;49m\u001b[38;5;241;43m.\u001b[39;49m\u001b[43mmissing\u001b[49m\u001b[43m,\u001b[49m\n\u001b[0;32m   1057\u001b[0m \u001b[43m        \u001b[49m\u001b[43mX\u001b[49m\u001b[38;5;241;43m=\u001b[39;49m\u001b[43mX\u001b[49m\u001b[43m,\u001b[49m\n\u001b[0;32m   1058\u001b[0m \u001b[43m        \u001b[49m\u001b[43my\u001b[49m\u001b[38;5;241;43m=\u001b[39;49m\u001b[43my\u001b[49m\u001b[43m,\u001b[49m\n\u001b[0;32m   1059\u001b[0m \u001b[43m        \u001b[49m\u001b[43mgroup\u001b[49m\u001b[38;5;241;43m=\u001b[39;49m\u001b[38;5;28;43;01mNone\u001b[39;49;00m\u001b[43m,\u001b[49m\n\u001b[0;32m   1060\u001b[0m \u001b[43m        \u001b[49m\u001b[43mqid\u001b[49m\u001b[38;5;241;43m=\u001b[39;49m\u001b[38;5;28;43;01mNone\u001b[39;49;00m\u001b[43m,\u001b[49m\n\u001b[0;32m   1061\u001b[0m \u001b[43m        \u001b[49m\u001b[43msample_weight\u001b[49m\u001b[38;5;241;43m=\u001b[39;49m\u001b[43msample_weight\u001b[49m\u001b[43m,\u001b[49m\n\u001b[0;32m   1062\u001b[0m \u001b[43m        \u001b[49m\u001b[43mbase_margin\u001b[49m\u001b[38;5;241;43m=\u001b[39;49m\u001b[43mbase_margin\u001b[49m\u001b[43m,\u001b[49m\n\u001b[0;32m   1063\u001b[0m \u001b[43m        \u001b[49m\u001b[43mfeature_weights\u001b[49m\u001b[38;5;241;43m=\u001b[39;49m\u001b[43mfeature_weights\u001b[49m\u001b[43m,\u001b[49m\n\u001b[0;32m   1064\u001b[0m \u001b[43m        \u001b[49m\u001b[43meval_set\u001b[49m\u001b[38;5;241;43m=\u001b[39;49m\u001b[43meval_set\u001b[49m\u001b[43m,\u001b[49m\n\u001b[0;32m   1065\u001b[0m \u001b[43m        \u001b[49m\u001b[43msample_weight_eval_set\u001b[49m\u001b[38;5;241;43m=\u001b[39;49m\u001b[43msample_weight_eval_set\u001b[49m\u001b[43m,\u001b[49m\n\u001b[0;32m   1066\u001b[0m \u001b[43m        \u001b[49m\u001b[43mbase_margin_eval_set\u001b[49m\u001b[38;5;241;43m=\u001b[39;49m\u001b[43mbase_margin_eval_set\u001b[49m\u001b[43m,\u001b[49m\n\u001b[0;32m   1067\u001b[0m \u001b[43m        \u001b[49m\u001b[43meval_group\u001b[49m\u001b[38;5;241;43m=\u001b[39;49m\u001b[38;5;28;43;01mNone\u001b[39;49;00m\u001b[43m,\u001b[49m\n\u001b[0;32m   1068\u001b[0m \u001b[43m        \u001b[49m\u001b[43meval_qid\u001b[49m\u001b[38;5;241;43m=\u001b[39;49m\u001b[38;5;28;43;01mNone\u001b[39;49;00m\u001b[43m,\u001b[49m\n\u001b[0;32m   1069\u001b[0m \u001b[43m        \u001b[49m\u001b[43mcreate_dmatrix\u001b[49m\u001b[38;5;241;43m=\u001b[39;49m\u001b[38;5;28;43mself\u001b[39;49m\u001b[38;5;241;43m.\u001b[39;49m\u001b[43m_create_dmatrix\u001b[49m\u001b[43m,\u001b[49m\n\u001b[0;32m   1070\u001b[0m \u001b[43m        \u001b[49m\u001b[43menable_categorical\u001b[49m\u001b[38;5;241;43m=\u001b[39;49m\u001b[38;5;28;43mself\u001b[39;49m\u001b[38;5;241;43m.\u001b[39;49m\u001b[43menable_categorical\u001b[49m\u001b[43m,\u001b[49m\n\u001b[0;32m   1071\u001b[0m \u001b[43m        \u001b[49m\u001b[43mfeature_types\u001b[49m\u001b[38;5;241;43m=\u001b[39;49m\u001b[38;5;28;43mself\u001b[39;49m\u001b[38;5;241;43m.\u001b[39;49m\u001b[43mfeature_types\u001b[49m\u001b[43m,\u001b[49m\n\u001b[0;32m   1072\u001b[0m \u001b[43m    \u001b[49m\u001b[43m)\u001b[49m\n\u001b[0;32m   1073\u001b[0m     params \u001b[38;5;241m=\u001b[39m \u001b[38;5;28mself\u001b[39m\u001b[38;5;241m.\u001b[39mget_xgb_params()\n\u001b[0;32m   1075\u001b[0m     \u001b[38;5;28;01mif\u001b[39;00m \u001b[38;5;28mcallable\u001b[39m(\u001b[38;5;28mself\u001b[39m\u001b[38;5;241m.\u001b[39mobjective):\n",
            "File \u001b[1;32mc:\\Users\\benja\\OneDrive\\Escritorio\\MDS7202\\venv\\lib\\site-packages\\xgboost\\sklearn.py:572\u001b[0m, in \u001b[0;36m_wrap_evaluation_matrices\u001b[1;34m(missing, X, y, group, qid, sample_weight, base_margin, feature_weights, eval_set, sample_weight_eval_set, base_margin_eval_set, eval_group, eval_qid, create_dmatrix, enable_categorical, feature_types)\u001b[0m\n\u001b[0;32m    570\u001b[0m         evals\u001b[38;5;241m.\u001b[39mappend(train_dmatrix)\n\u001b[0;32m    571\u001b[0m     \u001b[38;5;28;01melse\u001b[39;00m:\n\u001b[1;32m--> 572\u001b[0m         m \u001b[38;5;241m=\u001b[39m \u001b[43mcreate_dmatrix\u001b[49m\u001b[43m(\u001b[49m\n\u001b[0;32m    573\u001b[0m \u001b[43m            \u001b[49m\u001b[43mdata\u001b[49m\u001b[38;5;241;43m=\u001b[39;49m\u001b[43mvalid_X\u001b[49m\u001b[43m,\u001b[49m\n\u001b[0;32m    574\u001b[0m \u001b[43m            \u001b[49m\u001b[43mlabel\u001b[49m\u001b[38;5;241;43m=\u001b[39;49m\u001b[43mvalid_y\u001b[49m\u001b[43m,\u001b[49m\n\u001b[0;32m    575\u001b[0m \u001b[43m            \u001b[49m\u001b[43mweight\u001b[49m\u001b[38;5;241;43m=\u001b[39;49m\u001b[43msample_weight_eval_set\u001b[49m\u001b[43m[\u001b[49m\u001b[43mi\u001b[49m\u001b[43m]\u001b[49m\u001b[43m,\u001b[49m\n\u001b[0;32m    576\u001b[0m \u001b[43m            \u001b[49m\u001b[43mgroup\u001b[49m\u001b[38;5;241;43m=\u001b[39;49m\u001b[43meval_group\u001b[49m\u001b[43m[\u001b[49m\u001b[43mi\u001b[49m\u001b[43m]\u001b[49m\u001b[43m,\u001b[49m\n\u001b[0;32m    577\u001b[0m \u001b[43m            \u001b[49m\u001b[43mqid\u001b[49m\u001b[38;5;241;43m=\u001b[39;49m\u001b[43meval_qid\u001b[49m\u001b[43m[\u001b[49m\u001b[43mi\u001b[49m\u001b[43m]\u001b[49m\u001b[43m,\u001b[49m\n\u001b[0;32m    578\u001b[0m \u001b[43m            \u001b[49m\u001b[43mbase_margin\u001b[49m\u001b[38;5;241;43m=\u001b[39;49m\u001b[43mbase_margin_eval_set\u001b[49m\u001b[43m[\u001b[49m\u001b[43mi\u001b[49m\u001b[43m]\u001b[49m\u001b[43m,\u001b[49m\n\u001b[0;32m    579\u001b[0m \u001b[43m            \u001b[49m\u001b[43mmissing\u001b[49m\u001b[38;5;241;43m=\u001b[39;49m\u001b[43mmissing\u001b[49m\u001b[43m,\u001b[49m\n\u001b[0;32m    580\u001b[0m \u001b[43m            \u001b[49m\u001b[43menable_categorical\u001b[49m\u001b[38;5;241;43m=\u001b[39;49m\u001b[43menable_categorical\u001b[49m\u001b[43m,\u001b[49m\n\u001b[0;32m    581\u001b[0m \u001b[43m            \u001b[49m\u001b[43mfeature_types\u001b[49m\u001b[38;5;241;43m=\u001b[39;49m\u001b[43mfeature_types\u001b[49m\u001b[43m,\u001b[49m\n\u001b[0;32m    582\u001b[0m \u001b[43m            \u001b[49m\u001b[43mref\u001b[49m\u001b[38;5;241;43m=\u001b[39;49m\u001b[43mtrain_dmatrix\u001b[49m\u001b[43m,\u001b[49m\n\u001b[0;32m    583\u001b[0m \u001b[43m        \u001b[49m\u001b[43m)\u001b[49m\n\u001b[0;32m    584\u001b[0m         evals\u001b[38;5;241m.\u001b[39mappend(m)\n\u001b[0;32m    585\u001b[0m nevals \u001b[38;5;241m=\u001b[39m \u001b[38;5;28mlen\u001b[39m(evals)\n",
            "File \u001b[1;32mc:\\Users\\benja\\OneDrive\\Escritorio\\MDS7202\\venv\\lib\\site-packages\\xgboost\\sklearn.py:958\u001b[0m, in \u001b[0;36mXGBModel._create_dmatrix\u001b[1;34m(self, ref, **kwargs)\u001b[0m\n\u001b[0;32m    956\u001b[0m \u001b[38;5;28;01mif\u001b[39;00m _can_use_qdm(\u001b[38;5;28mself\u001b[39m\u001b[38;5;241m.\u001b[39mtree_method) \u001b[38;5;129;01mand\u001b[39;00m \u001b[38;5;28mself\u001b[39m\u001b[38;5;241m.\u001b[39mbooster \u001b[38;5;241m!=\u001b[39m \u001b[38;5;124m\"\u001b[39m\u001b[38;5;124mgblinear\u001b[39m\u001b[38;5;124m\"\u001b[39m:\n\u001b[0;32m    957\u001b[0m     \u001b[38;5;28;01mtry\u001b[39;00m:\n\u001b[1;32m--> 958\u001b[0m         \u001b[38;5;28;01mreturn\u001b[39;00m QuantileDMatrix(\n\u001b[0;32m    959\u001b[0m             \u001b[38;5;241m*\u001b[39m\u001b[38;5;241m*\u001b[39mkwargs, ref\u001b[38;5;241m=\u001b[39mref, nthread\u001b[38;5;241m=\u001b[39m\u001b[38;5;28mself\u001b[39m\u001b[38;5;241m.\u001b[39mn_jobs, max_bin\u001b[38;5;241m=\u001b[39m\u001b[38;5;28mself\u001b[39m\u001b[38;5;241m.\u001b[39mmax_bin\n\u001b[0;32m    960\u001b[0m         )\n\u001b[0;32m    961\u001b[0m     \u001b[38;5;28;01mexcept\u001b[39;00m \u001b[38;5;167;01mTypeError\u001b[39;00m:  \u001b[38;5;66;03m# `QuantileDMatrix` supports lesser types than DMatrix\u001b[39;00m\n\u001b[0;32m    962\u001b[0m         \u001b[38;5;28;01mpass\u001b[39;00m\n",
            "File \u001b[1;32mc:\\Users\\benja\\OneDrive\\Escritorio\\MDS7202\\venv\\lib\\site-packages\\xgboost\\core.py:730\u001b[0m, in \u001b[0;36mrequire_keyword_args.<locals>.throw_if.<locals>.inner_f\u001b[1;34m(*args, **kwargs)\u001b[0m\n\u001b[0;32m    728\u001b[0m \u001b[38;5;28;01mfor\u001b[39;00m k, arg \u001b[38;5;129;01min\u001b[39;00m \u001b[38;5;28mzip\u001b[39m(sig\u001b[38;5;241m.\u001b[39mparameters, args):\n\u001b[0;32m    729\u001b[0m     kwargs[k] \u001b[38;5;241m=\u001b[39m arg\n\u001b[1;32m--> 730\u001b[0m \u001b[38;5;28;01mreturn\u001b[39;00m func(\u001b[38;5;241m*\u001b[39m\u001b[38;5;241m*\u001b[39mkwargs)\n",
            "File \u001b[1;32mc:\\Users\\benja\\OneDrive\\Escritorio\\MDS7202\\venv\\lib\\site-packages\\xgboost\\core.py:1529\u001b[0m, in \u001b[0;36mQuantileDMatrix.__init__\u001b[1;34m(self, data, label, weight, base_margin, missing, silent, feature_names, feature_types, nthread, max_bin, ref, group, qid, label_lower_bound, label_upper_bound, feature_weights, enable_categorical, data_split_mode)\u001b[0m\n\u001b[0;32m   1509\u001b[0m     \u001b[38;5;28;01mif\u001b[39;00m \u001b[38;5;28many\u001b[39m(\n\u001b[0;32m   1510\u001b[0m         info \u001b[38;5;129;01mis\u001b[39;00m \u001b[38;5;129;01mnot\u001b[39;00m \u001b[38;5;28;01mNone\u001b[39;00m\n\u001b[0;32m   1511\u001b[0m         \u001b[38;5;28;01mfor\u001b[39;00m info \u001b[38;5;129;01min\u001b[39;00m (\n\u001b[1;32m   (...)\u001b[0m\n\u001b[0;32m   1522\u001b[0m         )\n\u001b[0;32m   1523\u001b[0m     ):\n\u001b[0;32m   1524\u001b[0m         \u001b[38;5;28;01mraise\u001b[39;00m \u001b[38;5;167;01mValueError\u001b[39;00m(\n\u001b[0;32m   1525\u001b[0m             \u001b[38;5;124m\"\u001b[39m\u001b[38;5;124mIf data iterator is used as input, data like label should be \u001b[39m\u001b[38;5;124m\"\u001b[39m\n\u001b[0;32m   1526\u001b[0m             \u001b[38;5;124m\"\u001b[39m\u001b[38;5;124mspecified as batch argument.\u001b[39m\u001b[38;5;124m\"\u001b[39m\n\u001b[0;32m   1527\u001b[0m         )\n\u001b[1;32m-> 1529\u001b[0m \u001b[38;5;28;43mself\u001b[39;49m\u001b[38;5;241;43m.\u001b[39;49m\u001b[43m_init\u001b[49m\u001b[43m(\u001b[49m\n\u001b[0;32m   1530\u001b[0m \u001b[43m    \u001b[49m\u001b[43mdata\u001b[49m\u001b[43m,\u001b[49m\n\u001b[0;32m   1531\u001b[0m \u001b[43m    \u001b[49m\u001b[43mref\u001b[49m\u001b[38;5;241;43m=\u001b[39;49m\u001b[43mref\u001b[49m\u001b[43m,\u001b[49m\n\u001b[0;32m   1532\u001b[0m \u001b[43m    \u001b[49m\u001b[43mlabel\u001b[49m\u001b[38;5;241;43m=\u001b[39;49m\u001b[43mlabel\u001b[49m\u001b[43m,\u001b[49m\n\u001b[0;32m   1533\u001b[0m \u001b[43m    \u001b[49m\u001b[43mweight\u001b[49m\u001b[38;5;241;43m=\u001b[39;49m\u001b[43mweight\u001b[49m\u001b[43m,\u001b[49m\n\u001b[0;32m   1534\u001b[0m \u001b[43m    \u001b[49m\u001b[43mbase_margin\u001b[49m\u001b[38;5;241;43m=\u001b[39;49m\u001b[43mbase_margin\u001b[49m\u001b[43m,\u001b[49m\n\u001b[0;32m   1535\u001b[0m \u001b[43m    \u001b[49m\u001b[43mgroup\u001b[49m\u001b[38;5;241;43m=\u001b[39;49m\u001b[43mgroup\u001b[49m\u001b[43m,\u001b[49m\n\u001b[0;32m   1536\u001b[0m \u001b[43m    \u001b[49m\u001b[43mqid\u001b[49m\u001b[38;5;241;43m=\u001b[39;49m\u001b[43mqid\u001b[49m\u001b[43m,\u001b[49m\n\u001b[0;32m   1537\u001b[0m \u001b[43m    \u001b[49m\u001b[43mlabel_lower_bound\u001b[49m\u001b[38;5;241;43m=\u001b[39;49m\u001b[43mlabel_lower_bound\u001b[49m\u001b[43m,\u001b[49m\n\u001b[0;32m   1538\u001b[0m \u001b[43m    \u001b[49m\u001b[43mlabel_upper_bound\u001b[49m\u001b[38;5;241;43m=\u001b[39;49m\u001b[43mlabel_upper_bound\u001b[49m\u001b[43m,\u001b[49m\n\u001b[0;32m   1539\u001b[0m \u001b[43m    \u001b[49m\u001b[43mfeature_weights\u001b[49m\u001b[38;5;241;43m=\u001b[39;49m\u001b[43mfeature_weights\u001b[49m\u001b[43m,\u001b[49m\n\u001b[0;32m   1540\u001b[0m \u001b[43m    \u001b[49m\u001b[43mfeature_names\u001b[49m\u001b[38;5;241;43m=\u001b[39;49m\u001b[43mfeature_names\u001b[49m\u001b[43m,\u001b[49m\n\u001b[0;32m   1541\u001b[0m \u001b[43m    \u001b[49m\u001b[43mfeature_types\u001b[49m\u001b[38;5;241;43m=\u001b[39;49m\u001b[43mfeature_types\u001b[49m\u001b[43m,\u001b[49m\n\u001b[0;32m   1542\u001b[0m \u001b[43m    \u001b[49m\u001b[43menable_categorical\u001b[49m\u001b[38;5;241;43m=\u001b[39;49m\u001b[43menable_categorical\u001b[49m\u001b[43m,\u001b[49m\n\u001b[0;32m   1543\u001b[0m \u001b[43m\u001b[49m\u001b[43m)\u001b[49m\n",
            "File \u001b[1;32mc:\\Users\\benja\\OneDrive\\Escritorio\\MDS7202\\venv\\lib\\site-packages\\xgboost\\core.py:1588\u001b[0m, in \u001b[0;36mQuantileDMatrix._init\u001b[1;34m(self, data, ref, enable_categorical, **meta)\u001b[0m\n\u001b[0;32m   1576\u001b[0m config \u001b[38;5;241m=\u001b[39m make_jcargs(\n\u001b[0;32m   1577\u001b[0m     nthread\u001b[38;5;241m=\u001b[39m\u001b[38;5;28mself\u001b[39m\u001b[38;5;241m.\u001b[39mnthread, missing\u001b[38;5;241m=\u001b[39m\u001b[38;5;28mself\u001b[39m\u001b[38;5;241m.\u001b[39mmissing, max_bin\u001b[38;5;241m=\u001b[39m\u001b[38;5;28mself\u001b[39m\u001b[38;5;241m.\u001b[39mmax_bin\n\u001b[0;32m   1578\u001b[0m )\n\u001b[0;32m   1579\u001b[0m ret \u001b[38;5;241m=\u001b[39m _LIB\u001b[38;5;241m.\u001b[39mXGQuantileDMatrixCreateFromCallback(\n\u001b[0;32m   1580\u001b[0m     \u001b[38;5;28;01mNone\u001b[39;00m,\n\u001b[0;32m   1581\u001b[0m     it\u001b[38;5;241m.\u001b[39mproxy\u001b[38;5;241m.\u001b[39mhandle,\n\u001b[1;32m   (...)\u001b[0m\n\u001b[0;32m   1586\u001b[0m     ctypes\u001b[38;5;241m.\u001b[39mbyref(handle),\n\u001b[0;32m   1587\u001b[0m )\n\u001b[1;32m-> 1588\u001b[0m \u001b[43mit\u001b[49m\u001b[38;5;241;43m.\u001b[39;49m\u001b[43mreraise\u001b[49m\u001b[43m(\u001b[49m\u001b[43m)\u001b[49m\n\u001b[0;32m   1589\u001b[0m \u001b[38;5;66;03m# delay check_call to throw intermediate exception first\u001b[39;00m\n\u001b[0;32m   1590\u001b[0m _check_call(ret)\n",
            "File \u001b[1;32mc:\\Users\\benja\\OneDrive\\Escritorio\\MDS7202\\venv\\lib\\site-packages\\xgboost\\core.py:576\u001b[0m, in \u001b[0;36mDataIter.reraise\u001b[1;34m(self)\u001b[0m\n\u001b[0;32m    574\u001b[0m exc \u001b[38;5;241m=\u001b[39m \u001b[38;5;28mself\u001b[39m\u001b[38;5;241m.\u001b[39m_exception\n\u001b[0;32m    575\u001b[0m \u001b[38;5;28mself\u001b[39m\u001b[38;5;241m.\u001b[39m_exception \u001b[38;5;241m=\u001b[39m \u001b[38;5;28;01mNone\u001b[39;00m\n\u001b[1;32m--> 576\u001b[0m \u001b[38;5;28;01mraise\u001b[39;00m exc\n",
            "File \u001b[1;32mc:\\Users\\benja\\OneDrive\\Escritorio\\MDS7202\\venv\\lib\\site-packages\\xgboost\\core.py:557\u001b[0m, in \u001b[0;36mDataIter._handle_exception\u001b[1;34m(self, fn, dft_ret)\u001b[0m\n\u001b[0;32m    554\u001b[0m     \u001b[38;5;28;01mreturn\u001b[39;00m dft_ret\n\u001b[0;32m    556\u001b[0m \u001b[38;5;28;01mtry\u001b[39;00m:\n\u001b[1;32m--> 557\u001b[0m     \u001b[38;5;28;01mreturn\u001b[39;00m \u001b[43mfn\u001b[49m\u001b[43m(\u001b[49m\u001b[43m)\u001b[49m\n\u001b[0;32m    558\u001b[0m \u001b[38;5;28;01mexcept\u001b[39;00m \u001b[38;5;167;01mException\u001b[39;00m \u001b[38;5;28;01mas\u001b[39;00m e:  \u001b[38;5;66;03m# pylint: disable=broad-except\u001b[39;00m\n\u001b[0;32m    559\u001b[0m     \u001b[38;5;66;03m# Defer the exception in order to return 0 and stop the iteration.\u001b[39;00m\n\u001b[0;32m    560\u001b[0m     \u001b[38;5;66;03m# Exception inside a ctype callback function has no effect except\u001b[39;00m\n\u001b[0;32m    561\u001b[0m     \u001b[38;5;66;03m# for printing to stderr (doesn't stop the execution).\u001b[39;00m\n\u001b[0;32m    562\u001b[0m     tb \u001b[38;5;241m=\u001b[39m sys\u001b[38;5;241m.\u001b[39mexc_info()[\u001b[38;5;241m2\u001b[39m]\n",
            "File \u001b[1;32mc:\\Users\\benja\\OneDrive\\Escritorio\\MDS7202\\venv\\lib\\site-packages\\xgboost\\core.py:641\u001b[0m, in \u001b[0;36mDataIter._next_wrapper.<locals>.<lambda>\u001b[1;34m()\u001b[0m\n\u001b[0;32m    638\u001b[0m     \u001b[38;5;28mself\u001b[39m\u001b[38;5;241m.\u001b[39m_data_ref \u001b[38;5;241m=\u001b[39m ref\n\u001b[0;32m    640\u001b[0m \u001b[38;5;66;03m# pylint: disable=not-callable\u001b[39;00m\n\u001b[1;32m--> 641\u001b[0m \u001b[38;5;28;01mreturn\u001b[39;00m \u001b[38;5;28mself\u001b[39m\u001b[38;5;241m.\u001b[39m_handle_exception(\u001b[38;5;28;01mlambda\u001b[39;00m: \u001b[38;5;28;43mself\u001b[39;49m\u001b[38;5;241;43m.\u001b[39;49m\u001b[43mnext\u001b[49m\u001b[43m(\u001b[49m\u001b[43minput_data\u001b[49m\u001b[43m)\u001b[49m, \u001b[38;5;241m0\u001b[39m)\n",
            "File \u001b[1;32mc:\\Users\\benja\\OneDrive\\Escritorio\\MDS7202\\venv\\lib\\site-packages\\xgboost\\data.py:1280\u001b[0m, in \u001b[0;36mSingleBatchInternalIter.next\u001b[1;34m(self, input_data)\u001b[0m\n\u001b[0;32m   1278\u001b[0m     \u001b[38;5;28;01mreturn\u001b[39;00m \u001b[38;5;241m0\u001b[39m\n\u001b[0;32m   1279\u001b[0m \u001b[38;5;28mself\u001b[39m\u001b[38;5;241m.\u001b[39mit \u001b[38;5;241m+\u001b[39m\u001b[38;5;241m=\u001b[39m \u001b[38;5;241m1\u001b[39m\n\u001b[1;32m-> 1280\u001b[0m input_data(\u001b[38;5;241m*\u001b[39m\u001b[38;5;241m*\u001b[39m\u001b[38;5;28mself\u001b[39m\u001b[38;5;241m.\u001b[39mkwargs)\n\u001b[0;32m   1281\u001b[0m \u001b[38;5;28;01mreturn\u001b[39;00m \u001b[38;5;241m1\u001b[39m\n",
            "File \u001b[1;32mc:\\Users\\benja\\OneDrive\\Escritorio\\MDS7202\\venv\\lib\\site-packages\\xgboost\\core.py:730\u001b[0m, in \u001b[0;36mrequire_keyword_args.<locals>.throw_if.<locals>.inner_f\u001b[1;34m(*args, **kwargs)\u001b[0m\n\u001b[0;32m    728\u001b[0m \u001b[38;5;28;01mfor\u001b[39;00m k, arg \u001b[38;5;129;01min\u001b[39;00m \u001b[38;5;28mzip\u001b[39m(sig\u001b[38;5;241m.\u001b[39mparameters, args):\n\u001b[0;32m    729\u001b[0m     kwargs[k] \u001b[38;5;241m=\u001b[39m arg\n\u001b[1;32m--> 730\u001b[0m \u001b[38;5;28;01mreturn\u001b[39;00m func(\u001b[38;5;241m*\u001b[39m\u001b[38;5;241m*\u001b[39mkwargs)\n",
            "File \u001b[1;32mc:\\Users\\benja\\OneDrive\\Escritorio\\MDS7202\\venv\\lib\\site-packages\\xgboost\\core.py:624\u001b[0m, in \u001b[0;36mDataIter._next_wrapper.<locals>.input_data\u001b[1;34m(data, feature_names, feature_types, **kwargs)\u001b[0m\n\u001b[0;32m    622\u001b[0m     new, cat_codes, feature_names, feature_types \u001b[38;5;241m=\u001b[39m \u001b[38;5;28mself\u001b[39m\u001b[38;5;241m.\u001b[39m_temporary_data\n\u001b[0;32m    623\u001b[0m \u001b[38;5;28;01melse\u001b[39;00m:\n\u001b[1;32m--> 624\u001b[0m     new, cat_codes, feature_names, feature_types \u001b[38;5;241m=\u001b[39m \u001b[43m_proxy_transform\u001b[49m\u001b[43m(\u001b[49m\n\u001b[0;32m    625\u001b[0m \u001b[43m        \u001b[49m\u001b[43mdata\u001b[49m\u001b[43m,\u001b[49m\n\u001b[0;32m    626\u001b[0m \u001b[43m        \u001b[49m\u001b[43mfeature_names\u001b[49m\u001b[43m,\u001b[49m\n\u001b[0;32m    627\u001b[0m \u001b[43m        \u001b[49m\u001b[43mfeature_types\u001b[49m\u001b[43m,\u001b[49m\n\u001b[0;32m    628\u001b[0m \u001b[43m        \u001b[49m\u001b[38;5;28;43mself\u001b[39;49m\u001b[38;5;241;43m.\u001b[39;49m\u001b[43m_enable_categorical\u001b[49m\u001b[43m,\u001b[49m\n\u001b[0;32m    629\u001b[0m \u001b[43m    \u001b[49m\u001b[43m)\u001b[49m\n\u001b[0;32m    630\u001b[0m \u001b[38;5;66;03m# Stage the data, meta info are copied inside C++ MetaInfo.\u001b[39;00m\n\u001b[0;32m    631\u001b[0m \u001b[38;5;28mself\u001b[39m\u001b[38;5;241m.\u001b[39m_temporary_data \u001b[38;5;241m=\u001b[39m (new, cat_codes, feature_names, feature_types)\n",
            "File \u001b[1;32mc:\\Users\\benja\\OneDrive\\Escritorio\\MDS7202\\venv\\lib\\site-packages\\xgboost\\data.py:1315\u001b[0m, in \u001b[0;36m_proxy_transform\u001b[1;34m(data, feature_names, feature_types, enable_categorical)\u001b[0m\n\u001b[0;32m   1313\u001b[0m     data \u001b[38;5;241m=\u001b[39m pd\u001b[38;5;241m.\u001b[39mDataFrame(data)\n\u001b[0;32m   1314\u001b[0m \u001b[38;5;28;01mif\u001b[39;00m _is_pandas_df(data):\n\u001b[1;32m-> 1315\u001b[0m     arr, feature_names, feature_types \u001b[38;5;241m=\u001b[39m \u001b[43m_transform_pandas_df\u001b[49m\u001b[43m(\u001b[49m\n\u001b[0;32m   1316\u001b[0m \u001b[43m        \u001b[49m\u001b[43mdata\u001b[49m\u001b[43m,\u001b[49m\u001b[43m \u001b[49m\u001b[43menable_categorical\u001b[49m\u001b[43m,\u001b[49m\u001b[43m \u001b[49m\u001b[43mfeature_names\u001b[49m\u001b[43m,\u001b[49m\u001b[43m \u001b[49m\u001b[43mfeature_types\u001b[49m\n\u001b[0;32m   1317\u001b[0m \u001b[43m    \u001b[49m\u001b[43m)\u001b[49m\n\u001b[0;32m   1318\u001b[0m     arr, _ \u001b[38;5;241m=\u001b[39m _ensure_np_dtype(arr, arr\u001b[38;5;241m.\u001b[39mdtype)\n\u001b[0;32m   1319\u001b[0m     \u001b[38;5;28;01mreturn\u001b[39;00m arr, \u001b[38;5;28;01mNone\u001b[39;00m, feature_names, feature_types\n",
            "File \u001b[1;32mc:\\Users\\benja\\OneDrive\\Escritorio\\MDS7202\\venv\\lib\\site-packages\\xgboost\\data.py:490\u001b[0m, in \u001b[0;36m_transform_pandas_df\u001b[1;34m(data, enable_categorical, feature_names, feature_types, meta, meta_type)\u001b[0m\n\u001b[0;32m    483\u001b[0m \u001b[38;5;28;01mfor\u001b[39;00m dtype \u001b[38;5;129;01min\u001b[39;00m data\u001b[38;5;241m.\u001b[39mdtypes:\n\u001b[0;32m    484\u001b[0m     \u001b[38;5;28;01mif\u001b[39;00m \u001b[38;5;129;01mnot\u001b[39;00m (\n\u001b[0;32m    485\u001b[0m         (dtype\u001b[38;5;241m.\u001b[39mname \u001b[38;5;129;01min\u001b[39;00m _pandas_dtype_mapper)\n\u001b[0;32m    486\u001b[0m         \u001b[38;5;129;01mor\u001b[39;00m is_pd_sparse_dtype(dtype)\n\u001b[0;32m    487\u001b[0m         \u001b[38;5;129;01mor\u001b[39;00m (is_pd_cat_dtype(dtype) \u001b[38;5;129;01mand\u001b[39;00m enable_categorical)\n\u001b[0;32m    488\u001b[0m         \u001b[38;5;129;01mor\u001b[39;00m is_pa_ext_dtype(dtype)\n\u001b[0;32m    489\u001b[0m     ):\n\u001b[1;32m--> 490\u001b[0m         \u001b[43m_invalid_dataframe_dtype\u001b[49m\u001b[43m(\u001b[49m\u001b[43mdata\u001b[49m\u001b[43m)\u001b[49m\n\u001b[0;32m    491\u001b[0m     \u001b[38;5;28;01mif\u001b[39;00m is_pa_ext_dtype(dtype):\n\u001b[0;32m    492\u001b[0m         pyarrow_extension \u001b[38;5;241m=\u001b[39m \u001b[38;5;28;01mTrue\u001b[39;00m\n",
            "File \u001b[1;32mc:\\Users\\benja\\OneDrive\\Escritorio\\MDS7202\\venv\\lib\\site-packages\\xgboost\\data.py:308\u001b[0m, in \u001b[0;36m_invalid_dataframe_dtype\u001b[1;34m(data)\u001b[0m\n\u001b[0;32m    306\u001b[0m type_err \u001b[38;5;241m=\u001b[39m \u001b[38;5;124m\"\u001b[39m\u001b[38;5;124mDataFrame.dtypes for data must be int, float, bool or category.\u001b[39m\u001b[38;5;124m\"\u001b[39m\n\u001b[0;32m    307\u001b[0m msg \u001b[38;5;241m=\u001b[39m \u001b[38;5;124mf\u001b[39m\u001b[38;5;124m\"\"\"\u001b[39m\u001b[38;5;132;01m{\u001b[39;00mtype_err\u001b[38;5;132;01m}\u001b[39;00m\u001b[38;5;124m \u001b[39m\u001b[38;5;132;01m{\u001b[39;00m_ENABLE_CAT_ERR\u001b[38;5;132;01m}\u001b[39;00m\u001b[38;5;124m \u001b[39m\u001b[38;5;132;01m{\u001b[39;00merr\u001b[38;5;132;01m}\u001b[39;00m\u001b[38;5;124m\"\"\"\u001b[39m\n\u001b[1;32m--> 308\u001b[0m \u001b[38;5;28;01mraise\u001b[39;00m \u001b[38;5;167;01mValueError\u001b[39;00m(msg)\n",
            "\u001b[1;31mValueError\u001b[0m: DataFrame.dtypes for data must be int, float, bool or category. When categorical type is supplied, The experimental DMatrix parameter`enable_categorical` must be set to `True`.  Invalid columns:date: datetime64[ns], city: object, shop: object, brand: object, container: object, capacity: object"
          ]
        }
      ],
      "source": [
        "# Inserte su código acá\n",
        "from optuna.integration import XGBoostPruningCallback\n",
        "\n",
        "# separación de datos\n",
        "train_data, test_data = train_test_split(df, test_size=0.1, random_state=42)\n",
        "train_data, val_data = train_test_split(train_data, test_size=0.2222, random_state=42)\n",
        "\n",
        "X_train, y_train = train_data.drop(columns=['quantity']), train_data['quantity']\n",
        "X_val, y_val = val_data.drop(columns=['quantity']), val_data['quantity']\n",
        "X_test, y_test = test_data.drop(columns=['quantity']), test_data['quantity']\n",
        "\n",
        "def objective(trial):\n",
        "    # Hiperparámetros a optimizar\n",
        "    learning_rate = trial.suggest_float('learning_rate', 0.001, 0.1)\n",
        "    n_estimators = trial.suggest_int('n_estimators', 50, 1000)\n",
        "    max_depth = trial.suggest_int('max_depth', 3, 10)\n",
        "    max_leaves = trial.suggest_int('max_leaves', 0, 100)\n",
        "    min_child_weight = trial.suggest_int('min_child_weight', 1, 5)\n",
        "    reg_alpha = trial.suggest_float('reg_alpha', 0, 1)\n",
        "    reg_lambda = trial.suggest_float('reg_lambda', 0, 1)\n",
        "    min_frequency = trial.suggest_float('min_frequency', 0.0, 1.0)\n",
        "    \n",
        "    # Pipeline\n",
        "    date_transformer = FunctionTransformer(extract_date_features)\n",
        "    col_transformer = ColumnTransformer(\n",
        "        transformers=[\n",
        "            ('num', StandardScaler(), numerical_features),\n",
        "            ('cat', OneHotEncoder(min_frequency = min_frequency), categorical_features)\n",
        "        ]\n",
        "    )\n",
        "\n",
        "    xgb_pipeline = Pipeline(steps=[\n",
        "        ('date_transformer', date_transformer),\n",
        "        ('col_transformer', col_transformer),\n",
        "        ('regressor', XGBRegressor(\n",
        "            objective = 'reg:squarederror',\n",
        "            learning_rate = learning_rate,\n",
        "            n_estimators = n_estimators,\n",
        "            max_depth = max_depth,\n",
        "            max_leaves = max_leaves,\n",
        "            min_child_weight = min_child_weight,\n",
        "            reg_alpha = reg_alpha,\n",
        "            reg_lambda = reg_lambda,\n",
        "            random_state = 42\n",
        "        ))\n",
        "    ])\n",
        "\n",
        "    pruning_callback = XGBoostPruningCallback(trial, 'validation_0-mae')\n",
        "    \n",
        "    xgb_pipeline.fit(X_train, y_train, regressor__eval_set=[(X_val, y_val)], regressor__callbacks=[pruning_callback])\n",
        "    val_predictions_xgb = xgb_pipeline.predict(X_val)\n",
        "    mae_xgb = mean_absolute_error(y_val, val_predictions_xgb)\n",
        "    \n",
        "    return mae_xgb\n",
        "\n",
        "# Configuración del estudio de Optuna\n",
        "optuna.logging.set_verbosity(optuna.logging.WARNING)\n",
        "study = optuna.create_study(direction = 'minimize', sampler = TPESampler(seed = 42))\n",
        "study.optimize(objective, timeout = 300, show_progress_bar = True)  # 5 minutos\n",
        "\n",
        "# Mejores hiperparámetros\n",
        "best_params = study.best_params\n",
        "best_trial = study.best_trial\n",
        "\n",
        "print(f'Número de trials: {len(study.trials)}')\n",
        "print(f'MAE del mejor trial: {best_trial.value}')\n",
        "print(f'Mejores hiperparámetros: {best_params}')\n",
        "\n",
        "# Entrenar el modelo final con los mejores hiperparámetros\n",
        "final_pipeline = Pipeline(steps = [\n",
        "    ('date_transformer', date_transformer),\n",
        "    ('col_transformer', ColumnTransformer(\n",
        "        transformers=[\n",
        "            ('num', StandardScaler(), numerical_features),\n",
        "            ('cat', OneHotEncoder(min_frequency = best_params['min_frequency']), categorical_features)\n",
        "        ]\n",
        "    )),\n",
        "    ('regressor', XGBRegressor(\n",
        "        objective='reg:squarederror',\n",
        "        learning_rate=best_params['learning_rate'],\n",
        "        n_estimators=best_params['n_estimators'],\n",
        "        max_depth=best_params['max_depth'],\n",
        "        max_leaves=best_params['max_leaves'],\n",
        "        min_child_weight=best_params['min_child_weight'],\n",
        "        reg_alpha=best_params['reg_alpha'],\n",
        "        reg_lambda=best_params['reg_lambda'],\n",
        "        random_state=42\n",
        "    ))\n",
        "])\n",
        "\n",
        "final_pipeline.fit(X_train, y_train)\n",
        "\n",
        "# Guardar modelo final\n",
        "#joblib.dump(final_pipeline, 'xgb_pipeline_optimized_with_pruning.pkl')\n",
        "\n",
        "# Evaluar en el conjunto de validación\n",
        "val_predictions_final = final_pipeline.predict(X_val)\n",
        "mae_final = mean_absolute_error(y_val, val_predictions_final)\n",
        "print(f'MAE final del modelo optimizado: {mae_final}')"
      ]
    },
    {
      "cell_type": "markdown",
      "metadata": {},
      "source": [
        "1.- El pruning es una técnica empleada en el Machine Learning que permite reducir el tamaño y la complejidad de un modelo perdiendo la menor cantidad posible de rendimiento. De este modo se eliminarán secciones del modelo que se puedan considerar redundantes. Esto puede impactar en el entrenamiento mejorando la velocidad de este mismo, ya que al contar con menos parámetros se deberían entrenar los modelos de manera más expedita. Por otro lado, al momento de usar este modelo el pruning debería generar predicciones más rápidas gracias a que el modelo debiese ser más simple. "
      ]
    },
    {
      "cell_type": "markdown",
      "metadata": {
        "cell_id": "8a081778cc704fc6bed05393a5419327",
        "deepnote_cell_type": "markdown",
        "id": "ZMiiVaCUI5wA"
      },
      "source": [
        "## 5. Visualizaciones (0.5 puntos)\n",
        "\n",
        "<p align=\"center\">\n",
        "  <img src=\"https://media.tenor.com/F-LgB1xTebEAAAAd/look-at-this-graph-nickelback.gif\">\n",
        "</p>\n",
        "\n",
        "\n",
        "Satisfecho con su trabajo, Fiu le pregunta si es posible generar visualizaciones que permitan entender el entrenamiento de su modelo.\n",
        "\n",
        "A partir del siguiente <a href = https://optuna.readthedocs.io/en/stable/tutorial/10_key_features/005_visualization.html#visualization>enlace</a>, genere las siguientes visualizaciones:\n",
        "\n",
        "1. Gráfico de historial de optimización\n",
        "2. Gráfico de coordenadas paralelas\n",
        "3. Gráfico de importancia de hiperparámetros\n",
        "\n",
        "Comente sus resultados:\n",
        "\n",
        "4. ¿Desde qué *trial* se empiezan a observar mejoras notables en sus resultados?\n",
        "5. ¿Qué tendencias puede observar a partir del gráfico de coordenadas paralelas?\n",
        "6. ¿Cuáles son los hiperparámetros con mayor importancia para la optimización de su modelo?"
      ]
    },
    {
      "cell_type": "markdown",
      "metadata": {},
      "source": [
        "4.- Se puede notar que al pasar del décimo trial se empiezan a ver mejoras sustanciales en el modelo, descendiendo su mae a valores cercanos a 2000 (el mejor valor del modelo).\n",
        "\n",
        "5.- En general se puede observar que los mejores resultados se obtienen con un learning rate alto, al igual que una profundidad elevada. Además se puede notar que el modelo debe tener un número de hojas mayor a 60, así como tener un min frequency cercano a 0, por lo que no se deben ignorar muchas categorías. Por otro lado se puede ver que el modelo deberá tener un gran número de estimadores y una regularización intermedia, ni demasiado elevada ni muy baja. \n",
        "\n",
        "6.- Por lo que se puede observar el parámetro con mayor importancia, con diferencia, es min_frequency. Esto puede significar que el hecho de ignorar o no categorías puede influir enormemente en la eficiencia del modelo a la hora de hacer predicciones. "
      ]
    },
    {
      "cell_type": "code",
      "execution_count": 83,
      "metadata": {
        "cell_id": "0e706dc9a8d946eda7a9eb1f0463c6d7",
        "deepnote_cell_type": "code",
        "id": "xjxAEENAI5wA"
      },
      "outputs": [
        {
          "data": {
            "application/vnd.plotly.v1+json": {
              "config": {
                "plotlyServerURL": "https://plot.ly"
              },
              "data": [
                {
                  "mode": "markers",
                  "name": "Objective Value",
                  "type": "scatter",
                  "x": [
                    0,
                    1,
                    2,
                    3,
                    4,
                    5,
                    6,
                    7,
                    8,
                    9,
                    10,
                    11,
                    12,
                    13,
                    14,
                    15,
                    16,
                    17,
                    18,
                    19,
                    20,
                    21,
                    22,
                    23,
                    24,
                    25,
                    26,
                    27,
                    28,
                    29,
                    30,
                    31,
                    32,
                    33,
                    34,
                    35,
                    36,
                    37,
                    38,
                    39,
                    40,
                    41,
                    42,
                    43,
                    44,
                    45,
                    46,
                    47,
                    48,
                    49,
                    50,
                    51,
                    52,
                    53,
                    54,
                    55,
                    56,
                    57,
                    58,
                    59,
                    60,
                    61,
                    62,
                    63,
                    64,
                    65,
                    66,
                    67,
                    68,
                    69,
                    70,
                    71,
                    72,
                    73,
                    74,
                    75,
                    76,
                    77,
                    78,
                    79,
                    80,
                    81,
                    82,
                    83,
                    84,
                    85,
                    86,
                    87,
                    88,
                    89,
                    90,
                    91,
                    92,
                    93,
                    94,
                    95,
                    96,
                    97,
                    98,
                    99,
                    100,
                    101,
                    102,
                    103,
                    104,
                    105,
                    106,
                    107,
                    108,
                    109,
                    110,
                    111,
                    112,
                    113,
                    114,
                    115,
                    116,
                    117,
                    118,
                    119,
                    120,
                    121,
                    122,
                    123,
                    124,
                    125,
                    126,
                    127,
                    128,
                    129,
                    130,
                    131,
                    132,
                    133,
                    134,
                    135,
                    136,
                    137,
                    138,
                    139,
                    140,
                    141,
                    142,
                    143,
                    144,
                    145,
                    146,
                    147,
                    148,
                    149,
                    150,
                    151,
                    152,
                    153,
                    154,
                    155,
                    156,
                    157,
                    158,
                    159,
                    160,
                    161,
                    162,
                    163,
                    164,
                    165,
                    166,
                    167,
                    168,
                    169,
                    170,
                    171,
                    172,
                    173,
                    174,
                    175,
                    176,
                    177,
                    178,
                    179,
                    180,
                    181,
                    182,
                    183,
                    184,
                    185,
                    186,
                    187,
                    188
                  ],
                  "y": [
                    9749.174034768506,
                    5757.241405136549,
                    8966.786244812625,
                    5813.638579851505,
                    9034.394314454436,
                    8707.184649891537,
                    9184.023770553005,
                    9166.99227461121,
                    5698.762707183859,
                    7506.077063946177,
                    13546.494419642857,
                    2304.2935717331334,
                    2268.563423919166,
                    2217.55814591324,
                    2087.52391038942,
                    2166.233968917673,
                    7048.5132713599305,
                    9283.68126860119,
                    8902.246728089893,
                    6653.472352466033,
                    5829.693570971729,
                    2245.687583836351,
                    2109.958327274847,
                    6880.960851534991,
                    5753.984241058329,
                    2081.1913168463907,
                    6553.7847711267605,
                    7073.327880204403,
                    2042.3670024705525,
                    6239.520148560635,
                    6647.133102897987,
                    2063.34984581971,
                    2036.3781592550092,
                    7231.864807845282,
                    6530.301446046068,
                    9543.702605607605,
                    7134.923806019712,
                    7079.195162020299,
                    2174.7841451377535,
                    9799.725359972334,
                    6759.413233797315,
                    2125.5748830548396,
                    2082.201794097921,
                    9475.287877656565,
                    2325.4433131995097,
                    6236.412017024019,
                    7153.106282470212,
                    2119.772840165996,
                    9377.18690856074,
                    9600.43947473906,
                    6559.497377330388,
                    2120.742726214055,
                    2242.384755145456,
                    6283.1029313904255,
                    2125.622426289508,
                    6387.3485163913165,
                    2031.3380058999833,
                    2065.795437173824,
                    2087.3268297938675,
                    6438.524085921781,
                    2112.7533187405684,
                    2056.4919063534853,
                    6310.319110627305,
                    2105.5414343155285,
                    6262.740335568096,
                    2499.4891450755313,
                    2223.2390562450223,
                    10069.630498813192,
                    6141.98176837719,
                    5755.818461796168,
                    7108.812037017024,
                    2088.517171387701,
                    2007.251881733107,
                    2019.2545754671257,
                    2019.902726744582,
                    7655.664279930069,
                    6658.028704535153,
                    6442.831482875115,
                    6452.207627929032,
                    6598.280958210199,
                    1990.4285711010857,
                    2026.403295587326,
                    2022.4141921843561,
                    2064.75456318641,
                    2048.8742528412663,
                    2076.448151146462,
                    2016.49510523427,
                    2276.89315073383,
                    2156.5980988469883,
                    10066.685615647008,
                    6466.851437564187,
                    2041.2966221810027,
                    2055.9212860168827,
                    2118.458344140363,
                    6570.348897584727,
                    2029.5752863535379,
                    5713.017277493083,
                    2036.5221706213845,
                    2025.3935162079247,
                    2856.0290569916897,
                    6434.780128525056,
                    2018.3160027875588,
                    1982.9660043594902,
                    1985.3604155859637,
                    1989.4338747327715,
                    1986.6323026046907,
                    10279.709237521483,
                    1946.5140930216717,
                    2022.4669485009013,
                    2008.202214589621,
                    6474.726586570202,
                    1987.3437249473402,
                    1965.572479800679,
                    2041.583911836907,
                    1992.8482155956572,
                    1968.2225221445863,
                    2038.8941995069374,
                    1994.8299913412768,
                    1986.6427903357646,
                    1993.5321933226967,
                    1986.1954870499035,
                    2001.7557013631267,
                    6265.582429472669,
                    5372.924837599818,
                    2022.721621395037,
                    1979.4239004993503,
                    6540.188080877845,
                    10085.81214729785,
                    6547.392088861293,
                    1977.2482021032445,
                    1964.3256118743711,
                    1968.0301478467156,
                    1922.3255411374496,
                    1958.2454417258762,
                    1975.0215754160379,
                    2020.5623069471517,
                    2045.4470555428927,
                    2011.4167562340187,
                    1969.1015266403106,
                    2023.3941490741322,
                    1987.1030070396337,
                    1974.7334848937373,
                    2000.5719541860537,
                    1967.4054712388918,
                    2018.3384617601441,
                    10140.009519355717,
                    1968.2688628515887,
                    2005.7166612959004,
                    1998.819527025434,
                    2003.0524807372883,
                    2131.165517191692,
                    1982.082972771525,
                    1968.7811935087086,
                    2496.7078476719694,
                    10236.590493154237,
                    1969.4812547157949,
                    2085.753382600289,
                    2014.358542694972,
                    2035.6855699627451,
                    1977.2339870931316,
                    1992.9452607572518,
                    1989.2230579112697,
                    1976.241870657539,
                    1974.0342399448775,
                    10206.711657313674,
                    1965.1030407706658,
                    1990.8931952718917,
                    6569.374801216151,
                    1984.839111164382,
                    2026.8466010909206,
                    1972.4918295580776,
                    1994.5448848691105,
                    4174.490414164676,
                    1966.1418737031565,
                    1978.9829501095112,
                    2243.864390280485,
                    1966.049067189596,
                    6609.369159946659,
                    1993.099026286626,
                    2000.1897214995704,
                    1979.0494999620116,
                    1980.5968039683412,
                    2021.76575091827,
                    1982.650587935163,
                    6470.731002551769,
                    1968.2924799775215,
                    1965.3243587501572,
                    1973.8706139833794,
                    2010.6108855280117
                  ]
                },
                {
                  "mode": "lines",
                  "name": "Best Value",
                  "type": "scatter",
                  "x": [
                    0,
                    1,
                    2,
                    3,
                    4,
                    5,
                    6,
                    7,
                    8,
                    9,
                    10,
                    11,
                    12,
                    13,
                    14,
                    15,
                    16,
                    17,
                    18,
                    19,
                    20,
                    21,
                    22,
                    23,
                    24,
                    25,
                    26,
                    27,
                    28,
                    29,
                    30,
                    31,
                    32,
                    33,
                    34,
                    35,
                    36,
                    37,
                    38,
                    39,
                    40,
                    41,
                    42,
                    43,
                    44,
                    45,
                    46,
                    47,
                    48,
                    49,
                    50,
                    51,
                    52,
                    53,
                    54,
                    55,
                    56,
                    57,
                    58,
                    59,
                    60,
                    61,
                    62,
                    63,
                    64,
                    65,
                    66,
                    67,
                    68,
                    69,
                    70,
                    71,
                    72,
                    73,
                    74,
                    75,
                    76,
                    77,
                    78,
                    79,
                    80,
                    81,
                    82,
                    83,
                    84,
                    85,
                    86,
                    87,
                    88,
                    89,
                    90,
                    91,
                    92,
                    93,
                    94,
                    95,
                    96,
                    97,
                    98,
                    99,
                    100,
                    101,
                    102,
                    103,
                    104,
                    105,
                    106,
                    107,
                    108,
                    109,
                    110,
                    111,
                    112,
                    113,
                    114,
                    115,
                    116,
                    117,
                    118,
                    119,
                    120,
                    121,
                    122,
                    123,
                    124,
                    125,
                    126,
                    127,
                    128,
                    129,
                    130,
                    131,
                    132,
                    133,
                    134,
                    135,
                    136,
                    137,
                    138,
                    139,
                    140,
                    141,
                    142,
                    143,
                    144,
                    145,
                    146,
                    147,
                    148,
                    149,
                    150,
                    151,
                    152,
                    153,
                    154,
                    155,
                    156,
                    157,
                    158,
                    159,
                    160,
                    161,
                    162,
                    163,
                    164,
                    165,
                    166,
                    167,
                    168,
                    169,
                    170,
                    171,
                    172,
                    173,
                    174,
                    175,
                    176,
                    177,
                    178,
                    179,
                    180,
                    181,
                    182,
                    183,
                    184,
                    185,
                    186,
                    187,
                    188
                  ],
                  "y": [
                    9749.174034768506,
                    5757.241405136549,
                    5757.241405136549,
                    5757.241405136549,
                    5757.241405136549,
                    5757.241405136549,
                    5757.241405136549,
                    5757.241405136549,
                    5698.762707183859,
                    5698.762707183859,
                    5698.762707183859,
                    2304.2935717331334,
                    2268.563423919166,
                    2217.55814591324,
                    2087.52391038942,
                    2087.52391038942,
                    2087.52391038942,
                    2087.52391038942,
                    2087.52391038942,
                    2087.52391038942,
                    2087.52391038942,
                    2087.52391038942,
                    2087.52391038942,
                    2087.52391038942,
                    2087.52391038942,
                    2081.1913168463907,
                    2081.1913168463907,
                    2081.1913168463907,
                    2042.3670024705525,
                    2042.3670024705525,
                    2042.3670024705525,
                    2042.3670024705525,
                    2036.3781592550092,
                    2036.3781592550092,
                    2036.3781592550092,
                    2036.3781592550092,
                    2036.3781592550092,
                    2036.3781592550092,
                    2036.3781592550092,
                    2036.3781592550092,
                    2036.3781592550092,
                    2036.3781592550092,
                    2036.3781592550092,
                    2036.3781592550092,
                    2036.3781592550092,
                    2036.3781592550092,
                    2036.3781592550092,
                    2036.3781592550092,
                    2036.3781592550092,
                    2036.3781592550092,
                    2036.3781592550092,
                    2036.3781592550092,
                    2036.3781592550092,
                    2036.3781592550092,
                    2036.3781592550092,
                    2036.3781592550092,
                    2031.3380058999833,
                    2031.3380058999833,
                    2031.3380058999833,
                    2031.3380058999833,
                    2031.3380058999833,
                    2031.3380058999833,
                    2031.3380058999833,
                    2031.3380058999833,
                    2031.3380058999833,
                    2031.3380058999833,
                    2031.3380058999833,
                    2031.3380058999833,
                    2031.3380058999833,
                    2031.3380058999833,
                    2031.3380058999833,
                    2031.3380058999833,
                    2007.251881733107,
                    2007.251881733107,
                    2007.251881733107,
                    2007.251881733107,
                    2007.251881733107,
                    2007.251881733107,
                    2007.251881733107,
                    2007.251881733107,
                    1990.4285711010857,
                    1990.4285711010857,
                    1990.4285711010857,
                    1990.4285711010857,
                    1990.4285711010857,
                    1990.4285711010857,
                    1990.4285711010857,
                    1990.4285711010857,
                    1990.4285711010857,
                    1990.4285711010857,
                    1990.4285711010857,
                    1990.4285711010857,
                    1990.4285711010857,
                    1990.4285711010857,
                    1990.4285711010857,
                    1990.4285711010857,
                    1990.4285711010857,
                    1990.4285711010857,
                    1990.4285711010857,
                    1990.4285711010857,
                    1990.4285711010857,
                    1990.4285711010857,
                    1982.9660043594902,
                    1982.9660043594902,
                    1982.9660043594902,
                    1982.9660043594902,
                    1982.9660043594902,
                    1946.5140930216717,
                    1946.5140930216717,
                    1946.5140930216717,
                    1946.5140930216717,
                    1946.5140930216717,
                    1946.5140930216717,
                    1946.5140930216717,
                    1946.5140930216717,
                    1946.5140930216717,
                    1946.5140930216717,
                    1946.5140930216717,
                    1946.5140930216717,
                    1946.5140930216717,
                    1946.5140930216717,
                    1946.5140930216717,
                    1946.5140930216717,
                    1946.5140930216717,
                    1946.5140930216717,
                    1946.5140930216717,
                    1946.5140930216717,
                    1946.5140930216717,
                    1946.5140930216717,
                    1946.5140930216717,
                    1946.5140930216717,
                    1946.5140930216717,
                    1922.3255411374496,
                    1922.3255411374496,
                    1922.3255411374496,
                    1922.3255411374496,
                    1922.3255411374496,
                    1922.3255411374496,
                    1922.3255411374496,
                    1922.3255411374496,
                    1922.3255411374496,
                    1922.3255411374496,
                    1922.3255411374496,
                    1922.3255411374496,
                    1922.3255411374496,
                    1922.3255411374496,
                    1922.3255411374496,
                    1922.3255411374496,
                    1922.3255411374496,
                    1922.3255411374496,
                    1922.3255411374496,
                    1922.3255411374496,
                    1922.3255411374496,
                    1922.3255411374496,
                    1922.3255411374496,
                    1922.3255411374496,
                    1922.3255411374496,
                    1922.3255411374496,
                    1922.3255411374496,
                    1922.3255411374496,
                    1922.3255411374496,
                    1922.3255411374496,
                    1922.3255411374496,
                    1922.3255411374496,
                    1922.3255411374496,
                    1922.3255411374496,
                    1922.3255411374496,
                    1922.3255411374496,
                    1922.3255411374496,
                    1922.3255411374496,
                    1922.3255411374496,
                    1922.3255411374496,
                    1922.3255411374496,
                    1922.3255411374496,
                    1922.3255411374496,
                    1922.3255411374496,
                    1922.3255411374496,
                    1922.3255411374496,
                    1922.3255411374496,
                    1922.3255411374496,
                    1922.3255411374496,
                    1922.3255411374496,
                    1922.3255411374496,
                    1922.3255411374496,
                    1922.3255411374496,
                    1922.3255411374496,
                    1922.3255411374496,
                    1922.3255411374496,
                    1922.3255411374496
                  ]
                },
                {
                  "marker": {
                    "color": "#cccccc"
                  },
                  "mode": "markers",
                  "name": "Infeasible Trial",
                  "showlegend": false,
                  "type": "scatter",
                  "x": [],
                  "y": []
                }
              ],
              "layout": {
                "template": {
                  "data": {
                    "bar": [
                      {
                        "error_x": {
                          "color": "#2a3f5f"
                        },
                        "error_y": {
                          "color": "#2a3f5f"
                        },
                        "marker": {
                          "line": {
                            "color": "#E5ECF6",
                            "width": 0.5
                          },
                          "pattern": {
                            "fillmode": "overlay",
                            "size": 10,
                            "solidity": 0.2
                          }
                        },
                        "type": "bar"
                      }
                    ],
                    "barpolar": [
                      {
                        "marker": {
                          "line": {
                            "color": "#E5ECF6",
                            "width": 0.5
                          },
                          "pattern": {
                            "fillmode": "overlay",
                            "size": 10,
                            "solidity": 0.2
                          }
                        },
                        "type": "barpolar"
                      }
                    ],
                    "carpet": [
                      {
                        "aaxis": {
                          "endlinecolor": "#2a3f5f",
                          "gridcolor": "white",
                          "linecolor": "white",
                          "minorgridcolor": "white",
                          "startlinecolor": "#2a3f5f"
                        },
                        "baxis": {
                          "endlinecolor": "#2a3f5f",
                          "gridcolor": "white",
                          "linecolor": "white",
                          "minorgridcolor": "white",
                          "startlinecolor": "#2a3f5f"
                        },
                        "type": "carpet"
                      }
                    ],
                    "choropleth": [
                      {
                        "colorbar": {
                          "outlinewidth": 0,
                          "ticks": ""
                        },
                        "type": "choropleth"
                      }
                    ],
                    "contour": [
                      {
                        "colorbar": {
                          "outlinewidth": 0,
                          "ticks": ""
                        },
                        "colorscale": [
                          [
                            0,
                            "#0d0887"
                          ],
                          [
                            0.1111111111111111,
                            "#46039f"
                          ],
                          [
                            0.2222222222222222,
                            "#7201a8"
                          ],
                          [
                            0.3333333333333333,
                            "#9c179e"
                          ],
                          [
                            0.4444444444444444,
                            "#bd3786"
                          ],
                          [
                            0.5555555555555556,
                            "#d8576b"
                          ],
                          [
                            0.6666666666666666,
                            "#ed7953"
                          ],
                          [
                            0.7777777777777778,
                            "#fb9f3a"
                          ],
                          [
                            0.8888888888888888,
                            "#fdca26"
                          ],
                          [
                            1,
                            "#f0f921"
                          ]
                        ],
                        "type": "contour"
                      }
                    ],
                    "contourcarpet": [
                      {
                        "colorbar": {
                          "outlinewidth": 0,
                          "ticks": ""
                        },
                        "type": "contourcarpet"
                      }
                    ],
                    "heatmap": [
                      {
                        "colorbar": {
                          "outlinewidth": 0,
                          "ticks": ""
                        },
                        "colorscale": [
                          [
                            0,
                            "#0d0887"
                          ],
                          [
                            0.1111111111111111,
                            "#46039f"
                          ],
                          [
                            0.2222222222222222,
                            "#7201a8"
                          ],
                          [
                            0.3333333333333333,
                            "#9c179e"
                          ],
                          [
                            0.4444444444444444,
                            "#bd3786"
                          ],
                          [
                            0.5555555555555556,
                            "#d8576b"
                          ],
                          [
                            0.6666666666666666,
                            "#ed7953"
                          ],
                          [
                            0.7777777777777778,
                            "#fb9f3a"
                          ],
                          [
                            0.8888888888888888,
                            "#fdca26"
                          ],
                          [
                            1,
                            "#f0f921"
                          ]
                        ],
                        "type": "heatmap"
                      }
                    ],
                    "heatmapgl": [
                      {
                        "colorbar": {
                          "outlinewidth": 0,
                          "ticks": ""
                        },
                        "colorscale": [
                          [
                            0,
                            "#0d0887"
                          ],
                          [
                            0.1111111111111111,
                            "#46039f"
                          ],
                          [
                            0.2222222222222222,
                            "#7201a8"
                          ],
                          [
                            0.3333333333333333,
                            "#9c179e"
                          ],
                          [
                            0.4444444444444444,
                            "#bd3786"
                          ],
                          [
                            0.5555555555555556,
                            "#d8576b"
                          ],
                          [
                            0.6666666666666666,
                            "#ed7953"
                          ],
                          [
                            0.7777777777777778,
                            "#fb9f3a"
                          ],
                          [
                            0.8888888888888888,
                            "#fdca26"
                          ],
                          [
                            1,
                            "#f0f921"
                          ]
                        ],
                        "type": "heatmapgl"
                      }
                    ],
                    "histogram": [
                      {
                        "marker": {
                          "pattern": {
                            "fillmode": "overlay",
                            "size": 10,
                            "solidity": 0.2
                          }
                        },
                        "type": "histogram"
                      }
                    ],
                    "histogram2d": [
                      {
                        "colorbar": {
                          "outlinewidth": 0,
                          "ticks": ""
                        },
                        "colorscale": [
                          [
                            0,
                            "#0d0887"
                          ],
                          [
                            0.1111111111111111,
                            "#46039f"
                          ],
                          [
                            0.2222222222222222,
                            "#7201a8"
                          ],
                          [
                            0.3333333333333333,
                            "#9c179e"
                          ],
                          [
                            0.4444444444444444,
                            "#bd3786"
                          ],
                          [
                            0.5555555555555556,
                            "#d8576b"
                          ],
                          [
                            0.6666666666666666,
                            "#ed7953"
                          ],
                          [
                            0.7777777777777778,
                            "#fb9f3a"
                          ],
                          [
                            0.8888888888888888,
                            "#fdca26"
                          ],
                          [
                            1,
                            "#f0f921"
                          ]
                        ],
                        "type": "histogram2d"
                      }
                    ],
                    "histogram2dcontour": [
                      {
                        "colorbar": {
                          "outlinewidth": 0,
                          "ticks": ""
                        },
                        "colorscale": [
                          [
                            0,
                            "#0d0887"
                          ],
                          [
                            0.1111111111111111,
                            "#46039f"
                          ],
                          [
                            0.2222222222222222,
                            "#7201a8"
                          ],
                          [
                            0.3333333333333333,
                            "#9c179e"
                          ],
                          [
                            0.4444444444444444,
                            "#bd3786"
                          ],
                          [
                            0.5555555555555556,
                            "#d8576b"
                          ],
                          [
                            0.6666666666666666,
                            "#ed7953"
                          ],
                          [
                            0.7777777777777778,
                            "#fb9f3a"
                          ],
                          [
                            0.8888888888888888,
                            "#fdca26"
                          ],
                          [
                            1,
                            "#f0f921"
                          ]
                        ],
                        "type": "histogram2dcontour"
                      }
                    ],
                    "mesh3d": [
                      {
                        "colorbar": {
                          "outlinewidth": 0,
                          "ticks": ""
                        },
                        "type": "mesh3d"
                      }
                    ],
                    "parcoords": [
                      {
                        "line": {
                          "colorbar": {
                            "outlinewidth": 0,
                            "ticks": ""
                          }
                        },
                        "type": "parcoords"
                      }
                    ],
                    "pie": [
                      {
                        "automargin": true,
                        "type": "pie"
                      }
                    ],
                    "scatter": [
                      {
                        "fillpattern": {
                          "fillmode": "overlay",
                          "size": 10,
                          "solidity": 0.2
                        },
                        "type": "scatter"
                      }
                    ],
                    "scatter3d": [
                      {
                        "line": {
                          "colorbar": {
                            "outlinewidth": 0,
                            "ticks": ""
                          }
                        },
                        "marker": {
                          "colorbar": {
                            "outlinewidth": 0,
                            "ticks": ""
                          }
                        },
                        "type": "scatter3d"
                      }
                    ],
                    "scattercarpet": [
                      {
                        "marker": {
                          "colorbar": {
                            "outlinewidth": 0,
                            "ticks": ""
                          }
                        },
                        "type": "scattercarpet"
                      }
                    ],
                    "scattergeo": [
                      {
                        "marker": {
                          "colorbar": {
                            "outlinewidth": 0,
                            "ticks": ""
                          }
                        },
                        "type": "scattergeo"
                      }
                    ],
                    "scattergl": [
                      {
                        "marker": {
                          "colorbar": {
                            "outlinewidth": 0,
                            "ticks": ""
                          }
                        },
                        "type": "scattergl"
                      }
                    ],
                    "scattermapbox": [
                      {
                        "marker": {
                          "colorbar": {
                            "outlinewidth": 0,
                            "ticks": ""
                          }
                        },
                        "type": "scattermapbox"
                      }
                    ],
                    "scatterpolar": [
                      {
                        "marker": {
                          "colorbar": {
                            "outlinewidth": 0,
                            "ticks": ""
                          }
                        },
                        "type": "scatterpolar"
                      }
                    ],
                    "scatterpolargl": [
                      {
                        "marker": {
                          "colorbar": {
                            "outlinewidth": 0,
                            "ticks": ""
                          }
                        },
                        "type": "scatterpolargl"
                      }
                    ],
                    "scatterternary": [
                      {
                        "marker": {
                          "colorbar": {
                            "outlinewidth": 0,
                            "ticks": ""
                          }
                        },
                        "type": "scatterternary"
                      }
                    ],
                    "surface": [
                      {
                        "colorbar": {
                          "outlinewidth": 0,
                          "ticks": ""
                        },
                        "colorscale": [
                          [
                            0,
                            "#0d0887"
                          ],
                          [
                            0.1111111111111111,
                            "#46039f"
                          ],
                          [
                            0.2222222222222222,
                            "#7201a8"
                          ],
                          [
                            0.3333333333333333,
                            "#9c179e"
                          ],
                          [
                            0.4444444444444444,
                            "#bd3786"
                          ],
                          [
                            0.5555555555555556,
                            "#d8576b"
                          ],
                          [
                            0.6666666666666666,
                            "#ed7953"
                          ],
                          [
                            0.7777777777777778,
                            "#fb9f3a"
                          ],
                          [
                            0.8888888888888888,
                            "#fdca26"
                          ],
                          [
                            1,
                            "#f0f921"
                          ]
                        ],
                        "type": "surface"
                      }
                    ],
                    "table": [
                      {
                        "cells": {
                          "fill": {
                            "color": "#EBF0F8"
                          },
                          "line": {
                            "color": "white"
                          }
                        },
                        "header": {
                          "fill": {
                            "color": "#C8D4E3"
                          },
                          "line": {
                            "color": "white"
                          }
                        },
                        "type": "table"
                      }
                    ]
                  },
                  "layout": {
                    "annotationdefaults": {
                      "arrowcolor": "#2a3f5f",
                      "arrowhead": 0,
                      "arrowwidth": 1
                    },
                    "autotypenumbers": "strict",
                    "coloraxis": {
                      "colorbar": {
                        "outlinewidth": 0,
                        "ticks": ""
                      }
                    },
                    "colorscale": {
                      "diverging": [
                        [
                          0,
                          "#8e0152"
                        ],
                        [
                          0.1,
                          "#c51b7d"
                        ],
                        [
                          0.2,
                          "#de77ae"
                        ],
                        [
                          0.3,
                          "#f1b6da"
                        ],
                        [
                          0.4,
                          "#fde0ef"
                        ],
                        [
                          0.5,
                          "#f7f7f7"
                        ],
                        [
                          0.6,
                          "#e6f5d0"
                        ],
                        [
                          0.7,
                          "#b8e186"
                        ],
                        [
                          0.8,
                          "#7fbc41"
                        ],
                        [
                          0.9,
                          "#4d9221"
                        ],
                        [
                          1,
                          "#276419"
                        ]
                      ],
                      "sequential": [
                        [
                          0,
                          "#0d0887"
                        ],
                        [
                          0.1111111111111111,
                          "#46039f"
                        ],
                        [
                          0.2222222222222222,
                          "#7201a8"
                        ],
                        [
                          0.3333333333333333,
                          "#9c179e"
                        ],
                        [
                          0.4444444444444444,
                          "#bd3786"
                        ],
                        [
                          0.5555555555555556,
                          "#d8576b"
                        ],
                        [
                          0.6666666666666666,
                          "#ed7953"
                        ],
                        [
                          0.7777777777777778,
                          "#fb9f3a"
                        ],
                        [
                          0.8888888888888888,
                          "#fdca26"
                        ],
                        [
                          1,
                          "#f0f921"
                        ]
                      ],
                      "sequentialminus": [
                        [
                          0,
                          "#0d0887"
                        ],
                        [
                          0.1111111111111111,
                          "#46039f"
                        ],
                        [
                          0.2222222222222222,
                          "#7201a8"
                        ],
                        [
                          0.3333333333333333,
                          "#9c179e"
                        ],
                        [
                          0.4444444444444444,
                          "#bd3786"
                        ],
                        [
                          0.5555555555555556,
                          "#d8576b"
                        ],
                        [
                          0.6666666666666666,
                          "#ed7953"
                        ],
                        [
                          0.7777777777777778,
                          "#fb9f3a"
                        ],
                        [
                          0.8888888888888888,
                          "#fdca26"
                        ],
                        [
                          1,
                          "#f0f921"
                        ]
                      ]
                    },
                    "colorway": [
                      "#636efa",
                      "#EF553B",
                      "#00cc96",
                      "#ab63fa",
                      "#FFA15A",
                      "#19d3f3",
                      "#FF6692",
                      "#B6E880",
                      "#FF97FF",
                      "#FECB52"
                    ],
                    "font": {
                      "color": "#2a3f5f"
                    },
                    "geo": {
                      "bgcolor": "white",
                      "lakecolor": "white",
                      "landcolor": "#E5ECF6",
                      "showlakes": true,
                      "showland": true,
                      "subunitcolor": "white"
                    },
                    "hoverlabel": {
                      "align": "left"
                    },
                    "hovermode": "closest",
                    "mapbox": {
                      "style": "light"
                    },
                    "paper_bgcolor": "white",
                    "plot_bgcolor": "#E5ECF6",
                    "polar": {
                      "angularaxis": {
                        "gridcolor": "white",
                        "linecolor": "white",
                        "ticks": ""
                      },
                      "bgcolor": "#E5ECF6",
                      "radialaxis": {
                        "gridcolor": "white",
                        "linecolor": "white",
                        "ticks": ""
                      }
                    },
                    "scene": {
                      "xaxis": {
                        "backgroundcolor": "#E5ECF6",
                        "gridcolor": "white",
                        "gridwidth": 2,
                        "linecolor": "white",
                        "showbackground": true,
                        "ticks": "",
                        "zerolinecolor": "white"
                      },
                      "yaxis": {
                        "backgroundcolor": "#E5ECF6",
                        "gridcolor": "white",
                        "gridwidth": 2,
                        "linecolor": "white",
                        "showbackground": true,
                        "ticks": "",
                        "zerolinecolor": "white"
                      },
                      "zaxis": {
                        "backgroundcolor": "#E5ECF6",
                        "gridcolor": "white",
                        "gridwidth": 2,
                        "linecolor": "white",
                        "showbackground": true,
                        "ticks": "",
                        "zerolinecolor": "white"
                      }
                    },
                    "shapedefaults": {
                      "line": {
                        "color": "#2a3f5f"
                      }
                    },
                    "ternary": {
                      "aaxis": {
                        "gridcolor": "white",
                        "linecolor": "white",
                        "ticks": ""
                      },
                      "baxis": {
                        "gridcolor": "white",
                        "linecolor": "white",
                        "ticks": ""
                      },
                      "bgcolor": "#E5ECF6",
                      "caxis": {
                        "gridcolor": "white",
                        "linecolor": "white",
                        "ticks": ""
                      }
                    },
                    "title": {
                      "x": 0.05
                    },
                    "xaxis": {
                      "automargin": true,
                      "gridcolor": "white",
                      "linecolor": "white",
                      "ticks": "",
                      "title": {
                        "standoff": 15
                      },
                      "zerolinecolor": "white",
                      "zerolinewidth": 2
                    },
                    "yaxis": {
                      "automargin": true,
                      "gridcolor": "white",
                      "linecolor": "white",
                      "ticks": "",
                      "title": {
                        "standoff": 15
                      },
                      "zerolinecolor": "white",
                      "zerolinewidth": 2
                    }
                  }
                },
                "title": {
                  "text": "Optimization History Plot"
                },
                "xaxis": {
                  "title": {
                    "text": "Trial"
                  }
                },
                "yaxis": {
                  "title": {
                    "text": "Objective Value"
                  }
                }
              }
            }
          },
          "metadata": {},
          "output_type": "display_data"
        }
      ],
      "source": [
        "from optuna.visualization import plot_optimization_history\n",
        "from optuna.visualization import plot_parallel_coordinate\n",
        "from optuna.visualization import plot_param_importances\n",
        "\n",
        "# Inserte su código acá\n",
        "plot_optimization_history(study)"
      ]
    },
    {
      "cell_type": "code",
      "execution_count": 84,
      "metadata": {},
      "outputs": [
        {
          "data": {
            "application/vnd.plotly.v1+json": {
              "config": {
                "plotlyServerURL": "https://plot.ly"
              },
              "data": [
                {
                  "dimensions": [
                    {
                      "label": "Objective Value",
                      "range": [
                        1922.3255411374496,
                        13546.494419642857
                      ],
                      "values": [
                        9749.174034768506,
                        5757.241405136549,
                        8966.786244812625,
                        5813.638579851505,
                        9034.394314454436,
                        8707.184649891537,
                        9184.023770553005,
                        9166.99227461121,
                        5698.762707183859,
                        7506.077063946177,
                        13546.494419642857,
                        2304.2935717331334,
                        2268.563423919166,
                        2217.55814591324,
                        2087.52391038942,
                        2166.233968917673,
                        7048.5132713599305,
                        9283.68126860119,
                        8902.246728089893,
                        6653.472352466033,
                        5829.693570971729,
                        2245.687583836351,
                        2109.958327274847,
                        6880.960851534991,
                        5753.984241058329,
                        2081.1913168463907,
                        6553.7847711267605,
                        7073.327880204403,
                        2042.3670024705525,
                        6239.520148560635,
                        6647.133102897987,
                        2063.34984581971,
                        2036.3781592550092,
                        7231.864807845282,
                        6530.301446046068,
                        9543.702605607605,
                        7134.923806019712,
                        7079.195162020299,
                        2174.7841451377535,
                        9799.725359972334,
                        6759.413233797315,
                        2125.5748830548396,
                        2082.201794097921,
                        9475.287877656565,
                        2325.4433131995097,
                        6236.412017024019,
                        7153.106282470212,
                        2119.772840165996,
                        9377.18690856074,
                        9600.43947473906,
                        6559.497377330388,
                        2120.742726214055,
                        2242.384755145456,
                        6283.1029313904255,
                        2125.622426289508,
                        6387.3485163913165,
                        2031.3380058999833,
                        2065.795437173824,
                        2087.3268297938675,
                        6438.524085921781,
                        2112.7533187405684,
                        2056.4919063534853,
                        6310.319110627305,
                        2105.5414343155285,
                        6262.740335568096,
                        2499.4891450755313,
                        2223.2390562450223,
                        10069.630498813192,
                        6141.98176837719,
                        5755.818461796168,
                        7108.812037017024,
                        2088.517171387701,
                        2007.251881733107,
                        2019.2545754671257,
                        2019.902726744582,
                        7655.664279930069,
                        6658.028704535153,
                        6442.831482875115,
                        6452.207627929032,
                        6598.280958210199,
                        1990.4285711010857,
                        2026.403295587326,
                        2022.4141921843561,
                        2064.75456318641,
                        2048.8742528412663,
                        2076.448151146462,
                        2016.49510523427,
                        2276.89315073383,
                        2156.5980988469883,
                        10066.685615647008,
                        6466.851437564187,
                        2041.2966221810027,
                        2055.9212860168827,
                        2118.458344140363,
                        6570.348897584727,
                        2029.5752863535379,
                        5713.017277493083,
                        2036.5221706213845,
                        2025.3935162079247,
                        2856.0290569916897,
                        6434.780128525056,
                        2018.3160027875588,
                        1982.9660043594902,
                        1985.3604155859637,
                        1989.4338747327715,
                        1986.6323026046907,
                        10279.709237521483,
                        1946.5140930216717,
                        2022.4669485009013,
                        2008.202214589621,
                        6474.726586570202,
                        1987.3437249473402,
                        1965.572479800679,
                        2041.583911836907,
                        1992.8482155956572,
                        1968.2225221445863,
                        2038.8941995069374,
                        1994.8299913412768,
                        1986.6427903357646,
                        1993.5321933226967,
                        1986.1954870499035,
                        2001.7557013631267,
                        6265.582429472669,
                        5372.924837599818,
                        2022.721621395037,
                        1979.4239004993503,
                        6540.188080877845,
                        10085.81214729785,
                        6547.392088861293,
                        1977.2482021032445,
                        1964.3256118743711,
                        1968.0301478467156,
                        1922.3255411374496,
                        1958.2454417258762,
                        1975.0215754160379,
                        2020.5623069471517,
                        2045.4470555428927,
                        2011.4167562340187,
                        1969.1015266403106,
                        2023.3941490741322,
                        1987.1030070396337,
                        1974.7334848937373,
                        2000.5719541860537,
                        1967.4054712388918,
                        2018.3384617601441,
                        10140.009519355717,
                        1968.2688628515887,
                        2005.7166612959004,
                        1998.819527025434,
                        2003.0524807372883,
                        2131.165517191692,
                        1982.082972771525,
                        1968.7811935087086,
                        2496.7078476719694,
                        10236.590493154237,
                        1969.4812547157949,
                        2085.753382600289,
                        2014.358542694972,
                        2035.6855699627451,
                        1977.2339870931316,
                        1992.9452607572518,
                        1989.2230579112697,
                        1976.241870657539,
                        1974.0342399448775,
                        10206.711657313674,
                        1965.1030407706658,
                        1990.8931952718917,
                        6569.374801216151,
                        1984.839111164382,
                        2026.8466010909206,
                        1972.4918295580776,
                        1994.5448848691105,
                        4174.490414164676,
                        1966.1418737031565,
                        1978.9829501095112,
                        2243.864390280485,
                        1966.049067189596,
                        6609.369159946659,
                        1993.099026286626,
                        2000.1897214995704,
                        1979.0494999620116,
                        1980.5968039683412,
                        2021.76575091827,
                        1982.650587935163,
                        6470.731002551769,
                        1968.2924799775215,
                        1965.3243587501572,
                        1973.8706139833794,
                        2010.6108855280117
                      ]
                    },
                    {
                      "label": "learning_rate",
                      "range": [
                        0.0015466895952366377,
                        0.099902158307922
                      ],
                      "values": [
                        0.03807947176588889,
                        0.06051038616257767,
                        0.03111998205299424,
                        0.04615092843748656,
                        0.0074401077055426725,
                        0.013081785249633104,
                        0.05512431765498469,
                        0.00976075770314003,
                        0.028812516459050697,
                        0.0015466895952366377,
                        0.0945685178788083,
                        0.07472142904562282,
                        0.07559807824175671,
                        0.07742047722562706,
                        0.08295842385492615,
                        0.099902158307922,
                        0.09459357199463239,
                        0.09919695494893246,
                        0.08503354756578933,
                        0.06463966796978622,
                        0.08543365227872257,
                        0.0838131655561784,
                        0.07270225304055998,
                        0.06345749401645846,
                        0.06921508824921373,
                        0.09047951831461229,
                        0.08977105251557031,
                        0.07114653764310133,
                        0.08043082865713093,
                        0.04948537425244419,
                        0.07960508430434043,
                        0.09005109191357132,
                        0.09236604994325416,
                        0.09125751002385779,
                        0.09003245707053742,
                        0.0388049209169903,
                        0.09412242099201551,
                        0.05556809463606735,
                        0.08036969527994621,
                        0.08801279809336786,
                        0.09813084012584607,
                        0.08537209248815977,
                        0.08117269065852861,
                        0.06780297905091535,
                        0.02167295234709339,
                        0.0786099617970131,
                        0.09326831550198958,
                        0.0881538379640335,
                        0.056143119319426095,
                        0.09589952761758018,
                        0.07501455601231649,
                        0.07953636476648202,
                        0.0826355887373552,
                        0.08296266262220331,
                        0.08712662059878402,
                        0.09684874518391791,
                        0.09279435339347142,
                        0.09123411084184559,
                        0.09132864312410234,
                        0.09953570616398587,
                        0.09303067158226795,
                        0.0894896443323035,
                        0.08809984180902583,
                        0.09614206577455721,
                        0.0914279127677374,
                        0.0769868510494625,
                        0.04045549186463308,
                        0.08636505002835773,
                        0.09441494039865712,
                        0.09988889724342617,
                        0.08994753942368602,
                        0.08207063154719685,
                        0.0850325610067192,
                        0.08514861390206259,
                        0.0844170367327648,
                        0.08428493658414868,
                        0.0859005335598063,
                        0.07480988884193172,
                        0.07299704719922265,
                        0.07073050822657093,
                        0.07798717411126144,
                        0.06711232445886121,
                        0.06624784192742358,
                        0.06521024181915175,
                        0.05781240986986408,
                        0.06072397178471906,
                        0.049847781566672494,
                        0.04589776825733551,
                        0.06616318301700963,
                        0.05159828016159543,
                        0.06121071553619703,
                        0.07722809254738305,
                        0.05151130897595823,
                        0.04681838496690633,
                        0.0772564407818643,
                        0.06920981188555539,
                        0.0693442470893889,
                        0.07336700108454694,
                        0.06228510419057586,
                        0.06215491018390985,
                        0.05869081089874839,
                        0.07160718825164283,
                        0.06629552450539578,
                        0.06754682751707426,
                        0.06270333286277815,
                        0.0641132412452484,
                        0.05877851081449284,
                        0.06391160440606931,
                        0.06413030285039709,
                        0.05334136554539767,
                        0.05271041749825219,
                        0.05422063026770763,
                        0.04890586330049225,
                        0.042332089293308686,
                        0.05407999537434156,
                        0.05418021403620389,
                        0.05368004978474338,
                        0.04705421542687779,
                        0.04804670733200467,
                        0.046666373467213376,
                        0.05652912391998122,
                        0.056017975081674,
                        0.03392544894996936,
                        0.04309155080766932,
                        0.04838488916489854,
                        0.05723608612270437,
                        0.057975697103834184,
                        0.05432240139398303,
                        0.055760742333792884,
                        0.05912864845801704,
                        0.06323361006493651,
                        0.0634280215015592,
                        0.06352493662365062,
                        0.060196056492095674,
                        0.059301350713674164,
                        0.06070797032777531,
                        0.06473964988337662,
                        0.058329862471465,
                        0.06002566452624512,
                        0.0596258729542936,
                        0.05671920407123014,
                        0.06773328299491826,
                        0.06865673470010314,
                        0.06752397192825371,
                        0.06742087790156523,
                        0.06367130428912464,
                        0.06013342398879294,
                        0.060565960304282816,
                        0.06149604928682125,
                        0.06587233483854855,
                        0.06341511300335707,
                        0.0681107726904285,
                        0.059416498706803295,
                        0.05951909315015552,
                        0.06970346942859744,
                        0.0621705046588055,
                        0.062194689920265035,
                        0.0599313123271591,
                        0.05771296202721229,
                        0.05083764626851269,
                        0.05087767901339599,
                        0.06258959364546869,
                        0.06479747879623382,
                        0.06498631079655084,
                        0.06513158449415096,
                        0.07205207328203124,
                        0.0720732257673287,
                        0.06472895875512141,
                        0.07094144936131892,
                        0.06657631512581716,
                        0.06348868094782892,
                        0.06305078485232199,
                        0.0028920225918008524,
                        0.062138368966600424,
                        0.06133249427963818,
                        0.01649865573322437,
                        0.060541005083227364,
                        0.06829799285759783,
                        0.0625469165976422,
                        0.0659386577342462,
                        0.07347407520153346,
                        0.06039877129976985,
                        0.059800499304474716,
                        0.06352481082702305,
                        0.05695191799521975,
                        0.07000507163885226,
                        0.06933523610744195,
                        0.07050137401424059,
                        0.07026345838186836
                      ]
                    },
                    {
                      "label": "max_depth",
                      "range": [
                        3,
                        10
                      ],
                      "values": [
                        8,
                        3,
                        6,
                        4,
                        10,
                        3,
                        10,
                        3,
                        4,
                        8,
                        5,
                        5,
                        5,
                        6,
                        7,
                        7,
                        8,
                        7,
                        7,
                        9,
                        9,
                        6,
                        7,
                        7,
                        7,
                        8,
                        9,
                        8,
                        8,
                        9,
                        8,
                        8,
                        8,
                        9,
                        8,
                        10,
                        8,
                        8,
                        9,
                        10,
                        9,
                        8,
                        7,
                        6,
                        8,
                        7,
                        6,
                        8,
                        7,
                        9,
                        8,
                        7,
                        6,
                        7,
                        8,
                        7,
                        8,
                        8,
                        8,
                        9,
                        10,
                        8,
                        8,
                        8,
                        9,
                        4,
                        8,
                        9,
                        8,
                        3,
                        8,
                        7,
                        8,
                        8,
                        8,
                        9,
                        8,
                        8,
                        9,
                        8,
                        8,
                        8,
                        8,
                        8,
                        9,
                        7,
                        8,
                        7,
                        5,
                        8,
                        9,
                        8,
                        8,
                        8,
                        8,
                        8,
                        7,
                        8,
                        9,
                        9,
                        9,
                        10,
                        10,
                        10,
                        10,
                        10,
                        10,
                        10,
                        10,
                        10,
                        10,
                        10,
                        10,
                        10,
                        10,
                        10,
                        10,
                        10,
                        10,
                        10,
                        10,
                        10,
                        10,
                        10,
                        10,
                        10,
                        10,
                        10,
                        10,
                        10,
                        10,
                        10,
                        10,
                        10,
                        10,
                        10,
                        10,
                        10,
                        10,
                        10,
                        10,
                        10,
                        10,
                        10,
                        10,
                        10,
                        10,
                        10,
                        10,
                        10,
                        10,
                        10,
                        10,
                        10,
                        10,
                        10,
                        10,
                        10,
                        10,
                        10,
                        10,
                        10,
                        10,
                        10,
                        10,
                        10,
                        10,
                        10,
                        10,
                        9,
                        10,
                        10,
                        10,
                        10,
                        10,
                        10,
                        10,
                        10,
                        10,
                        10,
                        10,
                        10,
                        10,
                        10,
                        10,
                        10,
                        10,
                        10,
                        10
                      ]
                    },
                    {
                      "label": "max_leaves",
                      "range": [
                        1,
                        100
                      ],
                      "values": [
                        60,
                        97,
                        29,
                        51,
                        81,
                        91,
                        78,
                        32,
                        81,
                        73,
                        1,
                        95,
                        97,
                        100,
                        100,
                        63,
                        64,
                        31,
                        43,
                        4,
                        20,
                        85,
                        69,
                        66,
                        54,
                        71,
                        72,
                        42,
                        89,
                        87,
                        87,
                        72,
                        76,
                        57,
                        76,
                        60,
                        91,
                        78,
                        71,
                        47,
                        82,
                        89,
                        93,
                        94,
                        83,
                        76,
                        92,
                        78,
                        68,
                        81,
                        74,
                        98,
                        94,
                        99,
                        89,
                        97,
                        85,
                        62,
                        65,
                        61,
                        55,
                        70,
                        69,
                        79,
                        73,
                        85,
                        67,
                        72,
                        61,
                        52,
                        57,
                        64,
                        84,
                        84,
                        85,
                        85,
                        89,
                        84,
                        80,
                        87,
                        76,
                        82,
                        78,
                        75,
                        81,
                        77,
                        87,
                        23,
                        83,
                        91,
                        87,
                        90,
                        96,
                        80,
                        85,
                        91,
                        87,
                        82,
                        77,
                        7,
                        78,
                        76,
                        93,
                        92,
                        95,
                        95,
                        95,
                        93,
                        100,
                        93,
                        94,
                        97,
                        98,
                        97,
                        93,
                        93,
                        93,
                        98,
                        98,
                        98,
                        100,
                        100,
                        96,
                        98,
                        95,
                        99,
                        100,
                        92,
                        96,
                        93,
                        95,
                        95,
                        96,
                        90,
                        89,
                        91,
                        37,
                        89,
                        93,
                        90,
                        93,
                        95,
                        89,
                        100,
                        94,
                        96,
                        92,
                        88,
                        91,
                        97,
                        99,
                        93,
                        94,
                        95,
                        91,
                        94,
                        98,
                        95,
                        90,
                        100,
                        96,
                        99,
                        94,
                        92,
                        88,
                        92,
                        91,
                        94,
                        87,
                        92,
                        96,
                        96,
                        94,
                        90,
                        89,
                        92,
                        96,
                        97,
                        97,
                        95,
                        91,
                        89,
                        92,
                        97,
                        94,
                        86,
                        86,
                        86,
                        87
                      ]
                    },
                    {
                      "label": "min_child_weight",
                      "range": [
                        1,
                        5
                      ],
                      "values": [
                        1,
                        5,
                        4,
                        3,
                        2,
                        2,
                        5,
                        2,
                        1,
                        4,
                        1,
                        5,
                        4,
                        4,
                        4,
                        3,
                        3,
                        3,
                        4,
                        3,
                        3,
                        4,
                        4,
                        5,
                        4,
                        3,
                        2,
                        4,
                        3,
                        3,
                        2,
                        3,
                        3,
                        3,
                        2,
                        3,
                        3,
                        2,
                        2,
                        3,
                        3,
                        3,
                        3,
                        2,
                        3,
                        3,
                        3,
                        3,
                        2,
                        3,
                        2,
                        4,
                        5,
                        4,
                        3,
                        3,
                        4,
                        3,
                        4,
                        1,
                        4,
                        3,
                        3,
                        3,
                        3,
                        3,
                        3,
                        3,
                        4,
                        5,
                        3,
                        3,
                        3,
                        3,
                        3,
                        3,
                        3,
                        2,
                        4,
                        3,
                        3,
                        3,
                        3,
                        3,
                        3,
                        3,
                        3,
                        3,
                        3,
                        3,
                        2,
                        3,
                        3,
                        3,
                        3,
                        3,
                        3,
                        3,
                        3,
                        3,
                        4,
                        3,
                        3,
                        3,
                        3,
                        3,
                        3,
                        3,
                        3,
                        3,
                        3,
                        3,
                        3,
                        3,
                        3,
                        3,
                        3,
                        3,
                        3,
                        3,
                        3,
                        3,
                        3,
                        3,
                        3,
                        3,
                        3,
                        3,
                        3,
                        3,
                        3,
                        3,
                        3,
                        3,
                        3,
                        3,
                        3,
                        3,
                        3,
                        3,
                        3,
                        3,
                        3,
                        3,
                        3,
                        3,
                        3,
                        3,
                        3,
                        3,
                        1,
                        3,
                        3,
                        3,
                        3,
                        3,
                        3,
                        3,
                        3,
                        3,
                        3,
                        3,
                        3,
                        3,
                        3,
                        3,
                        3,
                        3,
                        3,
                        3,
                        3,
                        3,
                        3,
                        3,
                        3,
                        3,
                        3,
                        3,
                        3,
                        3,
                        3,
                        3,
                        3,
                        3,
                        3,
                        3,
                        3,
                        3,
                        3
                      ]
                    },
                    {
                      "label": "min_frequency",
                      "range": [
                        0.00003506063717770985,
                        0.9927304376988992
                      ],
                      "values": [
                        0.8661761457749352,
                        0.18340450985343382,
                        0.3663618432936917,
                        0.17052412368729153,
                        0.4401524937396013,
                        0.5200680211778108,
                        0.9218742350231168,
                        0.3567533266935893,
                        0.1987156815341724,
                        0.11586905952512971,
                        0.6764178475687505,
                        0.022779612782324016,
                        0.05035180753379226,
                        0.004520026322682995,
                        0.0016622958476193933,
                        0.0024139568548372237,
                        0.2815897372059905,
                        0.5996408444196241,
                        0.791175131433183,
                        0.3027316230161766,
                        0.09937023920664073,
                        0.05060382715532571,
                        0.0002380543151967087,
                        0.2463819135552211,
                        0.11598471181112427,
                        0.0009887216450606285,
                        0.12800469789111604,
                        0.25753460623234187,
                        0.07751617886057621,
                        0.0931266982717998,
                        0.18040407322174376,
                        0.06641644780200913,
                        0.07310172100167087,
                        0.2077401109083835,
                        0.14737619001712438,
                        0.3844960575953111,
                        0.32256308394755967,
                        0.2326502163093811,
                        0.08056721651301402,
                        0.44029982330249195,
                        0.164396436309788,
                        0.054316673448236555,
                        0.06937991567617773,
                        0.9927304376988992,
                        0.07344304973974128,
                        0.15112571345808007,
                        0.21044204340310685,
                        0.04874314891344802,
                        0.7608742277359258,
                        0.5616787381338312,
                        0.12009933186108918,
                        0.03838667561677165,
                        0.0077010695879077,
                        0.10362799093261617,
                        0.07325358064105013,
                        0.1697920835341144,
                        0.04055017228450605,
                        0.04399680690664873,
                        0.023220957866065366,
                        0.13351201821409714,
                        0.03071085487132868,
                        0.07706163153124948,
                        0.10624989252139087,
                        0.04120260687851207,
                        0.18960605454476484,
                        0.0006014771058407281,
                        0.07975506497847659,
                        0.6452518464743974,
                        0.10173989081577614,
                        0.13826562102483805,
                        0.28389844746094306,
                        0.06313642440917713,
                        0.07084571662946766,
                        0.03279112164846229,
                        0.03731121883067844,
                        0.22829658766822672,
                        0.09414125442259928,
                        0.1534565562730366,
                        0.12505546793623346,
                        0.1779091488629827,
                        0.028152836171907336,
                        0.030665228498072794,
                        0.027465261933340472,
                        0.022075165506829343,
                        0.02319623038874431,
                        0.052717610437092055,
                        0.023795757084424368,
                        0.02756081352874301,
                        0.0011586018163942113,
                        0.4448139829440017,
                        0.09555381548829434,
                        0.06219334176018328,
                        0.055415045548170665,
                        0.02596711927216669,
                        0.12422574150594712,
                        0.056732650242521436,
                        0.08479164845170432,
                        0.040394142935799425,
                        0.017265084344299485,
                        0.020694369360434183,
                        0.10747429983608622,
                        0.04972482579477503,
                        0.04466022090730562,
                        0.00003506063717770985,
                        0.02556531818061914,
                        0.007494926832427293,
                        0.7929536559547455,
                        0.003769466053934231,
                        0.007558332870994961,
                        0.00010467674987169051,
                        0.08884716266104507,
                        0.0032048799835985575,
                        0.0001637384116934676,
                        0.008603161219399635,
                        0.061985997133459786,
                        0.001932182159235251,
                        0.0048936894931227055,
                        0.07153173409658432,
                        0.06854649791183955,
                        0.05906520398559374,
                        0.05221734961925658,
                        0.05520009834917532,
                        0.1115311558045498,
                        0.0846420991291305,
                        0.04347782475173349,
                        0.06761217153954492,
                        0.13804652986778929,
                        0.3412259951757662,
                        0.08978455704824473,
                        0.0021036460305425414,
                        0.003073074395478912,
                        0.016566932368817573,
                        0.00005177230606046718,
                        0.0007343364605218242,
                        0.043194873267003095,
                        0.00033126881982106175,
                        0.0428200559958003,
                        0.01834818721409675,
                        0.00029823050055827194,
                        0.04066643177452554,
                        0.041310976429826396,
                        0.0157730266476482,
                        0.0011322949706516136,
                        0.02110969574453146,
                        0.02110737063372889,
                        0.5276571541058537,
                        0.025057154821070817,
                        0.028316812911693766,
                        0.03624236095756793,
                        0.06678611969899649,
                        0.020740724969582156,
                        0.00045899229042244686,
                        0.01711577781453889,
                        0.02257538681963114,
                        0.40414626336822324,
                        0.03802531753371247,
                        0.08141605891573228,
                        0.021027416328320062,
                        0.05348874814422786,
                        0.037683264978394145,
                        0.03437019479862525,
                        0.01533665573530448,
                        0.04300178403146148,
                        0.04492595482501924,
                        0.9150305890885966,
                        0.05640659712846184,
                        0.05466316312888789,
                        0.09031853686047811,
                        0.021281130682252205,
                        0.045003277666603045,
                        0.07215873655379504,
                        0.06848479771801215,
                        0.03230261382668462,
                        0.016258083257330205,
                        0.012021153873372966,
                        0.0008860160599408837,
                        0.06233611247847916,
                        0.11289587402575924,
                        0.0760336043955529,
                        0.019437224773172154,
                        0.06001070749689523,
                        0.0363994061071912,
                        0.01826488554998937,
                        0.05060828386849106,
                        0.09368503116893169,
                        0.021716331040331157,
                        0.001279849707549005,
                        0.0013965408770832996,
                        0.006253926015618754
                      ]
                    },
                    {
                      "label": "n_estimators",
                      "range": [
                        55,
                        1000
                      ],
                      "values": [
                        954,
                        723,
                        549,
                        796,
                        952,
                        520,
                        225,
                        236,
                        566,
                        825,
                        55,
                        574,
                        533,
                        387,
                        382,
                        360,
                        350,
                        376,
                        72,
                        239,
                        434,
                        320,
                        449,
                        445,
                        144,
                        658,
                        705,
                        650,
                        471,
                        620,
                        882,
                        444,
                        487,
                        488,
                        670,
                        728,
                        302,
                        611,
                        490,
                        737,
                        789,
                        426,
                        512,
                        503,
                        585,
                        528,
                        553,
                        472,
                        412,
                        305,
                        989,
                        402,
                        340,
                        589,
                        269,
                        523,
                        462,
                        472,
                        460,
                        651,
                        563,
                        506,
                        466,
                        405,
                        383,
                        545,
                        490,
                        618,
                        357,
                        440,
                        434,
                        508,
                        530,
                        685,
                        843,
                        820,
                        895,
                        752,
                        708,
                        891,
                        778,
                        787,
                        865,
                        860,
                        805,
                        767,
                        929,
                        931,
                        849,
                        935,
                        840,
                        790,
                        790,
                        688,
                        871,
                        761,
                        766,
                        932,
                        825,
                        829,
                        904,
                        979,
                        974,
                        970,
                        998,
                        993,
                        995,
                        968,
                        972,
                        963,
                        967,
                        947,
                        952,
                        914,
                        954,
                        953,
                        950,
                        1000,
                        950,
                        997,
                        955,
                        948,
                        982,
                        952,
                        910,
                        975,
                        916,
                        960,
                        978,
                        942,
                        885,
                        940,
                        938,
                        936,
                        892,
                        884,
                        918,
                        897,
                        929,
                        872,
                        930,
                        971,
                        970,
                        939,
                        932,
                        901,
                        927,
                        888,
                        921,
                        938,
                        909,
                        971,
                        972,
                        139,
                        940,
                        980,
                        925,
                        864,
                        892,
                        985,
                        943,
                        984,
                        965,
                        957,
                        958,
                        1000,
                        916,
                        960,
                        998,
                        928,
                        909,
                        900,
                        962,
                        948,
                        878,
                        939,
                        911,
                        918,
                        982,
                        948,
                        911,
                        884,
                        853,
                        1000,
                        929,
                        900,
                        948,
                        946,
                        904
                      ]
                    },
                    {
                      "label": "reg_alpha",
                      "range": [
                        0.005458575377312869,
                        0.9868869366005173
                      ],
                      "values": [
                        0.15599452033620265,
                        0.21233911067827616,
                        0.13949386065204183,
                        0.046450412719997725,
                        0.09767211400638387,
                        0.662522284353982,
                        0.8948273504276488,
                        0.2713490317738959,
                        0.9868869366005173,
                        0.07404465173409036,
                        0.907664795282518,
                        0.4343562717564112,
                        0.4473531654099191,
                        0.44784472747300386,
                        0.524280384813821,
                        0.6144093625372589,
                        0.6544691128072077,
                        0.6635226910976346,
                        0.5682926483932309,
                        0.30945242808634793,
                        0.7790645407184047,
                        0.5299828818840583,
                        0.37088901906588323,
                        0.3383476804320819,
                        0.5863503466690212,
                        0.3836728428695413,
                        0.3811470757712544,
                        0.22731375258208175,
                        0.38105833488850255,
                        0.5011429354099811,
                        0.19562692990337233,
                        0.3777294647782796,
                        0.4129883901450435,
                        0.28900323808542494,
                        0.40694439804792026,
                        0.005458575377312869,
                        0.15902710124239258,
                        0.2541360123838059,
                        0.3637618068585596,
                        0.4521287306387438,
                        0.32288296985868986,
                        0.492988510754365,
                        0.5393279416115107,
                        0.38842473952888223,
                        0.4799628535883345,
                        0.5574701216639798,
                        0.41882218261444876,
                        0.7386239719822634,
                        0.2562335562084859,
                        0.12788584175674295,
                        0.33019539142416515,
                        0.5259430717989301,
                        0.623888775356082,
                        0.445530492147152,
                        0.7109256549544944,
                        0.5374629542134307,
                        0.47245164716996413,
                        0.472753223372882,
                        0.48359886258678625,
                        0.41453105910938415,
                        0.357476628774539,
                        0.4697064045949561,
                        0.4628066038283119,
                        0.4126119951156862,
                        0.28478867023745247,
                        0.5866446987580349,
                        0.3875249319777445,
                        0.3517384291504589,
                        0.5029664598173147,
                        0.42789505951032647,
                        0.29313694737614865,
                        0.4676376602548536,
                        0.5405698128762041,
                        0.5056315299092229,
                        0.6090322516408901,
                        0.6192313956439035,
                        0.5863847334948917,
                        0.65537579948844,
                        0.8274676899026039,
                        0.5636237258722232,
                        0.6297449149174699,
                        0.694277992323062,
                        0.6872351138144958,
                        0.696076148768955,
                        0.7676434894721719,
                        0.6745463028684944,
                        0.6017900449544757,
                        0.6401606393401804,
                        0.688850252227489,
                        0.8094079010657278,
                        0.6028174737235105,
                        0.7311116684266322,
                        0.7148222097858561,
                        0.7671430923098126,
                        0.7267573392624119,
                        0.6482419176662041,
                        0.6368571054349889,
                        0.5544711543121293,
                        0.6739510256416539,
                        0.6732864269651005,
                        0.6013952280061101,
                        0.6417069782080993,
                        0.6466758687599294,
                        0.6565096360450242,
                        0.6916418899941336,
                        0.6282108385178541,
                        0.6264069749385289,
                        0.5096236151219821,
                        0.5138763815222352,
                        0.6013404876595635,
                        0.5687403359445601,
                        0.6002381476350309,
                        0.5915263188349426,
                        0.5460177773601608,
                        0.5853154960106168,
                        0.5792578556921456,
                        0.5738881296040497,
                        0.5743132160478511,
                        0.5784529477684622,
                        0.5871604130424358,
                        0.5851849543569314,
                        0.6587168109527357,
                        0.6243921502795865,
                        0.5926552858492016,
                        0.5344087269274489,
                        0.5225441135951776,
                        0.5269593564615107,
                        0.5565064475828723,
                        0.6356289934145072,
                        0.514286958150364,
                        0.5167048494597041,
                        0.5200282395907316,
                        0.5076832949274352,
                        0.4913269320162787,
                        0.4989663957089083,
                        0.4956899109198786,
                        0.44468470917900416,
                        0.5149190540594223,
                        0.49167257444846296,
                        0.4917757892200319,
                        0.5255972992606317,
                        0.4937867836866894,
                        0.483576727161653,
                        0.5037935967571752,
                        0.4656353753295903,
                        0.44026420065118954,
                        0.5070286467870426,
                        0.5079985438654606,
                        0.4568563749819211,
                        0.48993498709993305,
                        0.5163311022240176,
                        0.5347531587302058,
                        0.5480625067315731,
                        0.5462026616666668,
                        0.5323277696020753,
                        0.5022773026118803,
                        0.4811661847494052,
                        0.5014935534899833,
                        0.4609487016768758,
                        0.5528979197270658,
                        0.4265219541134599,
                        0.5146024064555403,
                        0.552549839356632,
                        0.5579338270466082,
                        0.5482364430328093,
                        0.5594315422160812,
                        0.5584295242848267,
                        0.4841762089299348,
                        0.49880296341685953,
                        0.47050340314140265,
                        0.5622433860091649,
                        0.5625855108580481,
                        0.5336481300230299,
                        0.5644216513784167,
                        0.5101028001153496,
                        0.940347092407221,
                        0.564469964748006,
                        0.5752347237204144,
                        0.5383056227602061,
                        0.5667365722649254,
                        0.5273402955339169,
                        0.49928212686544965,
                        0.4874110942238305,
                        0.4481966293315192,
                        0.5474156007471148,
                        0.5199365712879197,
                        0.5702091532222217,
                        0.5643577556876205,
                        0.609091751616836
                      ]
                    },
                    {
                      "label": "reg_lambda",
                      "range": [
                        0.007221564026530791,
                        0.9985364655754747
                      ],
                      "values": [
                        0.05808361216819946,
                        0.18182496720710062,
                        0.29214464853521815,
                        0.6075448519014384,
                        0.6842330265121569,
                        0.31171107608941095,
                        0.5978999788110851,
                        0.8287375091519293,
                        0.7722447692966574,
                        0.3584657285442726,
                        0.9657999152312998,
                        0.06782026776262084,
                        0.7856239838024551,
                        0.4381301674911344,
                        0.4621147584011281,
                        0.48011047785603345,
                        0.46361027315685355,
                        0.5409495149359591,
                        0.17163146637436183,
                        0.4069095432478356,
                        0.2523130069952787,
                        0.47309386330307196,
                        0.42382979514400526,
                        0.5215755161080551,
                        0.6405301333656301,
                        0.3819996117906489,
                        0.20031693221569855,
                        0.3757058963115211,
                        0.3463081592628539,
                        0.3286432524207901,
                        0.042745180079641565,
                        0.3929442711647019,
                        0.2733707317865236,
                        0.11982927019994927,
                        0.24918193472640549,
                        0.2646692310007239,
                        0.19872722167220735,
                        0.36970088351585706,
                        0.2983455152049972,
                        0.5810106362207283,
                        0.12677254593379284,
                        0.33233759918174444,
                        0.4072535296981334,
                        0.41422080662122557,
                        0.3716804862512477,
                        0.5496900151019826,
                        0.28230272214290525,
                        0.229204793096295,
                        0.33270777474019286,
                        0.6919198144499181,
                        0.4970847321573678,
                        0.40480385091450066,
                        0.46396621052730425,
                        0.4349208161062156,
                        0.3003397830695185,
                        0.5130691311769847,
                        0.37856132458784153,
                        0.9881136084991532,
                        0.9400927133746524,
                        0.8837027014251868,
                        0.6788463848380946,
                        0.3322567309504248,
                        0.3597603018248962,
                        0.2243578762266409,
                        0.15277460439609067,
                        0.33144251340102776,
                        0.9985364655754747,
                        0.26911544180604424,
                        0.38120593770312755,
                        0.788450240837348,
                        0.44030912304679415,
                        0.40049395732868176,
                        0.30312820042416544,
                        0.31210666777631074,
                        0.3123797454345109,
                        0.3117509538812796,
                        0.3358638256741392,
                        0.23523730875811633,
                        0.28016991654118534,
                        0.18803976247415466,
                        0.35211083877103205,
                        0.3542111263218868,
                        0.3456898249320064,
                        0.30950430440804033,
                        0.2556565261876471,
                        0.21735332944594093,
                        0.36292875263902014,
                        0.3636804519828505,
                        0.2903946728618221,
                        0.35156617321972905,
                        0.4387900806666756,
                        0.3120826043218728,
                        0.3105018282294275,
                        0.2535822969220564,
                        0.27607917016087236,
                        0.3842066185351492,
                        0.3896887127148943,
                        0.007221564026530791,
                        0.48205268840431714,
                        0.4775736557191253,
                        0.4239674866142701,
                        0.3637867061853043,
                        0.35384820180824145,
                        0.35640380646172737,
                        0.35514398423620763,
                        0.4578299361688255,
                        0.44578565927957187,
                        0.4149382442287357,
                        0.4134586961993429,
                        0.5437249741537393,
                        0.5463693070207283,
                        0.45460529847419434,
                        0.5753341736162155,
                        0.5621718496174704,
                        0.6295794490092899,
                        0.6096793760682254,
                        0.6292423003152039,
                        0.5923365129282995,
                        0.6032805380372633,
                        0.5906756738451439,
                        0.651773165516976,
                        0.6818000464814806,
                        0.6569197959882614,
                        0.7290669857356042,
                        0.6405896352807567,
                        0.5719942134917254,
                        0.6107434642508145,
                        0.514573991389249,
                        0.6088673795189804,
                        0.6615757288839166,
                        0.7087846799023871,
                        0.7057312024427385,
                        0.7313463054648354,
                        0.7312764951073958,
                        0.7067462080161594,
                        0.722577191211561,
                        0.716903398379573,
                        0.7672045597058421,
                        0.7564095069543224,
                        0.7565405582263269,
                        0.8345282352196217,
                        0.7410286187486144,
                        0.6967535110108822,
                        0.8026905516091446,
                        0.8025789157785005,
                        0.7580720602409516,
                        0.7409535470520511,
                        0.7189580522365197,
                        0.7461809950009409,
                        0.8192451455491196,
                        0.7843191933146657,
                        0.7001164707803241,
                        0.6991958061653415,
                        0.6980184752910218,
                        0.7099113139347171,
                        0.6732382049599439,
                        0.6744186494978895,
                        0.7427522634318517,
                        0.6639115849731921,
                        0.7320267122516991,
                        0.8552906921593364,
                        0.7354556424154702,
                        0.7768596056176509,
                        0.7798147296387296,
                        0.7661158037130453,
                        0.782945199897471,
                        0.8015227199516163,
                        0.8407692651931793,
                        0.7868347490212404,
                        0.8644704917690731,
                        0.8146326888956225,
                        0.815049105262525,
                        0.7768891242337608,
                        0.8017275186630838,
                        0.7526737423894961,
                        0.8046526085763707,
                        0.6795070862563699,
                        0.7392035745893629,
                        0.6824963730712101,
                        0.8959452495468507,
                        0.7610421057157286,
                        0.7017811350721052,
                        0.7163491402456584,
                        0.6817799941954786,
                        0.795569988532369,
                        0.7348102054327859,
                        0.7360469853681408,
                        0.7741563018164123,
                        0.7251603186078878
                      ]
                    }
                  ],
                  "labelangle": 30,
                  "labelside": "bottom",
                  "line": {
                    "color": [
                      9749.174034768506,
                      5757.241405136549,
                      8966.786244812625,
                      5813.638579851505,
                      9034.394314454436,
                      8707.184649891537,
                      9184.023770553005,
                      9166.99227461121,
                      5698.762707183859,
                      7506.077063946177,
                      13546.494419642857,
                      2304.2935717331334,
                      2268.563423919166,
                      2217.55814591324,
                      2087.52391038942,
                      2166.233968917673,
                      7048.5132713599305,
                      9283.68126860119,
                      8902.246728089893,
                      6653.472352466033,
                      5829.693570971729,
                      2245.687583836351,
                      2109.958327274847,
                      6880.960851534991,
                      5753.984241058329,
                      2081.1913168463907,
                      6553.7847711267605,
                      7073.327880204403,
                      2042.3670024705525,
                      6239.520148560635,
                      6647.133102897987,
                      2063.34984581971,
                      2036.3781592550092,
                      7231.864807845282,
                      6530.301446046068,
                      9543.702605607605,
                      7134.923806019712,
                      7079.195162020299,
                      2174.7841451377535,
                      9799.725359972334,
                      6759.413233797315,
                      2125.5748830548396,
                      2082.201794097921,
                      9475.287877656565,
                      2325.4433131995097,
                      6236.412017024019,
                      7153.106282470212,
                      2119.772840165996,
                      9377.18690856074,
                      9600.43947473906,
                      6559.497377330388,
                      2120.742726214055,
                      2242.384755145456,
                      6283.1029313904255,
                      2125.622426289508,
                      6387.3485163913165,
                      2031.3380058999833,
                      2065.795437173824,
                      2087.3268297938675,
                      6438.524085921781,
                      2112.7533187405684,
                      2056.4919063534853,
                      6310.319110627305,
                      2105.5414343155285,
                      6262.740335568096,
                      2499.4891450755313,
                      2223.2390562450223,
                      10069.630498813192,
                      6141.98176837719,
                      5755.818461796168,
                      7108.812037017024,
                      2088.517171387701,
                      2007.251881733107,
                      2019.2545754671257,
                      2019.902726744582,
                      7655.664279930069,
                      6658.028704535153,
                      6442.831482875115,
                      6452.207627929032,
                      6598.280958210199,
                      1990.4285711010857,
                      2026.403295587326,
                      2022.4141921843561,
                      2064.75456318641,
                      2048.8742528412663,
                      2076.448151146462,
                      2016.49510523427,
                      2276.89315073383,
                      2156.5980988469883,
                      10066.685615647008,
                      6466.851437564187,
                      2041.2966221810027,
                      2055.9212860168827,
                      2118.458344140363,
                      6570.348897584727,
                      2029.5752863535379,
                      5713.017277493083,
                      2036.5221706213845,
                      2025.3935162079247,
                      2856.0290569916897,
                      6434.780128525056,
                      2018.3160027875588,
                      1982.9660043594902,
                      1985.3604155859637,
                      1989.4338747327715,
                      1986.6323026046907,
                      10279.709237521483,
                      1946.5140930216717,
                      2022.4669485009013,
                      2008.202214589621,
                      6474.726586570202,
                      1987.3437249473402,
                      1965.572479800679,
                      2041.583911836907,
                      1992.8482155956572,
                      1968.2225221445863,
                      2038.8941995069374,
                      1994.8299913412768,
                      1986.6427903357646,
                      1993.5321933226967,
                      1986.1954870499035,
                      2001.7557013631267,
                      6265.582429472669,
                      5372.924837599818,
                      2022.721621395037,
                      1979.4239004993503,
                      6540.188080877845,
                      10085.81214729785,
                      6547.392088861293,
                      1977.2482021032445,
                      1964.3256118743711,
                      1968.0301478467156,
                      1922.3255411374496,
                      1958.2454417258762,
                      1975.0215754160379,
                      2020.5623069471517,
                      2045.4470555428927,
                      2011.4167562340187,
                      1969.1015266403106,
                      2023.3941490741322,
                      1987.1030070396337,
                      1974.7334848937373,
                      2000.5719541860537,
                      1967.4054712388918,
                      2018.3384617601441,
                      10140.009519355717,
                      1968.2688628515887,
                      2005.7166612959004,
                      1998.819527025434,
                      2003.0524807372883,
                      2131.165517191692,
                      1982.082972771525,
                      1968.7811935087086,
                      2496.7078476719694,
                      10236.590493154237,
                      1969.4812547157949,
                      2085.753382600289,
                      2014.358542694972,
                      2035.6855699627451,
                      1977.2339870931316,
                      1992.9452607572518,
                      1989.2230579112697,
                      1976.241870657539,
                      1974.0342399448775,
                      10206.711657313674,
                      1965.1030407706658,
                      1990.8931952718917,
                      6569.374801216151,
                      1984.839111164382,
                      2026.8466010909206,
                      1972.4918295580776,
                      1994.5448848691105,
                      4174.490414164676,
                      1966.1418737031565,
                      1978.9829501095112,
                      2243.864390280485,
                      1966.049067189596,
                      6609.369159946659,
                      1993.099026286626,
                      2000.1897214995704,
                      1979.0494999620116,
                      1980.5968039683412,
                      2021.76575091827,
                      1982.650587935163,
                      6470.731002551769,
                      1968.2924799775215,
                      1965.3243587501572,
                      1973.8706139833794,
                      2010.6108855280117
                    ],
                    "colorbar": {
                      "title": {
                        "text": "Objective Value"
                      }
                    },
                    "colorscale": [
                      [
                        0,
                        "rgb(247,251,255)"
                      ],
                      [
                        0.125,
                        "rgb(222,235,247)"
                      ],
                      [
                        0.25,
                        "rgb(198,219,239)"
                      ],
                      [
                        0.375,
                        "rgb(158,202,225)"
                      ],
                      [
                        0.5,
                        "rgb(107,174,214)"
                      ],
                      [
                        0.625,
                        "rgb(66,146,198)"
                      ],
                      [
                        0.75,
                        "rgb(33,113,181)"
                      ],
                      [
                        0.875,
                        "rgb(8,81,156)"
                      ],
                      [
                        1,
                        "rgb(8,48,107)"
                      ]
                    ],
                    "reversescale": true,
                    "showscale": true
                  },
                  "type": "parcoords"
                }
              ],
              "layout": {
                "template": {
                  "data": {
                    "bar": [
                      {
                        "error_x": {
                          "color": "#2a3f5f"
                        },
                        "error_y": {
                          "color": "#2a3f5f"
                        },
                        "marker": {
                          "line": {
                            "color": "#E5ECF6",
                            "width": 0.5
                          },
                          "pattern": {
                            "fillmode": "overlay",
                            "size": 10,
                            "solidity": 0.2
                          }
                        },
                        "type": "bar"
                      }
                    ],
                    "barpolar": [
                      {
                        "marker": {
                          "line": {
                            "color": "#E5ECF6",
                            "width": 0.5
                          },
                          "pattern": {
                            "fillmode": "overlay",
                            "size": 10,
                            "solidity": 0.2
                          }
                        },
                        "type": "barpolar"
                      }
                    ],
                    "carpet": [
                      {
                        "aaxis": {
                          "endlinecolor": "#2a3f5f",
                          "gridcolor": "white",
                          "linecolor": "white",
                          "minorgridcolor": "white",
                          "startlinecolor": "#2a3f5f"
                        },
                        "baxis": {
                          "endlinecolor": "#2a3f5f",
                          "gridcolor": "white",
                          "linecolor": "white",
                          "minorgridcolor": "white",
                          "startlinecolor": "#2a3f5f"
                        },
                        "type": "carpet"
                      }
                    ],
                    "choropleth": [
                      {
                        "colorbar": {
                          "outlinewidth": 0,
                          "ticks": ""
                        },
                        "type": "choropleth"
                      }
                    ],
                    "contour": [
                      {
                        "colorbar": {
                          "outlinewidth": 0,
                          "ticks": ""
                        },
                        "colorscale": [
                          [
                            0,
                            "#0d0887"
                          ],
                          [
                            0.1111111111111111,
                            "#46039f"
                          ],
                          [
                            0.2222222222222222,
                            "#7201a8"
                          ],
                          [
                            0.3333333333333333,
                            "#9c179e"
                          ],
                          [
                            0.4444444444444444,
                            "#bd3786"
                          ],
                          [
                            0.5555555555555556,
                            "#d8576b"
                          ],
                          [
                            0.6666666666666666,
                            "#ed7953"
                          ],
                          [
                            0.7777777777777778,
                            "#fb9f3a"
                          ],
                          [
                            0.8888888888888888,
                            "#fdca26"
                          ],
                          [
                            1,
                            "#f0f921"
                          ]
                        ],
                        "type": "contour"
                      }
                    ],
                    "contourcarpet": [
                      {
                        "colorbar": {
                          "outlinewidth": 0,
                          "ticks": ""
                        },
                        "type": "contourcarpet"
                      }
                    ],
                    "heatmap": [
                      {
                        "colorbar": {
                          "outlinewidth": 0,
                          "ticks": ""
                        },
                        "colorscale": [
                          [
                            0,
                            "#0d0887"
                          ],
                          [
                            0.1111111111111111,
                            "#46039f"
                          ],
                          [
                            0.2222222222222222,
                            "#7201a8"
                          ],
                          [
                            0.3333333333333333,
                            "#9c179e"
                          ],
                          [
                            0.4444444444444444,
                            "#bd3786"
                          ],
                          [
                            0.5555555555555556,
                            "#d8576b"
                          ],
                          [
                            0.6666666666666666,
                            "#ed7953"
                          ],
                          [
                            0.7777777777777778,
                            "#fb9f3a"
                          ],
                          [
                            0.8888888888888888,
                            "#fdca26"
                          ],
                          [
                            1,
                            "#f0f921"
                          ]
                        ],
                        "type": "heatmap"
                      }
                    ],
                    "heatmapgl": [
                      {
                        "colorbar": {
                          "outlinewidth": 0,
                          "ticks": ""
                        },
                        "colorscale": [
                          [
                            0,
                            "#0d0887"
                          ],
                          [
                            0.1111111111111111,
                            "#46039f"
                          ],
                          [
                            0.2222222222222222,
                            "#7201a8"
                          ],
                          [
                            0.3333333333333333,
                            "#9c179e"
                          ],
                          [
                            0.4444444444444444,
                            "#bd3786"
                          ],
                          [
                            0.5555555555555556,
                            "#d8576b"
                          ],
                          [
                            0.6666666666666666,
                            "#ed7953"
                          ],
                          [
                            0.7777777777777778,
                            "#fb9f3a"
                          ],
                          [
                            0.8888888888888888,
                            "#fdca26"
                          ],
                          [
                            1,
                            "#f0f921"
                          ]
                        ],
                        "type": "heatmapgl"
                      }
                    ],
                    "histogram": [
                      {
                        "marker": {
                          "pattern": {
                            "fillmode": "overlay",
                            "size": 10,
                            "solidity": 0.2
                          }
                        },
                        "type": "histogram"
                      }
                    ],
                    "histogram2d": [
                      {
                        "colorbar": {
                          "outlinewidth": 0,
                          "ticks": ""
                        },
                        "colorscale": [
                          [
                            0,
                            "#0d0887"
                          ],
                          [
                            0.1111111111111111,
                            "#46039f"
                          ],
                          [
                            0.2222222222222222,
                            "#7201a8"
                          ],
                          [
                            0.3333333333333333,
                            "#9c179e"
                          ],
                          [
                            0.4444444444444444,
                            "#bd3786"
                          ],
                          [
                            0.5555555555555556,
                            "#d8576b"
                          ],
                          [
                            0.6666666666666666,
                            "#ed7953"
                          ],
                          [
                            0.7777777777777778,
                            "#fb9f3a"
                          ],
                          [
                            0.8888888888888888,
                            "#fdca26"
                          ],
                          [
                            1,
                            "#f0f921"
                          ]
                        ],
                        "type": "histogram2d"
                      }
                    ],
                    "histogram2dcontour": [
                      {
                        "colorbar": {
                          "outlinewidth": 0,
                          "ticks": ""
                        },
                        "colorscale": [
                          [
                            0,
                            "#0d0887"
                          ],
                          [
                            0.1111111111111111,
                            "#46039f"
                          ],
                          [
                            0.2222222222222222,
                            "#7201a8"
                          ],
                          [
                            0.3333333333333333,
                            "#9c179e"
                          ],
                          [
                            0.4444444444444444,
                            "#bd3786"
                          ],
                          [
                            0.5555555555555556,
                            "#d8576b"
                          ],
                          [
                            0.6666666666666666,
                            "#ed7953"
                          ],
                          [
                            0.7777777777777778,
                            "#fb9f3a"
                          ],
                          [
                            0.8888888888888888,
                            "#fdca26"
                          ],
                          [
                            1,
                            "#f0f921"
                          ]
                        ],
                        "type": "histogram2dcontour"
                      }
                    ],
                    "mesh3d": [
                      {
                        "colorbar": {
                          "outlinewidth": 0,
                          "ticks": ""
                        },
                        "type": "mesh3d"
                      }
                    ],
                    "parcoords": [
                      {
                        "line": {
                          "colorbar": {
                            "outlinewidth": 0,
                            "ticks": ""
                          }
                        },
                        "type": "parcoords"
                      }
                    ],
                    "pie": [
                      {
                        "automargin": true,
                        "type": "pie"
                      }
                    ],
                    "scatter": [
                      {
                        "fillpattern": {
                          "fillmode": "overlay",
                          "size": 10,
                          "solidity": 0.2
                        },
                        "type": "scatter"
                      }
                    ],
                    "scatter3d": [
                      {
                        "line": {
                          "colorbar": {
                            "outlinewidth": 0,
                            "ticks": ""
                          }
                        },
                        "marker": {
                          "colorbar": {
                            "outlinewidth": 0,
                            "ticks": ""
                          }
                        },
                        "type": "scatter3d"
                      }
                    ],
                    "scattercarpet": [
                      {
                        "marker": {
                          "colorbar": {
                            "outlinewidth": 0,
                            "ticks": ""
                          }
                        },
                        "type": "scattercarpet"
                      }
                    ],
                    "scattergeo": [
                      {
                        "marker": {
                          "colorbar": {
                            "outlinewidth": 0,
                            "ticks": ""
                          }
                        },
                        "type": "scattergeo"
                      }
                    ],
                    "scattergl": [
                      {
                        "marker": {
                          "colorbar": {
                            "outlinewidth": 0,
                            "ticks": ""
                          }
                        },
                        "type": "scattergl"
                      }
                    ],
                    "scattermapbox": [
                      {
                        "marker": {
                          "colorbar": {
                            "outlinewidth": 0,
                            "ticks": ""
                          }
                        },
                        "type": "scattermapbox"
                      }
                    ],
                    "scatterpolar": [
                      {
                        "marker": {
                          "colorbar": {
                            "outlinewidth": 0,
                            "ticks": ""
                          }
                        },
                        "type": "scatterpolar"
                      }
                    ],
                    "scatterpolargl": [
                      {
                        "marker": {
                          "colorbar": {
                            "outlinewidth": 0,
                            "ticks": ""
                          }
                        },
                        "type": "scatterpolargl"
                      }
                    ],
                    "scatterternary": [
                      {
                        "marker": {
                          "colorbar": {
                            "outlinewidth": 0,
                            "ticks": ""
                          }
                        },
                        "type": "scatterternary"
                      }
                    ],
                    "surface": [
                      {
                        "colorbar": {
                          "outlinewidth": 0,
                          "ticks": ""
                        },
                        "colorscale": [
                          [
                            0,
                            "#0d0887"
                          ],
                          [
                            0.1111111111111111,
                            "#46039f"
                          ],
                          [
                            0.2222222222222222,
                            "#7201a8"
                          ],
                          [
                            0.3333333333333333,
                            "#9c179e"
                          ],
                          [
                            0.4444444444444444,
                            "#bd3786"
                          ],
                          [
                            0.5555555555555556,
                            "#d8576b"
                          ],
                          [
                            0.6666666666666666,
                            "#ed7953"
                          ],
                          [
                            0.7777777777777778,
                            "#fb9f3a"
                          ],
                          [
                            0.8888888888888888,
                            "#fdca26"
                          ],
                          [
                            1,
                            "#f0f921"
                          ]
                        ],
                        "type": "surface"
                      }
                    ],
                    "table": [
                      {
                        "cells": {
                          "fill": {
                            "color": "#EBF0F8"
                          },
                          "line": {
                            "color": "white"
                          }
                        },
                        "header": {
                          "fill": {
                            "color": "#C8D4E3"
                          },
                          "line": {
                            "color": "white"
                          }
                        },
                        "type": "table"
                      }
                    ]
                  },
                  "layout": {
                    "annotationdefaults": {
                      "arrowcolor": "#2a3f5f",
                      "arrowhead": 0,
                      "arrowwidth": 1
                    },
                    "autotypenumbers": "strict",
                    "coloraxis": {
                      "colorbar": {
                        "outlinewidth": 0,
                        "ticks": ""
                      }
                    },
                    "colorscale": {
                      "diverging": [
                        [
                          0,
                          "#8e0152"
                        ],
                        [
                          0.1,
                          "#c51b7d"
                        ],
                        [
                          0.2,
                          "#de77ae"
                        ],
                        [
                          0.3,
                          "#f1b6da"
                        ],
                        [
                          0.4,
                          "#fde0ef"
                        ],
                        [
                          0.5,
                          "#f7f7f7"
                        ],
                        [
                          0.6,
                          "#e6f5d0"
                        ],
                        [
                          0.7,
                          "#b8e186"
                        ],
                        [
                          0.8,
                          "#7fbc41"
                        ],
                        [
                          0.9,
                          "#4d9221"
                        ],
                        [
                          1,
                          "#276419"
                        ]
                      ],
                      "sequential": [
                        [
                          0,
                          "#0d0887"
                        ],
                        [
                          0.1111111111111111,
                          "#46039f"
                        ],
                        [
                          0.2222222222222222,
                          "#7201a8"
                        ],
                        [
                          0.3333333333333333,
                          "#9c179e"
                        ],
                        [
                          0.4444444444444444,
                          "#bd3786"
                        ],
                        [
                          0.5555555555555556,
                          "#d8576b"
                        ],
                        [
                          0.6666666666666666,
                          "#ed7953"
                        ],
                        [
                          0.7777777777777778,
                          "#fb9f3a"
                        ],
                        [
                          0.8888888888888888,
                          "#fdca26"
                        ],
                        [
                          1,
                          "#f0f921"
                        ]
                      ],
                      "sequentialminus": [
                        [
                          0,
                          "#0d0887"
                        ],
                        [
                          0.1111111111111111,
                          "#46039f"
                        ],
                        [
                          0.2222222222222222,
                          "#7201a8"
                        ],
                        [
                          0.3333333333333333,
                          "#9c179e"
                        ],
                        [
                          0.4444444444444444,
                          "#bd3786"
                        ],
                        [
                          0.5555555555555556,
                          "#d8576b"
                        ],
                        [
                          0.6666666666666666,
                          "#ed7953"
                        ],
                        [
                          0.7777777777777778,
                          "#fb9f3a"
                        ],
                        [
                          0.8888888888888888,
                          "#fdca26"
                        ],
                        [
                          1,
                          "#f0f921"
                        ]
                      ]
                    },
                    "colorway": [
                      "#636efa",
                      "#EF553B",
                      "#00cc96",
                      "#ab63fa",
                      "#FFA15A",
                      "#19d3f3",
                      "#FF6692",
                      "#B6E880",
                      "#FF97FF",
                      "#FECB52"
                    ],
                    "font": {
                      "color": "#2a3f5f"
                    },
                    "geo": {
                      "bgcolor": "white",
                      "lakecolor": "white",
                      "landcolor": "#E5ECF6",
                      "showlakes": true,
                      "showland": true,
                      "subunitcolor": "white"
                    },
                    "hoverlabel": {
                      "align": "left"
                    },
                    "hovermode": "closest",
                    "mapbox": {
                      "style": "light"
                    },
                    "paper_bgcolor": "white",
                    "plot_bgcolor": "#E5ECF6",
                    "polar": {
                      "angularaxis": {
                        "gridcolor": "white",
                        "linecolor": "white",
                        "ticks": ""
                      },
                      "bgcolor": "#E5ECF6",
                      "radialaxis": {
                        "gridcolor": "white",
                        "linecolor": "white",
                        "ticks": ""
                      }
                    },
                    "scene": {
                      "xaxis": {
                        "backgroundcolor": "#E5ECF6",
                        "gridcolor": "white",
                        "gridwidth": 2,
                        "linecolor": "white",
                        "showbackground": true,
                        "ticks": "",
                        "zerolinecolor": "white"
                      },
                      "yaxis": {
                        "backgroundcolor": "#E5ECF6",
                        "gridcolor": "white",
                        "gridwidth": 2,
                        "linecolor": "white",
                        "showbackground": true,
                        "ticks": "",
                        "zerolinecolor": "white"
                      },
                      "zaxis": {
                        "backgroundcolor": "#E5ECF6",
                        "gridcolor": "white",
                        "gridwidth": 2,
                        "linecolor": "white",
                        "showbackground": true,
                        "ticks": "",
                        "zerolinecolor": "white"
                      }
                    },
                    "shapedefaults": {
                      "line": {
                        "color": "#2a3f5f"
                      }
                    },
                    "ternary": {
                      "aaxis": {
                        "gridcolor": "white",
                        "linecolor": "white",
                        "ticks": ""
                      },
                      "baxis": {
                        "gridcolor": "white",
                        "linecolor": "white",
                        "ticks": ""
                      },
                      "bgcolor": "#E5ECF6",
                      "caxis": {
                        "gridcolor": "white",
                        "linecolor": "white",
                        "ticks": ""
                      }
                    },
                    "title": {
                      "x": 0.05
                    },
                    "xaxis": {
                      "automargin": true,
                      "gridcolor": "white",
                      "linecolor": "white",
                      "ticks": "",
                      "title": {
                        "standoff": 15
                      },
                      "zerolinecolor": "white",
                      "zerolinewidth": 2
                    },
                    "yaxis": {
                      "automargin": true,
                      "gridcolor": "white",
                      "linecolor": "white",
                      "ticks": "",
                      "title": {
                        "standoff": 15
                      },
                      "zerolinecolor": "white",
                      "zerolinewidth": 2
                    }
                  }
                },
                "title": {
                  "text": "Parallel Coordinate Plot"
                }
              }
            }
          },
          "metadata": {},
          "output_type": "display_data"
        }
      ],
      "source": [
        "plot_parallel_coordinate(study)"
      ]
    },
    {
      "cell_type": "code",
      "execution_count": 85,
      "metadata": {},
      "outputs": [
        {
          "data": {
            "application/vnd.plotly.v1+json": {
              "config": {
                "plotlyServerURL": "https://plot.ly"
              },
              "data": [
                {
                  "cliponaxis": false,
                  "hovertemplate": [
                    "max_depth (IntDistribution): 0.001477620232275781<extra></extra>",
                    "learning_rate (FloatDistribution): 0.0018849025612659041<extra></extra>",
                    "min_child_weight (IntDistribution): 0.004137617875730254<extra></extra>",
                    "n_estimators (IntDistribution): 0.010707796012267113<extra></extra>",
                    "reg_lambda (FloatDistribution): 0.019130578205751578<extra></extra>",
                    "max_leaves (IntDistribution): 0.021744046759305403<extra></extra>",
                    "reg_alpha (FloatDistribution): 0.025722976273328098<extra></extra>",
                    "min_frequency (FloatDistribution): 0.9151944620800757<extra></extra>"
                  ],
                  "name": "Objective Value",
                  "orientation": "h",
                  "text": [
                    "<0.01",
                    "<0.01",
                    "<0.01",
                    "0.01",
                    "0.02",
                    "0.02",
                    "0.03",
                    "0.92"
                  ],
                  "textposition": "outside",
                  "type": "bar",
                  "x": [
                    0.001477620232275781,
                    0.0018849025612659041,
                    0.004137617875730254,
                    0.010707796012267113,
                    0.019130578205751578,
                    0.021744046759305403,
                    0.025722976273328098,
                    0.9151944620800757
                  ],
                  "y": [
                    "max_depth",
                    "learning_rate",
                    "min_child_weight",
                    "n_estimators",
                    "reg_lambda",
                    "max_leaves",
                    "reg_alpha",
                    "min_frequency"
                  ]
                }
              ],
              "layout": {
                "template": {
                  "data": {
                    "bar": [
                      {
                        "error_x": {
                          "color": "#2a3f5f"
                        },
                        "error_y": {
                          "color": "#2a3f5f"
                        },
                        "marker": {
                          "line": {
                            "color": "#E5ECF6",
                            "width": 0.5
                          },
                          "pattern": {
                            "fillmode": "overlay",
                            "size": 10,
                            "solidity": 0.2
                          }
                        },
                        "type": "bar"
                      }
                    ],
                    "barpolar": [
                      {
                        "marker": {
                          "line": {
                            "color": "#E5ECF6",
                            "width": 0.5
                          },
                          "pattern": {
                            "fillmode": "overlay",
                            "size": 10,
                            "solidity": 0.2
                          }
                        },
                        "type": "barpolar"
                      }
                    ],
                    "carpet": [
                      {
                        "aaxis": {
                          "endlinecolor": "#2a3f5f",
                          "gridcolor": "white",
                          "linecolor": "white",
                          "minorgridcolor": "white",
                          "startlinecolor": "#2a3f5f"
                        },
                        "baxis": {
                          "endlinecolor": "#2a3f5f",
                          "gridcolor": "white",
                          "linecolor": "white",
                          "minorgridcolor": "white",
                          "startlinecolor": "#2a3f5f"
                        },
                        "type": "carpet"
                      }
                    ],
                    "choropleth": [
                      {
                        "colorbar": {
                          "outlinewidth": 0,
                          "ticks": ""
                        },
                        "type": "choropleth"
                      }
                    ],
                    "contour": [
                      {
                        "colorbar": {
                          "outlinewidth": 0,
                          "ticks": ""
                        },
                        "colorscale": [
                          [
                            0,
                            "#0d0887"
                          ],
                          [
                            0.1111111111111111,
                            "#46039f"
                          ],
                          [
                            0.2222222222222222,
                            "#7201a8"
                          ],
                          [
                            0.3333333333333333,
                            "#9c179e"
                          ],
                          [
                            0.4444444444444444,
                            "#bd3786"
                          ],
                          [
                            0.5555555555555556,
                            "#d8576b"
                          ],
                          [
                            0.6666666666666666,
                            "#ed7953"
                          ],
                          [
                            0.7777777777777778,
                            "#fb9f3a"
                          ],
                          [
                            0.8888888888888888,
                            "#fdca26"
                          ],
                          [
                            1,
                            "#f0f921"
                          ]
                        ],
                        "type": "contour"
                      }
                    ],
                    "contourcarpet": [
                      {
                        "colorbar": {
                          "outlinewidth": 0,
                          "ticks": ""
                        },
                        "type": "contourcarpet"
                      }
                    ],
                    "heatmap": [
                      {
                        "colorbar": {
                          "outlinewidth": 0,
                          "ticks": ""
                        },
                        "colorscale": [
                          [
                            0,
                            "#0d0887"
                          ],
                          [
                            0.1111111111111111,
                            "#46039f"
                          ],
                          [
                            0.2222222222222222,
                            "#7201a8"
                          ],
                          [
                            0.3333333333333333,
                            "#9c179e"
                          ],
                          [
                            0.4444444444444444,
                            "#bd3786"
                          ],
                          [
                            0.5555555555555556,
                            "#d8576b"
                          ],
                          [
                            0.6666666666666666,
                            "#ed7953"
                          ],
                          [
                            0.7777777777777778,
                            "#fb9f3a"
                          ],
                          [
                            0.8888888888888888,
                            "#fdca26"
                          ],
                          [
                            1,
                            "#f0f921"
                          ]
                        ],
                        "type": "heatmap"
                      }
                    ],
                    "heatmapgl": [
                      {
                        "colorbar": {
                          "outlinewidth": 0,
                          "ticks": ""
                        },
                        "colorscale": [
                          [
                            0,
                            "#0d0887"
                          ],
                          [
                            0.1111111111111111,
                            "#46039f"
                          ],
                          [
                            0.2222222222222222,
                            "#7201a8"
                          ],
                          [
                            0.3333333333333333,
                            "#9c179e"
                          ],
                          [
                            0.4444444444444444,
                            "#bd3786"
                          ],
                          [
                            0.5555555555555556,
                            "#d8576b"
                          ],
                          [
                            0.6666666666666666,
                            "#ed7953"
                          ],
                          [
                            0.7777777777777778,
                            "#fb9f3a"
                          ],
                          [
                            0.8888888888888888,
                            "#fdca26"
                          ],
                          [
                            1,
                            "#f0f921"
                          ]
                        ],
                        "type": "heatmapgl"
                      }
                    ],
                    "histogram": [
                      {
                        "marker": {
                          "pattern": {
                            "fillmode": "overlay",
                            "size": 10,
                            "solidity": 0.2
                          }
                        },
                        "type": "histogram"
                      }
                    ],
                    "histogram2d": [
                      {
                        "colorbar": {
                          "outlinewidth": 0,
                          "ticks": ""
                        },
                        "colorscale": [
                          [
                            0,
                            "#0d0887"
                          ],
                          [
                            0.1111111111111111,
                            "#46039f"
                          ],
                          [
                            0.2222222222222222,
                            "#7201a8"
                          ],
                          [
                            0.3333333333333333,
                            "#9c179e"
                          ],
                          [
                            0.4444444444444444,
                            "#bd3786"
                          ],
                          [
                            0.5555555555555556,
                            "#d8576b"
                          ],
                          [
                            0.6666666666666666,
                            "#ed7953"
                          ],
                          [
                            0.7777777777777778,
                            "#fb9f3a"
                          ],
                          [
                            0.8888888888888888,
                            "#fdca26"
                          ],
                          [
                            1,
                            "#f0f921"
                          ]
                        ],
                        "type": "histogram2d"
                      }
                    ],
                    "histogram2dcontour": [
                      {
                        "colorbar": {
                          "outlinewidth": 0,
                          "ticks": ""
                        },
                        "colorscale": [
                          [
                            0,
                            "#0d0887"
                          ],
                          [
                            0.1111111111111111,
                            "#46039f"
                          ],
                          [
                            0.2222222222222222,
                            "#7201a8"
                          ],
                          [
                            0.3333333333333333,
                            "#9c179e"
                          ],
                          [
                            0.4444444444444444,
                            "#bd3786"
                          ],
                          [
                            0.5555555555555556,
                            "#d8576b"
                          ],
                          [
                            0.6666666666666666,
                            "#ed7953"
                          ],
                          [
                            0.7777777777777778,
                            "#fb9f3a"
                          ],
                          [
                            0.8888888888888888,
                            "#fdca26"
                          ],
                          [
                            1,
                            "#f0f921"
                          ]
                        ],
                        "type": "histogram2dcontour"
                      }
                    ],
                    "mesh3d": [
                      {
                        "colorbar": {
                          "outlinewidth": 0,
                          "ticks": ""
                        },
                        "type": "mesh3d"
                      }
                    ],
                    "parcoords": [
                      {
                        "line": {
                          "colorbar": {
                            "outlinewidth": 0,
                            "ticks": ""
                          }
                        },
                        "type": "parcoords"
                      }
                    ],
                    "pie": [
                      {
                        "automargin": true,
                        "type": "pie"
                      }
                    ],
                    "scatter": [
                      {
                        "fillpattern": {
                          "fillmode": "overlay",
                          "size": 10,
                          "solidity": 0.2
                        },
                        "type": "scatter"
                      }
                    ],
                    "scatter3d": [
                      {
                        "line": {
                          "colorbar": {
                            "outlinewidth": 0,
                            "ticks": ""
                          }
                        },
                        "marker": {
                          "colorbar": {
                            "outlinewidth": 0,
                            "ticks": ""
                          }
                        },
                        "type": "scatter3d"
                      }
                    ],
                    "scattercarpet": [
                      {
                        "marker": {
                          "colorbar": {
                            "outlinewidth": 0,
                            "ticks": ""
                          }
                        },
                        "type": "scattercarpet"
                      }
                    ],
                    "scattergeo": [
                      {
                        "marker": {
                          "colorbar": {
                            "outlinewidth": 0,
                            "ticks": ""
                          }
                        },
                        "type": "scattergeo"
                      }
                    ],
                    "scattergl": [
                      {
                        "marker": {
                          "colorbar": {
                            "outlinewidth": 0,
                            "ticks": ""
                          }
                        },
                        "type": "scattergl"
                      }
                    ],
                    "scattermapbox": [
                      {
                        "marker": {
                          "colorbar": {
                            "outlinewidth": 0,
                            "ticks": ""
                          }
                        },
                        "type": "scattermapbox"
                      }
                    ],
                    "scatterpolar": [
                      {
                        "marker": {
                          "colorbar": {
                            "outlinewidth": 0,
                            "ticks": ""
                          }
                        },
                        "type": "scatterpolar"
                      }
                    ],
                    "scatterpolargl": [
                      {
                        "marker": {
                          "colorbar": {
                            "outlinewidth": 0,
                            "ticks": ""
                          }
                        },
                        "type": "scatterpolargl"
                      }
                    ],
                    "scatterternary": [
                      {
                        "marker": {
                          "colorbar": {
                            "outlinewidth": 0,
                            "ticks": ""
                          }
                        },
                        "type": "scatterternary"
                      }
                    ],
                    "surface": [
                      {
                        "colorbar": {
                          "outlinewidth": 0,
                          "ticks": ""
                        },
                        "colorscale": [
                          [
                            0,
                            "#0d0887"
                          ],
                          [
                            0.1111111111111111,
                            "#46039f"
                          ],
                          [
                            0.2222222222222222,
                            "#7201a8"
                          ],
                          [
                            0.3333333333333333,
                            "#9c179e"
                          ],
                          [
                            0.4444444444444444,
                            "#bd3786"
                          ],
                          [
                            0.5555555555555556,
                            "#d8576b"
                          ],
                          [
                            0.6666666666666666,
                            "#ed7953"
                          ],
                          [
                            0.7777777777777778,
                            "#fb9f3a"
                          ],
                          [
                            0.8888888888888888,
                            "#fdca26"
                          ],
                          [
                            1,
                            "#f0f921"
                          ]
                        ],
                        "type": "surface"
                      }
                    ],
                    "table": [
                      {
                        "cells": {
                          "fill": {
                            "color": "#EBF0F8"
                          },
                          "line": {
                            "color": "white"
                          }
                        },
                        "header": {
                          "fill": {
                            "color": "#C8D4E3"
                          },
                          "line": {
                            "color": "white"
                          }
                        },
                        "type": "table"
                      }
                    ]
                  },
                  "layout": {
                    "annotationdefaults": {
                      "arrowcolor": "#2a3f5f",
                      "arrowhead": 0,
                      "arrowwidth": 1
                    },
                    "autotypenumbers": "strict",
                    "coloraxis": {
                      "colorbar": {
                        "outlinewidth": 0,
                        "ticks": ""
                      }
                    },
                    "colorscale": {
                      "diverging": [
                        [
                          0,
                          "#8e0152"
                        ],
                        [
                          0.1,
                          "#c51b7d"
                        ],
                        [
                          0.2,
                          "#de77ae"
                        ],
                        [
                          0.3,
                          "#f1b6da"
                        ],
                        [
                          0.4,
                          "#fde0ef"
                        ],
                        [
                          0.5,
                          "#f7f7f7"
                        ],
                        [
                          0.6,
                          "#e6f5d0"
                        ],
                        [
                          0.7,
                          "#b8e186"
                        ],
                        [
                          0.8,
                          "#7fbc41"
                        ],
                        [
                          0.9,
                          "#4d9221"
                        ],
                        [
                          1,
                          "#276419"
                        ]
                      ],
                      "sequential": [
                        [
                          0,
                          "#0d0887"
                        ],
                        [
                          0.1111111111111111,
                          "#46039f"
                        ],
                        [
                          0.2222222222222222,
                          "#7201a8"
                        ],
                        [
                          0.3333333333333333,
                          "#9c179e"
                        ],
                        [
                          0.4444444444444444,
                          "#bd3786"
                        ],
                        [
                          0.5555555555555556,
                          "#d8576b"
                        ],
                        [
                          0.6666666666666666,
                          "#ed7953"
                        ],
                        [
                          0.7777777777777778,
                          "#fb9f3a"
                        ],
                        [
                          0.8888888888888888,
                          "#fdca26"
                        ],
                        [
                          1,
                          "#f0f921"
                        ]
                      ],
                      "sequentialminus": [
                        [
                          0,
                          "#0d0887"
                        ],
                        [
                          0.1111111111111111,
                          "#46039f"
                        ],
                        [
                          0.2222222222222222,
                          "#7201a8"
                        ],
                        [
                          0.3333333333333333,
                          "#9c179e"
                        ],
                        [
                          0.4444444444444444,
                          "#bd3786"
                        ],
                        [
                          0.5555555555555556,
                          "#d8576b"
                        ],
                        [
                          0.6666666666666666,
                          "#ed7953"
                        ],
                        [
                          0.7777777777777778,
                          "#fb9f3a"
                        ],
                        [
                          0.8888888888888888,
                          "#fdca26"
                        ],
                        [
                          1,
                          "#f0f921"
                        ]
                      ]
                    },
                    "colorway": [
                      "#636efa",
                      "#EF553B",
                      "#00cc96",
                      "#ab63fa",
                      "#FFA15A",
                      "#19d3f3",
                      "#FF6692",
                      "#B6E880",
                      "#FF97FF",
                      "#FECB52"
                    ],
                    "font": {
                      "color": "#2a3f5f"
                    },
                    "geo": {
                      "bgcolor": "white",
                      "lakecolor": "white",
                      "landcolor": "#E5ECF6",
                      "showlakes": true,
                      "showland": true,
                      "subunitcolor": "white"
                    },
                    "hoverlabel": {
                      "align": "left"
                    },
                    "hovermode": "closest",
                    "mapbox": {
                      "style": "light"
                    },
                    "paper_bgcolor": "white",
                    "plot_bgcolor": "#E5ECF6",
                    "polar": {
                      "angularaxis": {
                        "gridcolor": "white",
                        "linecolor": "white",
                        "ticks": ""
                      },
                      "bgcolor": "#E5ECF6",
                      "radialaxis": {
                        "gridcolor": "white",
                        "linecolor": "white",
                        "ticks": ""
                      }
                    },
                    "scene": {
                      "xaxis": {
                        "backgroundcolor": "#E5ECF6",
                        "gridcolor": "white",
                        "gridwidth": 2,
                        "linecolor": "white",
                        "showbackground": true,
                        "ticks": "",
                        "zerolinecolor": "white"
                      },
                      "yaxis": {
                        "backgroundcolor": "#E5ECF6",
                        "gridcolor": "white",
                        "gridwidth": 2,
                        "linecolor": "white",
                        "showbackground": true,
                        "ticks": "",
                        "zerolinecolor": "white"
                      },
                      "zaxis": {
                        "backgroundcolor": "#E5ECF6",
                        "gridcolor": "white",
                        "gridwidth": 2,
                        "linecolor": "white",
                        "showbackground": true,
                        "ticks": "",
                        "zerolinecolor": "white"
                      }
                    },
                    "shapedefaults": {
                      "line": {
                        "color": "#2a3f5f"
                      }
                    },
                    "ternary": {
                      "aaxis": {
                        "gridcolor": "white",
                        "linecolor": "white",
                        "ticks": ""
                      },
                      "baxis": {
                        "gridcolor": "white",
                        "linecolor": "white",
                        "ticks": ""
                      },
                      "bgcolor": "#E5ECF6",
                      "caxis": {
                        "gridcolor": "white",
                        "linecolor": "white",
                        "ticks": ""
                      }
                    },
                    "title": {
                      "x": 0.05
                    },
                    "xaxis": {
                      "automargin": true,
                      "gridcolor": "white",
                      "linecolor": "white",
                      "ticks": "",
                      "title": {
                        "standoff": 15
                      },
                      "zerolinecolor": "white",
                      "zerolinewidth": 2
                    },
                    "yaxis": {
                      "automargin": true,
                      "gridcolor": "white",
                      "linecolor": "white",
                      "ticks": "",
                      "title": {
                        "standoff": 15
                      },
                      "zerolinecolor": "white",
                      "zerolinewidth": 2
                    }
                  }
                },
                "title": {
                  "text": "Hyperparameter Importances"
                },
                "xaxis": {
                  "title": {
                    "text": "Hyperparameter Importance"
                  }
                },
                "yaxis": {
                  "title": {
                    "text": "Hyperparameter"
                  }
                }
              }
            }
          },
          "metadata": {},
          "output_type": "display_data"
        }
      ],
      "source": [
        "plot_param_importances(study)"
      ]
    },
    {
      "cell_type": "markdown",
      "metadata": {
        "cell_id": "ac8a20f445d045a3becf1a518d410a7d",
        "deepnote_cell_type": "markdown",
        "id": "EoW32TA9I5wA"
      },
      "source": [
        "## 6. Síntesis de resultados (0.3)\n",
        "\n",
        "Finalmente:\n",
        "\n",
        "1. Genere una tabla resumen del MAE obtenido en los 5 modelos entrenados desde Baseline hasta XGBoost con Constraints, Optuna y Prunning.\n",
        "2. Compare los resultados de la tabla y responda, ¿qué modelo obtiene el mejor rendimiento?\n",
        "3. Cargue el mejor modelo, prediga sobre el conjunto de **test** y reporte su MAE.\n",
        "4. ¿Existen diferencias con respecto a las métricas obtenidas en el conjunto de validación? ¿Porqué puede ocurrir esto?"
      ]
    },
    {
      "cell_type": "code",
      "execution_count": null,
      "metadata": {
        "id": "jq5C6cDnJg9h"
      },
      "outputs": [],
      "source": [
        "# Inserte su código acá"
      ]
    },
    {
      "cell_type": "markdown",
      "metadata": {
        "cell_id": "5c4654d12037494fbd385b4dc6bd1059",
        "deepnote_cell_type": "markdown",
        "id": "E_19tgBEI5wA"
      },
      "source": [
        "# Conclusión\n",
        "Eso ha sido todo para el lab de hoy, recuerden que el laboratorio tiene un plazo de entrega de una semana. Cualquier duda del laboratorio, no duden en contactarnos por mail o U-cursos.\n",
        "\n",
        "<p align=\"center\">\n",
        "  <img src=\"https://media.tenor.com/8CT1AXElF_cAAAAC/gojo-satoru.gif\">\n",
        "</p>"
      ]
    },
    {
      "cell_type": "markdown",
      "metadata": {
        "cell_id": "5025de06759f4903a26916c80323bf25",
        "deepnote_cell_type": "markdown",
        "id": "Kq2cFix1I5wA"
      },
      "source": []
    },
    {
      "cell_type": "markdown",
      "metadata": {
        "created_in_deepnote_cell": true,
        "deepnote_cell_type": "markdown",
        "id": "rAp9UxwiI5wA"
      },
      "source": [
        "<a style='text-decoration:none;line-height:16px;display:flex;color:#5B5B62;padding:10px;justify-content:end;' href='https://deepnote.com?utm_source=created-in-deepnote-cell&projectId=87110296-876e-426f-b91d-aaf681223468' target=\"_blank\">\n",
        "<img alt='Created in deepnote.com' style='display:inline;max-height:16px;margin:0px;margin-right:7.5px;' src='data:image/svg+xml;base64,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' > </img>\n",
        "Created in <span style='font-weight:600;margin-left:4px;'>Deepnote</span></a>"
      ]
    }
  ],
  "metadata": {
    "colab": {
      "provenance": []
    },
    "deepnote": {},
    "deepnote_execution_queue": [],
    "deepnote_notebook_id": "f63d38450a6b464c9bb6385cf11db4d9",
    "deepnote_persisted_session": {
      "createdAt": "2023-11-09T16:18:30.203Z"
    },
    "kernelspec": {
      "display_name": "base",
      "language": "python",
      "name": "python3"
    },
    "language_info": {
      "codemirror_mode": {
        "name": "ipython",
        "version": 3
      },
      "file_extension": ".py",
      "mimetype": "text/x-python",
      "name": "python",
      "nbconvert_exporter": "python",
      "pygments_lexer": "ipython3",
      "version": "3.10.6"
    }
  },
  "nbformat": 4,
  "nbformat_minor": 0
}
