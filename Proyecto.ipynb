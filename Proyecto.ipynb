{
 "cells": [
  {
   "cell_type": "markdown",
   "metadata": {},
   "source": [
    "## **Proyecto final**\n",
    "### **Laboratorio de Programación Científica para Ciencia de Datos MDS7202**\n",
    "\n",
    "Integrante 1: Benjamín Angulo\n",
    "\n",
    "Integrante 2: Vanessa González"
   ]
  },
  {
   "cell_type": "markdown",
   "metadata": {},
   "source": [
    "### **1. Introducción**\n",
    "\n",
    "Esta sección es una muy breve introducción con todo lo necesario para entender que hicieron en su proyecto.\n",
    "\n",
    "Describir brevemente el problema planteado (¿Qué se intenta predecir?)\n",
    "\n",
    "Describir brevemente los datos de entrada que les provee el problema.\n",
    "\n",
    "Describir las métricas que utilizarán para evaluar los modelos generados. Elijan una métrica adecuada para el desarrollo del\n",
    "proyecto según la tarea que deben resolver y la institución a la cuál será su contraparte y luego justifiquen su elección.\n",
    "\n",
    "Considerando que los datos presentan desbalanceo y que el uso de la métrica 'accuracy' sería incorrecto, enfoquen su\n",
    "elección en una de las métricas precision, recall o f1-score y en la clase que será evaluada.\n",
    "\n",
    "[Escribir al final] Describir brevemente los modelos que usaron para resolver el problema (incluyendo las transformaciones\n",
    "intermedias de datos).\n",
    "\n",
    "[Escribir al final] Indicar si lograron resolver el problema a través de su modelo final. Indiquen además si creen que los\n",
    "resultados de su mejor modelo son aceptables y como les fue con respecto al resto de los equipos.\n",
    "\n",
    "Variables disponibles:\n",
    "\n",
    "1. income: La lana que el equipo obtiene.\n",
    "2. AliasMatch: Cuánto coinciden el nombre y el correo.\n",
    "3. OldHoodMonths: Meses pasando el rato en la vieja casa.\n",
    "4. NewCribMonths: Meses instalados en el nuevo lugar.\n",
    "5. customer_age: Los años que ha estado el cliente en el juego.\n",
    "6. DaysSinceJob: Días desde que se planeó el último gran golpe.\n",
    "7. intended_balcon_amount: La lana destinada para el trabajo.\n",
    "8. LootMethod: Cómo se va a mover la plata.\n",
    "9. ZipHustle: Actividad de estafa en el código postal en las últimas 4 semanas.\n",
    "10. Speed6h: Qué tan rápido se movieron en las últimas 6 horas.\n",
    "11. Speed24h: Qué tan rápido se movieron en las últimas 24 horas.\n",
    "12. Speed4w: Qué tan rápido se movieron en las últimas 4 semanas.\n",
    "13. BankSpots8w: Número de bancos golpeados en las últimas 8 semanas.\n",
    "14. DOBEmails4w: Correos diferentes usados con la misma fecha de nacimiento en las últimas 4 semanas.\n",
    "15. JobStatus: ¿Cuál es la situación laboral del cliente?\n",
    "16. RiskScore: Qué tan riesgoso cree el equipo que es el trabajo.\n",
    "17. FreeMail: Si el correo proviene de un proveedor gratuito o no.\n",
    "18. CribStatus: El tipo de vivienda donde está instalado el cliente.\n",
    "19. HomePhoneCheck: Si el teléfono fijo está en orden.\n",
    "20. CellPhoneCheck: Si el teléfono celular es legítimo.\n",
    "21. BankMonths: Cuánto tiempo ha estado el cliente con su banco actual.\n",
    "22. ExtraPlastic: Si el cliente tiene otras tarjetas de crédito.\n",
    "23. CreditCap: El límite propuesto en el crédito.\n",
    "24. ForeignHustle: Si el trabajo tiene un toque extranjero.\n",
    "25. InfoSource: De dónde viene la información.\n",
    "26. HustleMinutes: Cuánto tiempo ha estado el cliente en línea.\n",
    "27. DeviceOS: El sistema operativo en el dispositivo.\n",
    "28. AliveSession: Si la sesión sigue activa.\n",
    "29. DeviceEmails8w: Número de correos únicos usados en el dispositivo en las últimas 8 semanas.\n",
    "30. DeviceScams: Número de intentos de fraude desde el dispositivo.\n",
    "31. HustleMonth: El mes en que se lleva a cabo el trabajo."
   ]
  },
  {
   "cell_type": "markdown",
   "metadata": {},
   "source": [
    "### **2. Modelos con Scikit-Learn**"
   ]
  },
  {
   "cell_type": "code",
   "execution_count": 57,
   "metadata": {},
   "outputs": [],
   "source": [
    "import pandas as pd\n",
    "import numpy as np\n",
    "from scipy import stats\n",
    "from scipy.stats import norm\n",
    "import plotly.express as px\n",
    "import plotly.graph_objects as go\n",
    "from plotly.subplots import make_subplots\n",
    "import matplotlib.pyplot as plt\n",
    "import seaborn as sns"
   ]
  },
  {
   "cell_type": "markdown",
   "metadata": {},
   "source": [
    "#### **2.1 Análisis Exploratorio de Datos**\n",
    "\n",
    "Esta sección consiste en realizar un análisis exploratorio de datos para investigar patrones, tendencias y relaciones en un conjunto\n",
    "de datos.\n"
   ]
  },
  {
   "cell_type": "code",
   "execution_count": 58,
   "metadata": {},
   "outputs": [],
   "source": [
    "# lectura de archivos\n",
    "X_t0 = pd.read_csv('X_t0', sep = ',')\n",
    "y_t0 = pd.read_csv('y_t0', sep = ',')\n",
    "y_t0 = y_t0[['is_mob']]\n",
    "df = X_t0.copy()\n",
    "df['is_mob'] = y_t0['is_mob']"
   ]
  },
  {
   "cell_type": "code",
   "execution_count": 59,
   "metadata": {},
   "outputs": [
    {
     "data": {
      "text/html": [
       "<div>\n",
       "<style scoped>\n",
       "    .dataframe tbody tr th:only-of-type {\n",
       "        vertical-align: middle;\n",
       "    }\n",
       "\n",
       "    .dataframe tbody tr th {\n",
       "        vertical-align: top;\n",
       "    }\n",
       "\n",
       "    .dataframe thead th {\n",
       "        text-align: right;\n",
       "    }\n",
       "</style>\n",
       "<table border=\"1\" class=\"dataframe\">\n",
       "  <thead>\n",
       "    <tr style=\"text-align: right;\">\n",
       "      <th></th>\n",
       "      <th>DaysSinceJob</th>\n",
       "      <th>CreditCap</th>\n",
       "      <th>JobStatus</th>\n",
       "      <th>Speed24h</th>\n",
       "      <th>AliveSession</th>\n",
       "      <th>BankSpots8w</th>\n",
       "      <th>HustleMinutes</th>\n",
       "      <th>RiskScore</th>\n",
       "      <th>AliasMatch</th>\n",
       "      <th>DeviceEmails8w</th>\n",
       "      <th>...</th>\n",
       "      <th>ForeignHustle</th>\n",
       "      <th>DeviceScams</th>\n",
       "      <th>OldHoodMonths</th>\n",
       "      <th>intended_balcon_amount</th>\n",
       "      <th>NewCribMonths</th>\n",
       "      <th>Speed6h</th>\n",
       "      <th>CellPhoneCheck</th>\n",
       "      <th>customer_age</th>\n",
       "      <th>ExtraPlastic</th>\n",
       "      <th>is_mob</th>\n",
       "    </tr>\n",
       "  </thead>\n",
       "  <tbody>\n",
       "    <tr>\n",
       "      <th>0</th>\n",
       "      <td>0.006735</td>\n",
       "      <td>1500.0</td>\n",
       "      <td>CB</td>\n",
       "      <td>7850.955007</td>\n",
       "      <td>1</td>\n",
       "      <td>5</td>\n",
       "      <td>16.224843</td>\n",
       "      <td>163</td>\n",
       "      <td>0.986506</td>\n",
       "      <td>1</td>\n",
       "      <td>...</td>\n",
       "      <td>0</td>\n",
       "      <td>0</td>\n",
       "      <td>-1</td>\n",
       "      <td>102.453711</td>\n",
       "      <td>25</td>\n",
       "      <td>13096.035018</td>\n",
       "      <td>1</td>\n",
       "      <td>40</td>\n",
       "      <td>0</td>\n",
       "      <td>0</td>\n",
       "    </tr>\n",
       "    <tr>\n",
       "      <th>1</th>\n",
       "      <td>0.010095</td>\n",
       "      <td>1500.0</td>\n",
       "      <td>CA</td>\n",
       "      <td>5745.251481</td>\n",
       "      <td>1</td>\n",
       "      <td>3</td>\n",
       "      <td>3.363854</td>\n",
       "      <td>154</td>\n",
       "      <td>0.617426</td>\n",
       "      <td>1</td>\n",
       "      <td>...</td>\n",
       "      <td>0</td>\n",
       "      <td>0</td>\n",
       "      <td>-1</td>\n",
       "      <td>-0.849551</td>\n",
       "      <td>89</td>\n",
       "      <td>9223.283431</td>\n",
       "      <td>1</td>\n",
       "      <td>20</td>\n",
       "      <td>0</td>\n",
       "      <td>0</td>\n",
       "    </tr>\n",
       "    <tr>\n",
       "      <th>2</th>\n",
       "      <td>0.012316</td>\n",
       "      <td>200.0</td>\n",
       "      <td>CA</td>\n",
       "      <td>5471.988958</td>\n",
       "      <td>0</td>\n",
       "      <td>15</td>\n",
       "      <td>22.730559</td>\n",
       "      <td>89</td>\n",
       "      <td>0.996707</td>\n",
       "      <td>1</td>\n",
       "      <td>...</td>\n",
       "      <td>0</td>\n",
       "      <td>0</td>\n",
       "      <td>9</td>\n",
       "      <td>-1.490386</td>\n",
       "      <td>14</td>\n",
       "      <td>4471.472149</td>\n",
       "      <td>1</td>\n",
       "      <td>40</td>\n",
       "      <td>0</td>\n",
       "      <td>0</td>\n",
       "    </tr>\n",
       "    <tr>\n",
       "      <th>3</th>\n",
       "      <td>0.006991</td>\n",
       "      <td>200.0</td>\n",
       "      <td>CA</td>\n",
       "      <td>6755.344479</td>\n",
       "      <td>1</td>\n",
       "      <td>11</td>\n",
       "      <td>15.215816</td>\n",
       "      <td>90</td>\n",
       "      <td>0.475100</td>\n",
       "      <td>1</td>\n",
       "      <td>...</td>\n",
       "      <td>0</td>\n",
       "      <td>0</td>\n",
       "      <td>11</td>\n",
       "      <td>-1.863101</td>\n",
       "      <td>14</td>\n",
       "      <td>14431.993621</td>\n",
       "      <td>1</td>\n",
       "      <td>30</td>\n",
       "      <td>0</td>\n",
       "      <td>0</td>\n",
       "    </tr>\n",
       "    <tr>\n",
       "      <th>4</th>\n",
       "      <td>5.742626</td>\n",
       "      <td>200.0</td>\n",
       "      <td>CA</td>\n",
       "      <td>5124.046930</td>\n",
       "      <td>0</td>\n",
       "      <td>1</td>\n",
       "      <td>3.743048</td>\n",
       "      <td>91</td>\n",
       "      <td>0.842307</td>\n",
       "      <td>1</td>\n",
       "      <td>...</td>\n",
       "      <td>0</td>\n",
       "      <td>0</td>\n",
       "      <td>-1</td>\n",
       "      <td>47.152498</td>\n",
       "      <td>29</td>\n",
       "      <td>7601.511579</td>\n",
       "      <td>1</td>\n",
       "      <td>40</td>\n",
       "      <td>0</td>\n",
       "      <td>0</td>\n",
       "    </tr>\n",
       "    <tr>\n",
       "      <th>...</th>\n",
       "      <td>...</td>\n",
       "      <td>...</td>\n",
       "      <td>...</td>\n",
       "      <td>...</td>\n",
       "      <td>...</td>\n",
       "      <td>...</td>\n",
       "      <td>...</td>\n",
       "      <td>...</td>\n",
       "      <td>...</td>\n",
       "      <td>...</td>\n",
       "      <td>...</td>\n",
       "      <td>...</td>\n",
       "      <td>...</td>\n",
       "      <td>...</td>\n",
       "      <td>...</td>\n",
       "      <td>...</td>\n",
       "      <td>...</td>\n",
       "      <td>...</td>\n",
       "      <td>...</td>\n",
       "      <td>...</td>\n",
       "      <td>...</td>\n",
       "    </tr>\n",
       "    <tr>\n",
       "      <th>397034</th>\n",
       "      <td>0.024010</td>\n",
       "      <td>200.0</td>\n",
       "      <td>CA</td>\n",
       "      <td>6088.406332</td>\n",
       "      <td>1</td>\n",
       "      <td>10</td>\n",
       "      <td>23.337101</td>\n",
       "      <td>44</td>\n",
       "      <td>0.086446</td>\n",
       "      <td>1</td>\n",
       "      <td>...</td>\n",
       "      <td>0</td>\n",
       "      <td>0</td>\n",
       "      <td>-1</td>\n",
       "      <td>-1.691826</td>\n",
       "      <td>27</td>\n",
       "      <td>8551.416716</td>\n",
       "      <td>1</td>\n",
       "      <td>50</td>\n",
       "      <td>0</td>\n",
       "      <td>0</td>\n",
       "    </tr>\n",
       "    <tr>\n",
       "      <th>397035</th>\n",
       "      <td>10.387120</td>\n",
       "      <td>1000.0</td>\n",
       "      <td>CA</td>\n",
       "      <td>5600.230367</td>\n",
       "      <td>0</td>\n",
       "      <td>13</td>\n",
       "      <td>13.307556</td>\n",
       "      <td>194</td>\n",
       "      <td>0.988005</td>\n",
       "      <td>1</td>\n",
       "      <td>...</td>\n",
       "      <td>0</td>\n",
       "      <td>0</td>\n",
       "      <td>-1</td>\n",
       "      <td>-0.783048</td>\n",
       "      <td>316</td>\n",
       "      <td>8080.335172</td>\n",
       "      <td>1</td>\n",
       "      <td>30</td>\n",
       "      <td>0</td>\n",
       "      <td>1</td>\n",
       "    </tr>\n",
       "    <tr>\n",
       "      <th>397036</th>\n",
       "      <td>0.011777</td>\n",
       "      <td>500.0</td>\n",
       "      <td>CA</td>\n",
       "      <td>7488.503866</td>\n",
       "      <td>1</td>\n",
       "      <td>1</td>\n",
       "      <td>3.089539</td>\n",
       "      <td>189</td>\n",
       "      <td>0.510312</td>\n",
       "      <td>1</td>\n",
       "      <td>...</td>\n",
       "      <td>0</td>\n",
       "      <td>0</td>\n",
       "      <td>55</td>\n",
       "      <td>-1.141519</td>\n",
       "      <td>12</td>\n",
       "      <td>9999.670220</td>\n",
       "      <td>1</td>\n",
       "      <td>30</td>\n",
       "      <td>1</td>\n",
       "      <td>0</td>\n",
       "    </tr>\n",
       "    <tr>\n",
       "      <th>397037</th>\n",
       "      <td>0.016757</td>\n",
       "      <td>200.0</td>\n",
       "      <td>CA</td>\n",
       "      <td>7125.279859</td>\n",
       "      <td>1</td>\n",
       "      <td>15</td>\n",
       "      <td>7.049267</td>\n",
       "      <td>138</td>\n",
       "      <td>0.646016</td>\n",
       "      <td>1</td>\n",
       "      <td>...</td>\n",
       "      <td>0</td>\n",
       "      <td>0</td>\n",
       "      <td>26</td>\n",
       "      <td>-1.004671</td>\n",
       "      <td>2</td>\n",
       "      <td>10590.001702</td>\n",
       "      <td>0</td>\n",
       "      <td>30</td>\n",
       "      <td>0</td>\n",
       "      <td>0</td>\n",
       "    </tr>\n",
       "    <tr>\n",
       "      <th>397038</th>\n",
       "      <td>0.006887</td>\n",
       "      <td>200.0</td>\n",
       "      <td>CA</td>\n",
       "      <td>4923.451132</td>\n",
       "      <td>0</td>\n",
       "      <td>1</td>\n",
       "      <td>9.244074</td>\n",
       "      <td>152</td>\n",
       "      <td>0.849117</td>\n",
       "      <td>1</td>\n",
       "      <td>...</td>\n",
       "      <td>0</td>\n",
       "      <td>0</td>\n",
       "      <td>-1</td>\n",
       "      <td>-1.005428</td>\n",
       "      <td>30</td>\n",
       "      <td>3869.516064</td>\n",
       "      <td>1</td>\n",
       "      <td>40</td>\n",
       "      <td>0</td>\n",
       "      <td>0</td>\n",
       "    </tr>\n",
       "  </tbody>\n",
       "</table>\n",
       "<p>397039 rows × 32 columns</p>\n",
       "</div>"
      ],
      "text/plain": [
       "        DaysSinceJob  CreditCap JobStatus     Speed24h  AliveSession  \\\n",
       "0           0.006735     1500.0        CB  7850.955007             1   \n",
       "1           0.010095     1500.0        CA  5745.251481             1   \n",
       "2           0.012316      200.0        CA  5471.988958             0   \n",
       "3           0.006991      200.0        CA  6755.344479             1   \n",
       "4           5.742626      200.0        CA  5124.046930             0   \n",
       "...              ...        ...       ...          ...           ...   \n",
       "397034      0.024010      200.0        CA  6088.406332             1   \n",
       "397035     10.387120     1000.0        CA  5600.230367             0   \n",
       "397036      0.011777      500.0        CA  7488.503866             1   \n",
       "397037      0.016757      200.0        CA  7125.279859             1   \n",
       "397038      0.006887      200.0        CA  4923.451132             0   \n",
       "\n",
       "        BankSpots8w  HustleMinutes  RiskScore  AliasMatch  DeviceEmails8w  \\\n",
       "0                 5      16.224843        163    0.986506               1   \n",
       "1                 3       3.363854        154    0.617426               1   \n",
       "2                15      22.730559         89    0.996707               1   \n",
       "3                11      15.215816         90    0.475100               1   \n",
       "4                 1       3.743048         91    0.842307               1   \n",
       "...             ...            ...        ...         ...             ...   \n",
       "397034           10      23.337101         44    0.086446               1   \n",
       "397035           13      13.307556        194    0.988005               1   \n",
       "397036            1       3.089539        189    0.510312               1   \n",
       "397037           15       7.049267        138    0.646016               1   \n",
       "397038            1       9.244074        152    0.849117               1   \n",
       "\n",
       "        ... ForeignHustle DeviceScams OldHoodMonths  intended_balcon_amount  \\\n",
       "0       ...             0           0            -1              102.453711   \n",
       "1       ...             0           0            -1               -0.849551   \n",
       "2       ...             0           0             9               -1.490386   \n",
       "3       ...             0           0            11               -1.863101   \n",
       "4       ...             0           0            -1               47.152498   \n",
       "...     ...           ...         ...           ...                     ...   \n",
       "397034  ...             0           0            -1               -1.691826   \n",
       "397035  ...             0           0            -1               -0.783048   \n",
       "397036  ...             0           0            55               -1.141519   \n",
       "397037  ...             0           0            26               -1.004671   \n",
       "397038  ...             0           0            -1               -1.005428   \n",
       "\n",
       "        NewCribMonths       Speed6h CellPhoneCheck  customer_age  \\\n",
       "0                  25  13096.035018              1            40   \n",
       "1                  89   9223.283431              1            20   \n",
       "2                  14   4471.472149              1            40   \n",
       "3                  14  14431.993621              1            30   \n",
       "4                  29   7601.511579              1            40   \n",
       "...               ...           ...            ...           ...   \n",
       "397034             27   8551.416716              1            50   \n",
       "397035            316   8080.335172              1            30   \n",
       "397036             12   9999.670220              1            30   \n",
       "397037              2  10590.001702              0            30   \n",
       "397038             30   3869.516064              1            40   \n",
       "\n",
       "        ExtraPlastic  is_mob  \n",
       "0                  0       0  \n",
       "1                  0       0  \n",
       "2                  0       0  \n",
       "3                  0       0  \n",
       "4                  0       0  \n",
       "...              ...     ...  \n",
       "397034             0       0  \n",
       "397035             0       1  \n",
       "397036             1       0  \n",
       "397037             0       0  \n",
       "397038             0       0  \n",
       "\n",
       "[397039 rows x 32 columns]"
      ]
     },
     "execution_count": 59,
     "metadata": {},
     "output_type": "execute_result"
    }
   ],
   "source": [
    "df"
   ]
  },
  {
   "cell_type": "code",
   "execution_count": 60,
   "metadata": {},
   "outputs": [
    {
     "name": "stdout",
     "output_type": "stream",
     "text": [
      "DaysSinceJob              0\n",
      "CreditCap                 0\n",
      "JobStatus                 0\n",
      "Speed24h                  0\n",
      "AliveSession              0\n",
      "BankSpots8w               0\n",
      "HustleMinutes             0\n",
      "RiskScore                 0\n",
      "AliasMatch                0\n",
      "DeviceEmails8w            0\n",
      "CribStatus                0\n",
      "LootMethod                0\n",
      "InfoSource                0\n",
      "HustleMonth               0\n",
      "ZipHustle                 0\n",
      "Speed4w                   0\n",
      "DeviceOS                  0\n",
      "income                    0\n",
      "FreeMail                  0\n",
      "HomePhoneCheck            0\n",
      "BankMonths                0\n",
      "DOBEmails4w               0\n",
      "ForeignHustle             0\n",
      "DeviceScams               0\n",
      "OldHoodMonths             0\n",
      "intended_balcon_amount    0\n",
      "NewCribMonths             0\n",
      "Speed6h                   0\n",
      "CellPhoneCheck            0\n",
      "customer_age              0\n",
      "ExtraPlastic              0\n",
      "is_mob                    0\n",
      "dtype: int64\n"
     ]
    }
   ],
   "source": [
    "# nulos por columna\n",
    "print(df.isnull().sum())"
   ]
  },
  {
   "cell_type": "code",
   "execution_count": 61,
   "metadata": {},
   "outputs": [
    {
     "name": "stdout",
     "output_type": "stream",
     "text": [
      "DaysSinceJob              float64\n",
      "CreditCap                 float64\n",
      "JobStatus                  object\n",
      "Speed24h                  float64\n",
      "AliveSession                int64\n",
      "BankSpots8w                 int64\n",
      "HustleMinutes             float64\n",
      "RiskScore                   int64\n",
      "AliasMatch                float64\n",
      "DeviceEmails8w              int64\n",
      "CribStatus                 object\n",
      "LootMethod                 object\n",
      "InfoSource                 object\n",
      "HustleMonth                 int64\n",
      "ZipHustle                   int64\n",
      "Speed4w                   float64\n",
      "DeviceOS                   object\n",
      "income                    float64\n",
      "FreeMail                    int64\n",
      "HomePhoneCheck              int64\n",
      "BankMonths                  int64\n",
      "DOBEmails4w                 int64\n",
      "ForeignHustle               int64\n",
      "DeviceScams                 int64\n",
      "OldHoodMonths               int64\n",
      "intended_balcon_amount    float64\n",
      "NewCribMonths               int64\n",
      "Speed6h                   float64\n",
      "CellPhoneCheck              int64\n",
      "customer_age                int64\n",
      "ExtraPlastic                int64\n",
      "is_mob                      int64\n",
      "dtype: object\n"
     ]
    }
   ],
   "source": [
    "# tipo de datos\n",
    "print(df.dtypes) "
   ]
  },
  {
   "cell_type": "code",
   "execution_count": 62,
   "metadata": {},
   "outputs": [
    {
     "data": {
      "text/html": [
       "<div>\n",
       "<style scoped>\n",
       "    .dataframe tbody tr th:only-of-type {\n",
       "        vertical-align: middle;\n",
       "    }\n",
       "\n",
       "    .dataframe tbody tr th {\n",
       "        vertical-align: top;\n",
       "    }\n",
       "\n",
       "    .dataframe thead th {\n",
       "        text-align: right;\n",
       "    }\n",
       "</style>\n",
       "<table border=\"1\" class=\"dataframe\">\n",
       "  <thead>\n",
       "    <tr style=\"text-align: right;\">\n",
       "      <th></th>\n",
       "      <th>DaysSinceJob</th>\n",
       "      <th>CreditCap</th>\n",
       "      <th>Speed24h</th>\n",
       "      <th>AliveSession</th>\n",
       "      <th>BankSpots8w</th>\n",
       "      <th>HustleMinutes</th>\n",
       "      <th>RiskScore</th>\n",
       "      <th>AliasMatch</th>\n",
       "      <th>DeviceEmails8w</th>\n",
       "      <th>HustleMonth</th>\n",
       "      <th>...</th>\n",
       "      <th>ForeignHustle</th>\n",
       "      <th>DeviceScams</th>\n",
       "      <th>OldHoodMonths</th>\n",
       "      <th>intended_balcon_amount</th>\n",
       "      <th>NewCribMonths</th>\n",
       "      <th>Speed6h</th>\n",
       "      <th>CellPhoneCheck</th>\n",
       "      <th>customer_age</th>\n",
       "      <th>ExtraPlastic</th>\n",
       "      <th>is_mob</th>\n",
       "    </tr>\n",
       "  </thead>\n",
       "  <tbody>\n",
       "    <tr>\n",
       "      <th>count</th>\n",
       "      <td>3.970390e+05</td>\n",
       "      <td>397039.000000</td>\n",
       "      <td>397039.000000</td>\n",
       "      <td>397039.000000</td>\n",
       "      <td>397039.000000</td>\n",
       "      <td>397039.000000</td>\n",
       "      <td>397039.000000</td>\n",
       "      <td>397039.000000</td>\n",
       "      <td>397039.000000</td>\n",
       "      <td>397039.000000</td>\n",
       "      <td>...</td>\n",
       "      <td>397039.000000</td>\n",
       "      <td>397039.0</td>\n",
       "      <td>397039.000000</td>\n",
       "      <td>397039.000000</td>\n",
       "      <td>397039.000000</td>\n",
       "      <td>397039.000000</td>\n",
       "      <td>397039.000000</td>\n",
       "      <td>397039.000000</td>\n",
       "      <td>397039.000000</td>\n",
       "      <td>397039.000000</td>\n",
       "    </tr>\n",
       "    <tr>\n",
       "      <th>mean</th>\n",
       "      <td>1.194997e+00</td>\n",
       "      <td>521.162631</td>\n",
       "      <td>5570.712126</td>\n",
       "      <td>0.609026</td>\n",
       "      <td>191.789630</td>\n",
       "      <td>8.393079</td>\n",
       "      <td>112.618186</td>\n",
       "      <td>0.514320</td>\n",
       "      <td>1.031297</td>\n",
       "      <td>1.011432</td>\n",
       "      <td>...</td>\n",
       "      <td>0.027604</td>\n",
       "      <td>0.0</td>\n",
       "      <td>16.752354</td>\n",
       "      <td>9.254470</td>\n",
       "      <td>88.541015</td>\n",
       "      <td>6903.925002</td>\n",
       "      <td>0.876473</td>\n",
       "      <td>33.448452</td>\n",
       "      <td>0.184508</td>\n",
       "      <td>0.009813</td>\n",
       "    </tr>\n",
       "    <tr>\n",
       "      <th>std</th>\n",
       "      <td>5.334243e+00</td>\n",
       "      <td>515.446406</td>\n",
       "      <td>1351.261338</td>\n",
       "      <td>0.487969</td>\n",
       "      <td>462.968776</td>\n",
       "      <td>8.648661</td>\n",
       "      <td>72.456036</td>\n",
       "      <td>0.286733</td>\n",
       "      <td>0.220586</td>\n",
       "      <td>0.823676</td>\n",
       "      <td>...</td>\n",
       "      <td>0.163837</td>\n",
       "      <td>0.0</td>\n",
       "      <td>44.058472</td>\n",
       "      <td>20.251431</td>\n",
       "      <td>91.805720</td>\n",
       "      <td>3159.147744</td>\n",
       "      <td>0.329041</td>\n",
       "      <td>12.160613</td>\n",
       "      <td>0.387899</td>\n",
       "      <td>0.098572</td>\n",
       "    </tr>\n",
       "    <tr>\n",
       "      <th>min</th>\n",
       "      <td>4.036860e-09</td>\n",
       "      <td>190.000000</td>\n",
       "      <td>1517.555809</td>\n",
       "      <td>0.000000</td>\n",
       "      <td>0.000000</td>\n",
       "      <td>-1.000000</td>\n",
       "      <td>-169.000000</td>\n",
       "      <td>0.000019</td>\n",
       "      <td>-1.000000</td>\n",
       "      <td>0.000000</td>\n",
       "      <td>...</td>\n",
       "      <td>0.000000</td>\n",
       "      <td>0.0</td>\n",
       "      <td>-1.000000</td>\n",
       "      <td>-13.202786</td>\n",
       "      <td>-1.000000</td>\n",
       "      <td>-80.690670</td>\n",
       "      <td>0.000000</td>\n",
       "      <td>10.000000</td>\n",
       "      <td>0.000000</td>\n",
       "      <td>0.000000</td>\n",
       "    </tr>\n",
       "    <tr>\n",
       "      <th>25%</th>\n",
       "      <td>7.218052e-03</td>\n",
       "      <td>200.000000</td>\n",
       "      <td>4602.212446</td>\n",
       "      <td>0.000000</td>\n",
       "      <td>1.000000</td>\n",
       "      <td>3.622840</td>\n",
       "      <td>60.000000</td>\n",
       "      <td>0.258522</td>\n",
       "      <td>1.000000</td>\n",
       "      <td>0.000000</td>\n",
       "      <td>...</td>\n",
       "      <td>0.000000</td>\n",
       "      <td>0.0</td>\n",
       "      <td>-1.000000</td>\n",
       "      <td>-1.153763</td>\n",
       "      <td>19.000000</td>\n",
       "      <td>4592.756809</td>\n",
       "      <td>1.000000</td>\n",
       "      <td>20.000000</td>\n",
       "      <td>0.000000</td>\n",
       "      <td>0.000000</td>\n",
       "    </tr>\n",
       "    <tr>\n",
       "      <th>50%</th>\n",
       "      <td>1.538161e-02</td>\n",
       "      <td>200.000000</td>\n",
       "      <td>5485.225013</td>\n",
       "      <td>1.000000</td>\n",
       "      <td>10.000000</td>\n",
       "      <td>5.535551</td>\n",
       "      <td>104.000000</td>\n",
       "      <td>0.523120</td>\n",
       "      <td>1.000000</td>\n",
       "      <td>1.000000</td>\n",
       "      <td>...</td>\n",
       "      <td>0.000000</td>\n",
       "      <td>0.0</td>\n",
       "      <td>-1.000000</td>\n",
       "      <td>-0.788469</td>\n",
       "      <td>53.000000</td>\n",
       "      <td>6823.830632</td>\n",
       "      <td>1.000000</td>\n",
       "      <td>30.000000</td>\n",
       "      <td>0.000000</td>\n",
       "      <td>0.000000</td>\n",
       "    </tr>\n",
       "    <tr>\n",
       "      <th>75%</th>\n",
       "      <td>2.737877e-02</td>\n",
       "      <td>990.000000</td>\n",
       "      <td>6625.724678</td>\n",
       "      <td>1.000000</td>\n",
       "      <td>31.000000</td>\n",
       "      <td>9.808629</td>\n",
       "      <td>158.000000</td>\n",
       "      <td>0.769828</td>\n",
       "      <td>1.000000</td>\n",
       "      <td>2.000000</td>\n",
       "      <td>...</td>\n",
       "      <td>0.000000</td>\n",
       "      <td>0.0</td>\n",
       "      <td>12.000000</td>\n",
       "      <td>12.655739</td>\n",
       "      <td>133.000000</td>\n",
       "      <td>8847.104551</td>\n",
       "      <td>1.000000</td>\n",
       "      <td>40.000000</td>\n",
       "      <td>0.000000</td>\n",
       "      <td>0.000000</td>\n",
       "    </tr>\n",
       "    <tr>\n",
       "      <th>max</th>\n",
       "      <td>7.658148e+01</td>\n",
       "      <td>2100.000000</td>\n",
       "      <td>9502.725577</td>\n",
       "      <td>1.000000</td>\n",
       "      <td>2381.000000</td>\n",
       "      <td>83.213536</td>\n",
       "      <td>389.000000</td>\n",
       "      <td>0.999999</td>\n",
       "      <td>2.000000</td>\n",
       "      <td>2.000000</td>\n",
       "      <td>...</td>\n",
       "      <td>1.000000</td>\n",
       "      <td>0.0</td>\n",
       "      <td>372.000000</td>\n",
       "      <td>112.956928</td>\n",
       "      <td>425.000000</td>\n",
       "      <td>16715.565404</td>\n",
       "      <td>1.000000</td>\n",
       "      <td>90.000000</td>\n",
       "      <td>1.000000</td>\n",
       "      <td>1.000000</td>\n",
       "    </tr>\n",
       "  </tbody>\n",
       "</table>\n",
       "<p>8 rows × 27 columns</p>\n",
       "</div>"
      ],
      "text/plain": [
       "       DaysSinceJob      CreditCap       Speed24h   AliveSession  \\\n",
       "count  3.970390e+05  397039.000000  397039.000000  397039.000000   \n",
       "mean   1.194997e+00     521.162631    5570.712126       0.609026   \n",
       "std    5.334243e+00     515.446406    1351.261338       0.487969   \n",
       "min    4.036860e-09     190.000000    1517.555809       0.000000   \n",
       "25%    7.218052e-03     200.000000    4602.212446       0.000000   \n",
       "50%    1.538161e-02     200.000000    5485.225013       1.000000   \n",
       "75%    2.737877e-02     990.000000    6625.724678       1.000000   \n",
       "max    7.658148e+01    2100.000000    9502.725577       1.000000   \n",
       "\n",
       "         BankSpots8w  HustleMinutes      RiskScore     AliasMatch  \\\n",
       "count  397039.000000  397039.000000  397039.000000  397039.000000   \n",
       "mean      191.789630       8.393079     112.618186       0.514320   \n",
       "std       462.968776       8.648661      72.456036       0.286733   \n",
       "min         0.000000      -1.000000    -169.000000       0.000019   \n",
       "25%         1.000000       3.622840      60.000000       0.258522   \n",
       "50%        10.000000       5.535551     104.000000       0.523120   \n",
       "75%        31.000000       9.808629     158.000000       0.769828   \n",
       "max      2381.000000      83.213536     389.000000       0.999999   \n",
       "\n",
       "       DeviceEmails8w    HustleMonth  ...  ForeignHustle  DeviceScams  \\\n",
       "count   397039.000000  397039.000000  ...  397039.000000     397039.0   \n",
       "mean         1.031297       1.011432  ...       0.027604          0.0   \n",
       "std          0.220586       0.823676  ...       0.163837          0.0   \n",
       "min         -1.000000       0.000000  ...       0.000000          0.0   \n",
       "25%          1.000000       0.000000  ...       0.000000          0.0   \n",
       "50%          1.000000       1.000000  ...       0.000000          0.0   \n",
       "75%          1.000000       2.000000  ...       0.000000          0.0   \n",
       "max          2.000000       2.000000  ...       1.000000          0.0   \n",
       "\n",
       "       OldHoodMonths  intended_balcon_amount  NewCribMonths        Speed6h  \\\n",
       "count  397039.000000           397039.000000  397039.000000  397039.000000   \n",
       "mean       16.752354                9.254470      88.541015    6903.925002   \n",
       "std        44.058472               20.251431      91.805720    3159.147744   \n",
       "min        -1.000000              -13.202786      -1.000000     -80.690670   \n",
       "25%        -1.000000               -1.153763      19.000000    4592.756809   \n",
       "50%        -1.000000               -0.788469      53.000000    6823.830632   \n",
       "75%        12.000000               12.655739     133.000000    8847.104551   \n",
       "max       372.000000              112.956928     425.000000   16715.565404   \n",
       "\n",
       "       CellPhoneCheck   customer_age   ExtraPlastic         is_mob  \n",
       "count   397039.000000  397039.000000  397039.000000  397039.000000  \n",
       "mean         0.876473      33.448452       0.184508       0.009813  \n",
       "std          0.329041      12.160613       0.387899       0.098572  \n",
       "min          0.000000      10.000000       0.000000       0.000000  \n",
       "25%          1.000000      20.000000       0.000000       0.000000  \n",
       "50%          1.000000      30.000000       0.000000       0.000000  \n",
       "75%          1.000000      40.000000       0.000000       0.000000  \n",
       "max          1.000000      90.000000       1.000000       1.000000  \n",
       "\n",
       "[8 rows x 27 columns]"
      ]
     },
     "execution_count": 62,
     "metadata": {},
     "output_type": "execute_result"
    }
   ],
   "source": [
    "# estadísticas generales\n",
    "df.describe()"
   ]
  },
  {
   "cell_type": "code",
   "execution_count": 63,
   "metadata": {},
   "outputs": [],
   "source": [
    "# columnas numéricas\n",
    "columnas_numericas = [\"DaysSinceJob\", \"CreditCap\", \"Speed24h\", \"AliveSession\", \"BankSpots8w\", \"HustleMinutes\", \"RiskScore\", \"AliasMatch\", \"DeviceEmails8w\", \"HustleMonth\", \"ZipHustle\", \"Speed4w\", \"income\", \"FreeMail\",\n",
    "                      \"HomePhoneCheck\", \"BankMonths\", \"DOBEmails4w\", \"ForeignHustle\", \"OldHoodMonths\", \"intended_balcon_amount\", \"NewCribMonths\", \"Speed6h\", \"CellPhoneCheck\", \"customer_age\", \"ExtraPlastic\"]\n",
    "# columnas cateóricas\n",
    "columnas_categoricas = [\"JobStatus\", \"CribStatus\", \"LootMethod\", \"InfoSource\", \"DeviceOS\"]"
   ]
  },
  {
   "cell_type": "code",
   "execution_count": 64,
   "metadata": {},
   "outputs": [
    {
     "name": "stdout",
     "output_type": "stream",
     "text": [
      "['CB' 'CA' 'CC' 'CF' 'CD' 'CE' 'CG']\n",
      "['BC' 'BE' 'BD' 'BA' 'BB' 'BF' 'BG']\n",
      "['AA' 'AD' 'AB' 'AC' 'AE']\n",
      "['INTERNET' 'TELEAPP']\n",
      "['linux' 'other' 'windows' 'x11' 'macintosh']\n"
     ]
    }
   ],
   "source": [
    "print(df['JobStatus'].unique())\n",
    "print(df['CribStatus'].unique())\n",
    "print(df['LootMethod'].unique())\n",
    "print(df['InfoSource'].unique())\n",
    "print(df['DeviceOS'].unique())"
   ]
  },
  {
   "cell_type": "code",
   "execution_count": 65,
   "metadata": {},
   "outputs": [
    {
     "data": {
      "application/vnd.plotly.v1+json": {
       "config": {
        "plotlyServerURL": "https://plot.ly"
       },
       "data": [
        {
         "colorscale": [
          [
           0,
           "#440154"
          ],
          [
           0.1111111111111111,
           "#482878"
          ],
          [
           0.2222222222222222,
           "#3e4989"
          ],
          [
           0.3333333333333333,
           "#31688e"
          ],
          [
           0.4444444444444444,
           "#26828e"
          ],
          [
           0.5555555555555556,
           "#1f9e89"
          ],
          [
           0.6666666666666666,
           "#35b779"
          ],
          [
           0.7777777777777778,
           "#6ece58"
          ],
          [
           0.8888888888888888,
           "#b5de2b"
          ],
          [
           1,
           "#fde725"
          ]
         ],
         "type": "heatmap",
         "x": [
          "DaysSinceJob",
          "CreditCap",
          "Speed24h",
          "AliveSession",
          "BankSpots8w",
          "HustleMinutes",
          "RiskScore",
          "AliasMatch",
          "DeviceEmails8w",
          "HustleMonth",
          "ZipHustle",
          "Speed4w",
          "income",
          "FreeMail",
          "HomePhoneCheck",
          "BankMonths",
          "DOBEmails4w",
          "ForeignHustle",
          "OldHoodMonths",
          "intended_balcon_amount",
          "NewCribMonths",
          "Speed6h",
          "CellPhoneCheck",
          "customer_age",
          "ExtraPlastic"
         ],
         "y": [
          "DaysSinceJob",
          "CreditCap",
          "Speed24h",
          "AliveSession",
          "BankSpots8w",
          "HustleMinutes",
          "RiskScore",
          "AliasMatch",
          "DeviceEmails8w",
          "HustleMonth",
          "ZipHustle",
          "Speed4w",
          "income",
          "FreeMail",
          "HomePhoneCheck",
          "BankMonths",
          "DOBEmails4w",
          "ForeignHustle",
          "OldHoodMonths",
          "intended_balcon_amount",
          "NewCribMonths",
          "Speed6h",
          "CellPhoneCheck",
          "customer_age",
          "ExtraPlastic"
         ],
         "z": [
          [
           1,
           -0.08539326435258936,
           -0.01724483417626197,
           -0.008017596261301406,
           -0.022952839040626456,
           0.05123219630877021,
           -0.09257130218817172,
           -0.006637007582586555,
           0.007082957044077451,
           0.06079317577667918,
           -0.017632441529648768,
           -0.038801641756065396,
           -0.011165505807241469,
           0.0052982302217198735,
           -0.04357955948675126,
           -0.032886454117875,
           0.005885012128165561,
           -0.0016410589832899834,
           0.07580472897726367,
           0.023979907830834545,
           -0.05880719025752364,
           0.00031148733245649484,
           0.009400055243157807,
           -0.04419550906711611,
           -0.04735723259593715
          ],
          [
           -0.08539326435258936,
           1,
           0.022592718182048784,
           0.009853397571636278,
           0.021695109948811155,
           -0.015943729037849574,
           0.6090835524496524,
           0.05889644814975999,
           -0.02411094022905745,
           -0.11184750568742009,
           -0.014117894365194854,
           0.051675369521260985,
           0.11780915689911586,
           -0.035734385981920136,
           0.04456125076387934,
           -0.015010888663827882,
           -0.06239202358240782,
           0.02362841413564432,
           -0.034410302221118357,
           0.06301454441993228,
           0.1347813217829867,
           -0.022587729256481778,
           -0.030923103733781872,
           0.15860550044332514,
           0.10408535558390605
          ],
          [
           -0.01724483417626197,
           0.022592718182048784,
           1,
           0.017041846861855246,
           0.021441356620453614,
           0.012931005805453451,
           -0.04865371667210231,
           -0.006522882300411189,
           0.00961300379318403,
           -0.17933451729794628,
           0.07328500657355419,
           0.226984186272042,
           -0.01908129591206941,
           -0.009188621192159565,
           -0.011990393100279714,
           0.012995535404388255,
           0.03890465699314573,
           0.011515216352981899,
           -0.0007335154604808117,
           0.0394408010635504,
           0.008064648603920877,
           0.32997919056510777,
           -0.009190904562594596,
           -0.01618355927926832,
           -0.027403863355254156
          ],
          [
           -0.008017596261301406,
           0.009853397571636278,
           0.017041846861855246,
           1,
           -0.0010141083363802838,
           -0.054534299397474506,
           -0.0011804364298456061,
           0.007022284076603155,
           -0.05580096603036155,
           -0.09909314734674482,
           0.05192069588600493,
           0.07984952876123845,
           -0.03373358959353902,
           -0.013862994517788354,
           0.016763970232624395,
           0.007472311861997901,
           0.0626314279391603,
           -0.010866427596002702,
           0.031169370540737807,
           -0.019023966980494005,
           -0.05640196221260052,
           0.016879649616721573,
           0.04611302280287198,
           -0.034906189741480506,
           -0.094826043953637
          ],
          [
           -0.022952839040626456,
           0.021695109948811155,
           0.021441356620453614,
           -0.0010141083363802838,
           1,
           -0.0028609478200861036,
           0.0019288697449165156,
           -0.005005161467358887,
           0.002214430886743967,
           -0.01792168259688234,
           -0.014792224426528257,
           -0.0012655380509090347,
           0.015648188497846896,
           -0.01596391038789514,
           0.059770917861380814,
           0.13968622516182252,
           -0.056070234399166516,
           -0.001659173387671996,
           -0.044580734780577835,
           0.09880443972523467,
           0.06812798795288648,
           0.008662856969529908,
           -0.014452348851459343,
           0.056408390758721526,
           0.0421070598354419
          ],
          [
           0.05123219630877021,
           -0.015943729037849574,
           0.012931005805453451,
           -0.054534299397474506,
           -0.0028609478200861036,
           1,
           -0.02247436746402814,
           -0.002770058662934879,
           0.0808616679640549,
           0.030137132760421605,
           0.01032753715015775,
           -0.0015173827441595288,
           -0.04189752177211071,
           0.02927216121783515,
           -0.032609508235786455,
           0.005039796578085021,
           -0.06621139411499218,
           0.0072981001458577305,
           0.05576587154535694,
           0.013500203769287804,
           -0.04105101599152418,
           0.013454431035078134,
           0.0029111282186351293,
           0.03323598689750855,
           -0.08240538847456239
          ],
          [
           -0.09257130218817172,
           0.6090835524496524,
           -0.04865371667210231,
           -0.0011804364298456061,
           0.0019288697449165156,
           -0.02247436746402814,
           1,
           0.05331579973201042,
           -0.03624157216488992,
           -0.03263700979307216,
           -0.05909952009370697,
           -0.03420758117025675,
           0.14789397292762277,
           -0.03818801595085277,
           0.023608431965436428,
           -0.061045470029500636,
           -0.11433109450065236,
           0.021939726289364404,
           -0.002677827855313841,
           0.00877942069519421,
           0.08755317094472724,
           -0.0707897037494467,
           -0.014711812926985894,
           0.18484050431643442,
           0.1418269356305482
          ],
          [
           -0.006637007582586555,
           0.05889644814975999,
           -0.006522882300411189,
           0.007022284076603155,
           -0.005005161467358887,
           -0.002770058662934879,
           0.05331579973201042,
           1,
           -0.026558109123330335,
           0.07993925646409054,
           0.004931711480876373,
           -0.03925805903070006,
           -0.03274723464059103,
           -0.06993101591592434,
           -0.0010688233475024762,
           -0.010503774891971907,
           -0.0009093748016458831,
           -0.023148121122907015,
           -0.022212091861991808,
           0.029820161822712646,
           0.04268701729991605,
           -0.008831220039296048,
           0.015795308925021196,
           -0.04510197476978539,
           0.011741003012512798
          ],
          [
           0.007082957044077451,
           -0.02411094022905745,
           0.00961300379318403,
           -0.05580096603036155,
           0.002214430886743967,
           0.0808616679640549,
           -0.03624157216488992,
           -0.026558109123330335,
           1,
           0.01585766003660042,
           0.0030350103958810986,
           -0.0029627085741354693,
           -0.003698011394470702,
           -0.002231836936716998,
           0.011118810082518695,
           -0.0031756026818071863,
           -0.025939149319543105,
           0.009059087951719624,
           0.016065393421051306,
           -0.032615803569733814,
           -0.005365962701763618,
           0.010896347295020762,
           -0.046153994082045076,
           0.034664996705443214,
           -0.02704245113526135
          ],
          [
           0.06079317577667918,
           -0.11184750568742009,
           -0.17933451729794628,
           -0.09909314734674482,
           -0.01792168259688234,
           0.030137132760421605,
           -0.03263700979307216,
           0.07993925646409054,
           0.01585766003660042,
           1,
           -0.16148621861587928,
           -0.5415695877221344,
           -0.06952571637371346,
           -0.035827833212200615,
           -0.04425683689188561,
           -0.061723516560646195,
           -0.1037820748535704,
           -0.04352959445741446,
           0.004661361125727407,
           -0.02574349919332426,
           -0.022471521578931848,
           -0.1264740498033098,
           -0.03076308593692403,
           0.0034970715164589798,
           0.004300326731938206
          ],
          [
           -0.017632441529648768,
           -0.014117894365194854,
           0.07328500657355419,
           0.05192069588600493,
           -0.014792224426528257,
           0.01032753715015775,
           -0.05909952009370697,
           0.004931711480876373,
           0.0030350103958810986,
           -0.16148621861587928,
           1,
           0.1917761630806731,
           -0.037760480632709766,
           0.018468226404218982,
           -0.025603730833833365,
           0.045556299380203315,
           0.08998031835807739,
           0.01434797577590033,
           -0.021281725251179294,
           -0.03076731715946174,
           0.02582825773035756,
           0.053354873213874644,
           0.036784202596993984,
           -0.019226187161540086,
           -0.019930122177034344
          ],
          [
           -0.038801641756065396,
           0.051675369521260985,
           0.226984186272042,
           0.07984952876123845,
           -0.0012655380509090347,
           -0.0015173827441595288,
           -0.03420758117025675,
           -0.03925805903070006,
           -0.0029627085741354693,
           -0.5415695877221344,
           0.1917761630806731,
           1,
           0.0205215115406903,
           0.015323868457259972,
           0.0038197842879499127,
           0.04211072073119039,
           0.12366074958941914,
           0.027396252783904382,
           0.007648435226901841,
           0.020134244818860277,
           -0.0064588767389406965,
           0.17275923060429793,
           0.02466651325253086,
           -0.010284843838834894,
           -0.041584836265516525
          ],
          [
           -0.011165505807241469,
           0.11780915689911586,
           -0.01908129591206941,
           -0.03373358959353902,
           0.015648188497846896,
           -0.04189752177211071,
           0.14789397292762277,
           -0.03274723464059103,
           -0.003698011394470702,
           -0.06952571637371346,
           -0.037760480632709766,
           0.0205215115406903,
           1,
           -0.01340148225297386,
           0.01492090435733946,
           0.003026696856216106,
           -0.008585311540687434,
           0.01954022033886435,
           0.024911951176277838,
           0.06211540172490242,
           -0.040121983939176355,
           -0.04049683323012361,
           0.015261084254589243,
           0.10786292656108296,
           0.0727522742418585
          ],
          [
           0.0052982302217198735,
           -0.035734385981920136,
           -0.009188621192159565,
           -0.013862994517788354,
           -0.01596391038789514,
           0.02927216121783515,
           -0.03818801595085277,
           -0.06993101591592434,
           -0.002231836936716998,
           -0.035827833212200615,
           0.018468226404218982,
           0.015323868457259972,
           -0.01340148225297386,
           1,
           -0.025104848935733056,
           -0.004302999706873582,
           0.05166009262090911,
           0.027576368228709854,
           -0.01566288638617182,
           -0.0390627331622808,
           -0.09147339113323999,
           -0.0067825695800229876,
           0.042404895334596564,
           -0.022094281674060686,
           -0.0374265679267028
          ],
          [
           -0.04357955948675126,
           0.04456125076387934,
           -0.011990393100279714,
           0.016763970232624395,
           0.059770917861380814,
           -0.032609508235786455,
           0.023608431965436428,
           -0.0010688233475024762,
           0.011118810082518695,
           -0.04425683689188561,
           -0.025603730833833365,
           0.0038197842879499127,
           0.01492090435733946,
           -0.025104848935733056,
           1,
           0.05408589302496511,
           -0.1535455121399615,
           0.005028185797266804,
           -0.047278707540338395,
           0.008164096980851202,
           0.14749783511266018,
           -0.013541143020613483,
           -0.3002158621159255,
           0.21958519052466396,
           0.10089367534411292
          ],
          [
           -0.032886454117875,
           -0.015010888663827882,
           0.012995535404388255,
           0.007472311861997901,
           0.13968622516182252,
           0.005039796578085021,
           -0.061045470029500636,
           -0.010503774891971907,
           -0.0031756026818071863,
           -0.061723516560646195,
           0.045556299380203315,
           0.04211072073119039,
           0.003026696856216106,
           -0.004302999706873582,
           0.05408589302496511,
           1,
           -0.006101446166955054,
           -0.004518758233359662,
           -0.05372071628886095,
           0.18510016043245484,
           0.09404239447797963,
           0.00776037507937454,
           0.003238257419812293,
           0.0009727640919287094,
           0.005248827756127615
          ],
          [
           0.005885012128165561,
           -0.06239202358240782,
           0.03890465699314573,
           0.0626314279391603,
           -0.056070234399166516,
           -0.06621139411499218,
           -0.11433109450065236,
           -0.0009093748016458831,
           -0.025939149319543105,
           -0.1037820748535704,
           0.08998031835807739,
           0.12366074958941914,
           -0.008585311540687434,
           0.05166009262090911,
           -0.1535455121399615,
           -0.006101446166955054,
           1,
           0.02872163108959746,
           0.05134678332417816,
           -0.0524136499146454,
           -0.17534911611229942,
           0.03372033378337659,
           0.11678304429888055,
           -0.4454742800014082,
           -0.04583030092556149
          ],
          [
           -0.0016410589832899834,
           0.02362841413564432,
           0.011515216352981899,
           -0.010866427596002702,
           -0.001659173387671996,
           0.0072981001458577305,
           0.021939726289364404,
           -0.023148121122907015,
           0.009059087951719624,
           -0.04352959445741446,
           0.01434797577590033,
           0.027396252783904382,
           0.01954022033886435,
           0.027576368228709854,
           0.005028185797266804,
           -0.004518758233359662,
           0.02872163108959746,
           1,
           0.024532042638574433,
           0.004074038363971742,
           -0.01749887219088024,
           -0.007511421675162539,
           0.0014882741884364706,
           -0.002661099929637937,
           0.005540018373860177
          ],
          [
           0.07580472897726367,
           -0.034410302221118357,
           -0.0007335154604808117,
           0.031169370540737807,
           -0.044580734780577835,
           0.05576587154535694,
           -0.002677827855313841,
           -0.022212091861991808,
           0.016065393421051306,
           0.004661361125727407,
           -0.021281725251179294,
           0.007648435226901841,
           0.024911951176277838,
           -0.01566288638617182,
           -0.047278707540338395,
           -0.05372071628886095,
           0.05134678332417816,
           0.024532042638574433,
           1,
           -0.020942652283698786,
           -0.259228439486113,
           -0.01059960924442544,
           0.0032772051304059734,
           -0.0633206684503826,
           -0.04282655598911671
          ],
          [
           0.023979907830834545,
           0.06301454441993228,
           0.0394408010635504,
           -0.019023966980494005,
           0.09880443972523467,
           0.013500203769287804,
           0.00877942069519421,
           0.029820161822712646,
           -0.032615803569733814,
           -0.02574349919332426,
           -0.03076731715946174,
           0.020134244818860277,
           0.06211540172490242,
           -0.0390627331622808,
           0.008164096980851202,
           0.18510016043245484,
           -0.0524136499146454,
           0.004074038363971742,
           -0.020942652283698786,
           1,
           0.0905371969253406,
           0.01840893041239563,
           0.03742890116936466,
           -0.024255677273112942,
           0.08027321155549637
          ],
          [
           -0.05880719025752364,
           0.1347813217829867,
           0.008064648603920877,
           -0.05640196221260052,
           0.06812798795288648,
           -0.04105101599152418,
           0.08755317094472724,
           0.04268701729991605,
           -0.005365962701763618,
           -0.022471521578931848,
           0.02582825773035756,
           -0.0064588767389406965,
           -0.040121983939176355,
           -0.09147339113323999,
           0.14749783511266018,
           0.09404239447797963,
           -0.17534911611229942,
           -0.01749887219088024,
           -0.259228439486113,
           0.0905371969253406,
           1,
           0.02186355368188564,
           -0.09562244196239221,
           0.13637730291440633,
           0.07790814674143574
          ],
          [
           0.00031148733245649484,
           -0.022587729256481778,
           0.32997919056510777,
           0.016879649616721573,
           0.008662856969529908,
           0.013454431035078134,
           -0.0707897037494467,
           -0.008831220039296048,
           0.010896347295020762,
           -0.1264740498033098,
           0.053354873213874644,
           0.17275923060429793,
           -0.04049683323012361,
           -0.0067825695800229876,
           -0.013541143020613483,
           0.00776037507937454,
           0.03372033378337659,
           -0.007511421675162539,
           -0.01059960924442544,
           0.01840893041239563,
           0.02186355368188564,
           1,
           0.003990635417865811,
           -0.026130803037128485,
           -0.011891221103049248
          ],
          [
           0.009400055243157807,
           -0.030923103733781872,
           -0.009190904562594596,
           0.04611302280287198,
           -0.014452348851459343,
           0.0029111282186351293,
           -0.014711812926985894,
           0.015795308925021196,
           -0.046153994082045076,
           -0.03076308593692403,
           0.036784202596993984,
           0.02466651325253086,
           0.015261084254589243,
           0.042404895334596564,
           -0.3002158621159255,
           0.003238257419812293,
           0.11678304429888055,
           0.0014882741884364706,
           0.0032772051304059734,
           0.03742890116936466,
           -0.09562244196239221,
           0.003990635417865811,
           1,
           -0.16103282940930466,
           -0.0002721080522043371
          ],
          [
           -0.04419550906711611,
           0.15860550044332514,
           -0.01618355927926832,
           -0.034906189741480506,
           0.056408390758721526,
           0.03323598689750855,
           0.18484050431643442,
           -0.04510197476978539,
           0.034664996705443214,
           0.0034970715164589798,
           -0.019226187161540086,
           -0.010284843838834894,
           0.10786292656108296,
           -0.022094281674060686,
           0.21958519052466396,
           0.0009727640919287094,
           -0.4454742800014082,
           -0.002661099929637937,
           -0.0633206684503826,
           -0.024255677273112942,
           0.13637730291440633,
           -0.026130803037128485,
           -0.16103282940930466,
           1,
           0.10280880890807734
          ],
          [
           -0.04735723259593715,
           0.10408535558390605,
           -0.027403863355254156,
           -0.094826043953637,
           0.0421070598354419,
           -0.08240538847456239,
           0.1418269356305482,
           0.011741003012512798,
           -0.02704245113526135,
           0.004300326731938206,
           -0.019930122177034344,
           -0.041584836265516525,
           0.0727522742418585,
           -0.0374265679267028,
           0.10089367534411292,
           0.005248827756127615,
           -0.04583030092556149,
           0.005540018373860177,
           -0.04282655598911671,
           0.08027321155549637,
           0.07790814674143574,
           -0.011891221103049248,
           -0.0002721080522043371,
           0.10280880890807734,
           1
          ]
         ]
        }
       ],
       "layout": {
        "height": 800,
        "template": {
         "data": {
          "bar": [
           {
            "error_x": {
             "color": "#2a3f5f"
            },
            "error_y": {
             "color": "#2a3f5f"
            },
            "marker": {
             "line": {
              "color": "#E5ECF6",
              "width": 0.5
             },
             "pattern": {
              "fillmode": "overlay",
              "size": 10,
              "solidity": 0.2
             }
            },
            "type": "bar"
           }
          ],
          "barpolar": [
           {
            "marker": {
             "line": {
              "color": "#E5ECF6",
              "width": 0.5
             },
             "pattern": {
              "fillmode": "overlay",
              "size": 10,
              "solidity": 0.2
             }
            },
            "type": "barpolar"
           }
          ],
          "carpet": [
           {
            "aaxis": {
             "endlinecolor": "#2a3f5f",
             "gridcolor": "white",
             "linecolor": "white",
             "minorgridcolor": "white",
             "startlinecolor": "#2a3f5f"
            },
            "baxis": {
             "endlinecolor": "#2a3f5f",
             "gridcolor": "white",
             "linecolor": "white",
             "minorgridcolor": "white",
             "startlinecolor": "#2a3f5f"
            },
            "type": "carpet"
           }
          ],
          "choropleth": [
           {
            "colorbar": {
             "outlinewidth": 0,
             "ticks": ""
            },
            "type": "choropleth"
           }
          ],
          "contour": [
           {
            "colorbar": {
             "outlinewidth": 0,
             "ticks": ""
            },
            "colorscale": [
             [
              0,
              "#0d0887"
             ],
             [
              0.1111111111111111,
              "#46039f"
             ],
             [
              0.2222222222222222,
              "#7201a8"
             ],
             [
              0.3333333333333333,
              "#9c179e"
             ],
             [
              0.4444444444444444,
              "#bd3786"
             ],
             [
              0.5555555555555556,
              "#d8576b"
             ],
             [
              0.6666666666666666,
              "#ed7953"
             ],
             [
              0.7777777777777778,
              "#fb9f3a"
             ],
             [
              0.8888888888888888,
              "#fdca26"
             ],
             [
              1,
              "#f0f921"
             ]
            ],
            "type": "contour"
           }
          ],
          "contourcarpet": [
           {
            "colorbar": {
             "outlinewidth": 0,
             "ticks": ""
            },
            "type": "contourcarpet"
           }
          ],
          "heatmap": [
           {
            "colorbar": {
             "outlinewidth": 0,
             "ticks": ""
            },
            "colorscale": [
             [
              0,
              "#0d0887"
             ],
             [
              0.1111111111111111,
              "#46039f"
             ],
             [
              0.2222222222222222,
              "#7201a8"
             ],
             [
              0.3333333333333333,
              "#9c179e"
             ],
             [
              0.4444444444444444,
              "#bd3786"
             ],
             [
              0.5555555555555556,
              "#d8576b"
             ],
             [
              0.6666666666666666,
              "#ed7953"
             ],
             [
              0.7777777777777778,
              "#fb9f3a"
             ],
             [
              0.8888888888888888,
              "#fdca26"
             ],
             [
              1,
              "#f0f921"
             ]
            ],
            "type": "heatmap"
           }
          ],
          "heatmapgl": [
           {
            "colorbar": {
             "outlinewidth": 0,
             "ticks": ""
            },
            "colorscale": [
             [
              0,
              "#0d0887"
             ],
             [
              0.1111111111111111,
              "#46039f"
             ],
             [
              0.2222222222222222,
              "#7201a8"
             ],
             [
              0.3333333333333333,
              "#9c179e"
             ],
             [
              0.4444444444444444,
              "#bd3786"
             ],
             [
              0.5555555555555556,
              "#d8576b"
             ],
             [
              0.6666666666666666,
              "#ed7953"
             ],
             [
              0.7777777777777778,
              "#fb9f3a"
             ],
             [
              0.8888888888888888,
              "#fdca26"
             ],
             [
              1,
              "#f0f921"
             ]
            ],
            "type": "heatmapgl"
           }
          ],
          "histogram": [
           {
            "marker": {
             "pattern": {
              "fillmode": "overlay",
              "size": 10,
              "solidity": 0.2
             }
            },
            "type": "histogram"
           }
          ],
          "histogram2d": [
           {
            "colorbar": {
             "outlinewidth": 0,
             "ticks": ""
            },
            "colorscale": [
             [
              0,
              "#0d0887"
             ],
             [
              0.1111111111111111,
              "#46039f"
             ],
             [
              0.2222222222222222,
              "#7201a8"
             ],
             [
              0.3333333333333333,
              "#9c179e"
             ],
             [
              0.4444444444444444,
              "#bd3786"
             ],
             [
              0.5555555555555556,
              "#d8576b"
             ],
             [
              0.6666666666666666,
              "#ed7953"
             ],
             [
              0.7777777777777778,
              "#fb9f3a"
             ],
             [
              0.8888888888888888,
              "#fdca26"
             ],
             [
              1,
              "#f0f921"
             ]
            ],
            "type": "histogram2d"
           }
          ],
          "histogram2dcontour": [
           {
            "colorbar": {
             "outlinewidth": 0,
             "ticks": ""
            },
            "colorscale": [
             [
              0,
              "#0d0887"
             ],
             [
              0.1111111111111111,
              "#46039f"
             ],
             [
              0.2222222222222222,
              "#7201a8"
             ],
             [
              0.3333333333333333,
              "#9c179e"
             ],
             [
              0.4444444444444444,
              "#bd3786"
             ],
             [
              0.5555555555555556,
              "#d8576b"
             ],
             [
              0.6666666666666666,
              "#ed7953"
             ],
             [
              0.7777777777777778,
              "#fb9f3a"
             ],
             [
              0.8888888888888888,
              "#fdca26"
             ],
             [
              1,
              "#f0f921"
             ]
            ],
            "type": "histogram2dcontour"
           }
          ],
          "mesh3d": [
           {
            "colorbar": {
             "outlinewidth": 0,
             "ticks": ""
            },
            "type": "mesh3d"
           }
          ],
          "parcoords": [
           {
            "line": {
             "colorbar": {
              "outlinewidth": 0,
              "ticks": ""
             }
            },
            "type": "parcoords"
           }
          ],
          "pie": [
           {
            "automargin": true,
            "type": "pie"
           }
          ],
          "scatter": [
           {
            "fillpattern": {
             "fillmode": "overlay",
             "size": 10,
             "solidity": 0.2
            },
            "type": "scatter"
           }
          ],
          "scatter3d": [
           {
            "line": {
             "colorbar": {
              "outlinewidth": 0,
              "ticks": ""
             }
            },
            "marker": {
             "colorbar": {
              "outlinewidth": 0,
              "ticks": ""
             }
            },
            "type": "scatter3d"
           }
          ],
          "scattercarpet": [
           {
            "marker": {
             "colorbar": {
              "outlinewidth": 0,
              "ticks": ""
             }
            },
            "type": "scattercarpet"
           }
          ],
          "scattergeo": [
           {
            "marker": {
             "colorbar": {
              "outlinewidth": 0,
              "ticks": ""
             }
            },
            "type": "scattergeo"
           }
          ],
          "scattergl": [
           {
            "marker": {
             "colorbar": {
              "outlinewidth": 0,
              "ticks": ""
             }
            },
            "type": "scattergl"
           }
          ],
          "scattermapbox": [
           {
            "marker": {
             "colorbar": {
              "outlinewidth": 0,
              "ticks": ""
             }
            },
            "type": "scattermapbox"
           }
          ],
          "scatterpolar": [
           {
            "marker": {
             "colorbar": {
              "outlinewidth": 0,
              "ticks": ""
             }
            },
            "type": "scatterpolar"
           }
          ],
          "scatterpolargl": [
           {
            "marker": {
             "colorbar": {
              "outlinewidth": 0,
              "ticks": ""
             }
            },
            "type": "scatterpolargl"
           }
          ],
          "scatterternary": [
           {
            "marker": {
             "colorbar": {
              "outlinewidth": 0,
              "ticks": ""
             }
            },
            "type": "scatterternary"
           }
          ],
          "surface": [
           {
            "colorbar": {
             "outlinewidth": 0,
             "ticks": ""
            },
            "colorscale": [
             [
              0,
              "#0d0887"
             ],
             [
              0.1111111111111111,
              "#46039f"
             ],
             [
              0.2222222222222222,
              "#7201a8"
             ],
             [
              0.3333333333333333,
              "#9c179e"
             ],
             [
              0.4444444444444444,
              "#bd3786"
             ],
             [
              0.5555555555555556,
              "#d8576b"
             ],
             [
              0.6666666666666666,
              "#ed7953"
             ],
             [
              0.7777777777777778,
              "#fb9f3a"
             ],
             [
              0.8888888888888888,
              "#fdca26"
             ],
             [
              1,
              "#f0f921"
             ]
            ],
            "type": "surface"
           }
          ],
          "table": [
           {
            "cells": {
             "fill": {
              "color": "#EBF0F8"
             },
             "line": {
              "color": "white"
             }
            },
            "header": {
             "fill": {
              "color": "#C8D4E3"
             },
             "line": {
              "color": "white"
             }
            },
            "type": "table"
           }
          ]
         },
         "layout": {
          "annotationdefaults": {
           "arrowcolor": "#2a3f5f",
           "arrowhead": 0,
           "arrowwidth": 1
          },
          "autotypenumbers": "strict",
          "coloraxis": {
           "colorbar": {
            "outlinewidth": 0,
            "ticks": ""
           }
          },
          "colorscale": {
           "diverging": [
            [
             0,
             "#8e0152"
            ],
            [
             0.1,
             "#c51b7d"
            ],
            [
             0.2,
             "#de77ae"
            ],
            [
             0.3,
             "#f1b6da"
            ],
            [
             0.4,
             "#fde0ef"
            ],
            [
             0.5,
             "#f7f7f7"
            ],
            [
             0.6,
             "#e6f5d0"
            ],
            [
             0.7,
             "#b8e186"
            ],
            [
             0.8,
             "#7fbc41"
            ],
            [
             0.9,
             "#4d9221"
            ],
            [
             1,
             "#276419"
            ]
           ],
           "sequential": [
            [
             0,
             "#0d0887"
            ],
            [
             0.1111111111111111,
             "#46039f"
            ],
            [
             0.2222222222222222,
             "#7201a8"
            ],
            [
             0.3333333333333333,
             "#9c179e"
            ],
            [
             0.4444444444444444,
             "#bd3786"
            ],
            [
             0.5555555555555556,
             "#d8576b"
            ],
            [
             0.6666666666666666,
             "#ed7953"
            ],
            [
             0.7777777777777778,
             "#fb9f3a"
            ],
            [
             0.8888888888888888,
             "#fdca26"
            ],
            [
             1,
             "#f0f921"
            ]
           ],
           "sequentialminus": [
            [
             0,
             "#0d0887"
            ],
            [
             0.1111111111111111,
             "#46039f"
            ],
            [
             0.2222222222222222,
             "#7201a8"
            ],
            [
             0.3333333333333333,
             "#9c179e"
            ],
            [
             0.4444444444444444,
             "#bd3786"
            ],
            [
             0.5555555555555556,
             "#d8576b"
            ],
            [
             0.6666666666666666,
             "#ed7953"
            ],
            [
             0.7777777777777778,
             "#fb9f3a"
            ],
            [
             0.8888888888888888,
             "#fdca26"
            ],
            [
             1,
             "#f0f921"
            ]
           ]
          },
          "colorway": [
           "#636efa",
           "#EF553B",
           "#00cc96",
           "#ab63fa",
           "#FFA15A",
           "#19d3f3",
           "#FF6692",
           "#B6E880",
           "#FF97FF",
           "#FECB52"
          ],
          "font": {
           "color": "#2a3f5f"
          },
          "geo": {
           "bgcolor": "white",
           "lakecolor": "white",
           "landcolor": "#E5ECF6",
           "showlakes": true,
           "showland": true,
           "subunitcolor": "white"
          },
          "hoverlabel": {
           "align": "left"
          },
          "hovermode": "closest",
          "mapbox": {
           "style": "light"
          },
          "paper_bgcolor": "white",
          "plot_bgcolor": "#E5ECF6",
          "polar": {
           "angularaxis": {
            "gridcolor": "white",
            "linecolor": "white",
            "ticks": ""
           },
           "bgcolor": "#E5ECF6",
           "radialaxis": {
            "gridcolor": "white",
            "linecolor": "white",
            "ticks": ""
           }
          },
          "scene": {
           "xaxis": {
            "backgroundcolor": "#E5ECF6",
            "gridcolor": "white",
            "gridwidth": 2,
            "linecolor": "white",
            "showbackground": true,
            "ticks": "",
            "zerolinecolor": "white"
           },
           "yaxis": {
            "backgroundcolor": "#E5ECF6",
            "gridcolor": "white",
            "gridwidth": 2,
            "linecolor": "white",
            "showbackground": true,
            "ticks": "",
            "zerolinecolor": "white"
           },
           "zaxis": {
            "backgroundcolor": "#E5ECF6",
            "gridcolor": "white",
            "gridwidth": 2,
            "linecolor": "white",
            "showbackground": true,
            "ticks": "",
            "zerolinecolor": "white"
           }
          },
          "shapedefaults": {
           "line": {
            "color": "#2a3f5f"
           }
          },
          "ternary": {
           "aaxis": {
            "gridcolor": "white",
            "linecolor": "white",
            "ticks": ""
           },
           "baxis": {
            "gridcolor": "white",
            "linecolor": "white",
            "ticks": ""
           },
           "bgcolor": "#E5ECF6",
           "caxis": {
            "gridcolor": "white",
            "linecolor": "white",
            "ticks": ""
           }
          },
          "title": {
           "x": 0.05
          },
          "xaxis": {
           "automargin": true,
           "gridcolor": "white",
           "linecolor": "white",
           "ticks": "",
           "title": {
            "standoff": 15
           },
           "zerolinecolor": "white",
           "zerolinewidth": 2
          },
          "yaxis": {
           "automargin": true,
           "gridcolor": "white",
           "linecolor": "white",
           "ticks": "",
           "title": {
            "standoff": 15
           },
           "zerolinecolor": "white",
           "zerolinewidth": 2
          }
         }
        },
        "title": {
         "text": "Matriz de correlación para columnas numéricas"
        },
        "width": 800,
        "xaxis": {
         "anchor": "y",
         "domain": [
          0,
          1
         ],
         "title": {
          "text": "Variable"
         }
        },
        "yaxis": {
         "anchor": "x",
         "domain": [
          0,
          1
         ],
         "title": {
          "text": "Variable"
         }
        }
       }
      }
     },
     "metadata": {},
     "output_type": "display_data"
    }
   ],
   "source": [
    "correlation_matrix = df[columnas_numericas].corr()\n",
    "fig = make_subplots(rows=1, cols=1)\n",
    "heatmap = go.Heatmap(z=correlation_matrix.values,\n",
    "                     x=correlation_matrix.columns,\n",
    "                     y=correlation_matrix.columns,\n",
    "                     colorscale='Viridis')\n",
    "\n",
    "fig.add_trace(heatmap)\n",
    "\n",
    "fig.update_layout(\n",
    "    title_text='Matriz de correlación para columnas numéricas',\n",
    "    height=800, width=800,\n",
    "    xaxis_title='Variable',\n",
    "    yaxis_title='Variable'\n",
    ")\n",
    "\n",
    "fig.show()"
   ]
  },
  {
   "cell_type": "code",
   "execution_count": 66,
   "metadata": {},
   "outputs": [
    {
     "data": {
      "image/png": "[encoded data removed]",
      "text/plain": [
       "<Figure size 640x480 with 1 Axes>"
      ]
     },
     "metadata": {},
     "output_type": "display_data"
    },
    {
     "name": "stdout",
     "output_type": "stream",
     "text": [
      "Suma de los valores de Device Scams: 0\n"
     ]
    }
   ],
   "source": [
    "# Se realiza un histograma para ver la distribución de los valores\n",
    "plt.hist(df['DeviceScams'], bins=100, edgecolor='k', alpha=1)\n",
    "plt.title('Histograma de DeviceScams')\n",
    "plt.xlabel('DeviceScams')\n",
    "plt.ylabel('Frecuencia')\n",
    "plt.grid(True)\n",
    "plt.show()\n",
    "\n",
    "# Se realiza una suma de los valores para comprobar si efectivamente todos son 0\n",
    "print(f'Suma de los valores de Device Scams: {df[\"DeviceScams\"].sum()}')"
   ]
  },
  {
   "cell_type": "code",
   "execution_count": 67,
   "metadata": {},
   "outputs": [],
   "source": [
    "# Se elimina la columna DeviceScams ya que todos sus valores son iguales por lo que no aporta información \n",
    "df = df.drop('DeviceScams', axis=1)"
   ]
  },
  {
   "cell_type": "markdown",
   "metadata": {},
   "source": [
    "#### **2.2 Pre-Procesamiento de datos**\n",
    "\n",
    "Sección consiste en la realización de una limpieza o preprocesamiento de los datos para la creación posterior de los modelos.\n",
    "\n",
    "Recuerde ejecutar train_test_split para generar un conjunto de entrenamiento y validación.\n",
    "\n",
    "Se recomienda utilizar distintos tipos de procesamientos, como:\n",
    "ColumnTransformer,\n",
    "Imputación de nulos,\n",
    "Discretización de variables,\n",
    "Etc.\n"
   ]
  },
  {
   "cell_type": "code",
   "execution_count": 68,
   "metadata": {},
   "outputs": [],
   "source": [
    "from sklearn.compose import ColumnTransformer\n",
    "from sklearn.preprocessing import OneHotEncoder, StandardScaler\n",
    "\n",
    "# Se crea un columnTransformer para normalizar las variables categóricas y numéricas\n",
    "col_transformer = ColumnTransformer(\n",
    "    transformers=[\n",
    "        ('num', StandardScaler(), columnas_numericas),\n",
    "        ('cat', OneHotEncoder(), columnas_categoricas)\n",
    "    ])"
   ]
  },
  {
   "cell_type": "code",
   "execution_count": 71,
   "metadata": {},
   "outputs": [],
   "source": [
    "from sklearn.model_selection import train_test_split\n",
    "\n",
    "X = df.drop('is_mob', axis=1)  \n",
    "y = df['is_mob']\n",
    "\n",
    "X_train, X_test, y_train, y_test = train_test_split(X, y, test_size=0.3, random_state=42)"
   ]
  },
  {
   "cell_type": "markdown",
   "metadata": {},
   "source": [
    "#### **2.3 Baseline**\n",
    "\n",
    "En esta sección se debe detallar la creación del modelo más básico posible que resuelva el problema. La idea es utilizar este\n",
    "modelo de manera comparativa a los modelos a crear en la sección 5 (modelos de ML).\n",
    "\n",
    "Implemente, entrene y evalué un modelo enfocado en resolver el problema de clasificación. Para esto, utilice Pipeline. Cada\n",
    "pipeline debe contener, el preprocesamiento anterior y un clasificador.\n",
    "\n",
    "Imprimir classification_report ."
   ]
  },
  {
   "cell_type": "code",
   "execution_count": 72,
   "metadata": {},
   "outputs": [
    {
     "name": "stdout",
     "output_type": "stream",
     "text": [
      "              precision    recall  f1-score   support\n",
      "\n",
      "           0       0.99      1.00      1.00    117941\n",
      "           1       0.00      0.00      0.00      1171\n",
      "\n",
      "    accuracy                           0.99    119112\n",
      "   macro avg       0.50      0.50      0.50    119112\n",
      "weighted avg       0.98      0.99      0.99    119112\n",
      "\n"
     ]
    },
    {
     "name": "stderr",
     "output_type": "stream",
     "text": [
      "c:\\Users\\benja\\OneDrive\\Escritorio\\MDS7202\\venv\\lib\\site-packages\\sklearn\\metrics\\_classification.py:1509: UndefinedMetricWarning:\n",
      "\n",
      "Precision is ill-defined and being set to 0.0 in labels with no predicted samples. Use `zero_division` parameter to control this behavior.\n",
      "\n",
      "c:\\Users\\benja\\OneDrive\\Escritorio\\MDS7202\\venv\\lib\\site-packages\\sklearn\\metrics\\_classification.py:1509: UndefinedMetricWarning:\n",
      "\n",
      "Precision is ill-defined and being set to 0.0 in labels with no predicted samples. Use `zero_division` parameter to control this behavior.\n",
      "\n",
      "c:\\Users\\benja\\OneDrive\\Escritorio\\MDS7202\\venv\\lib\\site-packages\\sklearn\\metrics\\_classification.py:1509: UndefinedMetricWarning:\n",
      "\n",
      "Precision is ill-defined and being set to 0.0 in labels with no predicted samples. Use `zero_division` parameter to control this behavior.\n",
      "\n"
     ]
    }
   ],
   "source": [
    "from sklearn.pipeline import Pipeline\n",
    "from sklearn.dummy import DummyClassifier\n",
    "from sklearn.metrics import classification_report\n",
    "\n",
    "dummy_pipeline = Pipeline([(\"transform\", col_transformer), \n",
    "                     (\"classifier\", DummyClassifier())])\n",
    "\n",
    "dummy_pipeline.fit(X_train, y_train)\n",
    "\n",
    "pred = dummy_pipeline.predict(X_test)\n",
    "\n",
    "print(classification_report(y_test, pred))"
   ]
  },
  {
   "cell_type": "markdown",
   "metadata": {},
   "source": [
    "#### **2.4 Modelos de ML**\n",
    "\n",
    "En esta sección, se explicitan los otros 3 modelos realizados. Explicar diferencias e hiperparámetros. Estos modelos también\n",
    "deben contar con un Pipeline y obtener su classification_report .\n"
   ]
  },
  {
   "cell_type": "markdown",
   "metadata": {},
   "source": [
    "#### **2.5 Optimización de modelos**\n",
    "\n",
    "Acá se explica la forma en la que se realizó la optimización de los modelos. Hiperparámetros ocupados.\n",
    "Deberán usar Optuna para tunear hiperparámetros. Además de crear pipelines para cada uno de los modelos.\n",
    "\n",
    "Algunas ideas para mejorar el rendimiento de sus modelos:\n",
    "\n",
    "Técnicas de selección de atributos.\n",
    "\n",
    "Variar el imputador de datos, en caso de usarlo."
   ]
  },
  {
   "cell_type": "markdown",
   "metadata": {},
   "source": [
    "#### **2.6 Interpretabilidad**\n",
    "\n",
    "Utilización de SHAP , Anchors u otras herramientas de interpretabilidad, para ver la importancia de cada atributo en el modelo\n",
    "final. Explicar o justificar la importancia de cada uno.\n"
   ]
  }
 ],
 "metadata": {
  "kernelspec": {
   "display_name": "Python 3",
   "language": "python",
   "name": "python3"
  },
  "language_info": {
   "codemirror_mode": {
    "name": "ipython",
    "version": 3
   },
   "file_extension": ".py",
   "mimetype": "text/x-python",
   "name": "python",
   "nbconvert_exporter": "python",
   "pygments_lexer": "ipython3",
   "version": "3.10.6"
  }
 },
 "nbformat": 4,
 "nbformat_minor": 2
}
