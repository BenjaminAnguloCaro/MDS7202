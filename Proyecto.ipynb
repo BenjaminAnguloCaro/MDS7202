{
 "cells": [
  {
   "cell_type": "markdown",
   "metadata": {},
   "source": [
    "## **Proyecto final**\n",
    "### **Laboratorio de Programación Científica para Ciencia de Datos MDS7202**\n",
    "\n",
    "Integrante 1: Benjamín Angulo\n",
    "\n",
    "Integrante 2: Vanessa González"
   ]
  },
  {
   "cell_type": "markdown",
   "metadata": {},
   "source": [
    "### **1. Introducción**\n",
    "\n",
    "Esta sección es una muy breve introducción con todo lo necesario para entender que hicieron en su proyecto.\n",
    "\n",
    "Describir brevemente el problema planteado (¿Qué se intenta predecir?)\n",
    "\n",
    "Describir brevemente los datos de entrada que les provee el problema.\n",
    "\n",
    "Describir las métricas que utilizarán para evaluar los modelos generados. Elijan una métrica adecuada para el desarrollo del\n",
    "proyecto según la tarea que deben resolver y la institución a la cuál será su contraparte y luego justifiquen su elección.\n",
    "\n",
    "Considerando que los datos presentan desbalanceo y que el uso de la métrica 'accuracy' sería incorrecto, enfoquen su\n",
    "elección en una de las métricas precision, recall o f1-score y en la clase que será evaluada.\n",
    "\n",
    "[Escribir al final] Describir brevemente los modelos que usaron para resolver el problema (incluyendo las transformaciones\n",
    "intermedias de datos).\n",
    "\n",
    "[Escribir al final] Indicar si lograron resolver el problema a través de su modelo final. Indiquen además si creen que los\n",
    "resultados de su mejor modelo son aceptables y como les fue con respecto al resto de los equipos.\n"
   ]
  },
  {
   "cell_type": "markdown",
   "metadata": {},
   "source": [
    "### **2. Modelos con Scikit-Learn**"
   ]
  },
  {
   "cell_type": "markdown",
   "metadata": {},
   "source": [
    "#### **2.1 Análisis Exploratorio de Datos**\n",
    "\n",
    "Esta sección consiste en realizar un análisis exploratorio de datos para investigar patrones, tendencias y relaciones en un conjunto\n",
    "de datos.\n"
   ]
  },
  {
   "cell_type": "markdown",
   "metadata": {},
   "source": [
    "#### **2.2 Pre-Procesamiento de datos**\n",
    "\n",
    "Sección consiste en la realización de una limpieza o preprocesamiento de los datos para la creación posterior de los modelos.\n",
    "\n",
    "Recuerde ejecutar train_test_split para generar un conjunto de entrenamiento y validación.\n",
    "\n",
    "Se recomienda utilizar distintos tipos de procesamientos, como:\n",
    "ColumnTransformer,\n",
    "Imputación de nulos,\n",
    "Discretización de variables,\n",
    "Etc.\n"
   ]
  },
  {
   "cell_type": "markdown",
   "metadata": {},
   "source": [
    "#### **2.3 Baseline**\n",
    "\n",
    "En esta sección se debe detallar la creación del modelo más básico posible que resuelva el problema. La idea es utilizar este\n",
    "modelo de manera comparativa a los modelos a crear en la sección 5 (modelos de ML).\n",
    "\n",
    "Implemente, entrene y evalué un modelo enfocado en resolver el problema de clasificación. Para esto, utilice Pipeline. Cada\n",
    "pipeline debe contener, el preprocesamiento anterior y un clasificador.\n",
    "\n",
    "Imprimir classification_report ."
   ]
  },
  {
   "cell_type": "markdown",
   "metadata": {},
   "source": [
    "#### **2.4 Modelos de ML**\n",
    "\n",
    "En esta sección, se explicitan los otros 3 modelos realizados. Explicar diferencias e hiperparámetros. Estos modelos también\n",
    "deben contar con un Pipeline y obtener su classification_report .\n"
   ]
  },
  {
   "cell_type": "markdown",
   "metadata": {},
   "source": [
    "#### **2.5 Optimización de modelos**\n",
    "\n",
    "Acá se explica la forma en la que se realizó la optimización de los modelos. Hiperparámetros ocupados.\n",
    "Deberán usar Optuna para tunear hiperparámetros. Además de crear pipelines para cada uno de los modelos.\n",
    "\n",
    "Algunas ideas para mejorar el rendimiento de sus modelos:\n",
    "\n",
    "Técnicas de selección de atributos.\n",
    "\n",
    "Variar el imputador de datos, en caso de usarlo."
   ]
  },
  {
   "cell_type": "markdown",
   "metadata": {},
   "source": [
    "#### **2.6 Interpretabilidad**\n",
    "\n",
    "Utilización de SHAP , Anchors u otras herramientas de interpretabilidad, para ver la importancia de cada atributo en el modelo\n",
    "final. Explicar o justificar la importancia de cada uno.\n"
   ]
  }
 ],
 "metadata": {
  "language_info": {
   "name": "python"
  }
 },
 "nbformat": 4,
 "nbformat_minor": 2
}
